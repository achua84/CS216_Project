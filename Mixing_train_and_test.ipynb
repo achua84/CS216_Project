{
  "nbformat": 4,
  "nbformat_minor": 0,
  "metadata": {
    "colab": {
      "name": "Mixing_train_and_test.ipynb",
      "provenance": [],
      "collapsed_sections": []
    },
    "kernelspec": {
      "name": "python3",
      "display_name": "Python 3"
    },
    "language_info": {
      "name": "python"
    },
    "accelerator": "GPU"
  },
  "cells": [
    {
      "cell_type": "code",
      "metadata": {
        "id": "QCrqUZLXOyli"
      },
      "source": [
        "import os\n",
        "import sys\n",
        "from datetime import datetime\n",
        "\n",
        "import tensorflow as tf\n",
        "from tensorflow import keras\n",
        "from keras.applications.vgg16 import VGG16, preprocess_input\n",
        "from keras.applications.vgg19 import VGG19\n",
        "from tensorflow.keras.callbacks import TensorBoard\n",
        "from tensorflow.keras.preprocessing import image_dataset_from_directory"
      ],
      "execution_count": 1,
      "outputs": []
    },
    {
      "cell_type": "code",
      "metadata": {
        "colab": {
          "base_uri": "https://localhost:8080/"
        },
        "id": "PqYr2-DyRzsv",
        "outputId": "e44ced25-3869-42a2-cda8-ff0ca308b2c3"
      },
      "source": [
        "from google.colab import drive\n",
        "drive.mount('/content/drive')"
      ],
      "execution_count": 2,
      "outputs": [
        {
          "output_type": "stream",
          "text": [
            "Mounted at /content/drive\n"
          ],
          "name": "stdout"
        }
      ]
    },
    {
      "cell_type": "code",
      "metadata": {
        "id": "RMdCkuVqRwHt"
      },
      "source": [
        "# 64 classes of optotypes. Should correspond to the folder names under images/testing and images/training\n",
        "labels = [\"+blank\", \"+circle\", \"+diamond\", \"+square\", \"2\", \"3\", \"5\", \"6\", \"8\", \"9\", \"apple\", \"bird\", \"C\", \"C-0\", \"C-45\",\n",
        "          \"C-90\", \"C-135\", \"C-180\", \"C-225\", \"C-270\", \"C-315\", \"cake\", \"car\", \"circle\", \"cow\", \"cup\", \"D\",\n",
        "          \"duck\", \"E\", \"E-0\", \"E-90\", \"E-180\", \"E-270\", \"F\", \"flat-line\", \"flat-square\",\n",
        "          \"frown-line\", \"frown-square\", \"H\", \"hand\", \"horse\", \"house\", \"K\", \"L\", \"N\", \"O\", \"P\",\n",
        "          \"panda\", \"phone\", \"R\", \"S\", \"smile-line\", \"smile-square\", \"square\", \"star\", \"T\", \"train\",\n",
        "          \"tree\", \"V\", \"x-blank\", \"x-circle\", \"x-diamond\", \"x-square\", \"Z\"]\n",
        "img_size = 400\n",
        "channels = 3\n",
        "training_dir = 'drive/MyDrive/opt_images/training'\n",
        "testing_dir = 'drive/MyDrive/opt_images/testing'"
      ],
      "execution_count": 3,
      "outputs": []
    },
    {
      "cell_type": "code",
      "metadata": {
        "id": "Wy3x4HwHR18Q"
      },
      "source": [
        "def create_datasets_test_train():\n",
        "    \"\"\"\n",
        "    Generates two `tf.data.Dataset` from image files in the project.\n",
        "    NOTE: images must be put under project root in directory images/testing and images/training\n",
        "    :return: Two `tf.data.Dataset` objects, one for testing and one for training.\n",
        "    \"\"\"\n",
        "    training_set = image_dataset_from_directory(training_dir,\n",
        "                                                shuffle=True,\n",
        "                                                batch_size=32,\n",
        "                                                image_size=(img_size, img_size))\n",
        "    testing_set = image_dataset_from_directory(testing_dir,\n",
        "                                               shuffle=True,\n",
        "                                               batch_size=32,\n",
        "                                               image_size=(img_size, img_size))\n",
        "    return training_set, testing_set"
      ],
      "execution_count": 4,
      "outputs": []
    },
    {
      "cell_type": "code",
      "metadata": {
        "colab": {
          "base_uri": "https://localhost:8080/"
        },
        "id": "LM_xIpWrR62y",
        "outputId": "808502cd-191a-4158-87f0-89286a0967ee"
      },
      "source": [
        "training_set, testing_set = create_datasets_test_train()"
      ],
      "execution_count": 10,
      "outputs": [
        {
          "output_type": "stream",
          "text": [
            "Found 1500 files belonging to 64 classes.\n",
            "Found 3223 files belonging to 64 classes.\n"
          ],
          "name": "stdout"
        }
      ]
    },
    {
      "cell_type": "code",
      "metadata": {
        "id": "ngJfl1siSKY1"
      },
      "source": [
        "test_len = len(testing_set)"
      ],
      "execution_count": 11,
      "outputs": []
    },
    {
      "cell_type": "code",
      "metadata": {
        "colab": {
          "base_uri": "https://localhost:8080/"
        },
        "id": "ViKEmxWdbVq4",
        "outputId": "8c1aac4b-5e4b-4881-bd80-49ed31936000"
      },
      "source": [
        "print(test_len)"
      ],
      "execution_count": 12,
      "outputs": [
        {
          "output_type": "stream",
          "text": [
            "101\n"
          ],
          "name": "stdout"
        }
      ]
    },
    {
      "cell_type": "markdown",
      "metadata": {
        "id": "Hdw67OYiQj02"
      },
      "source": [
        "### Mixing Train and Test Data (50% of test data into train, 25% of test for valid and 25% for test)"
      ]
    },
    {
      "cell_type": "code",
      "metadata": {
        "id": "Jdl5Kps6SAKl"
      },
      "source": [
        "set1 = testing_set.take(test_len // 2)\n",
        "temp = testing_set.skip(test_len // 2)\n",
        "valid_set = temp.skip(test_len // 4)\n",
        "testing_set = temp.take(test_len // 4)\n",
        "training_set = training_set.concatenate(set1)\n",
        "training_set = training_set.shuffle(buffer_size=1)"
      ],
      "execution_count": 13,
      "outputs": []
    },
    {
      "cell_type": "code",
      "metadata": {
        "colab": {
          "base_uri": "https://localhost:8080/"
        },
        "id": "H1s0V5wea51N",
        "outputId": "d9165818-828e-401c-9f34-7036bd0d1182"
      },
      "source": [
        "print(len(training_set))"
      ],
      "execution_count": 14,
      "outputs": [
        {
          "output_type": "stream",
          "text": [
            "97\n"
          ],
          "name": "stdout"
        }
      ]
    },
    {
      "cell_type": "markdown",
      "metadata": {
        "id": "XTWQHp_QQuu_"
      },
      "source": [
        "### Trying dataset with VGG16 at different epochs, starting at 40 and increasing by 10"
      ]
    },
    {
      "cell_type": "code",
      "metadata": {
        "colab": {
          "base_uri": "https://localhost:8080/"
        },
        "id": "ii90c-Z8XL_T",
        "outputId": "d59a73db-74b2-4060-c7e6-26a34871c986"
      },
      "source": [
        "vgg = VGG16(include_top=False, weights=\"imagenet\", input_shape=(img_size, img_size, channels))\n",
        "vgg.trainable = True\n",
        "base_model = vgg\n",
        "\n",
        "inputs = tf.keras.Input(shape=(img_size, img_size, channels))\n",
        "\n",
        "x = base_model(inputs, training=False)\n",
        "x = tf.keras.layers.GlobalAveragePooling2D()(x)\n",
        "x = tf.keras.layers.Dropout(0.2)(x)\n",
        "x = keras.layers.Flatten()(x)\n",
        "X = keras.layers.Dense(128, activation='relu')(x)\n",
        "X = keras.layers.Dropout(0.5)(X)\n",
        "X = keras.layers.BatchNormalization()(X)\n",
        "\n",
        "outputs = tf.keras.layers.Dense(64, activation=tf.keras.activations.softmax)(X)\n",
        "\n",
        "model = tf.keras.Model(inputs, outputs)\n",
        "model.summary()\n",
        "\n",
        "model.compile(loss='sparse_categorical_crossentropy', optimizer='adam', metrics=['accuracy'])"
      ],
      "execution_count": 52,
      "outputs": [
        {
          "output_type": "stream",
          "text": [
            "Downloading data from https://storage.googleapis.com/tensorflow/keras-applications/vgg16/vgg16_weights_tf_dim_ordering_tf_kernels_notop.h5\n",
            "58892288/58889256 [==============================] - 1s 0us/step\n",
            "58900480/58889256 [==============================] - 1s 0us/step\n",
            "WARNING:tensorflow:\n",
            "The following Variables were used a Lambda layer's call (tf.nn.convolution_16), but\n",
            "are not present in its tracked objects:\n",
            "  <tf.Variable 'block1_conv1/kernel:0' shape=(3, 3, 3, 64) dtype=float32>\n",
            "It is possible that this is intended behavior, but it is more likely\n",
            "an omission. This is a strong indication that this layer should be\n",
            "formulated as a subclassed Layer rather than a Lambda layer.\n",
            "WARNING:tensorflow:\n",
            "The following Variables were used a Lambda layer's call (tf.nn.bias_add_16), but\n",
            "are not present in its tracked objects:\n",
            "  <tf.Variable 'block1_conv1/bias:0' shape=(64,) dtype=float32>\n",
            "It is possible that this is intended behavior, but it is more likely\n",
            "an omission. This is a strong indication that this layer should be\n",
            "formulated as a subclassed Layer rather than a Lambda layer.\n",
            "WARNING:tensorflow:\n",
            "The following Variables were used a Lambda layer's call (tf.nn.convolution_17), but\n",
            "are not present in its tracked objects:\n",
            "  <tf.Variable 'block1_conv2/kernel:0' shape=(3, 3, 64, 64) dtype=float32>\n",
            "It is possible that this is intended behavior, but it is more likely\n",
            "an omission. This is a strong indication that this layer should be\n",
            "formulated as a subclassed Layer rather than a Lambda layer.\n",
            "WARNING:tensorflow:\n",
            "The following Variables were used a Lambda layer's call (tf.nn.bias_add_17), but\n",
            "are not present in its tracked objects:\n",
            "  <tf.Variable 'block1_conv2/bias:0' shape=(64,) dtype=float32>\n",
            "It is possible that this is intended behavior, but it is more likely\n",
            "an omission. This is a strong indication that this layer should be\n",
            "formulated as a subclassed Layer rather than a Lambda layer.\n",
            "WARNING:tensorflow:\n",
            "The following Variables were used a Lambda layer's call (tf.nn.convolution_18), but\n",
            "are not present in its tracked objects:\n",
            "  <tf.Variable 'block2_conv1/kernel:0' shape=(3, 3, 64, 128) dtype=float32>\n",
            "It is possible that this is intended behavior, but it is more likely\n",
            "an omission. This is a strong indication that this layer should be\n",
            "formulated as a subclassed Layer rather than a Lambda layer.\n",
            "WARNING:tensorflow:\n",
            "The following Variables were used a Lambda layer's call (tf.nn.bias_add_18), but\n",
            "are not present in its tracked objects:\n",
            "  <tf.Variable 'block2_conv1/bias:0' shape=(128,) dtype=float32>\n",
            "It is possible that this is intended behavior, but it is more likely\n",
            "an omission. This is a strong indication that this layer should be\n",
            "formulated as a subclassed Layer rather than a Lambda layer.\n",
            "WARNING:tensorflow:\n",
            "The following Variables were used a Lambda layer's call (tf.nn.convolution_19), but\n",
            "are not present in its tracked objects:\n",
            "  <tf.Variable 'block2_conv2/kernel:0' shape=(3, 3, 128, 128) dtype=float32>\n",
            "It is possible that this is intended behavior, but it is more likely\n",
            "an omission. This is a strong indication that this layer should be\n",
            "formulated as a subclassed Layer rather than a Lambda layer.\n",
            "WARNING:tensorflow:\n",
            "The following Variables were used a Lambda layer's call (tf.nn.bias_add_19), but\n",
            "are not present in its tracked objects:\n",
            "  <tf.Variable 'block2_conv2/bias:0' shape=(128,) dtype=float32>\n",
            "It is possible that this is intended behavior, but it is more likely\n",
            "an omission. This is a strong indication that this layer should be\n",
            "formulated as a subclassed Layer rather than a Lambda layer.\n",
            "WARNING:tensorflow:\n",
            "The following Variables were used a Lambda layer's call (tf.nn.convolution_20), but\n",
            "are not present in its tracked objects:\n",
            "  <tf.Variable 'block3_conv1/kernel:0' shape=(3, 3, 128, 256) dtype=float32>\n",
            "It is possible that this is intended behavior, but it is more likely\n",
            "an omission. This is a strong indication that this layer should be\n",
            "formulated as a subclassed Layer rather than a Lambda layer.\n",
            "WARNING:tensorflow:\n",
            "The following Variables were used a Lambda layer's call (tf.nn.bias_add_20), but\n",
            "are not present in its tracked objects:\n",
            "  <tf.Variable 'block3_conv1/bias:0' shape=(256,) dtype=float32>\n",
            "It is possible that this is intended behavior, but it is more likely\n",
            "an omission. This is a strong indication that this layer should be\n",
            "formulated as a subclassed Layer rather than a Lambda layer.\n",
            "WARNING:tensorflow:\n",
            "The following Variables were used a Lambda layer's call (tf.nn.convolution_21), but\n",
            "are not present in its tracked objects:\n",
            "  <tf.Variable 'block3_conv2/kernel:0' shape=(3, 3, 256, 256) dtype=float32>\n",
            "It is possible that this is intended behavior, but it is more likely\n",
            "an omission. This is a strong indication that this layer should be\n",
            "formulated as a subclassed Layer rather than a Lambda layer.\n",
            "WARNING:tensorflow:\n",
            "The following Variables were used a Lambda layer's call (tf.nn.bias_add_21), but\n",
            "are not present in its tracked objects:\n",
            "  <tf.Variable 'block3_conv2/bias:0' shape=(256,) dtype=float32>\n",
            "It is possible that this is intended behavior, but it is more likely\n",
            "an omission. This is a strong indication that this layer should be\n",
            "formulated as a subclassed Layer rather than a Lambda layer.\n",
            "WARNING:tensorflow:\n",
            "The following Variables were used a Lambda layer's call (tf.nn.convolution_22), but\n",
            "are not present in its tracked objects:\n",
            "  <tf.Variable 'block3_conv3/kernel:0' shape=(3, 3, 256, 256) dtype=float32>\n",
            "It is possible that this is intended behavior, but it is more likely\n",
            "an omission. This is a strong indication that this layer should be\n",
            "formulated as a subclassed Layer rather than a Lambda layer.\n",
            "WARNING:tensorflow:\n",
            "The following Variables were used a Lambda layer's call (tf.nn.bias_add_22), but\n",
            "are not present in its tracked objects:\n",
            "  <tf.Variable 'block3_conv3/bias:0' shape=(256,) dtype=float32>\n",
            "It is possible that this is intended behavior, but it is more likely\n",
            "an omission. This is a strong indication that this layer should be\n",
            "formulated as a subclassed Layer rather than a Lambda layer.\n",
            "WARNING:tensorflow:\n",
            "The following Variables were used a Lambda layer's call (tf.nn.convolution_23), but\n",
            "are not present in its tracked objects:\n",
            "  <tf.Variable 'block4_conv1/kernel:0' shape=(3, 3, 256, 512) dtype=float32>\n",
            "It is possible that this is intended behavior, but it is more likely\n",
            "an omission. This is a strong indication that this layer should be\n",
            "formulated as a subclassed Layer rather than a Lambda layer.\n",
            "WARNING:tensorflow:\n",
            "The following Variables were used a Lambda layer's call (tf.nn.bias_add_23), but\n",
            "are not present in its tracked objects:\n",
            "  <tf.Variable 'block4_conv1/bias:0' shape=(512,) dtype=float32>\n",
            "It is possible that this is intended behavior, but it is more likely\n",
            "an omission. This is a strong indication that this layer should be\n",
            "formulated as a subclassed Layer rather than a Lambda layer.\n",
            "WARNING:tensorflow:\n",
            "The following Variables were used a Lambda layer's call (tf.nn.convolution_24), but\n",
            "are not present in its tracked objects:\n",
            "  <tf.Variable 'block4_conv2/kernel:0' shape=(3, 3, 512, 512) dtype=float32>\n",
            "It is possible that this is intended behavior, but it is more likely\n",
            "an omission. This is a strong indication that this layer should be\n",
            "formulated as a subclassed Layer rather than a Lambda layer.\n",
            "WARNING:tensorflow:\n",
            "The following Variables were used a Lambda layer's call (tf.nn.bias_add_24), but\n",
            "are not present in its tracked objects:\n",
            "  <tf.Variable 'block4_conv2/bias:0' shape=(512,) dtype=float32>\n",
            "It is possible that this is intended behavior, but it is more likely\n",
            "an omission. This is a strong indication that this layer should be\n",
            "formulated as a subclassed Layer rather than a Lambda layer.\n",
            "WARNING:tensorflow:\n",
            "The following Variables were used a Lambda layer's call (tf.nn.convolution_25), but\n",
            "are not present in its tracked objects:\n",
            "  <tf.Variable 'block4_conv3/kernel:0' shape=(3, 3, 512, 512) dtype=float32>\n",
            "It is possible that this is intended behavior, but it is more likely\n",
            "an omission. This is a strong indication that this layer should be\n",
            "formulated as a subclassed Layer rather than a Lambda layer.\n",
            "WARNING:tensorflow:\n",
            "The following Variables were used a Lambda layer's call (tf.nn.bias_add_25), but\n",
            "are not present in its tracked objects:\n",
            "  <tf.Variable 'block4_conv3/bias:0' shape=(512,) dtype=float32>\n",
            "It is possible that this is intended behavior, but it is more likely\n",
            "an omission. This is a strong indication that this layer should be\n",
            "formulated as a subclassed Layer rather than a Lambda layer.\n",
            "WARNING:tensorflow:\n",
            "The following Variables were used a Lambda layer's call (tf.nn.convolution_26), but\n",
            "are not present in its tracked objects:\n",
            "  <tf.Variable 'block5_conv1/kernel:0' shape=(3, 3, 512, 512) dtype=float32>\n",
            "It is possible that this is intended behavior, but it is more likely\n",
            "an omission. This is a strong indication that this layer should be\n",
            "formulated as a subclassed Layer rather than a Lambda layer.\n",
            "WARNING:tensorflow:\n",
            "The following Variables were used a Lambda layer's call (tf.nn.bias_add_26), but\n",
            "are not present in its tracked objects:\n",
            "  <tf.Variable 'block5_conv1/bias:0' shape=(512,) dtype=float32>\n",
            "It is possible that this is intended behavior, but it is more likely\n",
            "an omission. This is a strong indication that this layer should be\n",
            "formulated as a subclassed Layer rather than a Lambda layer.\n",
            "WARNING:tensorflow:\n",
            "The following Variables were used a Lambda layer's call (tf.nn.convolution_27), but\n",
            "are not present in its tracked objects:\n",
            "  <tf.Variable 'block5_conv2/kernel:0' shape=(3, 3, 512, 512) dtype=float32>\n",
            "It is possible that this is intended behavior, but it is more likely\n",
            "an omission. This is a strong indication that this layer should be\n",
            "formulated as a subclassed Layer rather than a Lambda layer.\n",
            "WARNING:tensorflow:\n",
            "The following Variables were used a Lambda layer's call (tf.nn.bias_add_27), but\n",
            "are not present in its tracked objects:\n",
            "  <tf.Variable 'block5_conv2/bias:0' shape=(512,) dtype=float32>\n",
            "It is possible that this is intended behavior, but it is more likely\n",
            "an omission. This is a strong indication that this layer should be\n",
            "formulated as a subclassed Layer rather than a Lambda layer.\n",
            "WARNING:tensorflow:\n",
            "The following Variables were used a Lambda layer's call (tf.nn.convolution_28), but\n",
            "are not present in its tracked objects:\n",
            "  <tf.Variable 'block5_conv3/kernel:0' shape=(3, 3, 512, 512) dtype=float32>\n",
            "It is possible that this is intended behavior, but it is more likely\n",
            "an omission. This is a strong indication that this layer should be\n",
            "formulated as a subclassed Layer rather than a Lambda layer.\n",
            "WARNING:tensorflow:\n",
            "The following Variables were used a Lambda layer's call (tf.nn.bias_add_28), but\n",
            "are not present in its tracked objects:\n",
            "  <tf.Variable 'block5_conv3/bias:0' shape=(512,) dtype=float32>\n",
            "It is possible that this is intended behavior, but it is more likely\n",
            "an omission. This is a strong indication that this layer should be\n",
            "formulated as a subclassed Layer rather than a Lambda layer.\n",
            "Model: \"model_1\"\n",
            "_________________________________________________________________\n",
            "Layer (type)                 Output Shape              Param #   \n",
            "=================================================================\n",
            "input_2 (InputLayer)         [(None, 400, 400, 3)]     0         \n",
            "_________________________________________________________________\n",
            "tf.nn.convolution_16 (TFOpLa (None, 400, 400, 64)      0         \n",
            "_________________________________________________________________\n",
            "tf.nn.bias_add_16 (TFOpLambd (None, 400, 400, 64)      0         \n",
            "_________________________________________________________________\n",
            "tf.nn.relu_16 (TFOpLambda)   (None, 400, 400, 64)      0         \n",
            "_________________________________________________________________\n",
            "tf.nn.convolution_17 (TFOpLa (None, 400, 400, 64)      0         \n",
            "_________________________________________________________________\n",
            "tf.nn.bias_add_17 (TFOpLambd (None, 400, 400, 64)      0         \n",
            "_________________________________________________________________\n",
            "tf.nn.relu_17 (TFOpLambda)   (None, 400, 400, 64)      0         \n",
            "_________________________________________________________________\n",
            "tf.compat.v1.nn.max_pool_5 ( (None, 200, 200, 64)      0         \n",
            "_________________________________________________________________\n",
            "tf.nn.convolution_18 (TFOpLa (None, 200, 200, 128)     0         \n",
            "_________________________________________________________________\n",
            "tf.nn.bias_add_18 (TFOpLambd (None, 200, 200, 128)     0         \n",
            "_________________________________________________________________\n",
            "tf.nn.relu_18 (TFOpLambda)   (None, 200, 200, 128)     0         \n",
            "_________________________________________________________________\n",
            "tf.nn.convolution_19 (TFOpLa (None, 200, 200, 128)     0         \n",
            "_________________________________________________________________\n",
            "tf.nn.bias_add_19 (TFOpLambd (None, 200, 200, 128)     0         \n",
            "_________________________________________________________________\n",
            "tf.nn.relu_19 (TFOpLambda)   (None, 200, 200, 128)     0         \n",
            "_________________________________________________________________\n",
            "tf.compat.v1.nn.max_pool_6 ( (None, 100, 100, 128)     0         \n",
            "_________________________________________________________________\n",
            "tf.nn.convolution_20 (TFOpLa (None, 100, 100, 256)     0         \n",
            "_________________________________________________________________\n",
            "tf.nn.bias_add_20 (TFOpLambd (None, 100, 100, 256)     0         \n",
            "_________________________________________________________________\n",
            "tf.nn.relu_20 (TFOpLambda)   (None, 100, 100, 256)     0         \n",
            "_________________________________________________________________\n",
            "tf.nn.convolution_21 (TFOpLa (None, 100, 100, 256)     0         \n",
            "_________________________________________________________________\n",
            "tf.nn.bias_add_21 (TFOpLambd (None, 100, 100, 256)     0         \n",
            "_________________________________________________________________\n",
            "tf.nn.relu_21 (TFOpLambda)   (None, 100, 100, 256)     0         \n",
            "_________________________________________________________________\n",
            "tf.nn.convolution_22 (TFOpLa (None, 100, 100, 256)     0         \n",
            "_________________________________________________________________\n",
            "tf.nn.bias_add_22 (TFOpLambd (None, 100, 100, 256)     0         \n",
            "_________________________________________________________________\n",
            "tf.nn.relu_22 (TFOpLambda)   (None, 100, 100, 256)     0         \n",
            "_________________________________________________________________\n",
            "tf.compat.v1.nn.max_pool_7 ( (None, 50, 50, 256)       0         \n",
            "_________________________________________________________________\n",
            "tf.nn.convolution_23 (TFOpLa (None, 50, 50, 512)       0         \n",
            "_________________________________________________________________\n",
            "tf.nn.bias_add_23 (TFOpLambd (None, 50, 50, 512)       0         \n",
            "_________________________________________________________________\n",
            "tf.nn.relu_23 (TFOpLambda)   (None, 50, 50, 512)       0         \n",
            "_________________________________________________________________\n",
            "tf.nn.convolution_24 (TFOpLa (None, 50, 50, 512)       0         \n",
            "_________________________________________________________________\n",
            "tf.nn.bias_add_24 (TFOpLambd (None, 50, 50, 512)       0         \n",
            "_________________________________________________________________\n",
            "tf.nn.relu_24 (TFOpLambda)   (None, 50, 50, 512)       0         \n",
            "_________________________________________________________________\n",
            "tf.nn.convolution_25 (TFOpLa (None, 50, 50, 512)       0         \n",
            "_________________________________________________________________\n",
            "tf.nn.bias_add_25 (TFOpLambd (None, 50, 50, 512)       0         \n",
            "_________________________________________________________________\n",
            "tf.nn.relu_25 (TFOpLambda)   (None, 50, 50, 512)       0         \n",
            "_________________________________________________________________\n",
            "tf.compat.v1.nn.max_pool_8 ( (None, 25, 25, 512)       0         \n",
            "_________________________________________________________________\n",
            "tf.nn.convolution_26 (TFOpLa (None, 25, 25, 512)       0         \n",
            "_________________________________________________________________\n",
            "tf.nn.bias_add_26 (TFOpLambd (None, 25, 25, 512)       0         \n",
            "_________________________________________________________________\n",
            "tf.nn.relu_26 (TFOpLambda)   (None, 25, 25, 512)       0         \n",
            "_________________________________________________________________\n",
            "tf.nn.convolution_27 (TFOpLa (None, 25, 25, 512)       0         \n",
            "_________________________________________________________________\n",
            "tf.nn.bias_add_27 (TFOpLambd (None, 25, 25, 512)       0         \n",
            "_________________________________________________________________\n",
            "tf.nn.relu_27 (TFOpLambda)   (None, 25, 25, 512)       0         \n",
            "_________________________________________________________________\n",
            "tf.nn.convolution_28 (TFOpLa (None, 25, 25, 512)       0         \n",
            "_________________________________________________________________\n",
            "tf.nn.bias_add_28 (TFOpLambd (None, 25, 25, 512)       0         \n",
            "_________________________________________________________________\n",
            "tf.nn.relu_28 (TFOpLambda)   (None, 25, 25, 512)       0         \n",
            "_________________________________________________________________\n",
            "tf.compat.v1.nn.max_pool_9 ( (None, 12, 12, 512)       0         \n",
            "_________________________________________________________________\n",
            "global_average_pooling2d_1 ( (None, 512)               0         \n",
            "_________________________________________________________________\n",
            "dropout_2 (Dropout)          (None, 512)               0         \n",
            "_________________________________________________________________\n",
            "flatten_1 (Flatten)          (None, 512)               0         \n",
            "_________________________________________________________________\n",
            "dense_2 (Dense)              (None, 128)               65664     \n",
            "_________________________________________________________________\n",
            "dropout_3 (Dropout)          (None, 128)               0         \n",
            "_________________________________________________________________\n",
            "batch_normalization_1 (Batch (None, 128)               512       \n",
            "_________________________________________________________________\n",
            "dense_3 (Dense)              (None, 64)                8256      \n",
            "=================================================================\n",
            "Total params: 74,432\n",
            "Trainable params: 74,176\n",
            "Non-trainable params: 256\n",
            "_________________________________________________________________\n"
          ],
          "name": "stdout"
        }
      ]
    },
    {
      "cell_type": "code",
      "metadata": {
        "colab": {
          "base_uri": "https://localhost:8080/"
        },
        "id": "23Scd24NXPA_",
        "outputId": "da6d30e0-5201-4f72-93c8-a9e56c126e5e"
      },
      "source": [
        "model.fit(training_set, epochs=40)"
      ],
      "execution_count": null,
      "outputs": [
        {
          "output_type": "stream",
          "text": [
            "Epoch 1/40\n",
            "97/97 [==============================] - 181s 2s/step - loss: 4.2183 - accuracy: 0.0423\n",
            "Epoch 2/40\n",
            "97/97 [==============================] - 52s 534ms/step - loss: 3.5192 - accuracy: 0.1384\n",
            "Epoch 3/40\n",
            "97/97 [==============================] - 54s 550ms/step - loss: 3.1598 - accuracy: 0.1816\n",
            "Epoch 4/40\n",
            "97/97 [==============================] - 54s 547ms/step - loss: 2.8825 - accuracy: 0.2306\n",
            "Epoch 5/40\n",
            "97/97 [==============================] - 53s 543ms/step - loss: 2.6623 - accuracy: 0.2677\n",
            "Epoch 6/40\n",
            "97/97 [==============================] - 54s 553ms/step - loss: 2.4989 - accuracy: 0.3029\n",
            "Epoch 7/40\n",
            "97/97 [==============================] - 54s 550ms/step - loss: 2.3407 - accuracy: 0.3365\n",
            "Epoch 8/40\n",
            "97/97 [==============================] - 55s 564ms/step - loss: 2.2498 - accuracy: 0.3468\n",
            "Epoch 9/40\n",
            "97/97 [==============================] - 54s 548ms/step - loss: 2.1254 - accuracy: 0.3823\n",
            "Epoch 10/40\n",
            "97/97 [==============================] - 54s 555ms/step - loss: 2.0834 - accuracy: 0.3829\n",
            "Epoch 11/40\n",
            "97/97 [==============================] - 54s 545ms/step - loss: 2.0099 - accuracy: 0.3935\n",
            "Epoch 12/40\n",
            "97/97 [==============================] - 54s 553ms/step - loss: 1.9452 - accuracy: 0.4142\n",
            "Epoch 13/40\n",
            "97/97 [==============================] - 54s 550ms/step - loss: 1.8949 - accuracy: 0.4248\n",
            "Epoch 14/40\n",
            "97/97 [==============================] - 53s 542ms/step - loss: 1.8339 - accuracy: 0.4352\n",
            "Epoch 15/40\n",
            "97/97 [==============================] - 53s 536ms/step - loss: 1.7953 - accuracy: 0.4542\n",
            "Epoch 16/40\n",
            "97/97 [==============================] - 53s 535ms/step - loss: 1.7623 - accuracy: 0.4442\n",
            "Epoch 17/40\n",
            "97/97 [==============================] - 53s 536ms/step - loss: 1.7150 - accuracy: 0.4587\n",
            "Epoch 18/40\n",
            "97/97 [==============================] - 53s 542ms/step - loss: 1.7114 - accuracy: 0.4726\n",
            "Epoch 19/40\n",
            "97/97 [==============================] - 54s 548ms/step - loss: 1.6885 - accuracy: 0.4665\n",
            "Epoch 20/40\n",
            "97/97 [==============================] - 54s 553ms/step - loss: 1.6520 - accuracy: 0.4800\n",
            "Epoch 21/40\n",
            "97/97 [==============================] - 55s 564ms/step - loss: 1.6312 - accuracy: 0.4729\n",
            "Epoch 22/40\n",
            "97/97 [==============================] - 55s 559ms/step - loss: 1.5980 - accuracy: 0.4935\n",
            "Epoch 23/40\n",
            "97/97 [==============================] - 54s 554ms/step - loss: 1.5628 - accuracy: 0.4923\n",
            "Epoch 24/40\n",
            "97/97 [==============================] - 51s 522ms/step - loss: 1.5979 - accuracy: 0.4806\n",
            "Epoch 25/40\n",
            "97/97 [==============================] - 52s 526ms/step - loss: 1.5145 - accuracy: 0.5006\n",
            "Epoch 26/40\n",
            "97/97 [==============================] - 52s 527ms/step - loss: 1.5227 - accuracy: 0.5081\n",
            "Epoch 27/40\n",
            "97/97 [==============================] - 52s 526ms/step - loss: 1.5260 - accuracy: 0.5106\n",
            "Epoch 28/40\n",
            "97/97 [==============================] - 51s 519ms/step - loss: 1.5113 - accuracy: 0.5077\n",
            "Epoch 29/40\n",
            "97/97 [==============================] - 50s 512ms/step - loss: 1.4908 - accuracy: 0.5119\n",
            "Epoch 30/40\n",
            "97/97 [==============================] - 50s 511ms/step - loss: 1.4601 - accuracy: 0.5219\n",
            "Epoch 31/40\n",
            "97/97 [==============================] - 50s 510ms/step - loss: 1.4304 - accuracy: 0.5339\n",
            "Epoch 32/40\n",
            "97/97 [==============================] - 50s 510ms/step - loss: 1.4660 - accuracy: 0.5184\n",
            "Epoch 33/40\n",
            "97/97 [==============================] - 51s 518ms/step - loss: 1.4104 - accuracy: 0.5384\n",
            "Epoch 34/40\n",
            "97/97 [==============================] - 51s 515ms/step - loss: 1.4426 - accuracy: 0.5452\n",
            "Epoch 35/40\n",
            "97/97 [==============================] - 51s 522ms/step - loss: 1.4033 - accuracy: 0.5197\n",
            "Epoch 36/40\n",
            "97/97 [==============================] - 50s 511ms/step - loss: 1.3739 - accuracy: 0.5410\n",
            "Epoch 37/40\n",
            "97/97 [==============================] - 50s 512ms/step - loss: 1.3908 - accuracy: 0.5374\n",
            "Epoch 38/40\n",
            "97/97 [==============================] - 50s 511ms/step - loss: 1.3675 - accuracy: 0.5471\n",
            "Epoch 39/40\n",
            "97/97 [==============================] - 50s 510ms/step - loss: 1.4067 - accuracy: 0.5423\n",
            "Epoch 40/40\n",
            "97/97 [==============================] - 51s 518ms/step - loss: 1.3799 - accuracy: 0.5377\n"
          ],
          "name": "stdout"
        },
        {
          "output_type": "execute_result",
          "data": {
            "text/plain": [
              "<tensorflow.python.keras.callbacks.History at 0x7f79170e2a50>"
            ]
          },
          "metadata": {
            "tags": []
          },
          "execution_count": 11
        }
      ]
    },
    {
      "cell_type": "code",
      "metadata": {
        "colab": {
          "base_uri": "https://localhost:8080/"
        },
        "id": "-eErKj9QXeY4",
        "outputId": "b0513bc7-360f-4bc7-c0b4-c5aa91b742fc"
      },
      "source": [
        "model.evaluate(valid_set, verbose=1) #40"
      ],
      "execution_count": null,
      "outputs": [
        {
          "output_type": "stream",
          "text": [
            "26/26 [==============================] - 104s 2s/step - loss: 1.4920 - accuracy: 0.5152\n"
          ],
          "name": "stdout"
        },
        {
          "output_type": "execute_result",
          "data": {
            "text/plain": [
              "[1.4920461177825928, 0.5151883363723755]"
            ]
          },
          "metadata": {
            "tags": []
          },
          "execution_count": 12
        }
      ]
    },
    {
      "cell_type": "code",
      "metadata": {
        "colab": {
          "base_uri": "https://localhost:8080/"
        },
        "id": "HtilZz-oXR-d",
        "outputId": "82e313be-1946-45ed-811f-c11bb963d59b"
      },
      "source": [
        "model.fit(training_set, epochs=10)"
      ],
      "execution_count": null,
      "outputs": [
        {
          "output_type": "stream",
          "text": [
            "Epoch 1/10\n",
            "97/97 [==============================] - 49s 498ms/step - loss: 1.4164 - accuracy: 0.5287\n",
            "Epoch 2/10\n",
            "97/97 [==============================] - 49s 501ms/step - loss: 1.3872 - accuracy: 0.5348\n",
            "Epoch 3/10\n",
            "97/97 [==============================] - 50s 504ms/step - loss: 1.3860 - accuracy: 0.5394\n",
            "Epoch 4/10\n",
            "97/97 [==============================] - 50s 504ms/step - loss: 1.3612 - accuracy: 0.5487\n",
            "Epoch 5/10\n",
            "97/97 [==============================] - 50s 506ms/step - loss: 1.3264 - accuracy: 0.5503\n",
            "Epoch 6/10\n",
            "97/97 [==============================] - 50s 505ms/step - loss: 1.3589 - accuracy: 0.5458\n",
            "Epoch 7/10\n",
            "97/97 [==============================] - 51s 519ms/step - loss: 1.3306 - accuracy: 0.5619\n",
            "Epoch 8/10\n",
            "97/97 [==============================] - 50s 510ms/step - loss: 1.2979 - accuracy: 0.5503\n",
            "Epoch 9/10\n",
            "97/97 [==============================] - 50s 507ms/step - loss: 1.3222 - accuracy: 0.5539\n",
            "Epoch 10/10\n",
            "97/97 [==============================] - 51s 518ms/step - loss: 1.3283 - accuracy: 0.5539\n"
          ],
          "name": "stdout"
        },
        {
          "output_type": "execute_result",
          "data": {
            "text/plain": [
              "<tensorflow.python.keras.callbacks.History at 0x7f78cc773dd0>"
            ]
          },
          "metadata": {
            "tags": []
          },
          "execution_count": 13
        }
      ]
    },
    {
      "cell_type": "code",
      "metadata": {
        "colab": {
          "base_uri": "https://localhost:8080/"
        },
        "id": "TWu8vFb0XhpY",
        "outputId": "5a568778-210d-4132-957e-6a3cee606d5b"
      },
      "source": [
        "model.evaluate(valid_set, verbose=1) #50"
      ],
      "execution_count": null,
      "outputs": [
        {
          "output_type": "stream",
          "text": [
            "26/26 [==============================] - 20s 453ms/step - loss: 1.4385 - accuracy: 0.5043\n"
          ],
          "name": "stdout"
        },
        {
          "output_type": "execute_result",
          "data": {
            "text/plain": [
              "[1.438458800315857, 0.5042527318000793]"
            ]
          },
          "metadata": {
            "tags": []
          },
          "execution_count": 14
        }
      ]
    },
    {
      "cell_type": "code",
      "metadata": {
        "colab": {
          "base_uri": "https://localhost:8080/"
        },
        "id": "6KAuXgN9XYOs",
        "outputId": "5f26543e-1649-4766-eca3-c625c14d33f6"
      },
      "source": [
        "model.fit(training_set, epochs=10)"
      ],
      "execution_count": null,
      "outputs": [
        {
          "output_type": "stream",
          "text": [
            "Epoch 1/10\n",
            "97/97 [==============================] - 49s 498ms/step - loss: 1.2935 - accuracy: 0.5706\n",
            "Epoch 2/10\n",
            "97/97 [==============================] - 50s 508ms/step - loss: 1.2901 - accuracy: 0.5706\n",
            "Epoch 3/10\n",
            "97/97 [==============================] - 50s 505ms/step - loss: 1.2830 - accuracy: 0.5655\n",
            "Epoch 4/10\n",
            "97/97 [==============================] - 50s 506ms/step - loss: 1.3089 - accuracy: 0.5523\n",
            "Epoch 5/10\n",
            "97/97 [==============================] - 50s 507ms/step - loss: 1.3262 - accuracy: 0.5555\n",
            "Epoch 6/10\n",
            "97/97 [==============================] - 50s 506ms/step - loss: 1.2746 - accuracy: 0.5632\n",
            "Epoch 7/10\n",
            "97/97 [==============================] - 50s 506ms/step - loss: 1.2998 - accuracy: 0.5716\n",
            "Epoch 8/10\n",
            "97/97 [==============================] - 50s 506ms/step - loss: 1.2985 - accuracy: 0.5706\n",
            "Epoch 9/10\n",
            "97/97 [==============================] - 50s 507ms/step - loss: 1.2960 - accuracy: 0.5703\n",
            "Epoch 10/10\n",
            "97/97 [==============================] - 50s 506ms/step - loss: 1.2529 - accuracy: 0.5694\n"
          ],
          "name": "stdout"
        },
        {
          "output_type": "execute_result",
          "data": {
            "text/plain": [
              "<tensorflow.python.keras.callbacks.History at 0x7f78cc7086d0>"
            ]
          },
          "metadata": {
            "tags": []
          },
          "execution_count": 15
        }
      ]
    },
    {
      "cell_type": "code",
      "metadata": {
        "colab": {
          "base_uri": "https://localhost:8080/"
        },
        "id": "c-ZYI0QqXiMy",
        "outputId": "1b5899f7-2ce1-46e2-9ce2-90604e290e5a"
      },
      "source": [
        "model.evaluate(valid_set, verbose=1) #60"
      ],
      "execution_count": null,
      "outputs": [
        {
          "output_type": "stream",
          "text": [
            "26/26 [==============================] - 20s 467ms/step - loss: 1.3998 - accuracy: 0.5298\n"
          ],
          "name": "stdout"
        },
        {
          "output_type": "execute_result",
          "data": {
            "text/plain": [
              "[1.3997935056686401, 0.5297691226005554]"
            ]
          },
          "metadata": {
            "tags": []
          },
          "execution_count": 16
        }
      ]
    },
    {
      "cell_type": "code",
      "metadata": {
        "colab": {
          "base_uri": "https://localhost:8080/"
        },
        "id": "E3V1RakVXY4t",
        "outputId": "90a8001c-42ef-4c3b-f238-d41655f058fc"
      },
      "source": [
        "model.fit(training_set, epochs=10)"
      ],
      "execution_count": null,
      "outputs": [
        {
          "output_type": "stream",
          "text": [
            "Epoch 1/10\n",
            "97/97 [==============================] - 50s 508ms/step - loss: 1.3071 - accuracy: 0.5555\n",
            "Epoch 2/10\n",
            "97/97 [==============================] - 50s 508ms/step - loss: 1.2660 - accuracy: 0.5639\n",
            "Epoch 3/10\n",
            "97/97 [==============================] - 50s 505ms/step - loss: 1.2693 - accuracy: 0.5739\n",
            "Epoch 4/10\n",
            "97/97 [==============================] - 50s 503ms/step - loss: 1.2409 - accuracy: 0.5835\n",
            "Epoch 5/10\n",
            "97/97 [==============================] - 50s 503ms/step - loss: 1.2703 - accuracy: 0.5694\n",
            "Epoch 6/10\n",
            "97/97 [==============================] - 50s 504ms/step - loss: 1.2671 - accuracy: 0.5652\n",
            "Epoch 7/10\n",
            "97/97 [==============================] - 50s 510ms/step - loss: 1.2915 - accuracy: 0.5597\n",
            "Epoch 8/10\n",
            "97/97 [==============================] - 50s 513ms/step - loss: 1.2586 - accuracy: 0.5684\n",
            "Epoch 9/10\n",
            "97/97 [==============================] - 51s 521ms/step - loss: 1.2712 - accuracy: 0.5742\n",
            "Epoch 10/10\n",
            "97/97 [==============================] - 52s 528ms/step - loss: 1.2178 - accuracy: 0.5848\n"
          ],
          "name": "stdout"
        },
        {
          "output_type": "execute_result",
          "data": {
            "text/plain": [
              "<tensorflow.python.keras.callbacks.History at 0x7f78cc708e90>"
            ]
          },
          "metadata": {
            "tags": []
          },
          "execution_count": 17
        }
      ]
    },
    {
      "cell_type": "code",
      "metadata": {
        "colab": {
          "base_uri": "https://localhost:8080/"
        },
        "id": "InR-QWrFXkfy",
        "outputId": "3164f4da-f117-42b7-cd76-36d5a8fb66b8"
      },
      "source": [
        "model.evaluate(valid_set, verbose=1) #70"
      ],
      "execution_count": null,
      "outputs": [
        {
          "output_type": "stream",
          "text": [
            "26/26 [==============================] - 21s 471ms/step - loss: 1.3265 - accuracy: 0.5759\n"
          ],
          "name": "stdout"
        },
        {
          "output_type": "execute_result",
          "data": {
            "text/plain": [
              "[1.3264529705047607, 0.5759416818618774]"
            ]
          },
          "metadata": {
            "tags": []
          },
          "execution_count": 18
        }
      ]
    },
    {
      "cell_type": "code",
      "metadata": {
        "id": "m-AVimRLXalp"
      },
      "source": [
        "model.fit(training_set, epochs=10)"
      ],
      "execution_count": null,
      "outputs": []
    },
    {
      "cell_type": "code",
      "metadata": {
        "colab": {
          "base_uri": "https://localhost:8080/"
        },
        "id": "sXs7mFteXk4E",
        "outputId": "34dce13a-d497-490a-e908-6006749ccbc5"
      },
      "source": [
        "model.evaluate(valid_set, verbose=1) #80"
      ],
      "execution_count": null,
      "outputs": [
        {
          "output_type": "stream",
          "text": [
            "26/26 [==============================] - 20s 458ms/step - loss: 1.3679 - accuracy: 0.5541\n"
          ],
          "name": "stdout"
        },
        {
          "output_type": "execute_result",
          "data": {
            "text/plain": [
              "[1.3678925037384033, 0.5540704727172852]"
            ]
          },
          "metadata": {
            "tags": []
          },
          "execution_count": 19
        }
      ]
    },
    {
      "cell_type": "code",
      "metadata": {
        "colab": {
          "base_uri": "https://localhost:8080/"
        },
        "id": "YVYbHgA1Xa2M",
        "outputId": "02a75c0d-eeaa-4b14-f766-f88a47b6b980"
      },
      "source": [
        "model.fit(training_set, epochs=10)"
      ],
      "execution_count": null,
      "outputs": [
        {
          "output_type": "stream",
          "text": [
            "Epoch 1/10\n",
            "97/97 [==============================] - 49s 501ms/step - loss: 1.2576 - accuracy: 0.5739\n",
            "Epoch 2/10\n",
            "97/97 [==============================] - 50s 504ms/step - loss: 1.2368 - accuracy: 0.5774\n",
            "Epoch 3/10\n",
            "97/97 [==============================] - 50s 506ms/step - loss: 1.2547 - accuracy: 0.5684\n",
            "Epoch 4/10\n",
            "97/97 [==============================] - 51s 517ms/step - loss: 1.2401 - accuracy: 0.5813\n",
            "Epoch 5/10\n",
            "97/97 [==============================] - 52s 525ms/step - loss: 1.2132 - accuracy: 0.5819\n",
            "Epoch 6/10\n",
            "97/97 [==============================] - 50s 513ms/step - loss: 1.2586 - accuracy: 0.5674\n",
            "Epoch 7/10\n",
            "97/97 [==============================] - 50s 509ms/step - loss: 1.2208 - accuracy: 0.5787\n",
            "Epoch 8/10\n",
            "97/97 [==============================] - 50s 507ms/step - loss: 1.2479 - accuracy: 0.5916\n",
            "Epoch 9/10\n",
            "97/97 [==============================] - 50s 507ms/step - loss: 1.1972 - accuracy: 0.5910\n",
            "Epoch 10/10\n",
            "97/97 [==============================] - 50s 507ms/step - loss: 1.2288 - accuracy: 0.5781\n"
          ],
          "name": "stdout"
        },
        {
          "output_type": "execute_result",
          "data": {
            "text/plain": [
              "<tensorflow.python.keras.callbacks.History at 0x7f7916e72f90>"
            ]
          },
          "metadata": {
            "tags": []
          },
          "execution_count": 20
        }
      ]
    },
    {
      "cell_type": "code",
      "metadata": {
        "colab": {
          "base_uri": "https://localhost:8080/"
        },
        "id": "uICOuMq9XlPN",
        "outputId": "fbe61f40-aa54-4171-a6c9-f5625a8ae98b"
      },
      "source": [
        "model.evaluate(valid_set, verbose=1) #90"
      ],
      "execution_count": null,
      "outputs": [
        {
          "output_type": "stream",
          "text": [
            "26/26 [==============================] - 21s 470ms/step - loss: 1.3605 - accuracy: 0.5431\n"
          ],
          "name": "stdout"
        },
        {
          "output_type": "execute_result",
          "data": {
            "text/plain": [
              "[1.3605055809020996, 0.543134868144989]"
            ]
          },
          "metadata": {
            "tags": []
          },
          "execution_count": 21
        }
      ]
    },
    {
      "cell_type": "code",
      "metadata": {
        "colab": {
          "base_uri": "https://localhost:8080/"
        },
        "id": "mniGAYSpYVwK",
        "outputId": "92a66cd1-e53e-48cf-8c14-19006c81efe6"
      },
      "source": [
        "model.fit(training_set, epochs=10)"
      ],
      "execution_count": null,
      "outputs": [
        {
          "output_type": "stream",
          "text": [
            "Epoch 1/10\n",
            "97/97 [==============================] - 49s 497ms/step - loss: 1.2360 - accuracy: 0.5794\n",
            "Epoch 2/10\n",
            "97/97 [==============================] - 50s 507ms/step - loss: 1.2090 - accuracy: 0.5961\n",
            "Epoch 3/10\n",
            "97/97 [==============================] - 50s 507ms/step - loss: 1.2370 - accuracy: 0.5739\n",
            "Epoch 4/10\n",
            "97/97 [==============================] - 50s 507ms/step - loss: 1.2150 - accuracy: 0.5890\n",
            "Epoch 5/10\n",
            "97/97 [==============================] - 50s 507ms/step - loss: 1.2028 - accuracy: 0.5932\n",
            "Epoch 6/10\n",
            "97/97 [==============================] - 50s 508ms/step - loss: 1.2226 - accuracy: 0.5855\n",
            "Epoch 7/10\n",
            "97/97 [==============================] - 50s 508ms/step - loss: 1.2049 - accuracy: 0.5861\n",
            "Epoch 8/10\n",
            "97/97 [==============================] - 50s 507ms/step - loss: 1.2195 - accuracy: 0.5890\n",
            "Epoch 9/10\n",
            "97/97 [==============================] - 50s 508ms/step - loss: 1.2065 - accuracy: 0.5797\n",
            "Epoch 10/10\n",
            "97/97 [==============================] - 50s 507ms/step - loss: 1.1898 - accuracy: 0.5903\n"
          ],
          "name": "stdout"
        },
        {
          "output_type": "execute_result",
          "data": {
            "text/plain": [
              "<tensorflow.python.keras.callbacks.History at 0x7f78cc69ff50>"
            ]
          },
          "metadata": {
            "tags": []
          },
          "execution_count": 22
        }
      ]
    },
    {
      "cell_type": "code",
      "metadata": {
        "colab": {
          "base_uri": "https://localhost:8080/"
        },
        "id": "I1r1GBXrIQsh",
        "outputId": "4eff9b63-9b00-4434-ad66-9072a36f2c4b"
      },
      "source": [
        "model.evaluate(valid_set, verbose=1) #100"
      ],
      "execution_count": null,
      "outputs": [
        {
          "output_type": "stream",
          "text": [
            "26/26 [==============================] - 21s 470ms/step - loss: 1.3361 - accuracy: 0.5541\n"
          ],
          "name": "stdout"
        },
        {
          "output_type": "execute_result",
          "data": {
            "text/plain": [
              "[1.3360763788223267, 0.5540704727172852]"
            ]
          },
          "metadata": {
            "tags": []
          },
          "execution_count": 23
        }
      ]
    },
    {
      "cell_type": "code",
      "metadata": {
        "colab": {
          "base_uri": "https://localhost:8080/"
        },
        "id": "hO-Bqi-rISJW",
        "outputId": "037743e0-3370-4fc0-9467-846c77eb9ae7"
      },
      "source": [
        "model.fit(training_set, epochs=10)"
      ],
      "execution_count": null,
      "outputs": [
        {
          "output_type": "stream",
          "text": [
            "Epoch 1/10\n",
            "97/97 [==============================] - 50s 510ms/step - loss: 1.1735 - accuracy: 0.5990\n",
            "Epoch 2/10\n",
            "97/97 [==============================] - 51s 519ms/step - loss: 1.1882 - accuracy: 0.5897\n",
            "Epoch 3/10\n",
            "97/97 [==============================] - 52s 527ms/step - loss: 1.1822 - accuracy: 0.5997\n",
            "Epoch 4/10\n",
            "97/97 [==============================] - 52s 530ms/step - loss: 1.1982 - accuracy: 0.5855\n",
            "Epoch 5/10\n",
            "97/97 [==============================] - 51s 516ms/step - loss: 1.1827 - accuracy: 0.5971\n",
            "Epoch 6/10\n",
            "97/97 [==============================] - 52s 525ms/step - loss: 1.1901 - accuracy: 0.5884\n",
            "Epoch 7/10\n",
            "97/97 [==============================] - 52s 530ms/step - loss: 1.1691 - accuracy: 0.6035\n",
            "Epoch 8/10\n",
            "97/97 [==============================] - 51s 516ms/step - loss: 1.1957 - accuracy: 0.5826\n",
            "Epoch 9/10\n",
            "97/97 [==============================] - 51s 518ms/step - loss: 1.1657 - accuracy: 0.6039\n",
            "Epoch 10/10\n",
            "97/97 [==============================] - 53s 536ms/step - loss: 1.1724 - accuracy: 0.5987\n"
          ],
          "name": "stdout"
        },
        {
          "output_type": "execute_result",
          "data": {
            "text/plain": [
              "<tensorflow.python.keras.callbacks.History at 0x7f78cc6795d0>"
            ]
          },
          "metadata": {
            "tags": []
          },
          "execution_count": 24
        }
      ]
    },
    {
      "cell_type": "code",
      "metadata": {
        "colab": {
          "base_uri": "https://localhost:8080/"
        },
        "id": "9QKfn7gkIVFw",
        "outputId": "a77f09b7-cb40-40ce-c5f6-8c81cc1ccde3"
      },
      "source": [
        "model.evaluate(valid_set, verbose=1) #110"
      ],
      "execution_count": null,
      "outputs": [
        {
          "output_type": "stream",
          "text": [
            "26/26 [==============================] - 21s 476ms/step - loss: 1.3689 - accuracy: 0.5371\n"
          ],
          "name": "stdout"
        },
        {
          "output_type": "execute_result",
          "data": {
            "text/plain": [
              "[1.3689066171646118, 0.5370595455169678]"
            ]
          },
          "metadata": {
            "tags": []
          },
          "execution_count": 25
        }
      ]
    },
    {
      "cell_type": "code",
      "metadata": {
        "colab": {
          "base_uri": "https://localhost:8080/"
        },
        "id": "y3YJ1L8DIS2e",
        "outputId": "5f142551-3845-483a-9d5f-17d602531973"
      },
      "source": [
        "model.fit(training_set, epochs=10)"
      ],
      "execution_count": null,
      "outputs": [
        {
          "output_type": "stream",
          "text": [
            "Epoch 1/10\n",
            "97/97 [==============================] - 50s 510ms/step - loss: 1.1867 - accuracy: 0.5894\n",
            "Epoch 2/10\n",
            "97/97 [==============================] - 50s 509ms/step - loss: 1.2367 - accuracy: 0.5784\n",
            "Epoch 3/10\n",
            "97/97 [==============================] - 50s 508ms/step - loss: 1.2240 - accuracy: 0.5765\n",
            "Epoch 4/10\n",
            "97/97 [==============================] - 50s 510ms/step - loss: 1.1556 - accuracy: 0.6055\n",
            "Epoch 5/10\n",
            "97/97 [==============================] - 50s 509ms/step - loss: 1.1506 - accuracy: 0.5952\n",
            "Epoch 6/10\n",
            "97/97 [==============================] - 50s 508ms/step - loss: 1.1686 - accuracy: 0.6023\n",
            "Epoch 7/10\n",
            "97/97 [==============================] - 50s 509ms/step - loss: 1.1477 - accuracy: 0.6074\n",
            "Epoch 8/10\n",
            "97/97 [==============================] - 51s 519ms/step - loss: 1.1569 - accuracy: 0.5919\n",
            "Epoch 9/10\n",
            "97/97 [==============================] - 50s 511ms/step - loss: 1.1648 - accuracy: 0.6068\n",
            "Epoch 10/10\n",
            "97/97 [==============================] - 50s 510ms/step - loss: 1.1716 - accuracy: 0.5977\n"
          ],
          "name": "stdout"
        },
        {
          "output_type": "execute_result",
          "data": {
            "text/plain": [
              "<tensorflow.python.keras.callbacks.History at 0x7f78cc69f650>"
            ]
          },
          "metadata": {
            "tags": []
          },
          "execution_count": 26
        }
      ]
    },
    {
      "cell_type": "code",
      "metadata": {
        "colab": {
          "base_uri": "https://localhost:8080/"
        },
        "id": "aTU9xJCrIVyt",
        "outputId": "ffd0cf1e-d3bd-4040-c0ad-19639bc2ab54"
      },
      "source": [
        "model.evaluate(valid_set, verbose=1) #120"
      ],
      "execution_count": null,
      "outputs": [
        {
          "output_type": "stream",
          "text": [
            "26/26 [==============================] - 21s 480ms/step - loss: 1.3420 - accuracy: 0.5383\n"
          ],
          "name": "stdout"
        },
        {
          "output_type": "execute_result",
          "data": {
            "text/plain": [
              "[1.3420027494430542, 0.5382745862007141]"
            ]
          },
          "metadata": {
            "tags": []
          },
          "execution_count": 27
        }
      ]
    },
    {
      "cell_type": "code",
      "metadata": {
        "colab": {
          "base_uri": "https://localhost:8080/"
        },
        "id": "AEL9xCaHITY9",
        "outputId": "44e47f49-f6cb-44c8-bbe7-1dc388400351"
      },
      "source": [
        "model.fit(training_set, epochs=10)"
      ],
      "execution_count": null,
      "outputs": [
        {
          "output_type": "stream",
          "text": [
            "Epoch 1/10\n",
            "97/97 [==============================] - 50s 512ms/step - loss: 1.1537 - accuracy: 0.6006\n",
            "Epoch 2/10\n",
            "97/97 [==============================] - 50s 509ms/step - loss: 1.1603 - accuracy: 0.6029\n",
            "Epoch 3/10\n",
            "97/97 [==============================] - 50s 511ms/step - loss: 1.1589 - accuracy: 0.6090\n",
            "Epoch 4/10\n",
            "97/97 [==============================] - 50s 511ms/step - loss: 1.1276 - accuracy: 0.6090\n",
            "Epoch 5/10\n",
            "97/97 [==============================] - 50s 512ms/step - loss: 1.1187 - accuracy: 0.6055\n",
            "Epoch 6/10\n",
            "97/97 [==============================] - 52s 525ms/step - loss: 1.1396 - accuracy: 0.6045\n",
            "Epoch 7/10\n",
            "97/97 [==============================] - 51s 515ms/step - loss: 1.1373 - accuracy: 0.5997\n",
            "Epoch 8/10\n",
            "97/97 [==============================] - 50s 512ms/step - loss: 1.1218 - accuracy: 0.6071\n",
            "Epoch 9/10\n",
            "97/97 [==============================] - 50s 512ms/step - loss: 1.1378 - accuracy: 0.6168\n",
            "Epoch 10/10\n",
            "97/97 [==============================] - 50s 509ms/step - loss: 1.1336 - accuracy: 0.5948\n"
          ],
          "name": "stdout"
        },
        {
          "output_type": "execute_result",
          "data": {
            "text/plain": [
              "<tensorflow.python.keras.callbacks.History at 0x7f78cc69f790>"
            ]
          },
          "metadata": {
            "tags": []
          },
          "execution_count": 28
        }
      ]
    },
    {
      "cell_type": "code",
      "metadata": {
        "colab": {
          "base_uri": "https://localhost:8080/"
        },
        "id": "AJUtdXWZIWkJ",
        "outputId": "0c141014-7c70-493c-efa2-499fa267b2d8"
      },
      "source": [
        "model.evaluate(valid_set, verbose=1) #130"
      ],
      "execution_count": null,
      "outputs": [
        {
          "output_type": "stream",
          "text": [
            "26/26 [==============================] - 21s 472ms/step - loss: 1.3075 - accuracy: 0.5443\n"
          ],
          "name": "stdout"
        },
        {
          "output_type": "execute_result",
          "data": {
            "text/plain": [
              "[1.3074806928634644, 0.5443499684333801]"
            ]
          },
          "metadata": {
            "tags": []
          },
          "execution_count": 29
        }
      ]
    },
    {
      "cell_type": "code",
      "metadata": {
        "colab": {
          "base_uri": "https://localhost:8080/"
        },
        "id": "9W-Ch660IT6C",
        "outputId": "31d7eabc-34cd-4c48-a14a-dee9dfb00a28"
      },
      "source": [
        "model.fit(training_set, epochs=10)"
      ],
      "execution_count": null,
      "outputs": [
        {
          "output_type": "stream",
          "text": [
            "Epoch 1/10\n",
            "97/97 [==============================] - 50s 509ms/step - loss: 1.1428 - accuracy: 0.6106\n",
            "Epoch 2/10\n",
            "97/97 [==============================] - 50s 509ms/step - loss: 1.1436 - accuracy: 0.6084\n",
            "Epoch 3/10\n",
            "97/97 [==============================] - 50s 509ms/step - loss: 1.1216 - accuracy: 0.6113\n",
            "Epoch 4/10\n",
            "97/97 [==============================] - 50s 511ms/step - loss: 1.1338 - accuracy: 0.6071\n",
            "Epoch 5/10\n",
            "97/97 [==============================] - 50s 511ms/step - loss: 1.1247 - accuracy: 0.6061\n",
            "Epoch 6/10\n",
            "97/97 [==============================] - 51s 518ms/step - loss: 1.1143 - accuracy: 0.6106\n",
            "Epoch 7/10\n",
            "97/97 [==============================] - 51s 523ms/step - loss: 1.1046 - accuracy: 0.6161\n",
            "Epoch 8/10\n",
            "97/97 [==============================] - 51s 514ms/step - loss: 1.1132 - accuracy: 0.6123\n",
            "Epoch 9/10\n",
            "97/97 [==============================] - 51s 522ms/step - loss: 1.1646 - accuracy: 0.6026\n",
            "Epoch 10/10\n",
            "97/97 [==============================] - 51s 515ms/step - loss: 1.1456 - accuracy: 0.5942\n"
          ],
          "name": "stdout"
        },
        {
          "output_type": "execute_result",
          "data": {
            "text/plain": [
              "<tensorflow.python.keras.callbacks.History at 0x7f78cc679a90>"
            ]
          },
          "metadata": {
            "tags": []
          },
          "execution_count": 30
        }
      ]
    },
    {
      "cell_type": "code",
      "metadata": {
        "colab": {
          "base_uri": "https://localhost:8080/"
        },
        "id": "QsmcNKiTIXGe",
        "outputId": "c945c051-1160-4c2c-b289-b17b24577a1d"
      },
      "source": [
        "model.evaluate(valid_set, verbose=1) #140"
      ],
      "execution_count": null,
      "outputs": [
        {
          "output_type": "stream",
          "text": [
            "26/26 [==============================] - 21s 474ms/step - loss: 1.5156 - accuracy: 0.4775\n"
          ],
          "name": "stdout"
        },
        {
          "output_type": "execute_result",
          "data": {
            "text/plain": [
              "[1.5155620574951172, 0.47752127051353455]"
            ]
          },
          "metadata": {
            "tags": []
          },
          "execution_count": 31
        }
      ]
    },
    {
      "cell_type": "markdown",
      "metadata": {
        "id": "gK4KEZbQRCzA"
      },
      "source": [
        "### Restarted training and saving weights for when epoch=60"
      ]
    },
    {
      "cell_type": "code",
      "metadata": {
        "colab": {
          "base_uri": "https://localhost:8080/"
        },
        "id": "zzPXSgl3YUsh",
        "outputId": "21331d37-f310-4f32-d28d-3eb8df3f5422"
      },
      "source": [
        "model.fit(training_set, epochs=60)"
      ],
      "execution_count": 53,
      "outputs": [
        {
          "output_type": "stream",
          "text": [
            "Epoch 1/60\n",
            "97/97 [==============================] - 53s 532ms/step - loss: 4.1598 - accuracy: 0.0452\n",
            "Epoch 2/60\n",
            "97/97 [==============================] - 52s 532ms/step - loss: 3.4927 - accuracy: 0.1348\n",
            "Epoch 3/60\n",
            "97/97 [==============================] - 51s 520ms/step - loss: 3.1485 - accuracy: 0.1932\n",
            "Epoch 4/60\n",
            "97/97 [==============================] - 52s 528ms/step - loss: 2.8653 - accuracy: 0.2465\n",
            "Epoch 5/60\n",
            "97/97 [==============================] - 52s 534ms/step - loss: 2.6344 - accuracy: 0.2890\n",
            "Epoch 6/60\n",
            "97/97 [==============================] - 51s 518ms/step - loss: 2.4442 - accuracy: 0.3184\n",
            "Epoch 7/60\n",
            "97/97 [==============================] - 52s 527ms/step - loss: 2.3280 - accuracy: 0.3390\n",
            "Epoch 8/60\n",
            "97/97 [==============================] - 52s 534ms/step - loss: 2.2255 - accuracy: 0.3545\n",
            "Epoch 9/60\n",
            "97/97 [==============================] - 52s 531ms/step - loss: 2.1057 - accuracy: 0.3871\n",
            "Epoch 10/60\n",
            "97/97 [==============================] - 51s 524ms/step - loss: 2.0566 - accuracy: 0.3952\n",
            "Epoch 11/60\n",
            "97/97 [==============================] - 53s 540ms/step - loss: 1.9760 - accuracy: 0.3981\n",
            "Epoch 12/60\n",
            "97/97 [==============================] - 53s 535ms/step - loss: 1.9364 - accuracy: 0.3987\n",
            "Epoch 13/60\n",
            "97/97 [==============================] - 52s 532ms/step - loss: 1.8666 - accuracy: 0.4274\n",
            "Epoch 14/60\n",
            "97/97 [==============================] - 52s 525ms/step - loss: 1.8063 - accuracy: 0.4455\n",
            "Epoch 15/60\n",
            "97/97 [==============================] - 53s 536ms/step - loss: 1.7937 - accuracy: 0.4410\n",
            "Epoch 16/60\n",
            "97/97 [==============================] - 51s 522ms/step - loss: 1.7394 - accuracy: 0.4523\n",
            "Epoch 17/60\n",
            "97/97 [==============================] - 52s 527ms/step - loss: 1.7197 - accuracy: 0.4623\n",
            "Epoch 18/60\n",
            "97/97 [==============================] - 52s 534ms/step - loss: 1.7090 - accuracy: 0.4448\n",
            "Epoch 19/60\n",
            "97/97 [==============================] - 52s 532ms/step - loss: 1.6676 - accuracy: 0.4758\n",
            "Epoch 20/60\n",
            "97/97 [==============================] - 52s 533ms/step - loss: 1.6244 - accuracy: 0.4913\n",
            "Epoch 21/60\n",
            "97/97 [==============================] - 52s 532ms/step - loss: 1.6020 - accuracy: 0.4955\n",
            "Epoch 22/60\n",
            "97/97 [==============================] - 52s 532ms/step - loss: 1.5949 - accuracy: 0.4839\n",
            "Epoch 23/60\n",
            "97/97 [==============================] - 51s 519ms/step - loss: 1.5620 - accuracy: 0.5087\n",
            "Epoch 24/60\n",
            "97/97 [==============================] - 53s 534ms/step - loss: 1.5387 - accuracy: 0.4958\n",
            "Epoch 25/60\n",
            "97/97 [==============================] - 52s 532ms/step - loss: 1.5079 - accuracy: 0.5135\n",
            "Epoch 26/60\n",
            "97/97 [==============================] - 51s 520ms/step - loss: 1.5142 - accuracy: 0.5135\n",
            "Epoch 27/60\n",
            "97/97 [==============================] - 52s 534ms/step - loss: 1.4846 - accuracy: 0.5152\n",
            "Epoch 28/60\n",
            "97/97 [==============================] - 51s 517ms/step - loss: 1.4492 - accuracy: 0.5229\n",
            "Epoch 29/60\n",
            "97/97 [==============================] - 52s 535ms/step - loss: 1.4899 - accuracy: 0.5148\n",
            "Epoch 30/60\n",
            "97/97 [==============================] - 51s 522ms/step - loss: 1.4813 - accuracy: 0.5106\n",
            "Epoch 31/60\n",
            "97/97 [==============================] - 53s 536ms/step - loss: 1.4724 - accuracy: 0.5139\n",
            "Epoch 32/60\n",
            "97/97 [==============================] - 52s 531ms/step - loss: 1.4442 - accuracy: 0.5226\n",
            "Epoch 33/60\n",
            "97/97 [==============================] - 51s 520ms/step - loss: 1.4225 - accuracy: 0.5290\n",
            "Epoch 34/60\n",
            "97/97 [==============================] - 52s 527ms/step - loss: 1.4100 - accuracy: 0.5358\n",
            "Epoch 35/60\n",
            "97/97 [==============================] - 52s 533ms/step - loss: 1.3810 - accuracy: 0.5487\n",
            "Epoch 36/60\n",
            "97/97 [==============================] - 51s 518ms/step - loss: 1.3800 - accuracy: 0.5403\n",
            "Epoch 37/60\n",
            "97/97 [==============================] - 52s 532ms/step - loss: 1.3614 - accuracy: 0.5406\n",
            "Epoch 38/60\n",
            "97/97 [==============================] - 52s 527ms/step - loss: 1.3634 - accuracy: 0.5465\n",
            "Epoch 39/60\n",
            "97/97 [==============================] - 52s 529ms/step - loss: 1.3580 - accuracy: 0.5442\n",
            "Epoch 40/60\n",
            "97/97 [==============================] - 51s 518ms/step - loss: 1.3415 - accuracy: 0.5445\n",
            "Epoch 41/60\n",
            "97/97 [==============================] - 52s 531ms/step - loss: 1.3416 - accuracy: 0.5445\n",
            "Epoch 42/60\n",
            "97/97 [==============================] - 52s 533ms/step - loss: 1.3644 - accuracy: 0.5394\n",
            "Epoch 43/60\n",
            "97/97 [==============================] - 52s 529ms/step - loss: 1.3553 - accuracy: 0.5523\n",
            "Epoch 44/60\n",
            "97/97 [==============================] - 52s 529ms/step - loss: 1.3060 - accuracy: 0.5668\n",
            "Epoch 45/60\n",
            "97/97 [==============================] - 51s 521ms/step - loss: 1.3356 - accuracy: 0.5474\n",
            "Epoch 46/60\n",
            "97/97 [==============================] - 52s 526ms/step - loss: 1.3347 - accuracy: 0.5403\n",
            "Epoch 47/60\n",
            "97/97 [==============================] - 52s 529ms/step - loss: 1.2955 - accuracy: 0.5619\n",
            "Epoch 48/60\n",
            "97/97 [==============================] - 52s 529ms/step - loss: 1.2799 - accuracy: 0.5626\n",
            "Epoch 49/60\n",
            "97/97 [==============================] - 52s 528ms/step - loss: 1.3057 - accuracy: 0.5635\n",
            "Epoch 50/60\n",
            "97/97 [==============================] - 51s 519ms/step - loss: 1.2763 - accuracy: 0.5629\n",
            "Epoch 51/60\n",
            "97/97 [==============================] - 52s 531ms/step - loss: 1.2763 - accuracy: 0.5600\n",
            "Epoch 52/60\n",
            "97/97 [==============================] - 51s 521ms/step - loss: 1.2251 - accuracy: 0.5810\n",
            "Epoch 53/60\n",
            "97/97 [==============================] - 52s 531ms/step - loss: 1.2524 - accuracy: 0.5687\n",
            "Epoch 54/60\n",
            "97/97 [==============================] - 52s 529ms/step - loss: 1.2510 - accuracy: 0.5635\n",
            "Epoch 55/60\n",
            "97/97 [==============================] - 51s 520ms/step - loss: 1.2232 - accuracy: 0.5916\n",
            "Epoch 56/60\n",
            "97/97 [==============================] - 52s 532ms/step - loss: 1.2681 - accuracy: 0.5758\n",
            "Epoch 57/60\n",
            "97/97 [==============================] - 52s 527ms/step - loss: 1.2518 - accuracy: 0.5735\n",
            "Epoch 58/60\n",
            "97/97 [==============================] - 52s 530ms/step - loss: 1.2073 - accuracy: 0.5755\n",
            "Epoch 59/60\n",
            "97/97 [==============================] - 51s 523ms/step - loss: 1.2145 - accuracy: 0.5845\n",
            "Epoch 60/60\n",
            "97/97 [==============================] - 51s 524ms/step - loss: 1.2508 - accuracy: 0.5719\n"
          ],
          "name": "stdout"
        },
        {
          "output_type": "execute_result",
          "data": {
            "text/plain": [
              "<tensorflow.python.keras.callbacks.History at 0x7f961215c6d0>"
            ]
          },
          "metadata": {
            "tags": []
          },
          "execution_count": 53
        }
      ]
    },
    {
      "cell_type": "code",
      "metadata": {
        "colab": {
          "base_uri": "https://localhost:8080/"
        },
        "id": "VWbpV_A0og_T",
        "outputId": "40f6c327-d4c8-4561-9dee-5b59e9a672ce"
      },
      "source": [
        "model.evaluate(valid_set, verbose=1) #60"
      ],
      "execution_count": 54,
      "outputs": [
        {
          "output_type": "stream",
          "text": [
            "26/26 [==============================] - 20s 485ms/step - loss: 1.4730 - accuracy: 0.5407\n"
          ],
          "name": "stdout"
        },
        {
          "output_type": "execute_result",
          "data": {
            "text/plain": [
              "[1.472959280014038, 0.5407047271728516]"
            ]
          },
          "metadata": {
            "tags": []
          },
          "execution_count": 54
        }
      ]
    },
    {
      "cell_type": "code",
      "metadata": {
        "id": "LAZjLKCzc4ZO"
      },
      "source": [
        "import os\n",
        "weights_dir = 'weights/article'\n",
        "# Save model weights\n",
        "model.save_weights(os.path.join(weights_dir, 'vgg16-60.h5'))"
      ],
      "execution_count": 56,
      "outputs": []
    },
    {
      "cell_type": "markdown",
      "metadata": {
        "id": "hLWnXMgsROw8"
      },
      "source": [
        "### Trying VGG19 with new dataset with different epochs, starting at 40 and increasing by 10"
      ]
    },
    {
      "cell_type": "code",
      "metadata": {
        "colab": {
          "base_uri": "https://localhost:8080/"
        },
        "id": "yNuobomzYNRW",
        "outputId": "908a1741-7b16-4d11-95ea-4ab78d5864da"
      },
      "source": [
        "vgg = VGG19(include_top=False, weights=\"imagenet\", input_shape=(img_size, img_size, channels))\n",
        "vgg.trainable = True\n",
        "base_model = vgg\n",
        "\n",
        "inputs = tf.keras.Input(shape=(img_size, img_size, channels))\n",
        "\n",
        "x = base_model(inputs, training=False)\n",
        "x = tf.keras.layers.GlobalAveragePooling2D()(x)\n",
        "x = tf.keras.layers.Dropout(0.2)(x)\n",
        "x = keras.layers.Flatten()(x)\n",
        "X = keras.layers.Dense(128, activation='relu')(x)\n",
        "X = keras.layers.Dropout(0.5)(X)\n",
        "X = keras.layers.BatchNormalization()(X)\n",
        "\n",
        "outputs = tf.keras.layers.Dense(64, activation=tf.keras.activations.softmax)(X)\n",
        "\n",
        "model = tf.keras.Model(inputs, outputs)\n",
        "model.summary()\n",
        "\n",
        "model.compile(loss='sparse_categorical_crossentropy', optimizer='adam', metrics=['accuracy'])"
      ],
      "execution_count": 15,
      "outputs": [
        {
          "output_type": "stream",
          "text": [
            "Downloading data from https://storage.googleapis.com/tensorflow/keras-applications/vgg19/vgg19_weights_tf_dim_ordering_tf_kernels_notop.h5\n",
            "80142336/80134624 [==============================] - 1s 0us/step\n",
            "80150528/80134624 [==============================] - 1s 0us/step\n",
            "WARNING:tensorflow:\n",
            "The following Variables were used a Lambda layer's call (tf.nn.convolution), but\n",
            "are not present in its tracked objects:\n",
            "  <tf.Variable 'block1_conv1/kernel:0' shape=(3, 3, 3, 64) dtype=float32>\n",
            "It is possible that this is intended behavior, but it is more likely\n",
            "an omission. This is a strong indication that this layer should be\n",
            "formulated as a subclassed Layer rather than a Lambda layer.\n",
            "WARNING:tensorflow:\n",
            "The following Variables were used a Lambda layer's call (tf.nn.bias_add), but\n",
            "are not present in its tracked objects:\n",
            "  <tf.Variable 'block1_conv1/bias:0' shape=(64,) dtype=float32>\n",
            "It is possible that this is intended behavior, but it is more likely\n",
            "an omission. This is a strong indication that this layer should be\n",
            "formulated as a subclassed Layer rather than a Lambda layer.\n",
            "WARNING:tensorflow:\n",
            "The following Variables were used a Lambda layer's call (tf.nn.convolution_1), but\n",
            "are not present in its tracked objects:\n",
            "  <tf.Variable 'block1_conv2/kernel:0' shape=(3, 3, 64, 64) dtype=float32>\n",
            "It is possible that this is intended behavior, but it is more likely\n",
            "an omission. This is a strong indication that this layer should be\n",
            "formulated as a subclassed Layer rather than a Lambda layer.\n",
            "WARNING:tensorflow:\n",
            "The following Variables were used a Lambda layer's call (tf.nn.bias_add_1), but\n",
            "are not present in its tracked objects:\n",
            "  <tf.Variable 'block1_conv2/bias:0' shape=(64,) dtype=float32>\n",
            "It is possible that this is intended behavior, but it is more likely\n",
            "an omission. This is a strong indication that this layer should be\n",
            "formulated as a subclassed Layer rather than a Lambda layer.\n",
            "WARNING:tensorflow:\n",
            "The following Variables were used a Lambda layer's call (tf.nn.convolution_2), but\n",
            "are not present in its tracked objects:\n",
            "  <tf.Variable 'block2_conv1/kernel:0' shape=(3, 3, 64, 128) dtype=float32>\n",
            "It is possible that this is intended behavior, but it is more likely\n",
            "an omission. This is a strong indication that this layer should be\n",
            "formulated as a subclassed Layer rather than a Lambda layer.\n",
            "WARNING:tensorflow:\n",
            "The following Variables were used a Lambda layer's call (tf.nn.bias_add_2), but\n",
            "are not present in its tracked objects:\n",
            "  <tf.Variable 'block2_conv1/bias:0' shape=(128,) dtype=float32>\n",
            "It is possible that this is intended behavior, but it is more likely\n",
            "an omission. This is a strong indication that this layer should be\n",
            "formulated as a subclassed Layer rather than a Lambda layer.\n",
            "WARNING:tensorflow:\n",
            "The following Variables were used a Lambda layer's call (tf.nn.convolution_3), but\n",
            "are not present in its tracked objects:\n",
            "  <tf.Variable 'block2_conv2/kernel:0' shape=(3, 3, 128, 128) dtype=float32>\n",
            "It is possible that this is intended behavior, but it is more likely\n",
            "an omission. This is a strong indication that this layer should be\n",
            "formulated as a subclassed Layer rather than a Lambda layer.\n",
            "WARNING:tensorflow:\n",
            "The following Variables were used a Lambda layer's call (tf.nn.bias_add_3), but\n",
            "are not present in its tracked objects:\n",
            "  <tf.Variable 'block2_conv2/bias:0' shape=(128,) dtype=float32>\n",
            "It is possible that this is intended behavior, but it is more likely\n",
            "an omission. This is a strong indication that this layer should be\n",
            "formulated as a subclassed Layer rather than a Lambda layer.\n",
            "WARNING:tensorflow:\n",
            "The following Variables were used a Lambda layer's call (tf.nn.convolution_4), but\n",
            "are not present in its tracked objects:\n",
            "  <tf.Variable 'block3_conv1/kernel:0' shape=(3, 3, 128, 256) dtype=float32>\n",
            "It is possible that this is intended behavior, but it is more likely\n",
            "an omission. This is a strong indication that this layer should be\n",
            "formulated as a subclassed Layer rather than a Lambda layer.\n",
            "WARNING:tensorflow:\n",
            "The following Variables were used a Lambda layer's call (tf.nn.bias_add_4), but\n",
            "are not present in its tracked objects:\n",
            "  <tf.Variable 'block3_conv1/bias:0' shape=(256,) dtype=float32>\n",
            "It is possible that this is intended behavior, but it is more likely\n",
            "an omission. This is a strong indication that this layer should be\n",
            "formulated as a subclassed Layer rather than a Lambda layer.\n",
            "WARNING:tensorflow:\n",
            "The following Variables were used a Lambda layer's call (tf.nn.convolution_5), but\n",
            "are not present in its tracked objects:\n",
            "  <tf.Variable 'block3_conv2/kernel:0' shape=(3, 3, 256, 256) dtype=float32>\n",
            "It is possible that this is intended behavior, but it is more likely\n",
            "an omission. This is a strong indication that this layer should be\n",
            "formulated as a subclassed Layer rather than a Lambda layer.\n",
            "WARNING:tensorflow:\n",
            "The following Variables were used a Lambda layer's call (tf.nn.bias_add_5), but\n",
            "are not present in its tracked objects:\n",
            "  <tf.Variable 'block3_conv2/bias:0' shape=(256,) dtype=float32>\n",
            "It is possible that this is intended behavior, but it is more likely\n",
            "an omission. This is a strong indication that this layer should be\n",
            "formulated as a subclassed Layer rather than a Lambda layer.\n",
            "WARNING:tensorflow:\n",
            "The following Variables were used a Lambda layer's call (tf.nn.convolution_6), but\n",
            "are not present in its tracked objects:\n",
            "  <tf.Variable 'block3_conv3/kernel:0' shape=(3, 3, 256, 256) dtype=float32>\n",
            "It is possible that this is intended behavior, but it is more likely\n",
            "an omission. This is a strong indication that this layer should be\n",
            "formulated as a subclassed Layer rather than a Lambda layer.\n",
            "WARNING:tensorflow:\n",
            "The following Variables were used a Lambda layer's call (tf.nn.bias_add_6), but\n",
            "are not present in its tracked objects:\n",
            "  <tf.Variable 'block3_conv3/bias:0' shape=(256,) dtype=float32>\n",
            "It is possible that this is intended behavior, but it is more likely\n",
            "an omission. This is a strong indication that this layer should be\n",
            "formulated as a subclassed Layer rather than a Lambda layer.\n",
            "WARNING:tensorflow:\n",
            "The following Variables were used a Lambda layer's call (tf.nn.convolution_7), but\n",
            "are not present in its tracked objects:\n",
            "  <tf.Variable 'block3_conv4/kernel:0' shape=(3, 3, 256, 256) dtype=float32>\n",
            "It is possible that this is intended behavior, but it is more likely\n",
            "an omission. This is a strong indication that this layer should be\n",
            "formulated as a subclassed Layer rather than a Lambda layer.\n",
            "WARNING:tensorflow:\n",
            "The following Variables were used a Lambda layer's call (tf.nn.bias_add_7), but\n",
            "are not present in its tracked objects:\n",
            "  <tf.Variable 'block3_conv4/bias:0' shape=(256,) dtype=float32>\n",
            "It is possible that this is intended behavior, but it is more likely\n",
            "an omission. This is a strong indication that this layer should be\n",
            "formulated as a subclassed Layer rather than a Lambda layer.\n",
            "WARNING:tensorflow:\n",
            "The following Variables were used a Lambda layer's call (tf.nn.convolution_8), but\n",
            "are not present in its tracked objects:\n",
            "  <tf.Variable 'block4_conv1/kernel:0' shape=(3, 3, 256, 512) dtype=float32>\n",
            "It is possible that this is intended behavior, but it is more likely\n",
            "an omission. This is a strong indication that this layer should be\n",
            "formulated as a subclassed Layer rather than a Lambda layer.\n",
            "WARNING:tensorflow:\n",
            "The following Variables were used a Lambda layer's call (tf.nn.bias_add_8), but\n",
            "are not present in its tracked objects:\n",
            "  <tf.Variable 'block4_conv1/bias:0' shape=(512,) dtype=float32>\n",
            "It is possible that this is intended behavior, but it is more likely\n",
            "an omission. This is a strong indication that this layer should be\n",
            "formulated as a subclassed Layer rather than a Lambda layer.\n",
            "WARNING:tensorflow:\n",
            "The following Variables were used a Lambda layer's call (tf.nn.convolution_9), but\n",
            "are not present in its tracked objects:\n",
            "  <tf.Variable 'block4_conv2/kernel:0' shape=(3, 3, 512, 512) dtype=float32>\n",
            "It is possible that this is intended behavior, but it is more likely\n",
            "an omission. This is a strong indication that this layer should be\n",
            "formulated as a subclassed Layer rather than a Lambda layer.\n",
            "WARNING:tensorflow:\n",
            "The following Variables were used a Lambda layer's call (tf.nn.bias_add_9), but\n",
            "are not present in its tracked objects:\n",
            "  <tf.Variable 'block4_conv2/bias:0' shape=(512,) dtype=float32>\n",
            "It is possible that this is intended behavior, but it is more likely\n",
            "an omission. This is a strong indication that this layer should be\n",
            "formulated as a subclassed Layer rather than a Lambda layer.\n",
            "WARNING:tensorflow:\n",
            "The following Variables were used a Lambda layer's call (tf.nn.convolution_10), but\n",
            "are not present in its tracked objects:\n",
            "  <tf.Variable 'block4_conv3/kernel:0' shape=(3, 3, 512, 512) dtype=float32>\n",
            "It is possible that this is intended behavior, but it is more likely\n",
            "an omission. This is a strong indication that this layer should be\n",
            "formulated as a subclassed Layer rather than a Lambda layer.\n",
            "WARNING:tensorflow:\n",
            "The following Variables were used a Lambda layer's call (tf.nn.bias_add_10), but\n",
            "are not present in its tracked objects:\n",
            "  <tf.Variable 'block4_conv3/bias:0' shape=(512,) dtype=float32>\n",
            "It is possible that this is intended behavior, but it is more likely\n",
            "an omission. This is a strong indication that this layer should be\n",
            "formulated as a subclassed Layer rather than a Lambda layer.\n",
            "WARNING:tensorflow:\n",
            "The following Variables were used a Lambda layer's call (tf.nn.convolution_11), but\n",
            "are not present in its tracked objects:\n",
            "  <tf.Variable 'block4_conv4/kernel:0' shape=(3, 3, 512, 512) dtype=float32>\n",
            "It is possible that this is intended behavior, but it is more likely\n",
            "an omission. This is a strong indication that this layer should be\n",
            "formulated as a subclassed Layer rather than a Lambda layer.\n",
            "WARNING:tensorflow:\n",
            "The following Variables were used a Lambda layer's call (tf.nn.bias_add_11), but\n",
            "are not present in its tracked objects:\n",
            "  <tf.Variable 'block4_conv4/bias:0' shape=(512,) dtype=float32>\n",
            "It is possible that this is intended behavior, but it is more likely\n",
            "an omission. This is a strong indication that this layer should be\n",
            "formulated as a subclassed Layer rather than a Lambda layer.\n",
            "WARNING:tensorflow:\n",
            "The following Variables were used a Lambda layer's call (tf.nn.convolution_12), but\n",
            "are not present in its tracked objects:\n",
            "  <tf.Variable 'block5_conv1/kernel:0' shape=(3, 3, 512, 512) dtype=float32>\n",
            "It is possible that this is intended behavior, but it is more likely\n",
            "an omission. This is a strong indication that this layer should be\n",
            "formulated as a subclassed Layer rather than a Lambda layer.\n",
            "WARNING:tensorflow:\n",
            "The following Variables were used a Lambda layer's call (tf.nn.bias_add_12), but\n",
            "are not present in its tracked objects:\n",
            "  <tf.Variable 'block5_conv1/bias:0' shape=(512,) dtype=float32>\n",
            "It is possible that this is intended behavior, but it is more likely\n",
            "an omission. This is a strong indication that this layer should be\n",
            "formulated as a subclassed Layer rather than a Lambda layer.\n",
            "WARNING:tensorflow:\n",
            "The following Variables were used a Lambda layer's call (tf.nn.convolution_13), but\n",
            "are not present in its tracked objects:\n",
            "  <tf.Variable 'block5_conv2/kernel:0' shape=(3, 3, 512, 512) dtype=float32>\n",
            "It is possible that this is intended behavior, but it is more likely\n",
            "an omission. This is a strong indication that this layer should be\n",
            "formulated as a subclassed Layer rather than a Lambda layer.\n",
            "WARNING:tensorflow:\n",
            "The following Variables were used a Lambda layer's call (tf.nn.bias_add_13), but\n",
            "are not present in its tracked objects:\n",
            "  <tf.Variable 'block5_conv2/bias:0' shape=(512,) dtype=float32>\n",
            "It is possible that this is intended behavior, but it is more likely\n",
            "an omission. This is a strong indication that this layer should be\n",
            "formulated as a subclassed Layer rather than a Lambda layer.\n",
            "WARNING:tensorflow:\n",
            "The following Variables were used a Lambda layer's call (tf.nn.convolution_14), but\n",
            "are not present in its tracked objects:\n",
            "  <tf.Variable 'block5_conv3/kernel:0' shape=(3, 3, 512, 512) dtype=float32>\n",
            "It is possible that this is intended behavior, but it is more likely\n",
            "an omission. This is a strong indication that this layer should be\n",
            "formulated as a subclassed Layer rather than a Lambda layer.\n",
            "WARNING:tensorflow:\n",
            "The following Variables were used a Lambda layer's call (tf.nn.bias_add_14), but\n",
            "are not present in its tracked objects:\n",
            "  <tf.Variable 'block5_conv3/bias:0' shape=(512,) dtype=float32>\n",
            "It is possible that this is intended behavior, but it is more likely\n",
            "an omission. This is a strong indication that this layer should be\n",
            "formulated as a subclassed Layer rather than a Lambda layer.\n",
            "WARNING:tensorflow:\n",
            "The following Variables were used a Lambda layer's call (tf.nn.convolution_15), but\n",
            "are not present in its tracked objects:\n",
            "  <tf.Variable 'block5_conv4/kernel:0' shape=(3, 3, 512, 512) dtype=float32>\n",
            "It is possible that this is intended behavior, but it is more likely\n",
            "an omission. This is a strong indication that this layer should be\n",
            "formulated as a subclassed Layer rather than a Lambda layer.\n",
            "WARNING:tensorflow:\n",
            "The following Variables were used a Lambda layer's call (tf.nn.bias_add_15), but\n",
            "are not present in its tracked objects:\n",
            "  <tf.Variable 'block5_conv4/bias:0' shape=(512,) dtype=float32>\n",
            "It is possible that this is intended behavior, but it is more likely\n",
            "an omission. This is a strong indication that this layer should be\n",
            "formulated as a subclassed Layer rather than a Lambda layer.\n",
            "Model: \"model\"\n",
            "_________________________________________________________________\n",
            "Layer (type)                 Output Shape              Param #   \n",
            "=================================================================\n",
            "input_1 (InputLayer)         [(None, 400, 400, 3)]     0         \n",
            "_________________________________________________________________\n",
            "tf.nn.convolution (TFOpLambd (None, 400, 400, 64)      0         \n",
            "_________________________________________________________________\n",
            "tf.nn.bias_add (TFOpLambda)  (None, 400, 400, 64)      0         \n",
            "_________________________________________________________________\n",
            "tf.nn.relu (TFOpLambda)      (None, 400, 400, 64)      0         \n",
            "_________________________________________________________________\n",
            "tf.nn.convolution_1 (TFOpLam (None, 400, 400, 64)      0         \n",
            "_________________________________________________________________\n",
            "tf.nn.bias_add_1 (TFOpLambda (None, 400, 400, 64)      0         \n",
            "_________________________________________________________________\n",
            "tf.nn.relu_1 (TFOpLambda)    (None, 400, 400, 64)      0         \n",
            "_________________________________________________________________\n",
            "tf.compat.v1.nn.max_pool (TF (None, 200, 200, 64)      0         \n",
            "_________________________________________________________________\n",
            "tf.nn.convolution_2 (TFOpLam (None, 200, 200, 128)     0         \n",
            "_________________________________________________________________\n",
            "tf.nn.bias_add_2 (TFOpLambda (None, 200, 200, 128)     0         \n",
            "_________________________________________________________________\n",
            "tf.nn.relu_2 (TFOpLambda)    (None, 200, 200, 128)     0         \n",
            "_________________________________________________________________\n",
            "tf.nn.convolution_3 (TFOpLam (None, 200, 200, 128)     0         \n",
            "_________________________________________________________________\n",
            "tf.nn.bias_add_3 (TFOpLambda (None, 200, 200, 128)     0         \n",
            "_________________________________________________________________\n",
            "tf.nn.relu_3 (TFOpLambda)    (None, 200, 200, 128)     0         \n",
            "_________________________________________________________________\n",
            "tf.compat.v1.nn.max_pool_1 ( (None, 100, 100, 128)     0         \n",
            "_________________________________________________________________\n",
            "tf.nn.convolution_4 (TFOpLam (None, 100, 100, 256)     0         \n",
            "_________________________________________________________________\n",
            "tf.nn.bias_add_4 (TFOpLambda (None, 100, 100, 256)     0         \n",
            "_________________________________________________________________\n",
            "tf.nn.relu_4 (TFOpLambda)    (None, 100, 100, 256)     0         \n",
            "_________________________________________________________________\n",
            "tf.nn.convolution_5 (TFOpLam (None, 100, 100, 256)     0         \n",
            "_________________________________________________________________\n",
            "tf.nn.bias_add_5 (TFOpLambda (None, 100, 100, 256)     0         \n",
            "_________________________________________________________________\n",
            "tf.nn.relu_5 (TFOpLambda)    (None, 100, 100, 256)     0         \n",
            "_________________________________________________________________\n",
            "tf.nn.convolution_6 (TFOpLam (None, 100, 100, 256)     0         \n",
            "_________________________________________________________________\n",
            "tf.nn.bias_add_6 (TFOpLambda (None, 100, 100, 256)     0         \n",
            "_________________________________________________________________\n",
            "tf.nn.relu_6 (TFOpLambda)    (None, 100, 100, 256)     0         \n",
            "_________________________________________________________________\n",
            "tf.nn.convolution_7 (TFOpLam (None, 100, 100, 256)     0         \n",
            "_________________________________________________________________\n",
            "tf.nn.bias_add_7 (TFOpLambda (None, 100, 100, 256)     0         \n",
            "_________________________________________________________________\n",
            "tf.nn.relu_7 (TFOpLambda)    (None, 100, 100, 256)     0         \n",
            "_________________________________________________________________\n",
            "tf.compat.v1.nn.max_pool_2 ( (None, 50, 50, 256)       0         \n",
            "_________________________________________________________________\n",
            "tf.nn.convolution_8 (TFOpLam (None, 50, 50, 512)       0         \n",
            "_________________________________________________________________\n",
            "tf.nn.bias_add_8 (TFOpLambda (None, 50, 50, 512)       0         \n",
            "_________________________________________________________________\n",
            "tf.nn.relu_8 (TFOpLambda)    (None, 50, 50, 512)       0         \n",
            "_________________________________________________________________\n",
            "tf.nn.convolution_9 (TFOpLam (None, 50, 50, 512)       0         \n",
            "_________________________________________________________________\n",
            "tf.nn.bias_add_9 (TFOpLambda (None, 50, 50, 512)       0         \n",
            "_________________________________________________________________\n",
            "tf.nn.relu_9 (TFOpLambda)    (None, 50, 50, 512)       0         \n",
            "_________________________________________________________________\n",
            "tf.nn.convolution_10 (TFOpLa (None, 50, 50, 512)       0         \n",
            "_________________________________________________________________\n",
            "tf.nn.bias_add_10 (TFOpLambd (None, 50, 50, 512)       0         \n",
            "_________________________________________________________________\n",
            "tf.nn.relu_10 (TFOpLambda)   (None, 50, 50, 512)       0         \n",
            "_________________________________________________________________\n",
            "tf.nn.convolution_11 (TFOpLa (None, 50, 50, 512)       0         \n",
            "_________________________________________________________________\n",
            "tf.nn.bias_add_11 (TFOpLambd (None, 50, 50, 512)       0         \n",
            "_________________________________________________________________\n",
            "tf.nn.relu_11 (TFOpLambda)   (None, 50, 50, 512)       0         \n",
            "_________________________________________________________________\n",
            "tf.compat.v1.nn.max_pool_3 ( (None, 25, 25, 512)       0         \n",
            "_________________________________________________________________\n",
            "tf.nn.convolution_12 (TFOpLa (None, 25, 25, 512)       0         \n",
            "_________________________________________________________________\n",
            "tf.nn.bias_add_12 (TFOpLambd (None, 25, 25, 512)       0         \n",
            "_________________________________________________________________\n",
            "tf.nn.relu_12 (TFOpLambda)   (None, 25, 25, 512)       0         \n",
            "_________________________________________________________________\n",
            "tf.nn.convolution_13 (TFOpLa (None, 25, 25, 512)       0         \n",
            "_________________________________________________________________\n",
            "tf.nn.bias_add_13 (TFOpLambd (None, 25, 25, 512)       0         \n",
            "_________________________________________________________________\n",
            "tf.nn.relu_13 (TFOpLambda)   (None, 25, 25, 512)       0         \n",
            "_________________________________________________________________\n",
            "tf.nn.convolution_14 (TFOpLa (None, 25, 25, 512)       0         \n",
            "_________________________________________________________________\n",
            "tf.nn.bias_add_14 (TFOpLambd (None, 25, 25, 512)       0         \n",
            "_________________________________________________________________\n",
            "tf.nn.relu_14 (TFOpLambda)   (None, 25, 25, 512)       0         \n",
            "_________________________________________________________________\n",
            "tf.nn.convolution_15 (TFOpLa (None, 25, 25, 512)       0         \n",
            "_________________________________________________________________\n",
            "tf.nn.bias_add_15 (TFOpLambd (None, 25, 25, 512)       0         \n",
            "_________________________________________________________________\n",
            "tf.nn.relu_15 (TFOpLambda)   (None, 25, 25, 512)       0         \n",
            "_________________________________________________________________\n",
            "tf.compat.v1.nn.max_pool_4 ( (None, 12, 12, 512)       0         \n",
            "_________________________________________________________________\n",
            "global_average_pooling2d (Gl (None, 512)               0         \n",
            "_________________________________________________________________\n",
            "dropout (Dropout)            (None, 512)               0         \n",
            "_________________________________________________________________\n",
            "flatten (Flatten)            (None, 512)               0         \n",
            "_________________________________________________________________\n",
            "dense (Dense)                (None, 128)               65664     \n",
            "_________________________________________________________________\n",
            "dropout_1 (Dropout)          (None, 128)               0         \n",
            "_________________________________________________________________\n",
            "batch_normalization (BatchNo (None, 128)               512       \n",
            "_________________________________________________________________\n",
            "dense_1 (Dense)              (None, 64)                8256      \n",
            "=================================================================\n",
            "Total params: 74,432\n",
            "Trainable params: 74,176\n",
            "Non-trainable params: 256\n",
            "_________________________________________________________________\n"
          ],
          "name": "stdout"
        }
      ]
    },
    {
      "cell_type": "code",
      "metadata": {
        "colab": {
          "base_uri": "https://localhost:8080/"
        },
        "id": "L30VsCwHYTQj",
        "outputId": "3d9d82e0-8fe0-4ac6-80bb-41db88c73643"
      },
      "source": [
        "model.fit(training_set, epochs=60)"
      ],
      "execution_count": null,
      "outputs": [
        {
          "output_type": "stream",
          "text": [
            "Epoch 1/60\n",
            "97/97 [==============================] - 58s 585ms/step - loss: 4.1802 - accuracy: 0.0477\n",
            "Epoch 2/60\n",
            "97/97 [==============================] - 61s 622ms/step - loss: 3.4836 - accuracy: 0.1413\n",
            "Epoch 3/60\n",
            "97/97 [==============================] - 64s 651ms/step - loss: 3.1175 - accuracy: 0.1994\n",
            "Epoch 4/60\n",
            "97/97 [==============================] - 64s 655ms/step - loss: 2.8433 - accuracy: 0.2506\n",
            "Epoch 5/60\n",
            "97/97 [==============================] - 63s 640ms/step - loss: 2.6060 - accuracy: 0.2832\n",
            "Epoch 6/60\n",
            "97/97 [==============================] - 64s 658ms/step - loss: 2.4311 - accuracy: 0.3229\n",
            "Epoch 7/60\n",
            "97/97 [==============================] - 63s 643ms/step - loss: 2.2722 - accuracy: 0.3365\n",
            "Epoch 8/60\n",
            "97/97 [==============================] - 64s 658ms/step - loss: 2.1659 - accuracy: 0.3671\n",
            "Epoch 9/60\n",
            "97/97 [==============================] - 64s 656ms/step - loss: 2.0530 - accuracy: 0.3926\n",
            "Epoch 10/60\n",
            "97/97 [==============================] - 63s 640ms/step - loss: 1.9796 - accuracy: 0.4035\n",
            "Epoch 11/60\n",
            "97/97 [==============================] - 65s 658ms/step - loss: 1.9227 - accuracy: 0.4200\n",
            "Epoch 12/60\n",
            "97/97 [==============================] - 64s 653ms/step - loss: 1.8577 - accuracy: 0.4397\n",
            "Epoch 13/60\n",
            "97/97 [==============================] - 63s 641ms/step - loss: 1.8350 - accuracy: 0.4397\n",
            "Epoch 14/60\n",
            "97/97 [==============================] - 64s 657ms/step - loss: 1.7305 - accuracy: 0.4606\n",
            "Epoch 15/60\n",
            "97/97 [==============================] - 63s 640ms/step - loss: 1.7011 - accuracy: 0.4577\n",
            "Epoch 16/60\n",
            "97/97 [==============================] - 64s 654ms/step - loss: 1.6767 - accuracy: 0.4755\n",
            "Epoch 17/60\n",
            "97/97 [==============================] - 64s 651ms/step - loss: 1.6374 - accuracy: 0.4819\n",
            "Epoch 18/60\n",
            "97/97 [==============================] - 64s 652ms/step - loss: 1.6213 - accuracy: 0.4790\n",
            "Epoch 19/60\n",
            "97/97 [==============================] - 64s 653ms/step - loss: 1.6012 - accuracy: 0.4861\n",
            "Epoch 20/60\n",
            "97/97 [==============================] - 64s 649ms/step - loss: 1.5730 - accuracy: 0.4926\n",
            "Epoch 21/60\n",
            "97/97 [==============================] - 64s 652ms/step - loss: 1.5123 - accuracy: 0.5068\n",
            "Epoch 22/60\n",
            "97/97 [==============================] - 64s 653ms/step - loss: 1.5078 - accuracy: 0.5145\n",
            "Epoch 23/60\n",
            "97/97 [==============================] - 64s 652ms/step - loss: 1.4465 - accuracy: 0.5297\n",
            "Epoch 24/60\n",
            "97/97 [==============================] - 64s 652ms/step - loss: 1.4676 - accuracy: 0.5213\n",
            "Epoch 25/60\n",
            "97/97 [==============================] - 64s 653ms/step - loss: 1.4474 - accuracy: 0.5235\n",
            "Epoch 26/60\n",
            "97/97 [==============================] - 64s 652ms/step - loss: 1.4320 - accuracy: 0.5203\n",
            "Epoch 27/60\n",
            "97/97 [==============================] - 64s 651ms/step - loss: 1.4337 - accuracy: 0.5271\n",
            "Epoch 28/60\n",
            "97/97 [==============================] - 64s 652ms/step - loss: 1.4278 - accuracy: 0.5339\n",
            "Epoch 29/60\n",
            "97/97 [==============================] - 63s 638ms/step - loss: 1.3871 - accuracy: 0.5523\n",
            "Epoch 30/60\n",
            "97/97 [==============================] - 64s 654ms/step - loss: 1.3898 - accuracy: 0.5439\n",
            "Epoch 31/60\n",
            "97/97 [==============================] - 64s 654ms/step - loss: 1.4143 - accuracy: 0.5168\n",
            "Epoch 32/60\n",
            "97/97 [==============================] - 64s 653ms/step - loss: 1.3558 - accuracy: 0.5406\n",
            "Epoch 33/60\n",
            "97/97 [==============================] - 64s 654ms/step - loss: 1.3227 - accuracy: 0.5571\n",
            "Epoch 34/60\n",
            "97/97 [==============================] - 64s 653ms/step - loss: 1.3560 - accuracy: 0.5477\n",
            "Epoch 35/60\n",
            "97/97 [==============================] - 62s 630ms/step - loss: 1.3022 - accuracy: 0.5742\n",
            "Epoch 36/60\n",
            "97/97 [==============================] - 60s 613ms/step - loss: 1.3199 - accuracy: 0.5619\n",
            "Epoch 37/60\n",
            "97/97 [==============================] - 60s 609ms/step - loss: 1.2783 - accuracy: 0.5729\n",
            "Epoch 38/60\n",
            "97/97 [==============================] - 60s 608ms/step - loss: 1.2922 - accuracy: 0.5587\n",
            "Epoch 39/60\n",
            "97/97 [==============================] - 60s 614ms/step - loss: 1.2623 - accuracy: 0.5752\n",
            "Epoch 40/60\n",
            "97/97 [==============================] - 61s 621ms/step - loss: 1.2925 - accuracy: 0.5597\n",
            "Epoch 41/60\n",
            "97/97 [==============================] - 60s 609ms/step - loss: 1.2659 - accuracy: 0.5700\n",
            "Epoch 42/60\n",
            "97/97 [==============================] - 60s 608ms/step - loss: 1.2485 - accuracy: 0.5726\n",
            "Epoch 43/60\n",
            "97/97 [==============================] - 60s 608ms/step - loss: 1.2158 - accuracy: 0.5932\n",
            "Epoch 44/60\n",
            "97/97 [==============================] - 59s 606ms/step - loss: 1.2938 - accuracy: 0.5700\n",
            "Epoch 45/60\n",
            "97/97 [==============================] - 60s 613ms/step - loss: 1.2757 - accuracy: 0.5626\n",
            "Epoch 46/60\n",
            "97/97 [==============================] - 60s 609ms/step - loss: 1.2566 - accuracy: 0.5700\n",
            "Epoch 47/60\n",
            "97/97 [==============================] - 60s 606ms/step - loss: 1.2170 - accuracy: 0.5858\n",
            "Epoch 48/60\n",
            "97/97 [==============================] - 60s 606ms/step - loss: 1.2139 - accuracy: 0.5787\n",
            "Epoch 49/60\n",
            "97/97 [==============================] - 59s 605ms/step - loss: 1.2210 - accuracy: 0.5823\n",
            "Epoch 50/60\n",
            "97/97 [==============================] - 59s 603ms/step - loss: 1.1943 - accuracy: 0.5871\n",
            "Epoch 51/60\n",
            "97/97 [==============================] - 60s 611ms/step - loss: 1.2179 - accuracy: 0.5913\n",
            "Epoch 52/60\n",
            "97/97 [==============================] - 60s 616ms/step - loss: 1.2145 - accuracy: 0.5852\n",
            "Epoch 53/60\n",
            "97/97 [==============================] - 60s 610ms/step - loss: 1.1899 - accuracy: 0.5961\n",
            "Epoch 54/60\n",
            "97/97 [==============================] - 60s 607ms/step - loss: 1.1954 - accuracy: 0.5955\n",
            "Epoch 55/60\n",
            "97/97 [==============================] - 59s 606ms/step - loss: 1.2163 - accuracy: 0.5803\n",
            "Epoch 56/60\n",
            "97/97 [==============================] - 59s 605ms/step - loss: 1.1901 - accuracy: 0.5939\n",
            "Epoch 57/60\n",
            "97/97 [==============================] - 60s 612ms/step - loss: 1.1655 - accuracy: 0.5926\n",
            "Epoch 58/60\n",
            "97/97 [==============================] - 60s 609ms/step - loss: 1.1600 - accuracy: 0.5971\n",
            "Epoch 59/60\n",
            "97/97 [==============================] - 60s 608ms/step - loss: 1.1918 - accuracy: 0.5858\n",
            "Epoch 60/60\n",
            "97/97 [==============================] - 60s 606ms/step - loss: 1.1603 - accuracy: 0.5958\n"
          ],
          "name": "stdout"
        },
        {
          "output_type": "execute_result",
          "data": {
            "text/plain": [
              "<tensorflow.python.keras.callbacks.History at 0x7f78cc770650>"
            ]
          },
          "metadata": {
            "tags": []
          },
          "execution_count": 33
        }
      ]
    },
    {
      "cell_type": "code",
      "metadata": {
        "colab": {
          "base_uri": "https://localhost:8080/"
        },
        "id": "yusDuArWYTQk",
        "outputId": "5501e2bf-d68a-4d59-ecf3-b94b737ba3ff"
      },
      "source": [
        "model.evaluate(valid_set, verbose=1) #60"
      ],
      "execution_count": null,
      "outputs": [
        {
          "output_type": "stream",
          "text": [
            "26/26 [==============================] - 23s 563ms/step - loss: 1.1785 - accuracy: 0.5759\n"
          ],
          "name": "stdout"
        },
        {
          "output_type": "execute_result",
          "data": {
            "text/plain": [
              "[1.1785175800323486, 0.5759416818618774]"
            ]
          },
          "metadata": {
            "tags": []
          },
          "execution_count": 34
        }
      ]
    },
    {
      "cell_type": "code",
      "metadata": {
        "colab": {
          "base_uri": "https://localhost:8080/"
        },
        "id": "By8PqwnBYTQk",
        "outputId": "68c1e4dc-8f8f-4e29-cdc2-60ac5c316d37"
      },
      "source": [
        "model.fit(training_set, epochs=10)"
      ],
      "execution_count": null,
      "outputs": [
        {
          "output_type": "stream",
          "text": [
            "Epoch 1/10\n",
            "97/97 [==============================] - 60s 608ms/step - loss: 1.1226 - accuracy: 0.6065\n",
            "Epoch 2/10\n",
            "97/97 [==============================] - 60s 614ms/step - loss: 1.1586 - accuracy: 0.5929\n",
            "Epoch 3/10\n",
            "97/97 [==============================] - 60s 609ms/step - loss: 1.1777 - accuracy: 0.5971\n",
            "Epoch 4/10\n",
            "97/97 [==============================] - 60s 615ms/step - loss: 1.1888 - accuracy: 0.5919\n",
            "Epoch 5/10\n",
            "97/97 [==============================] - 60s 610ms/step - loss: 1.1769 - accuracy: 0.5910\n",
            "Epoch 6/10\n",
            "97/97 [==============================] - 60s 608ms/step - loss: 1.1620 - accuracy: 0.5965\n",
            "Epoch 7/10\n",
            "97/97 [==============================] - 60s 606ms/step - loss: 1.1361 - accuracy: 0.6026\n",
            "Epoch 8/10\n",
            "97/97 [==============================] - 59s 605ms/step - loss: 1.1452 - accuracy: 0.6065\n",
            "Epoch 9/10\n",
            "97/97 [==============================] - 60s 608ms/step - loss: 1.1485 - accuracy: 0.6184\n",
            "Epoch 10/10\n",
            "97/97 [==============================] - 59s 606ms/step - loss: 1.1505 - accuracy: 0.6077\n"
          ],
          "name": "stdout"
        },
        {
          "output_type": "execute_result",
          "data": {
            "text/plain": [
              "<tensorflow.python.keras.callbacks.History at 0x7f78b9e5a2d0>"
            ]
          },
          "metadata": {
            "tags": []
          },
          "execution_count": 35
        }
      ]
    },
    {
      "cell_type": "code",
      "metadata": {
        "colab": {
          "base_uri": "https://localhost:8080/"
        },
        "id": "x2wwLB7EYTQl",
        "outputId": "0e84ead3-1b41-445b-955d-9ebe3f01bd28"
      },
      "source": [
        "model.evaluate(valid_set, verbose=1) #70"
      ],
      "execution_count": null,
      "outputs": [
        {
          "output_type": "stream",
          "text": [
            "26/26 [==============================] - 23s 561ms/step - loss: 1.2092 - accuracy: 0.5687\n"
          ],
          "name": "stdout"
        },
        {
          "output_type": "execute_result",
          "data": {
            "text/plain": [
              "[1.20916748046875, 0.5686512589454651]"
            ]
          },
          "metadata": {
            "tags": []
          },
          "execution_count": 36
        }
      ]
    },
    {
      "cell_type": "code",
      "metadata": {
        "colab": {
          "base_uri": "https://localhost:8080/"
        },
        "id": "20_F-2JgYTQl",
        "outputId": "2e4cd704-ecf7-4129-da04-d5fe65478747"
      },
      "source": [
        "model.fit(training_set, epochs=10)"
      ],
      "execution_count": null,
      "outputs": [
        {
          "output_type": "stream",
          "text": [
            "Epoch 1/10\n",
            "97/97 [==============================] - 59s 606ms/step - loss: 1.1724 - accuracy: 0.5948\n",
            "Epoch 2/10\n",
            "97/97 [==============================] - 59s 605ms/step - loss: 1.1292 - accuracy: 0.6058\n",
            "Epoch 3/10\n",
            "97/97 [==============================] - 59s 604ms/step - loss: 1.1752 - accuracy: 0.5984\n",
            "Epoch 4/10\n",
            "97/97 [==============================] - 59s 604ms/step - loss: 1.1414 - accuracy: 0.6000\n",
            "Epoch 5/10\n",
            "97/97 [==============================] - 59s 604ms/step - loss: 1.1297 - accuracy: 0.6081\n",
            "Epoch 6/10\n",
            "97/97 [==============================] - 59s 605ms/step - loss: 1.0904 - accuracy: 0.6229\n",
            "Epoch 7/10\n",
            "97/97 [==============================] - 59s 605ms/step - loss: 1.0984 - accuracy: 0.6187\n",
            "Epoch 8/10\n",
            "97/97 [==============================] - 60s 611ms/step - loss: 1.0679 - accuracy: 0.6252\n",
            "Epoch 9/10\n",
            "97/97 [==============================] - 60s 608ms/step - loss: 1.1057 - accuracy: 0.6197\n",
            "Epoch 10/10\n",
            "97/97 [==============================] - 60s 608ms/step - loss: 1.0903 - accuracy: 0.6190\n"
          ],
          "name": "stdout"
        },
        {
          "output_type": "execute_result",
          "data": {
            "text/plain": [
              "<tensorflow.python.keras.callbacks.History at 0x7f78b9de2c10>"
            ]
          },
          "metadata": {
            "tags": []
          },
          "execution_count": 37
        }
      ]
    },
    {
      "cell_type": "code",
      "metadata": {
        "colab": {
          "base_uri": "https://localhost:8080/"
        },
        "id": "81qn7LT4YTQl",
        "outputId": "f18a9aec-1732-4bc6-cfa7-6d36d1cd9a4f"
      },
      "source": [
        "model.evaluate(valid_set, verbose=1) #80"
      ],
      "execution_count": null,
      "outputs": [
        {
          "output_type": "stream",
          "text": [
            "26/26 [==============================] - 23s 572ms/step - loss: 1.1415 - accuracy: 0.5881\n"
          ],
          "name": "stdout"
        },
        {
          "output_type": "execute_result",
          "data": {
            "text/plain": [
              "[1.141545057296753, 0.5880923271179199]"
            ]
          },
          "metadata": {
            "tags": []
          },
          "execution_count": 38
        }
      ]
    },
    {
      "cell_type": "code",
      "metadata": {
        "colab": {
          "base_uri": "https://localhost:8080/"
        },
        "id": "KlN0sbHdYTQm",
        "outputId": "f1006c87-11e2-428d-94b6-4ccf65a9c7d5"
      },
      "source": [
        "model.fit(training_set, epochs=10)"
      ],
      "execution_count": null,
      "outputs": [
        {
          "output_type": "stream",
          "text": [
            "Epoch 1/10\n",
            "97/97 [==============================] - 60s 607ms/step - loss: 1.0704 - accuracy: 0.6261\n",
            "Epoch 2/10\n",
            "97/97 [==============================] - 60s 607ms/step - loss: 1.1191 - accuracy: 0.6068\n",
            "Epoch 3/10\n",
            "97/97 [==============================] - 60s 613ms/step - loss: 1.0844 - accuracy: 0.6274\n",
            "Epoch 4/10\n",
            "97/97 [==============================] - 60s 611ms/step - loss: 1.0822 - accuracy: 0.6168\n",
            "Epoch 5/10\n",
            "97/97 [==============================] - 60s 609ms/step - loss: 1.0956 - accuracy: 0.6158\n",
            "Epoch 6/10\n",
            "97/97 [==============================] - 60s 614ms/step - loss: 1.1242 - accuracy: 0.6184\n",
            "Epoch 7/10\n",
            "97/97 [==============================] - 60s 613ms/step - loss: 1.0831 - accuracy: 0.6203\n",
            "Epoch 8/10\n",
            "97/97 [==============================] - 60s 611ms/step - loss: 1.0960 - accuracy: 0.6203\n",
            "Epoch 9/10\n",
            "97/97 [==============================] - 60s 616ms/step - loss: 1.0612 - accuracy: 0.6248\n",
            "Epoch 10/10\n",
            "97/97 [==============================] - 60s 613ms/step - loss: 1.1343 - accuracy: 0.6084\n"
          ],
          "name": "stdout"
        },
        {
          "output_type": "execute_result",
          "data": {
            "text/plain": [
              "<tensorflow.python.keras.callbacks.History at 0x7f78b9de7f10>"
            ]
          },
          "metadata": {
            "tags": []
          },
          "execution_count": 39
        }
      ]
    },
    {
      "cell_type": "code",
      "metadata": {
        "colab": {
          "base_uri": "https://localhost:8080/"
        },
        "id": "m1A_tr-pYTQm",
        "outputId": "d10e0c37-aacf-4bcf-dc15-1e3aa2111b16"
      },
      "source": [
        "model.evaluate(valid_set, verbose=1) #90"
      ],
      "execution_count": null,
      "outputs": [
        {
          "output_type": "stream",
          "text": [
            "26/26 [==============================] - 23s 567ms/step - loss: 1.1658 - accuracy: 0.5820\n"
          ],
          "name": "stdout"
        },
        {
          "output_type": "execute_result",
          "data": {
            "text/plain": [
              "[1.1657918691635132, 0.5820170044898987]"
            ]
          },
          "metadata": {
            "tags": []
          },
          "execution_count": 40
        }
      ]
    },
    {
      "cell_type": "code",
      "metadata": {
        "colab": {
          "base_uri": "https://localhost:8080/"
        },
        "id": "-LebrPOMYTQm",
        "outputId": "154518e1-b9aa-4dba-87db-99d5d3c0855d"
      },
      "source": [
        "model.fit(training_set, epochs=10)"
      ],
      "execution_count": 17,
      "outputs": [
        {
          "output_type": "stream",
          "text": [
            "Epoch 1/10\n",
            "97/97 [==============================] - 61s 623ms/step - loss: 1.0934 - accuracy: 0.6245\n",
            "Epoch 2/10\n",
            "97/97 [==============================] - 59s 607ms/step - loss: 1.1083 - accuracy: 0.6045\n",
            "Epoch 3/10\n",
            "97/97 [==============================] - 61s 622ms/step - loss: 1.0884 - accuracy: 0.6294\n",
            "Epoch 4/10\n",
            "97/97 [==============================] - 60s 608ms/step - loss: 1.0667 - accuracy: 0.6248\n",
            "Epoch 5/10\n",
            "97/97 [==============================] - 61s 622ms/step - loss: 1.0718 - accuracy: 0.6245\n",
            "Epoch 6/10\n",
            "97/97 [==============================] - 60s 612ms/step - loss: 1.0594 - accuracy: 0.6206\n",
            "Epoch 7/10\n",
            "97/97 [==============================] - 60s 612ms/step - loss: 1.0427 - accuracy: 0.6368\n",
            "Epoch 8/10\n",
            "97/97 [==============================] - 61s 621ms/step - loss: 1.0639 - accuracy: 0.6210\n",
            "Epoch 9/10\n",
            "97/97 [==============================] - 61s 618ms/step - loss: 1.0790 - accuracy: 0.6139\n",
            "Epoch 10/10\n",
            "97/97 [==============================] - 61s 620ms/step - loss: 1.1128 - accuracy: 0.6145\n"
          ],
          "name": "stdout"
        },
        {
          "output_type": "execute_result",
          "data": {
            "text/plain": [
              "<tensorflow.python.keras.callbacks.History at 0x7f9612377110>"
            ]
          },
          "metadata": {
            "tags": []
          },
          "execution_count": 17
        }
      ]
    },
    {
      "cell_type": "code",
      "metadata": {
        "id": "aHLMulFMYTQn",
        "colab": {
          "base_uri": "https://localhost:8080/"
        },
        "outputId": "eac524ac-88fa-44a2-96fd-c4f69cfb52cd"
      },
      "source": [
        "model.evaluate(valid_set, verbose=1) #100"
      ],
      "execution_count": 18,
      "outputs": [
        {
          "output_type": "stream",
          "text": [
            "26/26 [==============================] - 209s 4s/step - loss: 1.1471 - accuracy: 0.6015\n"
          ],
          "name": "stdout"
        },
        {
          "output_type": "execute_result",
          "data": {
            "text/plain": [
              "[1.147148609161377, 0.6014580726623535]"
            ]
          },
          "metadata": {
            "tags": []
          },
          "execution_count": 18
        }
      ]
    },
    {
      "cell_type": "code",
      "metadata": {
        "id": "S6ISwwghYTQn",
        "colab": {
          "base_uri": "https://localhost:8080/"
        },
        "outputId": "71f48dbf-f6d8-458e-844e-372a6b8aaf91"
      },
      "source": [
        "model.fit(training_set, epochs=10)"
      ],
      "execution_count": 19,
      "outputs": [
        {
          "output_type": "stream",
          "text": [
            "Epoch 1/10\n",
            "97/97 [==============================] - 61s 627ms/step - loss: 1.0404 - accuracy: 0.6277\n",
            "Epoch 2/10\n",
            "97/97 [==============================] - 60s 610ms/step - loss: 1.0594 - accuracy: 0.6271\n",
            "Epoch 3/10\n",
            "97/97 [==============================] - 61s 626ms/step - loss: 1.0705 - accuracy: 0.6274\n",
            "Epoch 4/10\n",
            "97/97 [==============================] - 61s 622ms/step - loss: 1.0377 - accuracy: 0.6416\n",
            "Epoch 5/10\n",
            "97/97 [==============================] - 60s 611ms/step - loss: 1.0765 - accuracy: 0.6258\n",
            "Epoch 6/10\n",
            "97/97 [==============================] - 60s 615ms/step - loss: 1.0514 - accuracy: 0.6190\n",
            "Epoch 7/10\n",
            "97/97 [==============================] - 60s 615ms/step - loss: 0.9936 - accuracy: 0.6523\n",
            "Epoch 8/10\n",
            "97/97 [==============================] - 61s 623ms/step - loss: 1.0193 - accuracy: 0.6387\n",
            "Epoch 9/10\n",
            "97/97 [==============================] - 60s 610ms/step - loss: 1.0157 - accuracy: 0.6452\n",
            "Epoch 10/10\n",
            "97/97 [==============================] - 61s 624ms/step - loss: 1.0777 - accuracy: 0.6281\n"
          ],
          "name": "stdout"
        },
        {
          "output_type": "execute_result",
          "data": {
            "text/plain": [
              "<tensorflow.python.keras.callbacks.History at 0x7f9612377150>"
            ]
          },
          "metadata": {
            "tags": []
          },
          "execution_count": 19
        }
      ]
    },
    {
      "cell_type": "code",
      "metadata": {
        "id": "cssA9TyzYTQo",
        "colab": {
          "base_uri": "https://localhost:8080/"
        },
        "outputId": "79a0c800-6ab0-4096-94f6-48593202a9da"
      },
      "source": [
        "model.evaluate(valid_set, verbose=1) #110"
      ],
      "execution_count": 20,
      "outputs": [
        {
          "output_type": "stream",
          "text": [
            "26/26 [==============================] - 23s 587ms/step - loss: 1.2127 - accuracy: 0.6015\n"
          ],
          "name": "stdout"
        },
        {
          "output_type": "execute_result",
          "data": {
            "text/plain": [
              "[1.2127381563186646, 0.6014580726623535]"
            ]
          },
          "metadata": {
            "tags": []
          },
          "execution_count": 20
        }
      ]
    },
    {
      "cell_type": "code",
      "metadata": {
        "colab": {
          "base_uri": "https://localhost:8080/"
        },
        "id": "AOdyook45Klw",
        "outputId": "4cf2b5a6-ef61-4db3-aab1-1ad24f22a90a"
      },
      "source": [
        "model.fit(training_set, epochs=10)"
      ],
      "execution_count": 21,
      "outputs": [
        {
          "output_type": "stream",
          "text": [
            "Epoch 1/10\n",
            "97/97 [==============================] - 61s 622ms/step - loss: 1.0577 - accuracy: 0.6235\n",
            "Epoch 2/10\n",
            "97/97 [==============================] - 60s 616ms/step - loss: 1.0439 - accuracy: 0.6332\n",
            "Epoch 3/10\n",
            "97/97 [==============================] - 62s 629ms/step - loss: 1.0585 - accuracy: 0.6206\n",
            "Epoch 4/10\n",
            "97/97 [==============================] - 62s 629ms/step - loss: 1.0308 - accuracy: 0.6310\n",
            "Epoch 5/10\n",
            "97/97 [==============================] - 62s 628ms/step - loss: 1.0187 - accuracy: 0.6494\n",
            "Epoch 6/10\n",
            "97/97 [==============================] - 61s 624ms/step - loss: 1.0132 - accuracy: 0.6342\n",
            "Epoch 7/10\n",
            "97/97 [==============================] - 60s 613ms/step - loss: 1.0464 - accuracy: 0.6342\n",
            "Epoch 8/10\n",
            "97/97 [==============================] - 60s 616ms/step - loss: 1.0389 - accuracy: 0.6348\n",
            "Epoch 9/10\n",
            "97/97 [==============================] - 61s 624ms/step - loss: 1.0289 - accuracy: 0.6365\n",
            "Epoch 10/10\n",
            "97/97 [==============================] - 61s 623ms/step - loss: 1.0259 - accuracy: 0.6358\n"
          ],
          "name": "stdout"
        },
        {
          "output_type": "execute_result",
          "data": {
            "text/plain": [
              "<tensorflow.python.keras.callbacks.History at 0x7f96122f0e50>"
            ]
          },
          "metadata": {
            "tags": []
          },
          "execution_count": 21
        }
      ]
    },
    {
      "cell_type": "code",
      "metadata": {
        "colab": {
          "base_uri": "https://localhost:8080/"
        },
        "id": "WYEPMPV35MY6",
        "outputId": "7ef3e516-f716-4fec-d3e4-8578935bf790"
      },
      "source": [
        "model.evaluate(valid_set, verbose=1) #120"
      ],
      "execution_count": 22,
      "outputs": [
        {
          "output_type": "stream",
          "text": [
            "26/26 [==============================] - 24s 608ms/step - loss: 1.1569 - accuracy: 0.6173\n"
          ],
          "name": "stdout"
        },
        {
          "output_type": "execute_result",
          "data": {
            "text/plain": [
              "[1.1569312810897827, 0.6172539591789246]"
            ]
          },
          "metadata": {
            "tags": []
          },
          "execution_count": 22
        }
      ]
    },
    {
      "cell_type": "code",
      "metadata": {
        "colab": {
          "base_uri": "https://localhost:8080/"
        },
        "id": "Y4Ts_zFl8zTN",
        "outputId": "9a592622-338e-488d-a7fa-e09b1ee7de0a"
      },
      "source": [
        "model.fit(training_set, epochs=10)"
      ],
      "execution_count": 23,
      "outputs": [
        {
          "output_type": "stream",
          "text": [
            "Epoch 1/10\n",
            "97/97 [==============================] - 61s 622ms/step - loss: 1.0217 - accuracy: 0.6410\n",
            "Epoch 2/10\n",
            "97/97 [==============================] - 61s 623ms/step - loss: 1.0234 - accuracy: 0.6374\n",
            "Epoch 3/10\n",
            "97/97 [==============================] - 61s 626ms/step - loss: 1.0186 - accuracy: 0.6400\n",
            "Epoch 4/10\n",
            "97/97 [==============================] - 61s 622ms/step - loss: 1.0220 - accuracy: 0.6432\n",
            "Epoch 5/10\n",
            "97/97 [==============================] - 61s 621ms/step - loss: 1.0335 - accuracy: 0.6348\n",
            "Epoch 6/10\n",
            "97/97 [==============================] - 61s 625ms/step - loss: 1.0158 - accuracy: 0.6358\n",
            "Epoch 7/10\n",
            "97/97 [==============================] - 61s 625ms/step - loss: 1.0046 - accuracy: 0.6384\n",
            "Epoch 8/10\n",
            "97/97 [==============================] - 61s 625ms/step - loss: 1.0060 - accuracy: 0.6384\n",
            "Epoch 9/10\n",
            "97/97 [==============================] - 61s 626ms/step - loss: 0.9592 - accuracy: 0.6626\n",
            "Epoch 10/10\n",
            "97/97 [==============================] - 61s 623ms/step - loss: 1.0452 - accuracy: 0.6284\n"
          ],
          "name": "stdout"
        },
        {
          "output_type": "execute_result",
          "data": {
            "text/plain": [
              "<tensorflow.python.keras.callbacks.History at 0x7f96122f0610>"
            ]
          },
          "metadata": {
            "tags": []
          },
          "execution_count": 23
        }
      ]
    },
    {
      "cell_type": "code",
      "metadata": {
        "colab": {
          "base_uri": "https://localhost:8080/"
        },
        "id": "hU2tFz8K80ot",
        "outputId": "bba0e4b4-a946-4c85-baac-90c9fb5280a8"
      },
      "source": [
        "model.evaluate(valid_set, verbose=1) #130"
      ],
      "execution_count": 24,
      "outputs": [
        {
          "output_type": "stream",
          "text": [
            "26/26 [==============================] - 23s 593ms/step - loss: 1.1954 - accuracy: 0.5978\n"
          ],
          "name": "stdout"
        },
        {
          "output_type": "execute_result",
          "data": {
            "text/plain": [
              "[1.195421814918518, 0.5978128910064697]"
            ]
          },
          "metadata": {
            "tags": []
          },
          "execution_count": 24
        }
      ]
    },
    {
      "cell_type": "code",
      "metadata": {
        "colab": {
          "base_uri": "https://localhost:8080/"
        },
        "id": "A1YulJ4HAsqq",
        "outputId": "6a0ffcd4-be06-4fa8-ec84-5345646069ee"
      },
      "source": [
        "model.fit(training_set, epochs=10)"
      ],
      "execution_count": 27,
      "outputs": [
        {
          "output_type": "stream",
          "text": [
            "Epoch 1/10\n",
            "97/97 [==============================] - 61s 622ms/step - loss: 1.0312 - accuracy: 0.6261\n",
            "Epoch 2/10\n",
            "97/97 [==============================] - 61s 625ms/step - loss: 0.9899 - accuracy: 0.6526\n",
            "Epoch 3/10\n",
            "97/97 [==============================] - 61s 624ms/step - loss: 1.0200 - accuracy: 0.6319\n",
            "Epoch 4/10\n",
            "97/97 [==============================] - 61s 623ms/step - loss: 1.0061 - accuracy: 0.6423\n",
            "Epoch 5/10\n",
            "97/97 [==============================] - 61s 623ms/step - loss: 1.0194 - accuracy: 0.6429\n",
            "Epoch 6/10\n",
            "97/97 [==============================] - 60s 609ms/step - loss: 1.0397 - accuracy: 0.6323\n",
            "Epoch 7/10\n",
            "97/97 [==============================] - 61s 625ms/step - loss: 1.0176 - accuracy: 0.6400\n",
            "Epoch 8/10\n",
            "97/97 [==============================] - 61s 623ms/step - loss: 1.0223 - accuracy: 0.6300\n",
            "Epoch 9/10\n",
            "97/97 [==============================] - 60s 610ms/step - loss: 1.0086 - accuracy: 0.6390\n",
            "Epoch 10/10\n",
            "97/97 [==============================] - 61s 626ms/step - loss: 0.9981 - accuracy: 0.6481\n"
          ],
          "name": "stdout"
        },
        {
          "output_type": "execute_result",
          "data": {
            "text/plain": [
              "<tensorflow.python.keras.callbacks.History at 0x7f9612302790>"
            ]
          },
          "metadata": {
            "tags": []
          },
          "execution_count": 27
        }
      ]
    },
    {
      "cell_type": "code",
      "metadata": {
        "colab": {
          "base_uri": "https://localhost:8080/"
        },
        "id": "XclXgwT6CQRU",
        "outputId": "51dddf67-3f4d-49b2-a940-1e8c32cd355b"
      },
      "source": [
        "model.evaluate(valid_set, verbose=1) #140"
      ],
      "execution_count": 28,
      "outputs": [
        {
          "output_type": "stream",
          "text": [
            "26/26 [==============================] - 23s 588ms/step - loss: 1.1591 - accuracy: 0.6245\n"
          ],
          "name": "stdout"
        },
        {
          "output_type": "execute_result",
          "data": {
            "text/plain": [
              "[1.1591356992721558, 0.6245443224906921]"
            ]
          },
          "metadata": {
            "tags": []
          },
          "execution_count": 28
        }
      ]
    },
    {
      "cell_type": "code",
      "metadata": {
        "colab": {
          "base_uri": "https://localhost:8080/"
        },
        "id": "5V4QICPlEfih",
        "outputId": "b33bc412-afbe-45a8-c37f-2cb2f0c39737"
      },
      "source": [
        "model.fit(training_set, epochs=10)"
      ],
      "execution_count": 31,
      "outputs": [
        {
          "output_type": "stream",
          "text": [
            "Epoch 1/10\n",
            "97/97 [==============================] - 61s 626ms/step - loss: 1.0066 - accuracy: 0.6423\n",
            "Epoch 2/10\n",
            "97/97 [==============================] - 61s 623ms/step - loss: 1.0178 - accuracy: 0.6400\n",
            "Epoch 3/10\n",
            "97/97 [==============================] - 61s 622ms/step - loss: 1.0321 - accuracy: 0.6426\n",
            "Epoch 4/10\n",
            "97/97 [==============================] - 61s 624ms/step - loss: 0.9907 - accuracy: 0.6423\n",
            "Epoch 5/10\n",
            "97/97 [==============================] - 60s 610ms/step - loss: 0.9937 - accuracy: 0.6448\n",
            "Epoch 6/10\n",
            "97/97 [==============================] - 60s 615ms/step - loss: 1.0253 - accuracy: 0.6413\n",
            "Epoch 7/10\n",
            "97/97 [==============================] - 61s 624ms/step - loss: 1.0140 - accuracy: 0.6384\n",
            "Epoch 8/10\n",
            "97/97 [==============================] - 61s 624ms/step - loss: 0.9645 - accuracy: 0.6497\n",
            "Epoch 9/10\n",
            "97/97 [==============================] - 61s 622ms/step - loss: 0.9826 - accuracy: 0.6494\n",
            "Epoch 10/10\n",
            "97/97 [==============================] - 61s 622ms/step - loss: 0.9429 - accuracy: 0.6606\n"
          ],
          "name": "stdout"
        },
        {
          "output_type": "execute_result",
          "data": {
            "text/plain": [
              "<tensorflow.python.keras.callbacks.History at 0x7f962403f9d0>"
            ]
          },
          "metadata": {
            "tags": []
          },
          "execution_count": 31
        }
      ]
    },
    {
      "cell_type": "code",
      "metadata": {
        "colab": {
          "base_uri": "https://localhost:8080/"
        },
        "id": "t-MWIR4FEhR6",
        "outputId": "ceba8b6c-1580-439d-ec77-bbf42e8d9ff8"
      },
      "source": [
        "model.evaluate(valid_set, verbose=1) #150 "
      ],
      "execution_count": 32,
      "outputs": [
        {
          "output_type": "stream",
          "text": [
            "26/26 [==============================] - 23s 572ms/step - loss: 1.1326 - accuracy: 0.6185\n"
          ],
          "name": "stdout"
        },
        {
          "output_type": "execute_result",
          "data": {
            "text/plain": [
              "[1.1325528621673584, 0.6184689998626709]"
            ]
          },
          "metadata": {
            "tags": []
          },
          "execution_count": 32
        }
      ]
    },
    {
      "cell_type": "code",
      "metadata": {
        "colab": {
          "base_uri": "https://localhost:8080/"
        },
        "id": "xhPlTPt3HPP-",
        "outputId": "1b42f7ba-4e89-4a41-9866-abea340af2df"
      },
      "source": [
        "model.fit(training_set, epochs=10)"
      ],
      "execution_count": 33,
      "outputs": [
        {
          "output_type": "stream",
          "text": [
            "Epoch 1/10\n",
            "97/97 [==============================] - 61s 623ms/step - loss: 1.0061 - accuracy: 0.6403\n",
            "Epoch 2/10\n",
            "97/97 [==============================] - 60s 614ms/step - loss: 0.9705 - accuracy: 0.6590\n",
            "Epoch 3/10\n",
            "97/97 [==============================] - 61s 623ms/step - loss: 0.9666 - accuracy: 0.6497\n",
            "Epoch 4/10\n",
            "97/97 [==============================] - 60s 610ms/step - loss: 0.9532 - accuracy: 0.6652\n",
            "Epoch 5/10\n",
            "97/97 [==============================] - 61s 625ms/step - loss: 0.9702 - accuracy: 0.6581\n",
            "Epoch 6/10\n",
            "97/97 [==============================] - 61s 622ms/step - loss: 0.9783 - accuracy: 0.6574\n",
            "Epoch 7/10\n",
            "97/97 [==============================] - 60s 608ms/step - loss: 0.9711 - accuracy: 0.6529\n",
            "Epoch 8/10\n",
            "97/97 [==============================] - 61s 626ms/step - loss: 0.9372 - accuracy: 0.6642\n",
            "Epoch 9/10\n",
            "97/97 [==============================] - 61s 621ms/step - loss: 0.9700 - accuracy: 0.6555\n",
            "Epoch 10/10\n",
            "97/97 [==============================] - 61s 623ms/step - loss: 0.9686 - accuracy: 0.6532\n"
          ],
          "name": "stdout"
        },
        {
          "output_type": "execute_result",
          "data": {
            "text/plain": [
              "<tensorflow.python.keras.callbacks.History at 0x7f96122f0850>"
            ]
          },
          "metadata": {
            "tags": []
          },
          "execution_count": 33
        }
      ]
    },
    {
      "cell_type": "code",
      "metadata": {
        "colab": {
          "base_uri": "https://localhost:8080/"
        },
        "id": "g-wXBL4TKl5j",
        "outputId": "5399f122-400b-45a1-ba7d-d20a9b678ef5"
      },
      "source": [
        "model.evaluate(valid_set, verbose=1) #160"
      ],
      "execution_count": 34,
      "outputs": [
        {
          "output_type": "stream",
          "text": [
            "26/26 [==============================] - 23s 581ms/step - loss: 1.1017 - accuracy: 0.6330\n"
          ],
          "name": "stdout"
        },
        {
          "output_type": "execute_result",
          "data": {
            "text/plain": [
              "[1.1016980409622192, 0.6330498456954956]"
            ]
          },
          "metadata": {
            "tags": []
          },
          "execution_count": 34
        }
      ]
    },
    {
      "cell_type": "code",
      "metadata": {
        "colab": {
          "base_uri": "https://localhost:8080/"
        },
        "id": "rP_XMkzmK1CF",
        "outputId": "feffffb0-e8ab-454f-9514-77c42b449944"
      },
      "source": [
        "model.fit(training_set, epochs=10)"
      ],
      "execution_count": 37,
      "outputs": [
        {
          "output_type": "stream",
          "text": [
            "Epoch 1/10\n",
            "97/97 [==============================] - 61s 623ms/step - loss: 0.9562 - accuracy: 0.6458\n",
            "Epoch 2/10\n",
            "97/97 [==============================] - 61s 621ms/step - loss: 1.0023 - accuracy: 0.6471\n",
            "Epoch 3/10\n",
            "97/97 [==============================] - 60s 611ms/step - loss: 0.9261 - accuracy: 0.6648\n",
            "Epoch 4/10\n",
            "97/97 [==============================] - 60s 614ms/step - loss: 0.9480 - accuracy: 0.6587\n",
            "Epoch 5/10\n",
            "97/97 [==============================] - 62s 629ms/step - loss: 0.9745 - accuracy: 0.6523\n",
            "Epoch 6/10\n",
            "97/97 [==============================] - 60s 613ms/step - loss: 0.9613 - accuracy: 0.6568\n",
            "Epoch 7/10\n",
            "97/97 [==============================] - 60s 612ms/step - loss: 0.9335 - accuracy: 0.6768\n",
            "Epoch 8/10\n",
            "97/97 [==============================] - 60s 615ms/step - loss: 0.9406 - accuracy: 0.6632\n",
            "Epoch 9/10\n",
            "97/97 [==============================] - 61s 625ms/step - loss: 0.9632 - accuracy: 0.6561\n",
            "Epoch 10/10\n",
            "97/97 [==============================] - 61s 624ms/step - loss: 0.9651 - accuracy: 0.6642\n"
          ],
          "name": "stdout"
        },
        {
          "output_type": "execute_result",
          "data": {
            "text/plain": [
              "<tensorflow.python.keras.callbacks.History at 0x7f96122dde90>"
            ]
          },
          "metadata": {
            "tags": []
          },
          "execution_count": 37
        }
      ]
    },
    {
      "cell_type": "code",
      "metadata": {
        "colab": {
          "base_uri": "https://localhost:8080/"
        },
        "id": "bmELKXNuN4wc",
        "outputId": "0bdb1470-d11a-4ff4-8363-3a5039f237e0"
      },
      "source": [
        "model.evaluate(valid_set, verbose=1) #170"
      ],
      "execution_count": 38,
      "outputs": [
        {
          "output_type": "stream",
          "text": [
            "26/26 [==============================] - 24s 606ms/step - loss: 1.0601 - accuracy: 0.6209\n"
          ],
          "name": "stdout"
        },
        {
          "output_type": "execute_result",
          "data": {
            "text/plain": [
              "[1.0600800514221191, 0.6208991408348083]"
            ]
          },
          "metadata": {
            "tags": []
          },
          "execution_count": 38
        }
      ]
    },
    {
      "cell_type": "code",
      "metadata": {
        "colab": {
          "base_uri": "https://localhost:8080/"
        },
        "id": "JodbRzVTOTC6",
        "outputId": "1b4d22ee-98de-43de-f3ec-516c83250a69"
      },
      "source": [
        "model.fit(training_set, epochs=10)"
      ],
      "execution_count": 41,
      "outputs": [
        {
          "output_type": "stream",
          "text": [
            "Epoch 1/10\n",
            "97/97 [==============================] - 61s 627ms/step - loss: 0.9185 - accuracy: 0.6590\n",
            "Epoch 2/10\n",
            "97/97 [==============================] - 61s 623ms/step - loss: 0.9511 - accuracy: 0.6613\n",
            "Epoch 3/10\n",
            "97/97 [==============================] - 61s 622ms/step - loss: 0.9628 - accuracy: 0.6516\n",
            "Epoch 4/10\n",
            "97/97 [==============================] - 60s 609ms/step - loss: 0.9738 - accuracy: 0.6671\n",
            "Epoch 5/10\n",
            "97/97 [==============================] - 61s 624ms/step - loss: 0.9531 - accuracy: 0.6587\n",
            "Epoch 6/10\n",
            "97/97 [==============================] - 61s 623ms/step - loss: 0.9343 - accuracy: 0.6574\n",
            "Epoch 7/10\n",
            "97/97 [==============================] - 61s 621ms/step - loss: 0.9770 - accuracy: 0.6497\n",
            "Epoch 8/10\n",
            "97/97 [==============================] - 61s 622ms/step - loss: 0.9285 - accuracy: 0.6500\n",
            "Epoch 9/10\n",
            "97/97 [==============================] - 60s 610ms/step - loss: 0.9413 - accuracy: 0.6565\n",
            "Epoch 10/10\n",
            "97/97 [==============================] - 60s 614ms/step - loss: 0.9548 - accuracy: 0.6597\n"
          ],
          "name": "stdout"
        },
        {
          "output_type": "execute_result",
          "data": {
            "text/plain": [
              "<tensorflow.python.keras.callbacks.History at 0x7f9612267950>"
            ]
          },
          "metadata": {
            "tags": []
          },
          "execution_count": 41
        }
      ]
    },
    {
      "cell_type": "code",
      "metadata": {
        "colab": {
          "base_uri": "https://localhost:8080/"
        },
        "id": "8dG7VV4CRP-I",
        "outputId": "858baf8d-5b8a-4933-add5-eeed89d3ac62"
      },
      "source": [
        "model.evaluate(valid_set, verbose=1) #180"
      ],
      "execution_count": 42,
      "outputs": [
        {
          "output_type": "stream",
          "text": [
            "26/26 [==============================] - 23s 588ms/step - loss: 1.1084 - accuracy: 0.6136\n"
          ],
          "name": "stdout"
        },
        {
          "output_type": "execute_result",
          "data": {
            "text/plain": [
              "[1.1083630323410034, 0.6136087775230408]"
            ]
          },
          "metadata": {
            "tags": []
          },
          "execution_count": 42
        }
      ]
    },
    {
      "cell_type": "code",
      "metadata": {
        "colab": {
          "base_uri": "https://localhost:8080/"
        },
        "id": "TOlE70YORe8l",
        "outputId": "f14df816-c641-4f10-aba7-cda9de040edc"
      },
      "source": [
        "model.fit(training_set, epochs=10)"
      ],
      "execution_count": 43,
      "outputs": [
        {
          "output_type": "stream",
          "text": [
            "Epoch 1/10\n",
            "97/97 [==============================] - 61s 624ms/step - loss: 0.9490 - accuracy: 0.6577\n",
            "Epoch 2/10\n",
            "97/97 [==============================] - 61s 622ms/step - loss: 0.9245 - accuracy: 0.6577\n",
            "Epoch 3/10\n",
            "97/97 [==============================] - 60s 611ms/step - loss: 0.9550 - accuracy: 0.6587\n",
            "Epoch 4/10\n",
            "97/97 [==============================] - 61s 626ms/step - loss: 0.9680 - accuracy: 0.6571\n",
            "Epoch 5/10\n",
            "97/97 [==============================] - 61s 625ms/step - loss: 0.9288 - accuracy: 0.6703\n",
            "Epoch 6/10\n",
            "97/97 [==============================] - 60s 611ms/step - loss: 0.9377 - accuracy: 0.6623\n",
            "Epoch 7/10\n",
            "97/97 [==============================] - 61s 624ms/step - loss: 0.9421 - accuracy: 0.6619\n",
            "Epoch 8/10\n",
            "97/97 [==============================] - 61s 621ms/step - loss: 0.9417 - accuracy: 0.6745\n",
            "Epoch 9/10\n",
            "97/97 [==============================] - 61s 624ms/step - loss: 0.9352 - accuracy: 0.6694\n",
            "Epoch 10/10\n",
            "97/97 [==============================] - 61s 621ms/step - loss: 0.9645 - accuracy: 0.6503\n"
          ],
          "name": "stdout"
        },
        {
          "output_type": "execute_result",
          "data": {
            "text/plain": [
              "<tensorflow.python.keras.callbacks.History at 0x7f96123cd6d0>"
            ]
          },
          "metadata": {
            "tags": []
          },
          "execution_count": 43
        }
      ]
    },
    {
      "cell_type": "code",
      "metadata": {
        "colab": {
          "base_uri": "https://localhost:8080/"
        },
        "id": "E_z3RzrqUiL4",
        "outputId": "eb6656e3-91b5-422c-9bef-b3969159b4c0"
      },
      "source": [
        "model.evaluate(valid_set, verbose=1) #180"
      ],
      "execution_count": 44,
      "outputs": [
        {
          "output_type": "stream",
          "text": [
            "26/26 [==============================] - 23s 581ms/step - loss: 1.1066 - accuracy: 0.6124\n"
          ],
          "name": "stdout"
        },
        {
          "output_type": "execute_result",
          "data": {
            "text/plain": [
              "[1.1065982580184937, 0.6123936772346497]"
            ]
          },
          "metadata": {
            "tags": []
          },
          "execution_count": 44
        }
      ]
    },
    {
      "cell_type": "code",
      "metadata": {
        "colab": {
          "base_uri": "https://localhost:8080/"
        },
        "id": "WhbfZimOUvxu",
        "outputId": "84702274-c548-4f0d-8852-3ad3f1cfaf72"
      },
      "source": [
        "model.fit(training_set, epochs=10)"
      ],
      "execution_count": 48,
      "outputs": [
        {
          "output_type": "stream",
          "text": [
            "Epoch 1/10\n",
            "97/97 [==============================] - 60s 614ms/step - loss: 0.9653 - accuracy: 0.6552\n",
            "Epoch 2/10\n",
            "97/97 [==============================] - 61s 624ms/step - loss: 0.9329 - accuracy: 0.6652\n",
            "Epoch 3/10\n",
            "97/97 [==============================] - 60s 611ms/step - loss: 0.9343 - accuracy: 0.6600\n",
            "Epoch 4/10\n",
            "97/97 [==============================] - 60s 616ms/step - loss: 0.9330 - accuracy: 0.6697\n",
            "Epoch 5/10\n",
            "97/97 [==============================] - 61s 619ms/step - loss: 0.9603 - accuracy: 0.6642\n",
            "Epoch 6/10\n",
            "97/97 [==============================] - 61s 625ms/step - loss: 0.9567 - accuracy: 0.6594\n",
            "Epoch 7/10\n",
            "97/97 [==============================] - 61s 625ms/step - loss: 0.9265 - accuracy: 0.6623\n",
            "Epoch 8/10\n",
            "97/97 [==============================] - 60s 611ms/step - loss: 0.9552 - accuracy: 0.6635\n",
            "Epoch 9/10\n",
            "97/97 [==============================] - 60s 616ms/step - loss: 0.9344 - accuracy: 0.6716\n",
            "Epoch 10/10\n",
            "97/97 [==============================] - 61s 627ms/step - loss: 0.9495 - accuracy: 0.6606\n"
          ],
          "name": "stdout"
        },
        {
          "output_type": "execute_result",
          "data": {
            "text/plain": [
              "<tensorflow.python.keras.callbacks.History at 0x7f96122c3590>"
            ]
          },
          "metadata": {
            "tags": []
          },
          "execution_count": 48
        }
      ]
    },
    {
      "cell_type": "code",
      "metadata": {
        "colab": {
          "base_uri": "https://localhost:8080/"
        },
        "id": "f_3K9hmvUs7o",
        "outputId": "a1e5323a-1cd8-4290-dc33-99e3a037eac4"
      },
      "source": [
        "model.evaluate(valid_set, verbose=1) #190"
      ],
      "execution_count": 49,
      "outputs": [
        {
          "output_type": "stream",
          "text": [
            "26/26 [==============================] - 23s 592ms/step - loss: 1.1400 - accuracy: 0.6100\n"
          ],
          "name": "stdout"
        },
        {
          "output_type": "execute_result",
          "data": {
            "text/plain": [
              "[1.1399586200714111, 0.6099635362625122]"
            ]
          },
          "metadata": {
            "tags": []
          },
          "execution_count": 49
        }
      ]
    },
    {
      "cell_type": "code",
      "metadata": {
        "id": "ZFt6kQUi9a7R"
      },
      "source": [
        "import os\n",
        "weights_dir = 'weights/article'\n",
        "# Save model weights\n",
        "model.save_weights(os.path.join(weights_dir, 'vgg19-180'))"
      ],
      "execution_count": 51,
      "outputs": []
    },
    {
      "cell_type": "code",
      "metadata": {
        "id": "nFvgshKoXc7i",
        "colab": {
          "base_uri": "https://localhost:8080/"
        },
        "outputId": "febe590b-7598-4ab2-bda2-23e25f472b58"
      },
      "source": [
        "model.fit(training_set, epochs=80)"
      ],
      "execution_count": 16,
      "outputs": [
        {
          "output_type": "stream",
          "text": [
            "Epoch 1/80\n",
            "97/97 [==============================] - 534s 5s/step - loss: 4.2084 - accuracy: 0.0477\n",
            "Epoch 2/80\n",
            "97/97 [==============================] - 55s 562ms/step - loss: 3.4617 - accuracy: 0.1423\n",
            "Epoch 3/80\n",
            "97/97 [==============================] - 56s 570ms/step - loss: 3.0599 - accuracy: 0.2068\n",
            "Epoch 4/80\n",
            "97/97 [==============================] - 56s 574ms/step - loss: 2.7859 - accuracy: 0.2548\n",
            "Epoch 5/80\n",
            "97/97 [==============================] - 57s 585ms/step - loss: 2.5130 - accuracy: 0.3000\n",
            "Epoch 6/80\n",
            "97/97 [==============================] - 57s 581ms/step - loss: 2.3666 - accuracy: 0.3261\n",
            "Epoch 7/80\n",
            "97/97 [==============================] - 58s 590ms/step - loss: 2.2258 - accuracy: 0.3542\n",
            "Epoch 8/80\n",
            "97/97 [==============================] - 58s 597ms/step - loss: 2.1170 - accuracy: 0.3832\n",
            "Epoch 9/80\n",
            "97/97 [==============================] - 57s 584ms/step - loss: 2.0196 - accuracy: 0.3897\n",
            "Epoch 10/80\n",
            "97/97 [==============================] - 58s 593ms/step - loss: 1.9206 - accuracy: 0.4123\n",
            "Epoch 11/80\n",
            "97/97 [==============================] - 59s 600ms/step - loss: 1.8626 - accuracy: 0.4323\n",
            "Epoch 12/80\n",
            "97/97 [==============================] - 58s 588ms/step - loss: 1.7971 - accuracy: 0.4381\n",
            "Epoch 13/80\n",
            "97/97 [==============================] - 59s 597ms/step - loss: 1.7306 - accuracy: 0.4626\n",
            "Epoch 14/80\n",
            "97/97 [==============================] - 57s 586ms/step - loss: 1.6832 - accuracy: 0.4590\n",
            "Epoch 15/80\n",
            "97/97 [==============================] - 57s 579ms/step - loss: 1.6366 - accuracy: 0.4787\n",
            "Epoch 16/80\n",
            "97/97 [==============================] - 58s 590ms/step - loss: 1.6235 - accuracy: 0.4771\n",
            "Epoch 17/80\n",
            "97/97 [==============================] - 58s 596ms/step - loss: 1.5879 - accuracy: 0.5006\n",
            "Epoch 18/80\n",
            "97/97 [==============================] - 59s 600ms/step - loss: 1.5479 - accuracy: 0.5039\n",
            "Epoch 19/80\n",
            "97/97 [==============================] - 59s 602ms/step - loss: 1.5248 - accuracy: 0.5171\n",
            "Epoch 20/80\n",
            "97/97 [==============================] - 58s 588ms/step - loss: 1.5110 - accuracy: 0.5113\n",
            "Epoch 21/80\n",
            "97/97 [==============================] - 59s 598ms/step - loss: 1.5152 - accuracy: 0.5213\n",
            "Epoch 22/80\n",
            "97/97 [==============================] - 59s 601ms/step - loss: 1.4789 - accuracy: 0.5219\n",
            "Epoch 23/80\n",
            "97/97 [==============================] - 59s 603ms/step - loss: 1.4461 - accuracy: 0.5306\n",
            "Epoch 24/80\n",
            "97/97 [==============================] - 59s 606ms/step - loss: 1.4128 - accuracy: 0.5365\n",
            "Epoch 25/80\n",
            "97/97 [==============================] - 59s 606ms/step - loss: 1.4341 - accuracy: 0.5235\n",
            "Epoch 26/80\n",
            "97/97 [==============================] - 58s 589ms/step - loss: 1.3908 - accuracy: 0.5455\n",
            "Epoch 27/80\n",
            "97/97 [==============================] - 57s 583ms/step - loss: 1.3694 - accuracy: 0.5468\n",
            "Epoch 28/80\n",
            "97/97 [==============================] - 57s 579ms/step - loss: 1.3686 - accuracy: 0.5429\n",
            "Epoch 29/80\n",
            "97/97 [==============================] - 57s 580ms/step - loss: 1.3813 - accuracy: 0.5342\n",
            "Epoch 30/80\n",
            "97/97 [==============================] - 57s 580ms/step - loss: 1.3371 - accuracy: 0.5574\n",
            "Epoch 31/80\n",
            "97/97 [==============================] - 57s 579ms/step - loss: 1.3564 - accuracy: 0.5494\n",
            "Epoch 32/80\n",
            "97/97 [==============================] - 57s 581ms/step - loss: 1.3214 - accuracy: 0.5616\n",
            "Epoch 33/80\n",
            "97/97 [==============================] - 57s 578ms/step - loss: 1.3347 - accuracy: 0.5490\n",
            "Epoch 34/80\n",
            "97/97 [==============================] - 57s 579ms/step - loss: 1.3259 - accuracy: 0.5652\n",
            "Epoch 35/80\n",
            "97/97 [==============================] - 57s 578ms/step - loss: 1.2919 - accuracy: 0.5700\n",
            "Epoch 36/80\n",
            "97/97 [==============================] - 57s 580ms/step - loss: 1.2752 - accuracy: 0.5648\n",
            "Epoch 37/80\n",
            "97/97 [==============================] - 57s 580ms/step - loss: 1.2563 - accuracy: 0.5765\n",
            "Epoch 38/80\n",
            "97/97 [==============================] - 57s 582ms/step - loss: 1.2425 - accuracy: 0.5687\n",
            "Epoch 39/80\n",
            "97/97 [==============================] - 57s 585ms/step - loss: 1.2195 - accuracy: 0.5884\n",
            "Epoch 40/80\n",
            "97/97 [==============================] - 57s 583ms/step - loss: 1.2593 - accuracy: 0.5645\n",
            "Epoch 41/80\n",
            "97/97 [==============================] - 57s 583ms/step - loss: 1.2527 - accuracy: 0.5765\n",
            "Epoch 42/80\n",
            "97/97 [==============================] - 58s 590ms/step - loss: 1.2229 - accuracy: 0.5806\n",
            "Epoch 43/80\n",
            "97/97 [==============================] - 57s 586ms/step - loss: 1.1917 - accuracy: 0.6006\n",
            "Epoch 44/80\n",
            "97/97 [==============================] - 58s 593ms/step - loss: 1.2322 - accuracy: 0.5813\n",
            "Epoch 45/80\n",
            "97/97 [==============================] - 58s 588ms/step - loss: 1.1943 - accuracy: 0.5906\n",
            "Epoch 46/80\n",
            "97/97 [==============================] - 58s 593ms/step - loss: 1.2325 - accuracy: 0.5819\n",
            "Epoch 47/80\n",
            "97/97 [==============================] - 57s 586ms/step - loss: 1.1799 - accuracy: 0.5923\n",
            "Epoch 48/80\n",
            "97/97 [==============================] - 57s 585ms/step - loss: 1.1876 - accuracy: 0.5877\n",
            "Epoch 49/80\n",
            "97/97 [==============================] - 58s 588ms/step - loss: 1.1891 - accuracy: 0.5935\n",
            "Epoch 50/80\n",
            "97/97 [==============================] - 58s 586ms/step - loss: 1.1869 - accuracy: 0.5894\n",
            "Epoch 51/80\n",
            "97/97 [==============================] - 58s 593ms/step - loss: 1.1973 - accuracy: 0.5916\n",
            "Epoch 52/80\n",
            "97/97 [==============================] - 57s 585ms/step - loss: 1.1979 - accuracy: 0.5887\n",
            "Epoch 53/80\n",
            "97/97 [==============================] - 57s 585ms/step - loss: 1.2226 - accuracy: 0.5806\n",
            "Epoch 54/80\n",
            "97/97 [==============================] - 58s 589ms/step - loss: 1.2263 - accuracy: 0.5839\n",
            "Epoch 55/80\n",
            "97/97 [==============================] - 58s 587ms/step - loss: 1.2139 - accuracy: 0.5839\n",
            "Epoch 56/80\n",
            "97/97 [==============================] - 58s 591ms/step - loss: 1.1870 - accuracy: 0.5906\n",
            "Epoch 57/80\n",
            "97/97 [==============================] - 59s 598ms/step - loss: 1.1768 - accuracy: 0.5929\n",
            "Epoch 58/80\n",
            "97/97 [==============================] - 58s 589ms/step - loss: 1.1650 - accuracy: 0.5945\n",
            "Epoch 59/80\n",
            "97/97 [==============================] - 57s 585ms/step - loss: 1.1427 - accuracy: 0.5965\n",
            "Epoch 60/80\n",
            "97/97 [==============================] - 58s 592ms/step - loss: 1.1622 - accuracy: 0.5942\n",
            "Epoch 61/80\n",
            "97/97 [==============================] - 58s 589ms/step - loss: 1.1632 - accuracy: 0.5955\n",
            "Epoch 62/80\n",
            "97/97 [==============================] - 58s 587ms/step - loss: 1.1297 - accuracy: 0.6126\n",
            "Epoch 63/80\n",
            "97/97 [==============================] - 58s 593ms/step - loss: 1.1347 - accuracy: 0.6003\n",
            "Epoch 64/80\n",
            "97/97 [==============================] - 58s 588ms/step - loss: 1.1278 - accuracy: 0.6158\n",
            "Epoch 65/80\n",
            "97/97 [==============================] - 58s 593ms/step - loss: 1.1440 - accuracy: 0.6019\n",
            "Epoch 66/80\n",
            "97/97 [==============================] - 58s 592ms/step - loss: 1.1115 - accuracy: 0.6055\n",
            "Epoch 67/80\n",
            "97/97 [==============================] - 58s 594ms/step - loss: 1.1347 - accuracy: 0.6081\n",
            "Epoch 68/80\n",
            "97/97 [==============================] - 60s 615ms/step - loss: 1.1628 - accuracy: 0.6087\n",
            "Epoch 69/80\n",
            "97/97 [==============================] - 61s 620ms/step - loss: 1.1141 - accuracy: 0.6071\n",
            "Epoch 70/80\n",
            "97/97 [==============================] - 61s 624ms/step - loss: 1.0965 - accuracy: 0.6158\n",
            "Epoch 71/80\n",
            "97/97 [==============================] - 61s 622ms/step - loss: 1.1164 - accuracy: 0.6142\n",
            "Epoch 72/80\n",
            "97/97 [==============================] - 61s 619ms/step - loss: 1.0855 - accuracy: 0.6177\n",
            "Epoch 73/80\n",
            "97/97 [==============================] - 61s 620ms/step - loss: 1.1088 - accuracy: 0.6087\n",
            "Epoch 74/80\n",
            "97/97 [==============================] - 61s 622ms/step - loss: 1.0851 - accuracy: 0.6306\n",
            "Epoch 75/80\n",
            "97/97 [==============================] - 60s 607ms/step - loss: 1.0782 - accuracy: 0.6335\n",
            "Epoch 76/80\n",
            "97/97 [==============================] - 61s 623ms/step - loss: 1.0895 - accuracy: 0.6235\n",
            "Epoch 77/80\n",
            "97/97 [==============================] - 61s 620ms/step - loss: 1.0785 - accuracy: 0.6171\n",
            "Epoch 78/80\n",
            "97/97 [==============================] - 60s 610ms/step - loss: 1.1161 - accuracy: 0.6123\n",
            "Epoch 79/80\n",
            "97/97 [==============================] - 61s 624ms/step - loss: 1.0727 - accuracy: 0.6245\n",
            "Epoch 80/80\n",
            "97/97 [==============================] - 60s 611ms/step - loss: 1.0745 - accuracy: 0.6184\n"
          ],
          "name": "stdout"
        },
        {
          "output_type": "execute_result",
          "data": {
            "text/plain": [
              "<tensorflow.python.keras.callbacks.History at 0x7f966e7a2350>"
            ]
          },
          "metadata": {
            "tags": []
          },
          "execution_count": 16
        }
      ]
    },
    {
      "cell_type": "code",
      "metadata": {
        "id": "C5o163DxaSfx"
      },
      "source": [
        ""
      ],
      "execution_count": null,
      "outputs": []
    }
  ]
}