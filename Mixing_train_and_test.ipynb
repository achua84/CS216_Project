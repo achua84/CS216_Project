{
  "nbformat": 4,
  "nbformat_minor": 0,
  "metadata": {
    "colab": {
      "name": "Mixing_train_and_test.ipynb",
      "provenance": [],
      "collapsed_sections": [],
      "toc_visible": true
    },
    "kernelspec": {
      "name": "python3",
      "display_name": "Python 3"
    },
    "language_info": {
      "name": "python"
    }
  },
  "cells": [
    {
      "cell_type": "code",
      "metadata": {
        "id": "QCrqUZLXOyli"
      },
      "source": [
        "import os\n",
        "import sys\n",
        "from datetime import datetime\n",
        "\n",
        "import tensorflow as tf\n",
        "from tensorflow import keras\n",
        "from keras.applications.vgg16 import VGG16, preprocess_input\n",
        "from keras.applications.vgg19 import VGG19\n",
        "from tensorflow.keras.callbacks import TensorBoard\n",
        "from tensorflow.keras.preprocessing import image_dataset_from_directory"
      ],
      "execution_count": 1,
      "outputs": []
    },
    {
      "cell_type": "code",
      "metadata": {
        "colab": {
          "base_uri": "https://localhost:8080/"
        },
        "id": "PqYr2-DyRzsv",
        "outputId": "6cd87372-84b3-4968-846c-121dc40eb337"
      },
      "source": [
        "from google.colab import drive\n",
        "drive.mount('/content/drive')"
      ],
      "execution_count": 2,
      "outputs": [
        {
          "output_type": "stream",
          "text": [
            "Mounted at /content/drive\n"
          ],
          "name": "stdout"
        }
      ]
    },
    {
      "cell_type": "code",
      "metadata": {
        "id": "RMdCkuVqRwHt"
      },
      "source": [
        "# 64 classes of optotypes. Should correspond to the folder names under images/testing and images/training\n",
        "labels = [\"+blank\", \"+circle\", \"+diamond\", \"+square\", \"2\", \"3\", \"5\", \"6\", \"8\", \"9\", \"apple\", \"bird\", \"C\", \"C-0\", \"C-45\",\n",
        "          \"C-90\", \"C-135\", \"C-180\", \"C-225\", \"C-270\", \"C-315\", \"cake\", \"car\", \"circle\", \"cow\", \"cup\", \"D\",\n",
        "          \"duck\", \"E\", \"E-0\", \"E-90\", \"E-180\", \"E-270\", \"F\", \"flat-line\", \"flat-square\",\n",
        "          \"frown-line\", \"frown-square\", \"H\", \"hand\", \"horse\", \"house\", \"K\", \"L\", \"N\", \"O\", \"P\",\n",
        "          \"panda\", \"phone\", \"R\", \"S\", \"smile-line\", \"smile-square\", \"square\", \"star\", \"T\", \"train\",\n",
        "          \"tree\", \"V\", \"x-blank\", \"x-circle\", \"x-diamond\", \"x-square\", \"Z\"]\n",
        "img_size = 400\n",
        "channels = 3\n",
        "training_dir = 'drive/MyDrive/opt_images/training'\n",
        "testing_dir = 'drive/MyDrive/opt_images/testing'"
      ],
      "execution_count": 3,
      "outputs": []
    },
    {
      "cell_type": "code",
      "metadata": {
        "id": "Wy3x4HwHR18Q"
      },
      "source": [
        "def create_datasets_test_train():\n",
        "    \"\"\"\n",
        "    Generates two `tf.data.Dataset` from image files in the project.\n",
        "    NOTE: images must be put under project root in directory images/testing and images/training\n",
        "    :return: Two `tf.data.Dataset` objects, one for testing and one for training.\n",
        "    \"\"\"\n",
        "    training_set = image_dataset_from_directory(training_dir,\n",
        "                                                shuffle=True,\n",
        "                                                batch_size=32,\n",
        "                                                image_size=(img_size, img_size))\n",
        "    testing_set = image_dataset_from_directory(testing_dir,\n",
        "                                               shuffle=True,\n",
        "                                               batch_size=32,\n",
        "                                               image_size=(img_size, img_size))\n",
        "    return training_set, testing_set"
      ],
      "execution_count": 4,
      "outputs": []
    },
    {
      "cell_type": "code",
      "metadata": {
        "colab": {
          "base_uri": "https://localhost:8080/"
        },
        "id": "LM_xIpWrR62y",
        "outputId": "2d9d5b35-2d61-4881-e856-5c17b49e4c06"
      },
      "source": [
        "training_set, testing_set = create_datasets_test_train()"
      ],
      "execution_count": 5,
      "outputs": [
        {
          "output_type": "stream",
          "text": [
            "Found 1500 files belonging to 64 classes.\n",
            "Found 3223 files belonging to 64 classes.\n"
          ],
          "name": "stdout"
        }
      ]
    },
    {
      "cell_type": "code",
      "metadata": {
        "id": "ngJfl1siSKY1"
      },
      "source": [
        "test_len = len(testing_set)"
      ],
      "execution_count": 6,
      "outputs": []
    },
    {
      "cell_type": "code",
      "metadata": {
        "colab": {
          "base_uri": "https://localhost:8080/"
        },
        "id": "ViKEmxWdbVq4",
        "outputId": "f61bda91-195d-4214-8082-520434ff3614"
      },
      "source": [
        "print(test_len)"
      ],
      "execution_count": 7,
      "outputs": [
        {
          "output_type": "stream",
          "text": [
            "101\n"
          ],
          "name": "stdout"
        }
      ]
    },
    {
      "cell_type": "markdown",
      "metadata": {
        "id": "Hdw67OYiQj02"
      },
      "source": [
        "### Mixing Train and Test Data (50% of test data into train, 25% of test for valid and 25% for test)"
      ]
    },
    {
      "cell_type": "code",
      "metadata": {
        "id": "Jdl5Kps6SAKl"
      },
      "source": [
        "set1 = testing_set.take(test_len // 2)\n",
        "temp = testing_set.skip(test_len // 2)\n",
        "valid_set = temp.skip(test_len // 4)\n",
        "testing_set = temp.take(test_len // 4)\n",
        "training_set = training_set.concatenate(set1)\n",
        "training_set = training_set.shuffle(buffer_size=1)"
      ],
      "execution_count": 8,
      "outputs": []
    },
    {
      "cell_type": "code",
      "metadata": {
        "colab": {
          "base_uri": "https://localhost:8080/"
        },
        "id": "H1s0V5wea51N",
        "outputId": "a2f74219-7f6d-4882-ed5b-56a0a1ac8cf6"
      },
      "source": [
        "print(len(training_set))"
      ],
      "execution_count": 9,
      "outputs": [
        {
          "output_type": "stream",
          "text": [
            "97\n"
          ],
          "name": "stdout"
        }
      ]
    },
    {
      "cell_type": "markdown",
      "metadata": {
        "id": "XTWQHp_QQuu_"
      },
      "source": [
        "### Trying dataset with VGG16 at different epochs, starting at 40 and increasing by 10"
      ]
    },
    {
      "cell_type": "code",
      "metadata": {
        "colab": {
          "base_uri": "https://localhost:8080/"
        },
        "id": "ii90c-Z8XL_T",
        "outputId": "4407711c-6996-489e-aa68-539846b79b20"
      },
      "source": [
        "vgg = VGG16(include_top=False, weights=\"imagenet\", input_shape=(img_size, img_size, channels))\n",
        "vgg.trainable = True\n",
        "base_model = vgg\n",
        "\n",
        "inputs = tf.keras.Input(shape=(img_size, img_size, channels))\n",
        "\n",
        "x = base_model(inputs, training=False)\n",
        "x = tf.keras.layers.GlobalAveragePooling2D()(x)\n",
        "x = tf.keras.layers.Dropout(0.2)(x)\n",
        "x = keras.layers.Flatten()(x)\n",
        "X = keras.layers.Dense(128, activation='relu')(x)\n",
        "X = keras.layers.Dropout(0.5)(X)\n",
        "X = keras.layers.BatchNormalization()(X)\n",
        "\n",
        "outputs = tf.keras.layers.Dense(64, activation=tf.keras.activations.softmax)(X)\n",
        "\n",
        "model = tf.keras.Model(inputs, outputs)\n",
        "model.summary()\n",
        "\n",
        "model.compile(loss='sparse_categorical_crossentropy', optimizer='adam', metrics=['accuracy'])"
      ],
      "execution_count": null,
      "outputs": [
        {
          "output_type": "stream",
          "text": [
            "Downloading data from https://storage.googleapis.com/tensorflow/keras-applications/vgg16/vgg16_weights_tf_dim_ordering_tf_kernels_notop.h5\n",
            "58892288/58889256 [==============================] - 1s 0us/step\n",
            "58900480/58889256 [==============================] - 1s 0us/step\n",
            "WARNING:tensorflow:\n",
            "The following Variables were used a Lambda layer's call (tf.nn.convolution), but\n",
            "are not present in its tracked objects:\n",
            "  <tf.Variable 'block1_conv1/kernel:0' shape=(3, 3, 3, 64) dtype=float32>\n",
            "It is possible that this is intended behavior, but it is more likely\n",
            "an omission. This is a strong indication that this layer should be\n",
            "formulated as a subclassed Layer rather than a Lambda layer.\n",
            "WARNING:tensorflow:\n",
            "The following Variables were used a Lambda layer's call (tf.nn.bias_add), but\n",
            "are not present in its tracked objects:\n",
            "  <tf.Variable 'block1_conv1/bias:0' shape=(64,) dtype=float32>\n",
            "It is possible that this is intended behavior, but it is more likely\n",
            "an omission. This is a strong indication that this layer should be\n",
            "formulated as a subclassed Layer rather than a Lambda layer.\n",
            "WARNING:tensorflow:\n",
            "The following Variables were used a Lambda layer's call (tf.nn.convolution_1), but\n",
            "are not present in its tracked objects:\n",
            "  <tf.Variable 'block1_conv2/kernel:0' shape=(3, 3, 64, 64) dtype=float32>\n",
            "It is possible that this is intended behavior, but it is more likely\n",
            "an omission. This is a strong indication that this layer should be\n",
            "formulated as a subclassed Layer rather than a Lambda layer.\n",
            "WARNING:tensorflow:\n",
            "The following Variables were used a Lambda layer's call (tf.nn.bias_add_1), but\n",
            "are not present in its tracked objects:\n",
            "  <tf.Variable 'block1_conv2/bias:0' shape=(64,) dtype=float32>\n",
            "It is possible that this is intended behavior, but it is more likely\n",
            "an omission. This is a strong indication that this layer should be\n",
            "formulated as a subclassed Layer rather than a Lambda layer.\n",
            "WARNING:tensorflow:\n",
            "The following Variables were used a Lambda layer's call (tf.nn.convolution_2), but\n",
            "are not present in its tracked objects:\n",
            "  <tf.Variable 'block2_conv1/kernel:0' shape=(3, 3, 64, 128) dtype=float32>\n",
            "It is possible that this is intended behavior, but it is more likely\n",
            "an omission. This is a strong indication that this layer should be\n",
            "formulated as a subclassed Layer rather than a Lambda layer.\n",
            "WARNING:tensorflow:\n",
            "The following Variables were used a Lambda layer's call (tf.nn.bias_add_2), but\n",
            "are not present in its tracked objects:\n",
            "  <tf.Variable 'block2_conv1/bias:0' shape=(128,) dtype=float32>\n",
            "It is possible that this is intended behavior, but it is more likely\n",
            "an omission. This is a strong indication that this layer should be\n",
            "formulated as a subclassed Layer rather than a Lambda layer.\n",
            "WARNING:tensorflow:\n",
            "The following Variables were used a Lambda layer's call (tf.nn.convolution_3), but\n",
            "are not present in its tracked objects:\n",
            "  <tf.Variable 'block2_conv2/kernel:0' shape=(3, 3, 128, 128) dtype=float32>\n",
            "It is possible that this is intended behavior, but it is more likely\n",
            "an omission. This is a strong indication that this layer should be\n",
            "formulated as a subclassed Layer rather than a Lambda layer.\n",
            "WARNING:tensorflow:\n",
            "The following Variables were used a Lambda layer's call (tf.nn.bias_add_3), but\n",
            "are not present in its tracked objects:\n",
            "  <tf.Variable 'block2_conv2/bias:0' shape=(128,) dtype=float32>\n",
            "It is possible that this is intended behavior, but it is more likely\n",
            "an omission. This is a strong indication that this layer should be\n",
            "formulated as a subclassed Layer rather than a Lambda layer.\n",
            "WARNING:tensorflow:\n",
            "The following Variables were used a Lambda layer's call (tf.nn.convolution_4), but\n",
            "are not present in its tracked objects:\n",
            "  <tf.Variable 'block3_conv1/kernel:0' shape=(3, 3, 128, 256) dtype=float32>\n",
            "It is possible that this is intended behavior, but it is more likely\n",
            "an omission. This is a strong indication that this layer should be\n",
            "formulated as a subclassed Layer rather than a Lambda layer.\n",
            "WARNING:tensorflow:\n",
            "The following Variables were used a Lambda layer's call (tf.nn.bias_add_4), but\n",
            "are not present in its tracked objects:\n",
            "  <tf.Variable 'block3_conv1/bias:0' shape=(256,) dtype=float32>\n",
            "It is possible that this is intended behavior, but it is more likely\n",
            "an omission. This is a strong indication that this layer should be\n",
            "formulated as a subclassed Layer rather than a Lambda layer.\n",
            "WARNING:tensorflow:\n",
            "The following Variables were used a Lambda layer's call (tf.nn.convolution_5), but\n",
            "are not present in its tracked objects:\n",
            "  <tf.Variable 'block3_conv2/kernel:0' shape=(3, 3, 256, 256) dtype=float32>\n",
            "It is possible that this is intended behavior, but it is more likely\n",
            "an omission. This is a strong indication that this layer should be\n",
            "formulated as a subclassed Layer rather than a Lambda layer.\n",
            "WARNING:tensorflow:\n",
            "The following Variables were used a Lambda layer's call (tf.nn.bias_add_5), but\n",
            "are not present in its tracked objects:\n",
            "  <tf.Variable 'block3_conv2/bias:0' shape=(256,) dtype=float32>\n",
            "It is possible that this is intended behavior, but it is more likely\n",
            "an omission. This is a strong indication that this layer should be\n",
            "formulated as a subclassed Layer rather than a Lambda layer.\n",
            "WARNING:tensorflow:\n",
            "The following Variables were used a Lambda layer's call (tf.nn.convolution_6), but\n",
            "are not present in its tracked objects:\n",
            "  <tf.Variable 'block3_conv3/kernel:0' shape=(3, 3, 256, 256) dtype=float32>\n",
            "It is possible that this is intended behavior, but it is more likely\n",
            "an omission. This is a strong indication that this layer should be\n",
            "formulated as a subclassed Layer rather than a Lambda layer.\n",
            "WARNING:tensorflow:\n",
            "The following Variables were used a Lambda layer's call (tf.nn.bias_add_6), but\n",
            "are not present in its tracked objects:\n",
            "  <tf.Variable 'block3_conv3/bias:0' shape=(256,) dtype=float32>\n",
            "It is possible that this is intended behavior, but it is more likely\n",
            "an omission. This is a strong indication that this layer should be\n",
            "formulated as a subclassed Layer rather than a Lambda layer.\n",
            "WARNING:tensorflow:\n",
            "The following Variables were used a Lambda layer's call (tf.nn.convolution_7), but\n",
            "are not present in its tracked objects:\n",
            "  <tf.Variable 'block4_conv1/kernel:0' shape=(3, 3, 256, 512) dtype=float32>\n",
            "It is possible that this is intended behavior, but it is more likely\n",
            "an omission. This is a strong indication that this layer should be\n",
            "formulated as a subclassed Layer rather than a Lambda layer.\n",
            "WARNING:tensorflow:\n",
            "The following Variables were used a Lambda layer's call (tf.nn.bias_add_7), but\n",
            "are not present in its tracked objects:\n",
            "  <tf.Variable 'block4_conv1/bias:0' shape=(512,) dtype=float32>\n",
            "It is possible that this is intended behavior, but it is more likely\n",
            "an omission. This is a strong indication that this layer should be\n",
            "formulated as a subclassed Layer rather than a Lambda layer.\n",
            "WARNING:tensorflow:\n",
            "The following Variables were used a Lambda layer's call (tf.nn.convolution_8), but\n",
            "are not present in its tracked objects:\n",
            "  <tf.Variable 'block4_conv2/kernel:0' shape=(3, 3, 512, 512) dtype=float32>\n",
            "It is possible that this is intended behavior, but it is more likely\n",
            "an omission. This is a strong indication that this layer should be\n",
            "formulated as a subclassed Layer rather than a Lambda layer.\n",
            "WARNING:tensorflow:\n",
            "The following Variables were used a Lambda layer's call (tf.nn.bias_add_8), but\n",
            "are not present in its tracked objects:\n",
            "  <tf.Variable 'block4_conv2/bias:0' shape=(512,) dtype=float32>\n",
            "It is possible that this is intended behavior, but it is more likely\n",
            "an omission. This is a strong indication that this layer should be\n",
            "formulated as a subclassed Layer rather than a Lambda layer.\n",
            "WARNING:tensorflow:\n",
            "The following Variables were used a Lambda layer's call (tf.nn.convolution_9), but\n",
            "are not present in its tracked objects:\n",
            "  <tf.Variable 'block4_conv3/kernel:0' shape=(3, 3, 512, 512) dtype=float32>\n",
            "It is possible that this is intended behavior, but it is more likely\n",
            "an omission. This is a strong indication that this layer should be\n",
            "formulated as a subclassed Layer rather than a Lambda layer.\n",
            "WARNING:tensorflow:\n",
            "The following Variables were used a Lambda layer's call (tf.nn.bias_add_9), but\n",
            "are not present in its tracked objects:\n",
            "  <tf.Variable 'block4_conv3/bias:0' shape=(512,) dtype=float32>\n",
            "It is possible that this is intended behavior, but it is more likely\n",
            "an omission. This is a strong indication that this layer should be\n",
            "formulated as a subclassed Layer rather than a Lambda layer.\n",
            "WARNING:tensorflow:\n",
            "The following Variables were used a Lambda layer's call (tf.nn.convolution_10), but\n",
            "are not present in its tracked objects:\n",
            "  <tf.Variable 'block5_conv1/kernel:0' shape=(3, 3, 512, 512) dtype=float32>\n",
            "It is possible that this is intended behavior, but it is more likely\n",
            "an omission. This is a strong indication that this layer should be\n",
            "formulated as a subclassed Layer rather than a Lambda layer.\n",
            "WARNING:tensorflow:\n",
            "The following Variables were used a Lambda layer's call (tf.nn.bias_add_10), but\n",
            "are not present in its tracked objects:\n",
            "  <tf.Variable 'block5_conv1/bias:0' shape=(512,) dtype=float32>\n",
            "It is possible that this is intended behavior, but it is more likely\n",
            "an omission. This is a strong indication that this layer should be\n",
            "formulated as a subclassed Layer rather than a Lambda layer.\n",
            "WARNING:tensorflow:\n",
            "The following Variables were used a Lambda layer's call (tf.nn.convolution_11), but\n",
            "are not present in its tracked objects:\n",
            "  <tf.Variable 'block5_conv2/kernel:0' shape=(3, 3, 512, 512) dtype=float32>\n",
            "It is possible that this is intended behavior, but it is more likely\n",
            "an omission. This is a strong indication that this layer should be\n",
            "formulated as a subclassed Layer rather than a Lambda layer.\n",
            "WARNING:tensorflow:\n",
            "The following Variables were used a Lambda layer's call (tf.nn.bias_add_11), but\n",
            "are not present in its tracked objects:\n",
            "  <tf.Variable 'block5_conv2/bias:0' shape=(512,) dtype=float32>\n",
            "It is possible that this is intended behavior, but it is more likely\n",
            "an omission. This is a strong indication that this layer should be\n",
            "formulated as a subclassed Layer rather than a Lambda layer.\n",
            "WARNING:tensorflow:\n",
            "The following Variables were used a Lambda layer's call (tf.nn.convolution_12), but\n",
            "are not present in its tracked objects:\n",
            "  <tf.Variable 'block5_conv3/kernel:0' shape=(3, 3, 512, 512) dtype=float32>\n",
            "It is possible that this is intended behavior, but it is more likely\n",
            "an omission. This is a strong indication that this layer should be\n",
            "formulated as a subclassed Layer rather than a Lambda layer.\n",
            "WARNING:tensorflow:\n",
            "The following Variables were used a Lambda layer's call (tf.nn.bias_add_12), but\n",
            "are not present in its tracked objects:\n",
            "  <tf.Variable 'block5_conv3/bias:0' shape=(512,) dtype=float32>\n",
            "It is possible that this is intended behavior, but it is more likely\n",
            "an omission. This is a strong indication that this layer should be\n",
            "formulated as a subclassed Layer rather than a Lambda layer.\n",
            "Model: \"model\"\n",
            "_________________________________________________________________\n",
            "Layer (type)                 Output Shape              Param #   \n",
            "=================================================================\n",
            "input_1 (InputLayer)         [(None, 400, 400, 3)]     0         \n",
            "_________________________________________________________________\n",
            "tf.nn.convolution (TFOpLambd (None, 400, 400, 64)      0         \n",
            "_________________________________________________________________\n",
            "tf.nn.bias_add (TFOpLambda)  (None, 400, 400, 64)      0         \n",
            "_________________________________________________________________\n",
            "tf.nn.relu (TFOpLambda)      (None, 400, 400, 64)      0         \n",
            "_________________________________________________________________\n",
            "tf.nn.convolution_1 (TFOpLam (None, 400, 400, 64)      0         \n",
            "_________________________________________________________________\n",
            "tf.nn.bias_add_1 (TFOpLambda (None, 400, 400, 64)      0         \n",
            "_________________________________________________________________\n",
            "tf.nn.relu_1 (TFOpLambda)    (None, 400, 400, 64)      0         \n",
            "_________________________________________________________________\n",
            "tf.compat.v1.nn.max_pool (TF (None, 200, 200, 64)      0         \n",
            "_________________________________________________________________\n",
            "tf.nn.convolution_2 (TFOpLam (None, 200, 200, 128)     0         \n",
            "_________________________________________________________________\n",
            "tf.nn.bias_add_2 (TFOpLambda (None, 200, 200, 128)     0         \n",
            "_________________________________________________________________\n",
            "tf.nn.relu_2 (TFOpLambda)    (None, 200, 200, 128)     0         \n",
            "_________________________________________________________________\n",
            "tf.nn.convolution_3 (TFOpLam (None, 200, 200, 128)     0         \n",
            "_________________________________________________________________\n",
            "tf.nn.bias_add_3 (TFOpLambda (None, 200, 200, 128)     0         \n",
            "_________________________________________________________________\n",
            "tf.nn.relu_3 (TFOpLambda)    (None, 200, 200, 128)     0         \n",
            "_________________________________________________________________\n",
            "tf.compat.v1.nn.max_pool_1 ( (None, 100, 100, 128)     0         \n",
            "_________________________________________________________________\n",
            "tf.nn.convolution_4 (TFOpLam (None, 100, 100, 256)     0         \n",
            "_________________________________________________________________\n",
            "tf.nn.bias_add_4 (TFOpLambda (None, 100, 100, 256)     0         \n",
            "_________________________________________________________________\n",
            "tf.nn.relu_4 (TFOpLambda)    (None, 100, 100, 256)     0         \n",
            "_________________________________________________________________\n",
            "tf.nn.convolution_5 (TFOpLam (None, 100, 100, 256)     0         \n",
            "_________________________________________________________________\n",
            "tf.nn.bias_add_5 (TFOpLambda (None, 100, 100, 256)     0         \n",
            "_________________________________________________________________\n",
            "tf.nn.relu_5 (TFOpLambda)    (None, 100, 100, 256)     0         \n",
            "_________________________________________________________________\n",
            "tf.nn.convolution_6 (TFOpLam (None, 100, 100, 256)     0         \n",
            "_________________________________________________________________\n",
            "tf.nn.bias_add_6 (TFOpLambda (None, 100, 100, 256)     0         \n",
            "_________________________________________________________________\n",
            "tf.nn.relu_6 (TFOpLambda)    (None, 100, 100, 256)     0         \n",
            "_________________________________________________________________\n",
            "tf.compat.v1.nn.max_pool_2 ( (None, 50, 50, 256)       0         \n",
            "_________________________________________________________________\n",
            "tf.nn.convolution_7 (TFOpLam (None, 50, 50, 512)       0         \n",
            "_________________________________________________________________\n",
            "tf.nn.bias_add_7 (TFOpLambda (None, 50, 50, 512)       0         \n",
            "_________________________________________________________________\n",
            "tf.nn.relu_7 (TFOpLambda)    (None, 50, 50, 512)       0         \n",
            "_________________________________________________________________\n",
            "tf.nn.convolution_8 (TFOpLam (None, 50, 50, 512)       0         \n",
            "_________________________________________________________________\n",
            "tf.nn.bias_add_8 (TFOpLambda (None, 50, 50, 512)       0         \n",
            "_________________________________________________________________\n",
            "tf.nn.relu_8 (TFOpLambda)    (None, 50, 50, 512)       0         \n",
            "_________________________________________________________________\n",
            "tf.nn.convolution_9 (TFOpLam (None, 50, 50, 512)       0         \n",
            "_________________________________________________________________\n",
            "tf.nn.bias_add_9 (TFOpLambda (None, 50, 50, 512)       0         \n",
            "_________________________________________________________________\n",
            "tf.nn.relu_9 (TFOpLambda)    (None, 50, 50, 512)       0         \n",
            "_________________________________________________________________\n",
            "tf.compat.v1.nn.max_pool_3 ( (None, 25, 25, 512)       0         \n",
            "_________________________________________________________________\n",
            "tf.nn.convolution_10 (TFOpLa (None, 25, 25, 512)       0         \n",
            "_________________________________________________________________\n",
            "tf.nn.bias_add_10 (TFOpLambd (None, 25, 25, 512)       0         \n",
            "_________________________________________________________________\n",
            "tf.nn.relu_10 (TFOpLambda)   (None, 25, 25, 512)       0         \n",
            "_________________________________________________________________\n",
            "tf.nn.convolution_11 (TFOpLa (None, 25, 25, 512)       0         \n",
            "_________________________________________________________________\n",
            "tf.nn.bias_add_11 (TFOpLambd (None, 25, 25, 512)       0         \n",
            "_________________________________________________________________\n",
            "tf.nn.relu_11 (TFOpLambda)   (None, 25, 25, 512)       0         \n",
            "_________________________________________________________________\n",
            "tf.nn.convolution_12 (TFOpLa (None, 25, 25, 512)       0         \n",
            "_________________________________________________________________\n",
            "tf.nn.bias_add_12 (TFOpLambd (None, 25, 25, 512)       0         \n",
            "_________________________________________________________________\n",
            "tf.nn.relu_12 (TFOpLambda)   (None, 25, 25, 512)       0         \n",
            "_________________________________________________________________\n",
            "tf.compat.v1.nn.max_pool_4 ( (None, 12, 12, 512)       0         \n",
            "_________________________________________________________________\n",
            "global_average_pooling2d (Gl (None, 512)               0         \n",
            "_________________________________________________________________\n",
            "dropout (Dropout)            (None, 512)               0         \n",
            "_________________________________________________________________\n",
            "flatten (Flatten)            (None, 512)               0         \n",
            "_________________________________________________________________\n",
            "dense (Dense)                (None, 128)               65664     \n",
            "_________________________________________________________________\n",
            "dropout_1 (Dropout)          (None, 128)               0         \n",
            "_________________________________________________________________\n",
            "batch_normalization (BatchNo (None, 128)               512       \n",
            "_________________________________________________________________\n",
            "dense_1 (Dense)              (None, 64)                8256      \n",
            "=================================================================\n",
            "Total params: 74,432\n",
            "Trainable params: 74,176\n",
            "Non-trainable params: 256\n",
            "_________________________________________________________________\n"
          ],
          "name": "stdout"
        }
      ]
    },
    {
      "cell_type": "code",
      "metadata": {
        "colab": {
          "base_uri": "https://localhost:8080/"
        },
        "id": "23Scd24NXPA_",
        "outputId": "da6d30e0-5201-4f72-93c8-a9e56c126e5e"
      },
      "source": [
        "model.fit(training_set, epochs=40)"
      ],
      "execution_count": null,
      "outputs": [
        {
          "output_type": "stream",
          "text": [
            "Epoch 1/40\n",
            "97/97 [==============================] - 181s 2s/step - loss: 4.2183 - accuracy: 0.0423\n",
            "Epoch 2/40\n",
            "97/97 [==============================] - 52s 534ms/step - loss: 3.5192 - accuracy: 0.1384\n",
            "Epoch 3/40\n",
            "97/97 [==============================] - 54s 550ms/step - loss: 3.1598 - accuracy: 0.1816\n",
            "Epoch 4/40\n",
            "97/97 [==============================] - 54s 547ms/step - loss: 2.8825 - accuracy: 0.2306\n",
            "Epoch 5/40\n",
            "97/97 [==============================] - 53s 543ms/step - loss: 2.6623 - accuracy: 0.2677\n",
            "Epoch 6/40\n",
            "97/97 [==============================] - 54s 553ms/step - loss: 2.4989 - accuracy: 0.3029\n",
            "Epoch 7/40\n",
            "97/97 [==============================] - 54s 550ms/step - loss: 2.3407 - accuracy: 0.3365\n",
            "Epoch 8/40\n",
            "97/97 [==============================] - 55s 564ms/step - loss: 2.2498 - accuracy: 0.3468\n",
            "Epoch 9/40\n",
            "97/97 [==============================] - 54s 548ms/step - loss: 2.1254 - accuracy: 0.3823\n",
            "Epoch 10/40\n",
            "97/97 [==============================] - 54s 555ms/step - loss: 2.0834 - accuracy: 0.3829\n",
            "Epoch 11/40\n",
            "97/97 [==============================] - 54s 545ms/step - loss: 2.0099 - accuracy: 0.3935\n",
            "Epoch 12/40\n",
            "97/97 [==============================] - 54s 553ms/step - loss: 1.9452 - accuracy: 0.4142\n",
            "Epoch 13/40\n",
            "97/97 [==============================] - 54s 550ms/step - loss: 1.8949 - accuracy: 0.4248\n",
            "Epoch 14/40\n",
            "97/97 [==============================] - 53s 542ms/step - loss: 1.8339 - accuracy: 0.4352\n",
            "Epoch 15/40\n",
            "97/97 [==============================] - 53s 536ms/step - loss: 1.7953 - accuracy: 0.4542\n",
            "Epoch 16/40\n",
            "97/97 [==============================] - 53s 535ms/step - loss: 1.7623 - accuracy: 0.4442\n",
            "Epoch 17/40\n",
            "97/97 [==============================] - 53s 536ms/step - loss: 1.7150 - accuracy: 0.4587\n",
            "Epoch 18/40\n",
            "97/97 [==============================] - 53s 542ms/step - loss: 1.7114 - accuracy: 0.4726\n",
            "Epoch 19/40\n",
            "97/97 [==============================] - 54s 548ms/step - loss: 1.6885 - accuracy: 0.4665\n",
            "Epoch 20/40\n",
            "97/97 [==============================] - 54s 553ms/step - loss: 1.6520 - accuracy: 0.4800\n",
            "Epoch 21/40\n",
            "97/97 [==============================] - 55s 564ms/step - loss: 1.6312 - accuracy: 0.4729\n",
            "Epoch 22/40\n",
            "97/97 [==============================] - 55s 559ms/step - loss: 1.5980 - accuracy: 0.4935\n",
            "Epoch 23/40\n",
            "97/97 [==============================] - 54s 554ms/step - loss: 1.5628 - accuracy: 0.4923\n",
            "Epoch 24/40\n",
            "97/97 [==============================] - 51s 522ms/step - loss: 1.5979 - accuracy: 0.4806\n",
            "Epoch 25/40\n",
            "97/97 [==============================] - 52s 526ms/step - loss: 1.5145 - accuracy: 0.5006\n",
            "Epoch 26/40\n",
            "97/97 [==============================] - 52s 527ms/step - loss: 1.5227 - accuracy: 0.5081\n",
            "Epoch 27/40\n",
            "97/97 [==============================] - 52s 526ms/step - loss: 1.5260 - accuracy: 0.5106\n",
            "Epoch 28/40\n",
            "97/97 [==============================] - 51s 519ms/step - loss: 1.5113 - accuracy: 0.5077\n",
            "Epoch 29/40\n",
            "97/97 [==============================] - 50s 512ms/step - loss: 1.4908 - accuracy: 0.5119\n",
            "Epoch 30/40\n",
            "97/97 [==============================] - 50s 511ms/step - loss: 1.4601 - accuracy: 0.5219\n",
            "Epoch 31/40\n",
            "97/97 [==============================] - 50s 510ms/step - loss: 1.4304 - accuracy: 0.5339\n",
            "Epoch 32/40\n",
            "97/97 [==============================] - 50s 510ms/step - loss: 1.4660 - accuracy: 0.5184\n",
            "Epoch 33/40\n",
            "97/97 [==============================] - 51s 518ms/step - loss: 1.4104 - accuracy: 0.5384\n",
            "Epoch 34/40\n",
            "97/97 [==============================] - 51s 515ms/step - loss: 1.4426 - accuracy: 0.5452\n",
            "Epoch 35/40\n",
            "97/97 [==============================] - 51s 522ms/step - loss: 1.4033 - accuracy: 0.5197\n",
            "Epoch 36/40\n",
            "97/97 [==============================] - 50s 511ms/step - loss: 1.3739 - accuracy: 0.5410\n",
            "Epoch 37/40\n",
            "97/97 [==============================] - 50s 512ms/step - loss: 1.3908 - accuracy: 0.5374\n",
            "Epoch 38/40\n",
            "97/97 [==============================] - 50s 511ms/step - loss: 1.3675 - accuracy: 0.5471\n",
            "Epoch 39/40\n",
            "97/97 [==============================] - 50s 510ms/step - loss: 1.4067 - accuracy: 0.5423\n",
            "Epoch 40/40\n",
            "97/97 [==============================] - 51s 518ms/step - loss: 1.3799 - accuracy: 0.5377\n"
          ],
          "name": "stdout"
        },
        {
          "output_type": "execute_result",
          "data": {
            "text/plain": [
              "<tensorflow.python.keras.callbacks.History at 0x7f79170e2a50>"
            ]
          },
          "metadata": {
            "tags": []
          },
          "execution_count": 11
        }
      ]
    },
    {
      "cell_type": "code",
      "metadata": {
        "colab": {
          "base_uri": "https://localhost:8080/"
        },
        "id": "-eErKj9QXeY4",
        "outputId": "b0513bc7-360f-4bc7-c0b4-c5aa91b742fc"
      },
      "source": [
        "model.evaluate(valid_set, verbose=1) #40"
      ],
      "execution_count": null,
      "outputs": [
        {
          "output_type": "stream",
          "text": [
            "26/26 [==============================] - 104s 2s/step - loss: 1.4920 - accuracy: 0.5152\n"
          ],
          "name": "stdout"
        },
        {
          "output_type": "execute_result",
          "data": {
            "text/plain": [
              "[1.4920461177825928, 0.5151883363723755]"
            ]
          },
          "metadata": {
            "tags": []
          },
          "execution_count": 12
        }
      ]
    },
    {
      "cell_type": "code",
      "metadata": {
        "colab": {
          "base_uri": "https://localhost:8080/"
        },
        "id": "HtilZz-oXR-d",
        "outputId": "82e313be-1946-45ed-811f-c11bb963d59b"
      },
      "source": [
        "model.fit(training_set, epochs=10)"
      ],
      "execution_count": null,
      "outputs": [
        {
          "output_type": "stream",
          "text": [
            "Epoch 1/10\n",
            "97/97 [==============================] - 49s 498ms/step - loss: 1.4164 - accuracy: 0.5287\n",
            "Epoch 2/10\n",
            "97/97 [==============================] - 49s 501ms/step - loss: 1.3872 - accuracy: 0.5348\n",
            "Epoch 3/10\n",
            "97/97 [==============================] - 50s 504ms/step - loss: 1.3860 - accuracy: 0.5394\n",
            "Epoch 4/10\n",
            "97/97 [==============================] - 50s 504ms/step - loss: 1.3612 - accuracy: 0.5487\n",
            "Epoch 5/10\n",
            "97/97 [==============================] - 50s 506ms/step - loss: 1.3264 - accuracy: 0.5503\n",
            "Epoch 6/10\n",
            "97/97 [==============================] - 50s 505ms/step - loss: 1.3589 - accuracy: 0.5458\n",
            "Epoch 7/10\n",
            "97/97 [==============================] - 51s 519ms/step - loss: 1.3306 - accuracy: 0.5619\n",
            "Epoch 8/10\n",
            "97/97 [==============================] - 50s 510ms/step - loss: 1.2979 - accuracy: 0.5503\n",
            "Epoch 9/10\n",
            "97/97 [==============================] - 50s 507ms/step - loss: 1.3222 - accuracy: 0.5539\n",
            "Epoch 10/10\n",
            "97/97 [==============================] - 51s 518ms/step - loss: 1.3283 - accuracy: 0.5539\n"
          ],
          "name": "stdout"
        },
        {
          "output_type": "execute_result",
          "data": {
            "text/plain": [
              "<tensorflow.python.keras.callbacks.History at 0x7f78cc773dd0>"
            ]
          },
          "metadata": {
            "tags": []
          },
          "execution_count": 13
        }
      ]
    },
    {
      "cell_type": "code",
      "metadata": {
        "colab": {
          "base_uri": "https://localhost:8080/"
        },
        "id": "TWu8vFb0XhpY",
        "outputId": "5a568778-210d-4132-957e-6a3cee606d5b"
      },
      "source": [
        "model.evaluate(valid_set, verbose=1) #50"
      ],
      "execution_count": null,
      "outputs": [
        {
          "output_type": "stream",
          "text": [
            "26/26 [==============================] - 20s 453ms/step - loss: 1.4385 - accuracy: 0.5043\n"
          ],
          "name": "stdout"
        },
        {
          "output_type": "execute_result",
          "data": {
            "text/plain": [
              "[1.438458800315857, 0.5042527318000793]"
            ]
          },
          "metadata": {
            "tags": []
          },
          "execution_count": 14
        }
      ]
    },
    {
      "cell_type": "code",
      "metadata": {
        "colab": {
          "base_uri": "https://localhost:8080/"
        },
        "id": "6KAuXgN9XYOs",
        "outputId": "5f26543e-1649-4766-eca3-c625c14d33f6"
      },
      "source": [
        "model.fit(training_set, epochs=10)"
      ],
      "execution_count": null,
      "outputs": [
        {
          "output_type": "stream",
          "text": [
            "Epoch 1/10\n",
            "97/97 [==============================] - 49s 498ms/step - loss: 1.2935 - accuracy: 0.5706\n",
            "Epoch 2/10\n",
            "97/97 [==============================] - 50s 508ms/step - loss: 1.2901 - accuracy: 0.5706\n",
            "Epoch 3/10\n",
            "97/97 [==============================] - 50s 505ms/step - loss: 1.2830 - accuracy: 0.5655\n",
            "Epoch 4/10\n",
            "97/97 [==============================] - 50s 506ms/step - loss: 1.3089 - accuracy: 0.5523\n",
            "Epoch 5/10\n",
            "97/97 [==============================] - 50s 507ms/step - loss: 1.3262 - accuracy: 0.5555\n",
            "Epoch 6/10\n",
            "97/97 [==============================] - 50s 506ms/step - loss: 1.2746 - accuracy: 0.5632\n",
            "Epoch 7/10\n",
            "97/97 [==============================] - 50s 506ms/step - loss: 1.2998 - accuracy: 0.5716\n",
            "Epoch 8/10\n",
            "97/97 [==============================] - 50s 506ms/step - loss: 1.2985 - accuracy: 0.5706\n",
            "Epoch 9/10\n",
            "97/97 [==============================] - 50s 507ms/step - loss: 1.2960 - accuracy: 0.5703\n",
            "Epoch 10/10\n",
            "97/97 [==============================] - 50s 506ms/step - loss: 1.2529 - accuracy: 0.5694\n"
          ],
          "name": "stdout"
        },
        {
          "output_type": "execute_result",
          "data": {
            "text/plain": [
              "<tensorflow.python.keras.callbacks.History at 0x7f78cc7086d0>"
            ]
          },
          "metadata": {
            "tags": []
          },
          "execution_count": 15
        }
      ]
    },
    {
      "cell_type": "code",
      "metadata": {
        "colab": {
          "base_uri": "https://localhost:8080/"
        },
        "id": "c-ZYI0QqXiMy",
        "outputId": "1b5899f7-2ce1-46e2-9ce2-90604e290e5a"
      },
      "source": [
        "model.evaluate(valid_set, verbose=1) #60"
      ],
      "execution_count": null,
      "outputs": [
        {
          "output_type": "stream",
          "text": [
            "26/26 [==============================] - 20s 467ms/step - loss: 1.3998 - accuracy: 0.5298\n"
          ],
          "name": "stdout"
        },
        {
          "output_type": "execute_result",
          "data": {
            "text/plain": [
              "[1.3997935056686401, 0.5297691226005554]"
            ]
          },
          "metadata": {
            "tags": []
          },
          "execution_count": 16
        }
      ]
    },
    {
      "cell_type": "code",
      "metadata": {
        "colab": {
          "base_uri": "https://localhost:8080/"
        },
        "id": "E3V1RakVXY4t",
        "outputId": "90a8001c-42ef-4c3b-f238-d41655f058fc"
      },
      "source": [
        "model.fit(training_set, epochs=10)"
      ],
      "execution_count": null,
      "outputs": [
        {
          "output_type": "stream",
          "text": [
            "Epoch 1/10\n",
            "97/97 [==============================] - 50s 508ms/step - loss: 1.3071 - accuracy: 0.5555\n",
            "Epoch 2/10\n",
            "97/97 [==============================] - 50s 508ms/step - loss: 1.2660 - accuracy: 0.5639\n",
            "Epoch 3/10\n",
            "97/97 [==============================] - 50s 505ms/step - loss: 1.2693 - accuracy: 0.5739\n",
            "Epoch 4/10\n",
            "97/97 [==============================] - 50s 503ms/step - loss: 1.2409 - accuracy: 0.5835\n",
            "Epoch 5/10\n",
            "97/97 [==============================] - 50s 503ms/step - loss: 1.2703 - accuracy: 0.5694\n",
            "Epoch 6/10\n",
            "97/97 [==============================] - 50s 504ms/step - loss: 1.2671 - accuracy: 0.5652\n",
            "Epoch 7/10\n",
            "97/97 [==============================] - 50s 510ms/step - loss: 1.2915 - accuracy: 0.5597\n",
            "Epoch 8/10\n",
            "97/97 [==============================] - 50s 513ms/step - loss: 1.2586 - accuracy: 0.5684\n",
            "Epoch 9/10\n",
            "97/97 [==============================] - 51s 521ms/step - loss: 1.2712 - accuracy: 0.5742\n",
            "Epoch 10/10\n",
            "97/97 [==============================] - 52s 528ms/step - loss: 1.2178 - accuracy: 0.5848\n"
          ],
          "name": "stdout"
        },
        {
          "output_type": "execute_result",
          "data": {
            "text/plain": [
              "<tensorflow.python.keras.callbacks.History at 0x7f78cc708e90>"
            ]
          },
          "metadata": {
            "tags": []
          },
          "execution_count": 17
        }
      ]
    },
    {
      "cell_type": "code",
      "metadata": {
        "colab": {
          "base_uri": "https://localhost:8080/"
        },
        "id": "InR-QWrFXkfy",
        "outputId": "3164f4da-f117-42b7-cd76-36d5a8fb66b8"
      },
      "source": [
        "model.evaluate(valid_set, verbose=1) #70"
      ],
      "execution_count": null,
      "outputs": [
        {
          "output_type": "stream",
          "text": [
            "26/26 [==============================] - 21s 471ms/step - loss: 1.3265 - accuracy: 0.5759\n"
          ],
          "name": "stdout"
        },
        {
          "output_type": "execute_result",
          "data": {
            "text/plain": [
              "[1.3264529705047607, 0.5759416818618774]"
            ]
          },
          "metadata": {
            "tags": []
          },
          "execution_count": 18
        }
      ]
    },
    {
      "cell_type": "code",
      "metadata": {
        "id": "m-AVimRLXalp"
      },
      "source": [
        "model.fit(training_set, epochs=10)"
      ],
      "execution_count": null,
      "outputs": []
    },
    {
      "cell_type": "code",
      "metadata": {
        "colab": {
          "base_uri": "https://localhost:8080/"
        },
        "id": "sXs7mFteXk4E",
        "outputId": "34dce13a-d497-490a-e908-6006749ccbc5"
      },
      "source": [
        "model.evaluate(valid_set, verbose=1) #80"
      ],
      "execution_count": null,
      "outputs": [
        {
          "output_type": "stream",
          "text": [
            "26/26 [==============================] - 20s 458ms/step - loss: 1.3679 - accuracy: 0.5541\n"
          ],
          "name": "stdout"
        },
        {
          "output_type": "execute_result",
          "data": {
            "text/plain": [
              "[1.3678925037384033, 0.5540704727172852]"
            ]
          },
          "metadata": {
            "tags": []
          },
          "execution_count": 19
        }
      ]
    },
    {
      "cell_type": "code",
      "metadata": {
        "colab": {
          "base_uri": "https://localhost:8080/"
        },
        "id": "YVYbHgA1Xa2M",
        "outputId": "02a75c0d-eeaa-4b14-f766-f88a47b6b980"
      },
      "source": [
        "model.fit(training_set, epochs=10)"
      ],
      "execution_count": null,
      "outputs": [
        {
          "output_type": "stream",
          "text": [
            "Epoch 1/10\n",
            "97/97 [==============================] - 49s 501ms/step - loss: 1.2576 - accuracy: 0.5739\n",
            "Epoch 2/10\n",
            "97/97 [==============================] - 50s 504ms/step - loss: 1.2368 - accuracy: 0.5774\n",
            "Epoch 3/10\n",
            "97/97 [==============================] - 50s 506ms/step - loss: 1.2547 - accuracy: 0.5684\n",
            "Epoch 4/10\n",
            "97/97 [==============================] - 51s 517ms/step - loss: 1.2401 - accuracy: 0.5813\n",
            "Epoch 5/10\n",
            "97/97 [==============================] - 52s 525ms/step - loss: 1.2132 - accuracy: 0.5819\n",
            "Epoch 6/10\n",
            "97/97 [==============================] - 50s 513ms/step - loss: 1.2586 - accuracy: 0.5674\n",
            "Epoch 7/10\n",
            "97/97 [==============================] - 50s 509ms/step - loss: 1.2208 - accuracy: 0.5787\n",
            "Epoch 8/10\n",
            "97/97 [==============================] - 50s 507ms/step - loss: 1.2479 - accuracy: 0.5916\n",
            "Epoch 9/10\n",
            "97/97 [==============================] - 50s 507ms/step - loss: 1.1972 - accuracy: 0.5910\n",
            "Epoch 10/10\n",
            "97/97 [==============================] - 50s 507ms/step - loss: 1.2288 - accuracy: 0.5781\n"
          ],
          "name": "stdout"
        },
        {
          "output_type": "execute_result",
          "data": {
            "text/plain": [
              "<tensorflow.python.keras.callbacks.History at 0x7f7916e72f90>"
            ]
          },
          "metadata": {
            "tags": []
          },
          "execution_count": 20
        }
      ]
    },
    {
      "cell_type": "code",
      "metadata": {
        "colab": {
          "base_uri": "https://localhost:8080/"
        },
        "id": "uICOuMq9XlPN",
        "outputId": "fbe61f40-aa54-4171-a6c9-f5625a8ae98b"
      },
      "source": [
        "model.evaluate(valid_set, verbose=1) #90"
      ],
      "execution_count": null,
      "outputs": [
        {
          "output_type": "stream",
          "text": [
            "26/26 [==============================] - 21s 470ms/step - loss: 1.3605 - accuracy: 0.5431\n"
          ],
          "name": "stdout"
        },
        {
          "output_type": "execute_result",
          "data": {
            "text/plain": [
              "[1.3605055809020996, 0.543134868144989]"
            ]
          },
          "metadata": {
            "tags": []
          },
          "execution_count": 21
        }
      ]
    },
    {
      "cell_type": "code",
      "metadata": {
        "colab": {
          "base_uri": "https://localhost:8080/"
        },
        "id": "mniGAYSpYVwK",
        "outputId": "92a66cd1-e53e-48cf-8c14-19006c81efe6"
      },
      "source": [
        "model.fit(training_set, epochs=10)"
      ],
      "execution_count": null,
      "outputs": [
        {
          "output_type": "stream",
          "text": [
            "Epoch 1/10\n",
            "97/97 [==============================] - 49s 497ms/step - loss: 1.2360 - accuracy: 0.5794\n",
            "Epoch 2/10\n",
            "97/97 [==============================] - 50s 507ms/step - loss: 1.2090 - accuracy: 0.5961\n",
            "Epoch 3/10\n",
            "97/97 [==============================] - 50s 507ms/step - loss: 1.2370 - accuracy: 0.5739\n",
            "Epoch 4/10\n",
            "97/97 [==============================] - 50s 507ms/step - loss: 1.2150 - accuracy: 0.5890\n",
            "Epoch 5/10\n",
            "97/97 [==============================] - 50s 507ms/step - loss: 1.2028 - accuracy: 0.5932\n",
            "Epoch 6/10\n",
            "97/97 [==============================] - 50s 508ms/step - loss: 1.2226 - accuracy: 0.5855\n",
            "Epoch 7/10\n",
            "97/97 [==============================] - 50s 508ms/step - loss: 1.2049 - accuracy: 0.5861\n",
            "Epoch 8/10\n",
            "97/97 [==============================] - 50s 507ms/step - loss: 1.2195 - accuracy: 0.5890\n",
            "Epoch 9/10\n",
            "97/97 [==============================] - 50s 508ms/step - loss: 1.2065 - accuracy: 0.5797\n",
            "Epoch 10/10\n",
            "97/97 [==============================] - 50s 507ms/step - loss: 1.1898 - accuracy: 0.5903\n"
          ],
          "name": "stdout"
        },
        {
          "output_type": "execute_result",
          "data": {
            "text/plain": [
              "<tensorflow.python.keras.callbacks.History at 0x7f78cc69ff50>"
            ]
          },
          "metadata": {
            "tags": []
          },
          "execution_count": 22
        }
      ]
    },
    {
      "cell_type": "code",
      "metadata": {
        "colab": {
          "base_uri": "https://localhost:8080/"
        },
        "id": "I1r1GBXrIQsh",
        "outputId": "4eff9b63-9b00-4434-ad66-9072a36f2c4b"
      },
      "source": [
        "model.evaluate(valid_set, verbose=1) #100"
      ],
      "execution_count": null,
      "outputs": [
        {
          "output_type": "stream",
          "text": [
            "26/26 [==============================] - 21s 470ms/step - loss: 1.3361 - accuracy: 0.5541\n"
          ],
          "name": "stdout"
        },
        {
          "output_type": "execute_result",
          "data": {
            "text/plain": [
              "[1.3360763788223267, 0.5540704727172852]"
            ]
          },
          "metadata": {
            "tags": []
          },
          "execution_count": 23
        }
      ]
    },
    {
      "cell_type": "code",
      "metadata": {
        "colab": {
          "base_uri": "https://localhost:8080/"
        },
        "id": "hO-Bqi-rISJW",
        "outputId": "037743e0-3370-4fc0-9467-846c77eb9ae7"
      },
      "source": [
        "model.fit(training_set, epochs=10)"
      ],
      "execution_count": null,
      "outputs": [
        {
          "output_type": "stream",
          "text": [
            "Epoch 1/10\n",
            "97/97 [==============================] - 50s 510ms/step - loss: 1.1735 - accuracy: 0.5990\n",
            "Epoch 2/10\n",
            "97/97 [==============================] - 51s 519ms/step - loss: 1.1882 - accuracy: 0.5897\n",
            "Epoch 3/10\n",
            "97/97 [==============================] - 52s 527ms/step - loss: 1.1822 - accuracy: 0.5997\n",
            "Epoch 4/10\n",
            "97/97 [==============================] - 52s 530ms/step - loss: 1.1982 - accuracy: 0.5855\n",
            "Epoch 5/10\n",
            "97/97 [==============================] - 51s 516ms/step - loss: 1.1827 - accuracy: 0.5971\n",
            "Epoch 6/10\n",
            "97/97 [==============================] - 52s 525ms/step - loss: 1.1901 - accuracy: 0.5884\n",
            "Epoch 7/10\n",
            "97/97 [==============================] - 52s 530ms/step - loss: 1.1691 - accuracy: 0.6035\n",
            "Epoch 8/10\n",
            "97/97 [==============================] - 51s 516ms/step - loss: 1.1957 - accuracy: 0.5826\n",
            "Epoch 9/10\n",
            "97/97 [==============================] - 51s 518ms/step - loss: 1.1657 - accuracy: 0.6039\n",
            "Epoch 10/10\n",
            "97/97 [==============================] - 53s 536ms/step - loss: 1.1724 - accuracy: 0.5987\n"
          ],
          "name": "stdout"
        },
        {
          "output_type": "execute_result",
          "data": {
            "text/plain": [
              "<tensorflow.python.keras.callbacks.History at 0x7f78cc6795d0>"
            ]
          },
          "metadata": {
            "tags": []
          },
          "execution_count": 24
        }
      ]
    },
    {
      "cell_type": "code",
      "metadata": {
        "colab": {
          "base_uri": "https://localhost:8080/"
        },
        "id": "9QKfn7gkIVFw",
        "outputId": "a77f09b7-cb40-40ce-c5f6-8c81cc1ccde3"
      },
      "source": [
        "model.evaluate(valid_set, verbose=1) #110"
      ],
      "execution_count": null,
      "outputs": [
        {
          "output_type": "stream",
          "text": [
            "26/26 [==============================] - 21s 476ms/step - loss: 1.3689 - accuracy: 0.5371\n"
          ],
          "name": "stdout"
        },
        {
          "output_type": "execute_result",
          "data": {
            "text/plain": [
              "[1.3689066171646118, 0.5370595455169678]"
            ]
          },
          "metadata": {
            "tags": []
          },
          "execution_count": 25
        }
      ]
    },
    {
      "cell_type": "code",
      "metadata": {
        "colab": {
          "base_uri": "https://localhost:8080/"
        },
        "id": "y3YJ1L8DIS2e",
        "outputId": "5f142551-3845-483a-9d5f-17d602531973"
      },
      "source": [
        "model.fit(training_set, epochs=10)"
      ],
      "execution_count": null,
      "outputs": [
        {
          "output_type": "stream",
          "text": [
            "Epoch 1/10\n",
            "97/97 [==============================] - 50s 510ms/step - loss: 1.1867 - accuracy: 0.5894\n",
            "Epoch 2/10\n",
            "97/97 [==============================] - 50s 509ms/step - loss: 1.2367 - accuracy: 0.5784\n",
            "Epoch 3/10\n",
            "97/97 [==============================] - 50s 508ms/step - loss: 1.2240 - accuracy: 0.5765\n",
            "Epoch 4/10\n",
            "97/97 [==============================] - 50s 510ms/step - loss: 1.1556 - accuracy: 0.6055\n",
            "Epoch 5/10\n",
            "97/97 [==============================] - 50s 509ms/step - loss: 1.1506 - accuracy: 0.5952\n",
            "Epoch 6/10\n",
            "97/97 [==============================] - 50s 508ms/step - loss: 1.1686 - accuracy: 0.6023\n",
            "Epoch 7/10\n",
            "97/97 [==============================] - 50s 509ms/step - loss: 1.1477 - accuracy: 0.6074\n",
            "Epoch 8/10\n",
            "97/97 [==============================] - 51s 519ms/step - loss: 1.1569 - accuracy: 0.5919\n",
            "Epoch 9/10\n",
            "97/97 [==============================] - 50s 511ms/step - loss: 1.1648 - accuracy: 0.6068\n",
            "Epoch 10/10\n",
            "97/97 [==============================] - 50s 510ms/step - loss: 1.1716 - accuracy: 0.5977\n"
          ],
          "name": "stdout"
        },
        {
          "output_type": "execute_result",
          "data": {
            "text/plain": [
              "<tensorflow.python.keras.callbacks.History at 0x7f78cc69f650>"
            ]
          },
          "metadata": {
            "tags": []
          },
          "execution_count": 26
        }
      ]
    },
    {
      "cell_type": "code",
      "metadata": {
        "colab": {
          "base_uri": "https://localhost:8080/"
        },
        "id": "aTU9xJCrIVyt",
        "outputId": "ffd0cf1e-d3bd-4040-c0ad-19639bc2ab54"
      },
      "source": [
        "model.evaluate(valid_set, verbose=1) #120"
      ],
      "execution_count": null,
      "outputs": [
        {
          "output_type": "stream",
          "text": [
            "26/26 [==============================] - 21s 480ms/step - loss: 1.3420 - accuracy: 0.5383\n"
          ],
          "name": "stdout"
        },
        {
          "output_type": "execute_result",
          "data": {
            "text/plain": [
              "[1.3420027494430542, 0.5382745862007141]"
            ]
          },
          "metadata": {
            "tags": []
          },
          "execution_count": 27
        }
      ]
    },
    {
      "cell_type": "code",
      "metadata": {
        "colab": {
          "base_uri": "https://localhost:8080/"
        },
        "id": "AEL9xCaHITY9",
        "outputId": "44e47f49-f6cb-44c8-bbe7-1dc388400351"
      },
      "source": [
        "model.fit(training_set, epochs=10)"
      ],
      "execution_count": null,
      "outputs": [
        {
          "output_type": "stream",
          "text": [
            "Epoch 1/10\n",
            "97/97 [==============================] - 50s 512ms/step - loss: 1.1537 - accuracy: 0.6006\n",
            "Epoch 2/10\n",
            "97/97 [==============================] - 50s 509ms/step - loss: 1.1603 - accuracy: 0.6029\n",
            "Epoch 3/10\n",
            "97/97 [==============================] - 50s 511ms/step - loss: 1.1589 - accuracy: 0.6090\n",
            "Epoch 4/10\n",
            "97/97 [==============================] - 50s 511ms/step - loss: 1.1276 - accuracy: 0.6090\n",
            "Epoch 5/10\n",
            "97/97 [==============================] - 50s 512ms/step - loss: 1.1187 - accuracy: 0.6055\n",
            "Epoch 6/10\n",
            "97/97 [==============================] - 52s 525ms/step - loss: 1.1396 - accuracy: 0.6045\n",
            "Epoch 7/10\n",
            "97/97 [==============================] - 51s 515ms/step - loss: 1.1373 - accuracy: 0.5997\n",
            "Epoch 8/10\n",
            "97/97 [==============================] - 50s 512ms/step - loss: 1.1218 - accuracy: 0.6071\n",
            "Epoch 9/10\n",
            "97/97 [==============================] - 50s 512ms/step - loss: 1.1378 - accuracy: 0.6168\n",
            "Epoch 10/10\n",
            "97/97 [==============================] - 50s 509ms/step - loss: 1.1336 - accuracy: 0.5948\n"
          ],
          "name": "stdout"
        },
        {
          "output_type": "execute_result",
          "data": {
            "text/plain": [
              "<tensorflow.python.keras.callbacks.History at 0x7f78cc69f790>"
            ]
          },
          "metadata": {
            "tags": []
          },
          "execution_count": 28
        }
      ]
    },
    {
      "cell_type": "code",
      "metadata": {
        "colab": {
          "base_uri": "https://localhost:8080/"
        },
        "id": "AJUtdXWZIWkJ",
        "outputId": "0c141014-7c70-493c-efa2-499fa267b2d8"
      },
      "source": [
        "model.evaluate(valid_set, verbose=1) #130"
      ],
      "execution_count": null,
      "outputs": [
        {
          "output_type": "stream",
          "text": [
            "26/26 [==============================] - 21s 472ms/step - loss: 1.3075 - accuracy: 0.5443\n"
          ],
          "name": "stdout"
        },
        {
          "output_type": "execute_result",
          "data": {
            "text/plain": [
              "[1.3074806928634644, 0.5443499684333801]"
            ]
          },
          "metadata": {
            "tags": []
          },
          "execution_count": 29
        }
      ]
    },
    {
      "cell_type": "code",
      "metadata": {
        "colab": {
          "base_uri": "https://localhost:8080/"
        },
        "id": "9W-Ch660IT6C",
        "outputId": "31d7eabc-34cd-4c48-a14a-dee9dfb00a28"
      },
      "source": [
        "model.fit(training_set, epochs=10)"
      ],
      "execution_count": null,
      "outputs": [
        {
          "output_type": "stream",
          "text": [
            "Epoch 1/10\n",
            "97/97 [==============================] - 50s 509ms/step - loss: 1.1428 - accuracy: 0.6106\n",
            "Epoch 2/10\n",
            "97/97 [==============================] - 50s 509ms/step - loss: 1.1436 - accuracy: 0.6084\n",
            "Epoch 3/10\n",
            "97/97 [==============================] - 50s 509ms/step - loss: 1.1216 - accuracy: 0.6113\n",
            "Epoch 4/10\n",
            "97/97 [==============================] - 50s 511ms/step - loss: 1.1338 - accuracy: 0.6071\n",
            "Epoch 5/10\n",
            "97/97 [==============================] - 50s 511ms/step - loss: 1.1247 - accuracy: 0.6061\n",
            "Epoch 6/10\n",
            "97/97 [==============================] - 51s 518ms/step - loss: 1.1143 - accuracy: 0.6106\n",
            "Epoch 7/10\n",
            "97/97 [==============================] - 51s 523ms/step - loss: 1.1046 - accuracy: 0.6161\n",
            "Epoch 8/10\n",
            "97/97 [==============================] - 51s 514ms/step - loss: 1.1132 - accuracy: 0.6123\n",
            "Epoch 9/10\n",
            "97/97 [==============================] - 51s 522ms/step - loss: 1.1646 - accuracy: 0.6026\n",
            "Epoch 10/10\n",
            "97/97 [==============================] - 51s 515ms/step - loss: 1.1456 - accuracy: 0.5942\n"
          ],
          "name": "stdout"
        },
        {
          "output_type": "execute_result",
          "data": {
            "text/plain": [
              "<tensorflow.python.keras.callbacks.History at 0x7f78cc679a90>"
            ]
          },
          "metadata": {
            "tags": []
          },
          "execution_count": 30
        }
      ]
    },
    {
      "cell_type": "code",
      "metadata": {
        "colab": {
          "base_uri": "https://localhost:8080/"
        },
        "id": "QsmcNKiTIXGe",
        "outputId": "c945c051-1160-4c2c-b289-b17b24577a1d"
      },
      "source": [
        "model.evaluate(valid_set, verbose=1) #140"
      ],
      "execution_count": null,
      "outputs": [
        {
          "output_type": "stream",
          "text": [
            "26/26 [==============================] - 21s 474ms/step - loss: 1.5156 - accuracy: 0.4775\n"
          ],
          "name": "stdout"
        },
        {
          "output_type": "execute_result",
          "data": {
            "text/plain": [
              "[1.5155620574951172, 0.47752127051353455]"
            ]
          },
          "metadata": {
            "tags": []
          },
          "execution_count": 31
        }
      ]
    },
    {
      "cell_type": "markdown",
      "metadata": {
        "id": "gK4KEZbQRCzA"
      },
      "source": [
        "### Restarted training and saving weights for when epoch=60"
      ]
    },
    {
      "cell_type": "code",
      "metadata": {
        "colab": {
          "base_uri": "https://localhost:8080/"
        },
        "id": "zzPXSgl3YUsh",
        "outputId": "21331d37-f310-4f32-d28d-3eb8df3f5422"
      },
      "source": [
        "model.fit(training_set, epochs=60)"
      ],
      "execution_count": null,
      "outputs": [
        {
          "output_type": "stream",
          "text": [
            "Epoch 1/60\n",
            "97/97 [==============================] - 53s 532ms/step - loss: 4.1598 - accuracy: 0.0452\n",
            "Epoch 2/60\n",
            "97/97 [==============================] - 52s 532ms/step - loss: 3.4927 - accuracy: 0.1348\n",
            "Epoch 3/60\n",
            "97/97 [==============================] - 51s 520ms/step - loss: 3.1485 - accuracy: 0.1932\n",
            "Epoch 4/60\n",
            "97/97 [==============================] - 52s 528ms/step - loss: 2.8653 - accuracy: 0.2465\n",
            "Epoch 5/60\n",
            "97/97 [==============================] - 52s 534ms/step - loss: 2.6344 - accuracy: 0.2890\n",
            "Epoch 6/60\n",
            "97/97 [==============================] - 51s 518ms/step - loss: 2.4442 - accuracy: 0.3184\n",
            "Epoch 7/60\n",
            "97/97 [==============================] - 52s 527ms/step - loss: 2.3280 - accuracy: 0.3390\n",
            "Epoch 8/60\n",
            "97/97 [==============================] - 52s 534ms/step - loss: 2.2255 - accuracy: 0.3545\n",
            "Epoch 9/60\n",
            "97/97 [==============================] - 52s 531ms/step - loss: 2.1057 - accuracy: 0.3871\n",
            "Epoch 10/60\n",
            "97/97 [==============================] - 51s 524ms/step - loss: 2.0566 - accuracy: 0.3952\n",
            "Epoch 11/60\n",
            "97/97 [==============================] - 53s 540ms/step - loss: 1.9760 - accuracy: 0.3981\n",
            "Epoch 12/60\n",
            "97/97 [==============================] - 53s 535ms/step - loss: 1.9364 - accuracy: 0.3987\n",
            "Epoch 13/60\n",
            "97/97 [==============================] - 52s 532ms/step - loss: 1.8666 - accuracy: 0.4274\n",
            "Epoch 14/60\n",
            "97/97 [==============================] - 52s 525ms/step - loss: 1.8063 - accuracy: 0.4455\n",
            "Epoch 15/60\n",
            "97/97 [==============================] - 53s 536ms/step - loss: 1.7937 - accuracy: 0.4410\n",
            "Epoch 16/60\n",
            "97/97 [==============================] - 51s 522ms/step - loss: 1.7394 - accuracy: 0.4523\n",
            "Epoch 17/60\n",
            "97/97 [==============================] - 52s 527ms/step - loss: 1.7197 - accuracy: 0.4623\n",
            "Epoch 18/60\n",
            "97/97 [==============================] - 52s 534ms/step - loss: 1.7090 - accuracy: 0.4448\n",
            "Epoch 19/60\n",
            "97/97 [==============================] - 52s 532ms/step - loss: 1.6676 - accuracy: 0.4758\n",
            "Epoch 20/60\n",
            "97/97 [==============================] - 52s 533ms/step - loss: 1.6244 - accuracy: 0.4913\n",
            "Epoch 21/60\n",
            "97/97 [==============================] - 52s 532ms/step - loss: 1.6020 - accuracy: 0.4955\n",
            "Epoch 22/60\n",
            "97/97 [==============================] - 52s 532ms/step - loss: 1.5949 - accuracy: 0.4839\n",
            "Epoch 23/60\n",
            "97/97 [==============================] - 51s 519ms/step - loss: 1.5620 - accuracy: 0.5087\n",
            "Epoch 24/60\n",
            "97/97 [==============================] - 53s 534ms/step - loss: 1.5387 - accuracy: 0.4958\n",
            "Epoch 25/60\n",
            "97/97 [==============================] - 52s 532ms/step - loss: 1.5079 - accuracy: 0.5135\n",
            "Epoch 26/60\n",
            "97/97 [==============================] - 51s 520ms/step - loss: 1.5142 - accuracy: 0.5135\n",
            "Epoch 27/60\n",
            "97/97 [==============================] - 52s 534ms/step - loss: 1.4846 - accuracy: 0.5152\n",
            "Epoch 28/60\n",
            "97/97 [==============================] - 51s 517ms/step - loss: 1.4492 - accuracy: 0.5229\n",
            "Epoch 29/60\n",
            "97/97 [==============================] - 52s 535ms/step - loss: 1.4899 - accuracy: 0.5148\n",
            "Epoch 30/60\n",
            "97/97 [==============================] - 51s 522ms/step - loss: 1.4813 - accuracy: 0.5106\n",
            "Epoch 31/60\n",
            "97/97 [==============================] - 53s 536ms/step - loss: 1.4724 - accuracy: 0.5139\n",
            "Epoch 32/60\n",
            "97/97 [==============================] - 52s 531ms/step - loss: 1.4442 - accuracy: 0.5226\n",
            "Epoch 33/60\n",
            "97/97 [==============================] - 51s 520ms/step - loss: 1.4225 - accuracy: 0.5290\n",
            "Epoch 34/60\n",
            "97/97 [==============================] - 52s 527ms/step - loss: 1.4100 - accuracy: 0.5358\n",
            "Epoch 35/60\n",
            "97/97 [==============================] - 52s 533ms/step - loss: 1.3810 - accuracy: 0.5487\n",
            "Epoch 36/60\n",
            "97/97 [==============================] - 51s 518ms/step - loss: 1.3800 - accuracy: 0.5403\n",
            "Epoch 37/60\n",
            "97/97 [==============================] - 52s 532ms/step - loss: 1.3614 - accuracy: 0.5406\n",
            "Epoch 38/60\n",
            "97/97 [==============================] - 52s 527ms/step - loss: 1.3634 - accuracy: 0.5465\n",
            "Epoch 39/60\n",
            "97/97 [==============================] - 52s 529ms/step - loss: 1.3580 - accuracy: 0.5442\n",
            "Epoch 40/60\n",
            "97/97 [==============================] - 51s 518ms/step - loss: 1.3415 - accuracy: 0.5445\n",
            "Epoch 41/60\n",
            "97/97 [==============================] - 52s 531ms/step - loss: 1.3416 - accuracy: 0.5445\n",
            "Epoch 42/60\n",
            "97/97 [==============================] - 52s 533ms/step - loss: 1.3644 - accuracy: 0.5394\n",
            "Epoch 43/60\n",
            "97/97 [==============================] - 52s 529ms/step - loss: 1.3553 - accuracy: 0.5523\n",
            "Epoch 44/60\n",
            "97/97 [==============================] - 52s 529ms/step - loss: 1.3060 - accuracy: 0.5668\n",
            "Epoch 45/60\n",
            "97/97 [==============================] - 51s 521ms/step - loss: 1.3356 - accuracy: 0.5474\n",
            "Epoch 46/60\n",
            "97/97 [==============================] - 52s 526ms/step - loss: 1.3347 - accuracy: 0.5403\n",
            "Epoch 47/60\n",
            "97/97 [==============================] - 52s 529ms/step - loss: 1.2955 - accuracy: 0.5619\n",
            "Epoch 48/60\n",
            "97/97 [==============================] - 52s 529ms/step - loss: 1.2799 - accuracy: 0.5626\n",
            "Epoch 49/60\n",
            "97/97 [==============================] - 52s 528ms/step - loss: 1.3057 - accuracy: 0.5635\n",
            "Epoch 50/60\n",
            "97/97 [==============================] - 51s 519ms/step - loss: 1.2763 - accuracy: 0.5629\n",
            "Epoch 51/60\n",
            "97/97 [==============================] - 52s 531ms/step - loss: 1.2763 - accuracy: 0.5600\n",
            "Epoch 52/60\n",
            "97/97 [==============================] - 51s 521ms/step - loss: 1.2251 - accuracy: 0.5810\n",
            "Epoch 53/60\n",
            "97/97 [==============================] - 52s 531ms/step - loss: 1.2524 - accuracy: 0.5687\n",
            "Epoch 54/60\n",
            "97/97 [==============================] - 52s 529ms/step - loss: 1.2510 - accuracy: 0.5635\n",
            "Epoch 55/60\n",
            "97/97 [==============================] - 51s 520ms/step - loss: 1.2232 - accuracy: 0.5916\n",
            "Epoch 56/60\n",
            "97/97 [==============================] - 52s 532ms/step - loss: 1.2681 - accuracy: 0.5758\n",
            "Epoch 57/60\n",
            "97/97 [==============================] - 52s 527ms/step - loss: 1.2518 - accuracy: 0.5735\n",
            "Epoch 58/60\n",
            "97/97 [==============================] - 52s 530ms/step - loss: 1.2073 - accuracy: 0.5755\n",
            "Epoch 59/60\n",
            "97/97 [==============================] - 51s 523ms/step - loss: 1.2145 - accuracy: 0.5845\n",
            "Epoch 60/60\n",
            "97/97 [==============================] - 51s 524ms/step - loss: 1.2508 - accuracy: 0.5719\n"
          ],
          "name": "stdout"
        },
        {
          "output_type": "execute_result",
          "data": {
            "text/plain": [
              "<tensorflow.python.keras.callbacks.History at 0x7f961215c6d0>"
            ]
          },
          "metadata": {
            "tags": []
          },
          "execution_count": 53
        }
      ]
    },
    {
      "cell_type": "code",
      "metadata": {
        "colab": {
          "base_uri": "https://localhost:8080/"
        },
        "id": "VWbpV_A0og_T",
        "outputId": "40f6c327-d4c8-4561-9dee-5b59e9a672ce"
      },
      "source": [
        "model.evaluate(valid_set, verbose=1) #60"
      ],
      "execution_count": null,
      "outputs": [
        {
          "output_type": "stream",
          "text": [
            "26/26 [==============================] - 20s 485ms/step - loss: 1.4730 - accuracy: 0.5407\n"
          ],
          "name": "stdout"
        },
        {
          "output_type": "execute_result",
          "data": {
            "text/plain": [
              "[1.472959280014038, 0.5407047271728516]"
            ]
          },
          "metadata": {
            "tags": []
          },
          "execution_count": 54
        }
      ]
    },
    {
      "cell_type": "code",
      "metadata": {
        "id": "LAZjLKCzc4ZO"
      },
      "source": [
        "import os\n",
        "weights_dir = 'weights/article'\n",
        "# Save model weights\n",
        "model.save_weights(os.path.join(weights_dir, 'vgg16-60.h5'))"
      ],
      "execution_count": null,
      "outputs": []
    },
    {
      "cell_type": "code",
      "metadata": {
        "id": "HSuHcUgHXIC0"
      },
      "source": [
        "weights_dir = 'drive/MyDrive/vgg16-60'\n",
        "model.load_weights(os.path.join(weights_dir, 'vgg16-60.h5'))"
      ],
      "execution_count": null,
      "outputs": []
    },
    {
      "cell_type": "code",
      "metadata": {
        "colab": {
          "base_uri": "https://localhost:8080/"
        },
        "id": "kldiswhEYP8E",
        "outputId": "3077a994-34b5-4ac0-f6d2-10e3eda7cfbb"
      },
      "source": [
        "model.fit(training_set, epochs=10)"
      ],
      "execution_count": null,
      "outputs": [
        {
          "output_type": "stream",
          "text": [
            "Epoch 1/10\n",
            "97/97 [==============================] - 631s 6s/step - loss: 1.3573 - accuracy: 0.5500\n",
            "Epoch 2/10\n",
            "97/97 [==============================] - 48s 483ms/step - loss: 1.3405 - accuracy: 0.5532\n",
            "Epoch 3/10\n",
            "97/97 [==============================] - 48s 492ms/step - loss: 1.3113 - accuracy: 0.5681\n",
            "Epoch 4/10\n",
            "97/97 [==============================] - 49s 498ms/step - loss: 1.2978 - accuracy: 0.5655\n",
            "Epoch 5/10\n",
            "97/97 [==============================] - 49s 499ms/step - loss: 1.3037 - accuracy: 0.5658\n",
            "Epoch 6/10\n",
            "97/97 [==============================] - 49s 502ms/step - loss: 1.2928 - accuracy: 0.5681\n",
            "Epoch 7/10\n",
            "97/97 [==============================] - 49s 502ms/step - loss: 1.2854 - accuracy: 0.5613\n",
            "Epoch 8/10\n",
            "97/97 [==============================] - 50s 504ms/step - loss: 1.2872 - accuracy: 0.5655\n",
            "Epoch 9/10\n",
            "97/97 [==============================] - 50s 504ms/step - loss: 1.2916 - accuracy: 0.5706\n",
            "Epoch 10/10\n",
            "97/97 [==============================] - 50s 514ms/step - loss: 1.2806 - accuracy: 0.5610\n"
          ],
          "name": "stdout"
        },
        {
          "output_type": "execute_result",
          "data": {
            "text/plain": [
              "<tensorflow.python.keras.callbacks.History at 0x7f58ffb1cd10>"
            ]
          },
          "metadata": {
            "tags": []
          },
          "execution_count": 12
        }
      ]
    },
    {
      "cell_type": "code",
      "metadata": {
        "colab": {
          "base_uri": "https://localhost:8080/"
        },
        "id": "S9-dFnrdYiIX",
        "outputId": "56fe8fcd-dbe2-4a26-9a96-9eca3dfbde6f"
      },
      "source": [
        "model.evaluate(testing_set, verbose=1) #70"
      ],
      "execution_count": null,
      "outputs": [
        {
          "output_type": "stream",
          "text": [
            "25/25 [==============================] - 159s 6s/step - loss: 1.2517 - accuracy: 0.6100\n"
          ],
          "name": "stdout"
        },
        {
          "output_type": "execute_result",
          "data": {
            "text/plain": [
              "[1.251744031906128, 0.6100000143051147]"
            ]
          },
          "metadata": {
            "tags": []
          },
          "execution_count": 13
        }
      ]
    },
    {
      "cell_type": "markdown",
      "metadata": {
        "id": "hLWnXMgsROw8"
      },
      "source": [
        "### Trying VGG19 with new dataset with different epochs, starting at 40 and increasing by 10"
      ]
    },
    {
      "cell_type": "code",
      "metadata": {
        "colab": {
          "base_uri": "https://localhost:8080/"
        },
        "id": "yNuobomzYNRW",
        "outputId": "a0262fe9-4c48-473a-ddd3-7be409a2ab96"
      },
      "source": [
        "vgg = VGG19(include_top=False, weights=\"imagenet\", input_shape=(img_size, img_size, channels))\n",
        "vgg.trainable = True\n",
        "base_model = vgg\n",
        "\n",
        "inputs = tf.keras.Input(shape=(img_size, img_size, channels))\n",
        "\n",
        "x = base_model(inputs, training=False)\n",
        "x = tf.keras.layers.GlobalAveragePooling2D()(x)\n",
        "x = tf.keras.layers.Dropout(0.2)(x)\n",
        "x = keras.layers.Flatten()(x)\n",
        "X = keras.layers.Dense(128, activation='relu')(x)\n",
        "X = keras.layers.Dropout(0.5)(X)\n",
        "X = keras.layers.BatchNormalization()(X)\n",
        "\n",
        "outputs = tf.keras.layers.Dense(64, activation=tf.keras.activations.softmax)(X)\n",
        "\n",
        "model = tf.keras.Model(inputs, outputs)\n",
        "model.summary()\n",
        "\n",
        "model.compile(loss='sparse_categorical_crossentropy', optimizer='adam', metrics=['accuracy'])"
      ],
      "execution_count": null,
      "outputs": [
        {
          "output_type": "stream",
          "text": [
            "Downloading data from https://storage.googleapis.com/tensorflow/keras-applications/vgg19/vgg19_weights_tf_dim_ordering_tf_kernels_notop.h5\n",
            "80142336/80134624 [==============================] - 1s 0us/step\n",
            "80150528/80134624 [==============================] - 1s 0us/step\n",
            "WARNING:tensorflow:\n",
            "The following Variables were used a Lambda layer's call (tf.nn.convolution_13), but\n",
            "are not present in its tracked objects:\n",
            "  <tf.Variable 'block1_conv1/kernel:0' shape=(3, 3, 3, 64) dtype=float32>\n",
            "It is possible that this is intended behavior, but it is more likely\n",
            "an omission. This is a strong indication that this layer should be\n",
            "formulated as a subclassed Layer rather than a Lambda layer.\n",
            "WARNING:tensorflow:\n",
            "The following Variables were used a Lambda layer's call (tf.nn.bias_add_13), but\n",
            "are not present in its tracked objects:\n",
            "  <tf.Variable 'block1_conv1/bias:0' shape=(64,) dtype=float32>\n",
            "It is possible that this is intended behavior, but it is more likely\n",
            "an omission. This is a strong indication that this layer should be\n",
            "formulated as a subclassed Layer rather than a Lambda layer.\n",
            "WARNING:tensorflow:\n",
            "The following Variables were used a Lambda layer's call (tf.nn.convolution_14), but\n",
            "are not present in its tracked objects:\n",
            "  <tf.Variable 'block1_conv2/kernel:0' shape=(3, 3, 64, 64) dtype=float32>\n",
            "It is possible that this is intended behavior, but it is more likely\n",
            "an omission. This is a strong indication that this layer should be\n",
            "formulated as a subclassed Layer rather than a Lambda layer.\n",
            "WARNING:tensorflow:\n",
            "The following Variables were used a Lambda layer's call (tf.nn.bias_add_14), but\n",
            "are not present in its tracked objects:\n",
            "  <tf.Variable 'block1_conv2/bias:0' shape=(64,) dtype=float32>\n",
            "It is possible that this is intended behavior, but it is more likely\n",
            "an omission. This is a strong indication that this layer should be\n",
            "formulated as a subclassed Layer rather than a Lambda layer.\n",
            "WARNING:tensorflow:\n",
            "The following Variables were used a Lambda layer's call (tf.nn.convolution_15), but\n",
            "are not present in its tracked objects:\n",
            "  <tf.Variable 'block2_conv1/kernel:0' shape=(3, 3, 64, 128) dtype=float32>\n",
            "It is possible that this is intended behavior, but it is more likely\n",
            "an omission. This is a strong indication that this layer should be\n",
            "formulated as a subclassed Layer rather than a Lambda layer.\n",
            "WARNING:tensorflow:\n",
            "The following Variables were used a Lambda layer's call (tf.nn.bias_add_15), but\n",
            "are not present in its tracked objects:\n",
            "  <tf.Variable 'block2_conv1/bias:0' shape=(128,) dtype=float32>\n",
            "It is possible that this is intended behavior, but it is more likely\n",
            "an omission. This is a strong indication that this layer should be\n",
            "formulated as a subclassed Layer rather than a Lambda layer.\n",
            "WARNING:tensorflow:\n",
            "The following Variables were used a Lambda layer's call (tf.nn.convolution_16), but\n",
            "are not present in its tracked objects:\n",
            "  <tf.Variable 'block2_conv2/kernel:0' shape=(3, 3, 128, 128) dtype=float32>\n",
            "It is possible that this is intended behavior, but it is more likely\n",
            "an omission. This is a strong indication that this layer should be\n",
            "formulated as a subclassed Layer rather than a Lambda layer.\n",
            "WARNING:tensorflow:\n",
            "The following Variables were used a Lambda layer's call (tf.nn.bias_add_16), but\n",
            "are not present in its tracked objects:\n",
            "  <tf.Variable 'block2_conv2/bias:0' shape=(128,) dtype=float32>\n",
            "It is possible that this is intended behavior, but it is more likely\n",
            "an omission. This is a strong indication that this layer should be\n",
            "formulated as a subclassed Layer rather than a Lambda layer.\n",
            "WARNING:tensorflow:\n",
            "The following Variables were used a Lambda layer's call (tf.nn.convolution_17), but\n",
            "are not present in its tracked objects:\n",
            "  <tf.Variable 'block3_conv1/kernel:0' shape=(3, 3, 128, 256) dtype=float32>\n",
            "It is possible that this is intended behavior, but it is more likely\n",
            "an omission. This is a strong indication that this layer should be\n",
            "formulated as a subclassed Layer rather than a Lambda layer.\n",
            "WARNING:tensorflow:\n",
            "The following Variables were used a Lambda layer's call (tf.nn.bias_add_17), but\n",
            "are not present in its tracked objects:\n",
            "  <tf.Variable 'block3_conv1/bias:0' shape=(256,) dtype=float32>\n",
            "It is possible that this is intended behavior, but it is more likely\n",
            "an omission. This is a strong indication that this layer should be\n",
            "formulated as a subclassed Layer rather than a Lambda layer.\n",
            "WARNING:tensorflow:\n",
            "The following Variables were used a Lambda layer's call (tf.nn.convolution_18), but\n",
            "are not present in its tracked objects:\n",
            "  <tf.Variable 'block3_conv2/kernel:0' shape=(3, 3, 256, 256) dtype=float32>\n",
            "It is possible that this is intended behavior, but it is more likely\n",
            "an omission. This is a strong indication that this layer should be\n",
            "formulated as a subclassed Layer rather than a Lambda layer.\n",
            "WARNING:tensorflow:\n",
            "The following Variables were used a Lambda layer's call (tf.nn.bias_add_18), but\n",
            "are not present in its tracked objects:\n",
            "  <tf.Variable 'block3_conv2/bias:0' shape=(256,) dtype=float32>\n",
            "It is possible that this is intended behavior, but it is more likely\n",
            "an omission. This is a strong indication that this layer should be\n",
            "formulated as a subclassed Layer rather than a Lambda layer.\n",
            "WARNING:tensorflow:\n",
            "The following Variables were used a Lambda layer's call (tf.nn.convolution_19), but\n",
            "are not present in its tracked objects:\n",
            "  <tf.Variable 'block3_conv3/kernel:0' shape=(3, 3, 256, 256) dtype=float32>\n",
            "It is possible that this is intended behavior, but it is more likely\n",
            "an omission. This is a strong indication that this layer should be\n",
            "formulated as a subclassed Layer rather than a Lambda layer.\n",
            "WARNING:tensorflow:\n",
            "The following Variables were used a Lambda layer's call (tf.nn.bias_add_19), but\n",
            "are not present in its tracked objects:\n",
            "  <tf.Variable 'block3_conv3/bias:0' shape=(256,) dtype=float32>\n",
            "It is possible that this is intended behavior, but it is more likely\n",
            "an omission. This is a strong indication that this layer should be\n",
            "formulated as a subclassed Layer rather than a Lambda layer.\n",
            "WARNING:tensorflow:\n",
            "The following Variables were used a Lambda layer's call (tf.nn.convolution_20), but\n",
            "are not present in its tracked objects:\n",
            "  <tf.Variable 'block3_conv4/kernel:0' shape=(3, 3, 256, 256) dtype=float32>\n",
            "It is possible that this is intended behavior, but it is more likely\n",
            "an omission. This is a strong indication that this layer should be\n",
            "formulated as a subclassed Layer rather than a Lambda layer.\n",
            "WARNING:tensorflow:\n",
            "The following Variables were used a Lambda layer's call (tf.nn.bias_add_20), but\n",
            "are not present in its tracked objects:\n",
            "  <tf.Variable 'block3_conv4/bias:0' shape=(256,) dtype=float32>\n",
            "It is possible that this is intended behavior, but it is more likely\n",
            "an omission. This is a strong indication that this layer should be\n",
            "formulated as a subclassed Layer rather than a Lambda layer.\n",
            "WARNING:tensorflow:\n",
            "The following Variables were used a Lambda layer's call (tf.nn.convolution_21), but\n",
            "are not present in its tracked objects:\n",
            "  <tf.Variable 'block4_conv1/kernel:0' shape=(3, 3, 256, 512) dtype=float32>\n",
            "It is possible that this is intended behavior, but it is more likely\n",
            "an omission. This is a strong indication that this layer should be\n",
            "formulated as a subclassed Layer rather than a Lambda layer.\n",
            "WARNING:tensorflow:\n",
            "The following Variables were used a Lambda layer's call (tf.nn.bias_add_21), but\n",
            "are not present in its tracked objects:\n",
            "  <tf.Variable 'block4_conv1/bias:0' shape=(512,) dtype=float32>\n",
            "It is possible that this is intended behavior, but it is more likely\n",
            "an omission. This is a strong indication that this layer should be\n",
            "formulated as a subclassed Layer rather than a Lambda layer.\n",
            "WARNING:tensorflow:\n",
            "The following Variables were used a Lambda layer's call (tf.nn.convolution_22), but\n",
            "are not present in its tracked objects:\n",
            "  <tf.Variable 'block4_conv2/kernel:0' shape=(3, 3, 512, 512) dtype=float32>\n",
            "It is possible that this is intended behavior, but it is more likely\n",
            "an omission. This is a strong indication that this layer should be\n",
            "formulated as a subclassed Layer rather than a Lambda layer.\n",
            "WARNING:tensorflow:\n",
            "The following Variables were used a Lambda layer's call (tf.nn.bias_add_22), but\n",
            "are not present in its tracked objects:\n",
            "  <tf.Variable 'block4_conv2/bias:0' shape=(512,) dtype=float32>\n",
            "It is possible that this is intended behavior, but it is more likely\n",
            "an omission. This is a strong indication that this layer should be\n",
            "formulated as a subclassed Layer rather than a Lambda layer.\n",
            "WARNING:tensorflow:\n",
            "The following Variables were used a Lambda layer's call (tf.nn.convolution_23), but\n",
            "are not present in its tracked objects:\n",
            "  <tf.Variable 'block4_conv3/kernel:0' shape=(3, 3, 512, 512) dtype=float32>\n",
            "It is possible that this is intended behavior, but it is more likely\n",
            "an omission. This is a strong indication that this layer should be\n",
            "formulated as a subclassed Layer rather than a Lambda layer.\n",
            "WARNING:tensorflow:\n",
            "The following Variables were used a Lambda layer's call (tf.nn.bias_add_23), but\n",
            "are not present in its tracked objects:\n",
            "  <tf.Variable 'block4_conv3/bias:0' shape=(512,) dtype=float32>\n",
            "It is possible that this is intended behavior, but it is more likely\n",
            "an omission. This is a strong indication that this layer should be\n",
            "formulated as a subclassed Layer rather than a Lambda layer.\n",
            "WARNING:tensorflow:\n",
            "The following Variables were used a Lambda layer's call (tf.nn.convolution_24), but\n",
            "are not present in its tracked objects:\n",
            "  <tf.Variable 'block4_conv4/kernel:0' shape=(3, 3, 512, 512) dtype=float32>\n",
            "It is possible that this is intended behavior, but it is more likely\n",
            "an omission. This is a strong indication that this layer should be\n",
            "formulated as a subclassed Layer rather than a Lambda layer.\n",
            "WARNING:tensorflow:\n",
            "The following Variables were used a Lambda layer's call (tf.nn.bias_add_24), but\n",
            "are not present in its tracked objects:\n",
            "  <tf.Variable 'block4_conv4/bias:0' shape=(512,) dtype=float32>\n",
            "It is possible that this is intended behavior, but it is more likely\n",
            "an omission. This is a strong indication that this layer should be\n",
            "formulated as a subclassed Layer rather than a Lambda layer.\n",
            "WARNING:tensorflow:\n",
            "The following Variables were used a Lambda layer's call (tf.nn.convolution_25), but\n",
            "are not present in its tracked objects:\n",
            "  <tf.Variable 'block5_conv1/kernel:0' shape=(3, 3, 512, 512) dtype=float32>\n",
            "It is possible that this is intended behavior, but it is more likely\n",
            "an omission. This is a strong indication that this layer should be\n",
            "formulated as a subclassed Layer rather than a Lambda layer.\n",
            "WARNING:tensorflow:\n",
            "The following Variables were used a Lambda layer's call (tf.nn.bias_add_25), but\n",
            "are not present in its tracked objects:\n",
            "  <tf.Variable 'block5_conv1/bias:0' shape=(512,) dtype=float32>\n",
            "It is possible that this is intended behavior, but it is more likely\n",
            "an omission. This is a strong indication that this layer should be\n",
            "formulated as a subclassed Layer rather than a Lambda layer.\n",
            "WARNING:tensorflow:\n",
            "The following Variables were used a Lambda layer's call (tf.nn.convolution_26), but\n",
            "are not present in its tracked objects:\n",
            "  <tf.Variable 'block5_conv2/kernel:0' shape=(3, 3, 512, 512) dtype=float32>\n",
            "It is possible that this is intended behavior, but it is more likely\n",
            "an omission. This is a strong indication that this layer should be\n",
            "formulated as a subclassed Layer rather than a Lambda layer.\n",
            "WARNING:tensorflow:\n",
            "The following Variables were used a Lambda layer's call (tf.nn.bias_add_26), but\n",
            "are not present in its tracked objects:\n",
            "  <tf.Variable 'block5_conv2/bias:0' shape=(512,) dtype=float32>\n",
            "It is possible that this is intended behavior, but it is more likely\n",
            "an omission. This is a strong indication that this layer should be\n",
            "formulated as a subclassed Layer rather than a Lambda layer.\n",
            "WARNING:tensorflow:\n",
            "The following Variables were used a Lambda layer's call (tf.nn.convolution_27), but\n",
            "are not present in its tracked objects:\n",
            "  <tf.Variable 'block5_conv3/kernel:0' shape=(3, 3, 512, 512) dtype=float32>\n",
            "It is possible that this is intended behavior, but it is more likely\n",
            "an omission. This is a strong indication that this layer should be\n",
            "formulated as a subclassed Layer rather than a Lambda layer.\n",
            "WARNING:tensorflow:\n",
            "The following Variables were used a Lambda layer's call (tf.nn.bias_add_27), but\n",
            "are not present in its tracked objects:\n",
            "  <tf.Variable 'block5_conv3/bias:0' shape=(512,) dtype=float32>\n",
            "It is possible that this is intended behavior, but it is more likely\n",
            "an omission. This is a strong indication that this layer should be\n",
            "formulated as a subclassed Layer rather than a Lambda layer.\n",
            "WARNING:tensorflow:\n",
            "The following Variables were used a Lambda layer's call (tf.nn.convolution_28), but\n",
            "are not present in its tracked objects:\n",
            "  <tf.Variable 'block5_conv4/kernel:0' shape=(3, 3, 512, 512) dtype=float32>\n",
            "It is possible that this is intended behavior, but it is more likely\n",
            "an omission. This is a strong indication that this layer should be\n",
            "formulated as a subclassed Layer rather than a Lambda layer.\n",
            "WARNING:tensorflow:\n",
            "The following Variables were used a Lambda layer's call (tf.nn.bias_add_28), but\n",
            "are not present in its tracked objects:\n",
            "  <tf.Variable 'block5_conv4/bias:0' shape=(512,) dtype=float32>\n",
            "It is possible that this is intended behavior, but it is more likely\n",
            "an omission. This is a strong indication that this layer should be\n",
            "formulated as a subclassed Layer rather than a Lambda layer.\n",
            "Model: \"model_1\"\n",
            "_________________________________________________________________\n",
            "Layer (type)                 Output Shape              Param #   \n",
            "=================================================================\n",
            "input_2 (InputLayer)         [(None, 400, 400, 3)]     0         \n",
            "_________________________________________________________________\n",
            "tf.nn.convolution_13 (TFOpLa (None, 400, 400, 64)      0         \n",
            "_________________________________________________________________\n",
            "tf.nn.bias_add_13 (TFOpLambd (None, 400, 400, 64)      0         \n",
            "_________________________________________________________________\n",
            "tf.nn.relu_13 (TFOpLambda)   (None, 400, 400, 64)      0         \n",
            "_________________________________________________________________\n",
            "tf.nn.convolution_14 (TFOpLa (None, 400, 400, 64)      0         \n",
            "_________________________________________________________________\n",
            "tf.nn.bias_add_14 (TFOpLambd (None, 400, 400, 64)      0         \n",
            "_________________________________________________________________\n",
            "tf.nn.relu_14 (TFOpLambda)   (None, 400, 400, 64)      0         \n",
            "_________________________________________________________________\n",
            "tf.compat.v1.nn.max_pool_5 ( (None, 200, 200, 64)      0         \n",
            "_________________________________________________________________\n",
            "tf.nn.convolution_15 (TFOpLa (None, 200, 200, 128)     0         \n",
            "_________________________________________________________________\n",
            "tf.nn.bias_add_15 (TFOpLambd (None, 200, 200, 128)     0         \n",
            "_________________________________________________________________\n",
            "tf.nn.relu_15 (TFOpLambda)   (None, 200, 200, 128)     0         \n",
            "_________________________________________________________________\n",
            "tf.nn.convolution_16 (TFOpLa (None, 200, 200, 128)     0         \n",
            "_________________________________________________________________\n",
            "tf.nn.bias_add_16 (TFOpLambd (None, 200, 200, 128)     0         \n",
            "_________________________________________________________________\n",
            "tf.nn.relu_16 (TFOpLambda)   (None, 200, 200, 128)     0         \n",
            "_________________________________________________________________\n",
            "tf.compat.v1.nn.max_pool_6 ( (None, 100, 100, 128)     0         \n",
            "_________________________________________________________________\n",
            "tf.nn.convolution_17 (TFOpLa (None, 100, 100, 256)     0         \n",
            "_________________________________________________________________\n",
            "tf.nn.bias_add_17 (TFOpLambd (None, 100, 100, 256)     0         \n",
            "_________________________________________________________________\n",
            "tf.nn.relu_17 (TFOpLambda)   (None, 100, 100, 256)     0         \n",
            "_________________________________________________________________\n",
            "tf.nn.convolution_18 (TFOpLa (None, 100, 100, 256)     0         \n",
            "_________________________________________________________________\n",
            "tf.nn.bias_add_18 (TFOpLambd (None, 100, 100, 256)     0         \n",
            "_________________________________________________________________\n",
            "tf.nn.relu_18 (TFOpLambda)   (None, 100, 100, 256)     0         \n",
            "_________________________________________________________________\n",
            "tf.nn.convolution_19 (TFOpLa (None, 100, 100, 256)     0         \n",
            "_________________________________________________________________\n",
            "tf.nn.bias_add_19 (TFOpLambd (None, 100, 100, 256)     0         \n",
            "_________________________________________________________________\n",
            "tf.nn.relu_19 (TFOpLambda)   (None, 100, 100, 256)     0         \n",
            "_________________________________________________________________\n",
            "tf.nn.convolution_20 (TFOpLa (None, 100, 100, 256)     0         \n",
            "_________________________________________________________________\n",
            "tf.nn.bias_add_20 (TFOpLambd (None, 100, 100, 256)     0         \n",
            "_________________________________________________________________\n",
            "tf.nn.relu_20 (TFOpLambda)   (None, 100, 100, 256)     0         \n",
            "_________________________________________________________________\n",
            "tf.compat.v1.nn.max_pool_7 ( (None, 50, 50, 256)       0         \n",
            "_________________________________________________________________\n",
            "tf.nn.convolution_21 (TFOpLa (None, 50, 50, 512)       0         \n",
            "_________________________________________________________________\n",
            "tf.nn.bias_add_21 (TFOpLambd (None, 50, 50, 512)       0         \n",
            "_________________________________________________________________\n",
            "tf.nn.relu_21 (TFOpLambda)   (None, 50, 50, 512)       0         \n",
            "_________________________________________________________________\n",
            "tf.nn.convolution_22 (TFOpLa (None, 50, 50, 512)       0         \n",
            "_________________________________________________________________\n",
            "tf.nn.bias_add_22 (TFOpLambd (None, 50, 50, 512)       0         \n",
            "_________________________________________________________________\n",
            "tf.nn.relu_22 (TFOpLambda)   (None, 50, 50, 512)       0         \n",
            "_________________________________________________________________\n",
            "tf.nn.convolution_23 (TFOpLa (None, 50, 50, 512)       0         \n",
            "_________________________________________________________________\n",
            "tf.nn.bias_add_23 (TFOpLambd (None, 50, 50, 512)       0         \n",
            "_________________________________________________________________\n",
            "tf.nn.relu_23 (TFOpLambda)   (None, 50, 50, 512)       0         \n",
            "_________________________________________________________________\n",
            "tf.nn.convolution_24 (TFOpLa (None, 50, 50, 512)       0         \n",
            "_________________________________________________________________\n",
            "tf.nn.bias_add_24 (TFOpLambd (None, 50, 50, 512)       0         \n",
            "_________________________________________________________________\n",
            "tf.nn.relu_24 (TFOpLambda)   (None, 50, 50, 512)       0         \n",
            "_________________________________________________________________\n",
            "tf.compat.v1.nn.max_pool_8 ( (None, 25, 25, 512)       0         \n",
            "_________________________________________________________________\n",
            "tf.nn.convolution_25 (TFOpLa (None, 25, 25, 512)       0         \n",
            "_________________________________________________________________\n",
            "tf.nn.bias_add_25 (TFOpLambd (None, 25, 25, 512)       0         \n",
            "_________________________________________________________________\n",
            "tf.nn.relu_25 (TFOpLambda)   (None, 25, 25, 512)       0         \n",
            "_________________________________________________________________\n",
            "tf.nn.convolution_26 (TFOpLa (None, 25, 25, 512)       0         \n",
            "_________________________________________________________________\n",
            "tf.nn.bias_add_26 (TFOpLambd (None, 25, 25, 512)       0         \n",
            "_________________________________________________________________\n",
            "tf.nn.relu_26 (TFOpLambda)   (None, 25, 25, 512)       0         \n",
            "_________________________________________________________________\n",
            "tf.nn.convolution_27 (TFOpLa (None, 25, 25, 512)       0         \n",
            "_________________________________________________________________\n",
            "tf.nn.bias_add_27 (TFOpLambd (None, 25, 25, 512)       0         \n",
            "_________________________________________________________________\n",
            "tf.nn.relu_27 (TFOpLambda)   (None, 25, 25, 512)       0         \n",
            "_________________________________________________________________\n",
            "tf.nn.convolution_28 (TFOpLa (None, 25, 25, 512)       0         \n",
            "_________________________________________________________________\n",
            "tf.nn.bias_add_28 (TFOpLambd (None, 25, 25, 512)       0         \n",
            "_________________________________________________________________\n",
            "tf.nn.relu_28 (TFOpLambda)   (None, 25, 25, 512)       0         \n",
            "_________________________________________________________________\n",
            "tf.compat.v1.nn.max_pool_9 ( (None, 12, 12, 512)       0         \n",
            "_________________________________________________________________\n",
            "global_average_pooling2d_1 ( (None, 512)               0         \n",
            "_________________________________________________________________\n",
            "dropout_2 (Dropout)          (None, 512)               0         \n",
            "_________________________________________________________________\n",
            "flatten_1 (Flatten)          (None, 512)               0         \n",
            "_________________________________________________________________\n",
            "dense_2 (Dense)              (None, 128)               65664     \n",
            "_________________________________________________________________\n",
            "dropout_3 (Dropout)          (None, 128)               0         \n",
            "_________________________________________________________________\n",
            "batch_normalization_1 (Batch (None, 128)               512       \n",
            "_________________________________________________________________\n",
            "dense_3 (Dense)              (None, 64)                8256      \n",
            "=================================================================\n",
            "Total params: 74,432\n",
            "Trainable params: 74,176\n",
            "Non-trainable params: 256\n",
            "_________________________________________________________________\n"
          ],
          "name": "stdout"
        }
      ]
    },
    {
      "cell_type": "code",
      "metadata": {
        "colab": {
          "base_uri": "https://localhost:8080/"
        },
        "id": "L30VsCwHYTQj",
        "outputId": "3d9d82e0-8fe0-4ac6-80bb-41db88c73643"
      },
      "source": [
        "model.fit(training_set, epochs=60)"
      ],
      "execution_count": null,
      "outputs": [
        {
          "output_type": "stream",
          "text": [
            "Epoch 1/60\n",
            "97/97 [==============================] - 58s 585ms/step - loss: 4.1802 - accuracy: 0.0477\n",
            "Epoch 2/60\n",
            "97/97 [==============================] - 61s 622ms/step - loss: 3.4836 - accuracy: 0.1413\n",
            "Epoch 3/60\n",
            "97/97 [==============================] - 64s 651ms/step - loss: 3.1175 - accuracy: 0.1994\n",
            "Epoch 4/60\n",
            "97/97 [==============================] - 64s 655ms/step - loss: 2.8433 - accuracy: 0.2506\n",
            "Epoch 5/60\n",
            "97/97 [==============================] - 63s 640ms/step - loss: 2.6060 - accuracy: 0.2832\n",
            "Epoch 6/60\n",
            "97/97 [==============================] - 64s 658ms/step - loss: 2.4311 - accuracy: 0.3229\n",
            "Epoch 7/60\n",
            "97/97 [==============================] - 63s 643ms/step - loss: 2.2722 - accuracy: 0.3365\n",
            "Epoch 8/60\n",
            "97/97 [==============================] - 64s 658ms/step - loss: 2.1659 - accuracy: 0.3671\n",
            "Epoch 9/60\n",
            "97/97 [==============================] - 64s 656ms/step - loss: 2.0530 - accuracy: 0.3926\n",
            "Epoch 10/60\n",
            "97/97 [==============================] - 63s 640ms/step - loss: 1.9796 - accuracy: 0.4035\n",
            "Epoch 11/60\n",
            "97/97 [==============================] - 65s 658ms/step - loss: 1.9227 - accuracy: 0.4200\n",
            "Epoch 12/60\n",
            "97/97 [==============================] - 64s 653ms/step - loss: 1.8577 - accuracy: 0.4397\n",
            "Epoch 13/60\n",
            "97/97 [==============================] - 63s 641ms/step - loss: 1.8350 - accuracy: 0.4397\n",
            "Epoch 14/60\n",
            "97/97 [==============================] - 64s 657ms/step - loss: 1.7305 - accuracy: 0.4606\n",
            "Epoch 15/60\n",
            "97/97 [==============================] - 63s 640ms/step - loss: 1.7011 - accuracy: 0.4577\n",
            "Epoch 16/60\n",
            "97/97 [==============================] - 64s 654ms/step - loss: 1.6767 - accuracy: 0.4755\n",
            "Epoch 17/60\n",
            "97/97 [==============================] - 64s 651ms/step - loss: 1.6374 - accuracy: 0.4819\n",
            "Epoch 18/60\n",
            "97/97 [==============================] - 64s 652ms/step - loss: 1.6213 - accuracy: 0.4790\n",
            "Epoch 19/60\n",
            "97/97 [==============================] - 64s 653ms/step - loss: 1.6012 - accuracy: 0.4861\n",
            "Epoch 20/60\n",
            "97/97 [==============================] - 64s 649ms/step - loss: 1.5730 - accuracy: 0.4926\n",
            "Epoch 21/60\n",
            "97/97 [==============================] - 64s 652ms/step - loss: 1.5123 - accuracy: 0.5068\n",
            "Epoch 22/60\n",
            "97/97 [==============================] - 64s 653ms/step - loss: 1.5078 - accuracy: 0.5145\n",
            "Epoch 23/60\n",
            "97/97 [==============================] - 64s 652ms/step - loss: 1.4465 - accuracy: 0.5297\n",
            "Epoch 24/60\n",
            "97/97 [==============================] - 64s 652ms/step - loss: 1.4676 - accuracy: 0.5213\n",
            "Epoch 25/60\n",
            "97/97 [==============================] - 64s 653ms/step - loss: 1.4474 - accuracy: 0.5235\n",
            "Epoch 26/60\n",
            "97/97 [==============================] - 64s 652ms/step - loss: 1.4320 - accuracy: 0.5203\n",
            "Epoch 27/60\n",
            "97/97 [==============================] - 64s 651ms/step - loss: 1.4337 - accuracy: 0.5271\n",
            "Epoch 28/60\n",
            "97/97 [==============================] - 64s 652ms/step - loss: 1.4278 - accuracy: 0.5339\n",
            "Epoch 29/60\n",
            "97/97 [==============================] - 63s 638ms/step - loss: 1.3871 - accuracy: 0.5523\n",
            "Epoch 30/60\n",
            "97/97 [==============================] - 64s 654ms/step - loss: 1.3898 - accuracy: 0.5439\n",
            "Epoch 31/60\n",
            "97/97 [==============================] - 64s 654ms/step - loss: 1.4143 - accuracy: 0.5168\n",
            "Epoch 32/60\n",
            "97/97 [==============================] - 64s 653ms/step - loss: 1.3558 - accuracy: 0.5406\n",
            "Epoch 33/60\n",
            "97/97 [==============================] - 64s 654ms/step - loss: 1.3227 - accuracy: 0.5571\n",
            "Epoch 34/60\n",
            "97/97 [==============================] - 64s 653ms/step - loss: 1.3560 - accuracy: 0.5477\n",
            "Epoch 35/60\n",
            "97/97 [==============================] - 62s 630ms/step - loss: 1.3022 - accuracy: 0.5742\n",
            "Epoch 36/60\n",
            "97/97 [==============================] - 60s 613ms/step - loss: 1.3199 - accuracy: 0.5619\n",
            "Epoch 37/60\n",
            "97/97 [==============================] - 60s 609ms/step - loss: 1.2783 - accuracy: 0.5729\n",
            "Epoch 38/60\n",
            "97/97 [==============================] - 60s 608ms/step - loss: 1.2922 - accuracy: 0.5587\n",
            "Epoch 39/60\n",
            "97/97 [==============================] - 60s 614ms/step - loss: 1.2623 - accuracy: 0.5752\n",
            "Epoch 40/60\n",
            "97/97 [==============================] - 61s 621ms/step - loss: 1.2925 - accuracy: 0.5597\n",
            "Epoch 41/60\n",
            "97/97 [==============================] - 60s 609ms/step - loss: 1.2659 - accuracy: 0.5700\n",
            "Epoch 42/60\n",
            "97/97 [==============================] - 60s 608ms/step - loss: 1.2485 - accuracy: 0.5726\n",
            "Epoch 43/60\n",
            "97/97 [==============================] - 60s 608ms/step - loss: 1.2158 - accuracy: 0.5932\n",
            "Epoch 44/60\n",
            "97/97 [==============================] - 59s 606ms/step - loss: 1.2938 - accuracy: 0.5700\n",
            "Epoch 45/60\n",
            "97/97 [==============================] - 60s 613ms/step - loss: 1.2757 - accuracy: 0.5626\n",
            "Epoch 46/60\n",
            "97/97 [==============================] - 60s 609ms/step - loss: 1.2566 - accuracy: 0.5700\n",
            "Epoch 47/60\n",
            "97/97 [==============================] - 60s 606ms/step - loss: 1.2170 - accuracy: 0.5858\n",
            "Epoch 48/60\n",
            "97/97 [==============================] - 60s 606ms/step - loss: 1.2139 - accuracy: 0.5787\n",
            "Epoch 49/60\n",
            "97/97 [==============================] - 59s 605ms/step - loss: 1.2210 - accuracy: 0.5823\n",
            "Epoch 50/60\n",
            "97/97 [==============================] - 59s 603ms/step - loss: 1.1943 - accuracy: 0.5871\n",
            "Epoch 51/60\n",
            "97/97 [==============================] - 60s 611ms/step - loss: 1.2179 - accuracy: 0.5913\n",
            "Epoch 52/60\n",
            "97/97 [==============================] - 60s 616ms/step - loss: 1.2145 - accuracy: 0.5852\n",
            "Epoch 53/60\n",
            "97/97 [==============================] - 60s 610ms/step - loss: 1.1899 - accuracy: 0.5961\n",
            "Epoch 54/60\n",
            "97/97 [==============================] - 60s 607ms/step - loss: 1.1954 - accuracy: 0.5955\n",
            "Epoch 55/60\n",
            "97/97 [==============================] - 59s 606ms/step - loss: 1.2163 - accuracy: 0.5803\n",
            "Epoch 56/60\n",
            "97/97 [==============================] - 59s 605ms/step - loss: 1.1901 - accuracy: 0.5939\n",
            "Epoch 57/60\n",
            "97/97 [==============================] - 60s 612ms/step - loss: 1.1655 - accuracy: 0.5926\n",
            "Epoch 58/60\n",
            "97/97 [==============================] - 60s 609ms/step - loss: 1.1600 - accuracy: 0.5971\n",
            "Epoch 59/60\n",
            "97/97 [==============================] - 60s 608ms/step - loss: 1.1918 - accuracy: 0.5858\n",
            "Epoch 60/60\n",
            "97/97 [==============================] - 60s 606ms/step - loss: 1.1603 - accuracy: 0.5958\n"
          ],
          "name": "stdout"
        },
        {
          "output_type": "execute_result",
          "data": {
            "text/plain": [
              "<tensorflow.python.keras.callbacks.History at 0x7f78cc770650>"
            ]
          },
          "metadata": {
            "tags": []
          },
          "execution_count": 33
        }
      ]
    },
    {
      "cell_type": "code",
      "metadata": {
        "colab": {
          "base_uri": "https://localhost:8080/"
        },
        "id": "yusDuArWYTQk",
        "outputId": "5501e2bf-d68a-4d59-ecf3-b94b737ba3ff"
      },
      "source": [
        "model.evaluate(valid_set, verbose=1) #60"
      ],
      "execution_count": null,
      "outputs": [
        {
          "output_type": "stream",
          "text": [
            "26/26 [==============================] - 23s 563ms/step - loss: 1.1785 - accuracy: 0.5759\n"
          ],
          "name": "stdout"
        },
        {
          "output_type": "execute_result",
          "data": {
            "text/plain": [
              "[1.1785175800323486, 0.5759416818618774]"
            ]
          },
          "metadata": {
            "tags": []
          },
          "execution_count": 34
        }
      ]
    },
    {
      "cell_type": "code",
      "metadata": {
        "colab": {
          "base_uri": "https://localhost:8080/"
        },
        "id": "By8PqwnBYTQk",
        "outputId": "68c1e4dc-8f8f-4e29-cdc2-60ac5c316d37"
      },
      "source": [
        "model.fit(training_set, epochs=10)"
      ],
      "execution_count": null,
      "outputs": [
        {
          "output_type": "stream",
          "text": [
            "Epoch 1/10\n",
            "97/97 [==============================] - 60s 608ms/step - loss: 1.1226 - accuracy: 0.6065\n",
            "Epoch 2/10\n",
            "97/97 [==============================] - 60s 614ms/step - loss: 1.1586 - accuracy: 0.5929\n",
            "Epoch 3/10\n",
            "97/97 [==============================] - 60s 609ms/step - loss: 1.1777 - accuracy: 0.5971\n",
            "Epoch 4/10\n",
            "97/97 [==============================] - 60s 615ms/step - loss: 1.1888 - accuracy: 0.5919\n",
            "Epoch 5/10\n",
            "97/97 [==============================] - 60s 610ms/step - loss: 1.1769 - accuracy: 0.5910\n",
            "Epoch 6/10\n",
            "97/97 [==============================] - 60s 608ms/step - loss: 1.1620 - accuracy: 0.5965\n",
            "Epoch 7/10\n",
            "97/97 [==============================] - 60s 606ms/step - loss: 1.1361 - accuracy: 0.6026\n",
            "Epoch 8/10\n",
            "97/97 [==============================] - 59s 605ms/step - loss: 1.1452 - accuracy: 0.6065\n",
            "Epoch 9/10\n",
            "97/97 [==============================] - 60s 608ms/step - loss: 1.1485 - accuracy: 0.6184\n",
            "Epoch 10/10\n",
            "97/97 [==============================] - 59s 606ms/step - loss: 1.1505 - accuracy: 0.6077\n"
          ],
          "name": "stdout"
        },
        {
          "output_type": "execute_result",
          "data": {
            "text/plain": [
              "<tensorflow.python.keras.callbacks.History at 0x7f78b9e5a2d0>"
            ]
          },
          "metadata": {
            "tags": []
          },
          "execution_count": 35
        }
      ]
    },
    {
      "cell_type": "code",
      "metadata": {
        "colab": {
          "base_uri": "https://localhost:8080/"
        },
        "id": "x2wwLB7EYTQl",
        "outputId": "0e84ead3-1b41-445b-955d-9ebe3f01bd28"
      },
      "source": [
        "model.evaluate(valid_set, verbose=1) #70"
      ],
      "execution_count": null,
      "outputs": [
        {
          "output_type": "stream",
          "text": [
            "26/26 [==============================] - 23s 561ms/step - loss: 1.2092 - accuracy: 0.5687\n"
          ],
          "name": "stdout"
        },
        {
          "output_type": "execute_result",
          "data": {
            "text/plain": [
              "[1.20916748046875, 0.5686512589454651]"
            ]
          },
          "metadata": {
            "tags": []
          },
          "execution_count": 36
        }
      ]
    },
    {
      "cell_type": "code",
      "metadata": {
        "colab": {
          "base_uri": "https://localhost:8080/"
        },
        "id": "20_F-2JgYTQl",
        "outputId": "2e4cd704-ecf7-4129-da04-d5fe65478747"
      },
      "source": [
        "model.fit(training_set, epochs=10)"
      ],
      "execution_count": null,
      "outputs": [
        {
          "output_type": "stream",
          "text": [
            "Epoch 1/10\n",
            "97/97 [==============================] - 59s 606ms/step - loss: 1.1724 - accuracy: 0.5948\n",
            "Epoch 2/10\n",
            "97/97 [==============================] - 59s 605ms/step - loss: 1.1292 - accuracy: 0.6058\n",
            "Epoch 3/10\n",
            "97/97 [==============================] - 59s 604ms/step - loss: 1.1752 - accuracy: 0.5984\n",
            "Epoch 4/10\n",
            "97/97 [==============================] - 59s 604ms/step - loss: 1.1414 - accuracy: 0.6000\n",
            "Epoch 5/10\n",
            "97/97 [==============================] - 59s 604ms/step - loss: 1.1297 - accuracy: 0.6081\n",
            "Epoch 6/10\n",
            "97/97 [==============================] - 59s 605ms/step - loss: 1.0904 - accuracy: 0.6229\n",
            "Epoch 7/10\n",
            "97/97 [==============================] - 59s 605ms/step - loss: 1.0984 - accuracy: 0.6187\n",
            "Epoch 8/10\n",
            "97/97 [==============================] - 60s 611ms/step - loss: 1.0679 - accuracy: 0.6252\n",
            "Epoch 9/10\n",
            "97/97 [==============================] - 60s 608ms/step - loss: 1.1057 - accuracy: 0.6197\n",
            "Epoch 10/10\n",
            "97/97 [==============================] - 60s 608ms/step - loss: 1.0903 - accuracy: 0.6190\n"
          ],
          "name": "stdout"
        },
        {
          "output_type": "execute_result",
          "data": {
            "text/plain": [
              "<tensorflow.python.keras.callbacks.History at 0x7f78b9de2c10>"
            ]
          },
          "metadata": {
            "tags": []
          },
          "execution_count": 37
        }
      ]
    },
    {
      "cell_type": "code",
      "metadata": {
        "colab": {
          "base_uri": "https://localhost:8080/"
        },
        "id": "81qn7LT4YTQl",
        "outputId": "f18a9aec-1732-4bc6-cfa7-6d36d1cd9a4f"
      },
      "source": [
        "model.evaluate(valid_set, verbose=1) #80"
      ],
      "execution_count": null,
      "outputs": [
        {
          "output_type": "stream",
          "text": [
            "26/26 [==============================] - 23s 572ms/step - loss: 1.1415 - accuracy: 0.5881\n"
          ],
          "name": "stdout"
        },
        {
          "output_type": "execute_result",
          "data": {
            "text/plain": [
              "[1.141545057296753, 0.5880923271179199]"
            ]
          },
          "metadata": {
            "tags": []
          },
          "execution_count": 38
        }
      ]
    },
    {
      "cell_type": "code",
      "metadata": {
        "colab": {
          "base_uri": "https://localhost:8080/"
        },
        "id": "KlN0sbHdYTQm",
        "outputId": "f1006c87-11e2-428d-94b6-4ccf65a9c7d5"
      },
      "source": [
        "model.fit(training_set, epochs=10)"
      ],
      "execution_count": null,
      "outputs": [
        {
          "output_type": "stream",
          "text": [
            "Epoch 1/10\n",
            "97/97 [==============================] - 60s 607ms/step - loss: 1.0704 - accuracy: 0.6261\n",
            "Epoch 2/10\n",
            "97/97 [==============================] - 60s 607ms/step - loss: 1.1191 - accuracy: 0.6068\n",
            "Epoch 3/10\n",
            "97/97 [==============================] - 60s 613ms/step - loss: 1.0844 - accuracy: 0.6274\n",
            "Epoch 4/10\n",
            "97/97 [==============================] - 60s 611ms/step - loss: 1.0822 - accuracy: 0.6168\n",
            "Epoch 5/10\n",
            "97/97 [==============================] - 60s 609ms/step - loss: 1.0956 - accuracy: 0.6158\n",
            "Epoch 6/10\n",
            "97/97 [==============================] - 60s 614ms/step - loss: 1.1242 - accuracy: 0.6184\n",
            "Epoch 7/10\n",
            "97/97 [==============================] - 60s 613ms/step - loss: 1.0831 - accuracy: 0.6203\n",
            "Epoch 8/10\n",
            "97/97 [==============================] - 60s 611ms/step - loss: 1.0960 - accuracy: 0.6203\n",
            "Epoch 9/10\n",
            "97/97 [==============================] - 60s 616ms/step - loss: 1.0612 - accuracy: 0.6248\n",
            "Epoch 10/10\n",
            "97/97 [==============================] - 60s 613ms/step - loss: 1.1343 - accuracy: 0.6084\n"
          ],
          "name": "stdout"
        },
        {
          "output_type": "execute_result",
          "data": {
            "text/plain": [
              "<tensorflow.python.keras.callbacks.History at 0x7f78b9de7f10>"
            ]
          },
          "metadata": {
            "tags": []
          },
          "execution_count": 39
        }
      ]
    },
    {
      "cell_type": "code",
      "metadata": {
        "colab": {
          "base_uri": "https://localhost:8080/"
        },
        "id": "m1A_tr-pYTQm",
        "outputId": "d10e0c37-aacf-4bcf-dc15-1e3aa2111b16"
      },
      "source": [
        "model.evaluate(valid_set, verbose=1) #90"
      ],
      "execution_count": null,
      "outputs": [
        {
          "output_type": "stream",
          "text": [
            "26/26 [==============================] - 23s 567ms/step - loss: 1.1658 - accuracy: 0.5820\n"
          ],
          "name": "stdout"
        },
        {
          "output_type": "execute_result",
          "data": {
            "text/plain": [
              "[1.1657918691635132, 0.5820170044898987]"
            ]
          },
          "metadata": {
            "tags": []
          },
          "execution_count": 40
        }
      ]
    },
    {
      "cell_type": "code",
      "metadata": {
        "colab": {
          "base_uri": "https://localhost:8080/"
        },
        "id": "-LebrPOMYTQm",
        "outputId": "154518e1-b9aa-4dba-87db-99d5d3c0855d"
      },
      "source": [
        "model.fit(training_set, epochs=10)"
      ],
      "execution_count": null,
      "outputs": [
        {
          "output_type": "stream",
          "text": [
            "Epoch 1/10\n",
            "97/97 [==============================] - 61s 623ms/step - loss: 1.0934 - accuracy: 0.6245\n",
            "Epoch 2/10\n",
            "97/97 [==============================] - 59s 607ms/step - loss: 1.1083 - accuracy: 0.6045\n",
            "Epoch 3/10\n",
            "97/97 [==============================] - 61s 622ms/step - loss: 1.0884 - accuracy: 0.6294\n",
            "Epoch 4/10\n",
            "97/97 [==============================] - 60s 608ms/step - loss: 1.0667 - accuracy: 0.6248\n",
            "Epoch 5/10\n",
            "97/97 [==============================] - 61s 622ms/step - loss: 1.0718 - accuracy: 0.6245\n",
            "Epoch 6/10\n",
            "97/97 [==============================] - 60s 612ms/step - loss: 1.0594 - accuracy: 0.6206\n",
            "Epoch 7/10\n",
            "97/97 [==============================] - 60s 612ms/step - loss: 1.0427 - accuracy: 0.6368\n",
            "Epoch 8/10\n",
            "97/97 [==============================] - 61s 621ms/step - loss: 1.0639 - accuracy: 0.6210\n",
            "Epoch 9/10\n",
            "97/97 [==============================] - 61s 618ms/step - loss: 1.0790 - accuracy: 0.6139\n",
            "Epoch 10/10\n",
            "97/97 [==============================] - 61s 620ms/step - loss: 1.1128 - accuracy: 0.6145\n"
          ],
          "name": "stdout"
        },
        {
          "output_type": "execute_result",
          "data": {
            "text/plain": [
              "<tensorflow.python.keras.callbacks.History at 0x7f9612377110>"
            ]
          },
          "metadata": {
            "tags": []
          },
          "execution_count": 17
        }
      ]
    },
    {
      "cell_type": "code",
      "metadata": {
        "id": "aHLMulFMYTQn",
        "colab": {
          "base_uri": "https://localhost:8080/"
        },
        "outputId": "eac524ac-88fa-44a2-96fd-c4f69cfb52cd"
      },
      "source": [
        "model.evaluate(valid_set, verbose=1) #100"
      ],
      "execution_count": null,
      "outputs": [
        {
          "output_type": "stream",
          "text": [
            "26/26 [==============================] - 209s 4s/step - loss: 1.1471 - accuracy: 0.6015\n"
          ],
          "name": "stdout"
        },
        {
          "output_type": "execute_result",
          "data": {
            "text/plain": [
              "[1.147148609161377, 0.6014580726623535]"
            ]
          },
          "metadata": {
            "tags": []
          },
          "execution_count": 18
        }
      ]
    },
    {
      "cell_type": "code",
      "metadata": {
        "id": "S6ISwwghYTQn",
        "colab": {
          "base_uri": "https://localhost:8080/"
        },
        "outputId": "71f48dbf-f6d8-458e-844e-372a6b8aaf91"
      },
      "source": [
        "model.fit(training_set, epochs=10)"
      ],
      "execution_count": null,
      "outputs": [
        {
          "output_type": "stream",
          "text": [
            "Epoch 1/10\n",
            "97/97 [==============================] - 61s 627ms/step - loss: 1.0404 - accuracy: 0.6277\n",
            "Epoch 2/10\n",
            "97/97 [==============================] - 60s 610ms/step - loss: 1.0594 - accuracy: 0.6271\n",
            "Epoch 3/10\n",
            "97/97 [==============================] - 61s 626ms/step - loss: 1.0705 - accuracy: 0.6274\n",
            "Epoch 4/10\n",
            "97/97 [==============================] - 61s 622ms/step - loss: 1.0377 - accuracy: 0.6416\n",
            "Epoch 5/10\n",
            "97/97 [==============================] - 60s 611ms/step - loss: 1.0765 - accuracy: 0.6258\n",
            "Epoch 6/10\n",
            "97/97 [==============================] - 60s 615ms/step - loss: 1.0514 - accuracy: 0.6190\n",
            "Epoch 7/10\n",
            "97/97 [==============================] - 60s 615ms/step - loss: 0.9936 - accuracy: 0.6523\n",
            "Epoch 8/10\n",
            "97/97 [==============================] - 61s 623ms/step - loss: 1.0193 - accuracy: 0.6387\n",
            "Epoch 9/10\n",
            "97/97 [==============================] - 60s 610ms/step - loss: 1.0157 - accuracy: 0.6452\n",
            "Epoch 10/10\n",
            "97/97 [==============================] - 61s 624ms/step - loss: 1.0777 - accuracy: 0.6281\n"
          ],
          "name": "stdout"
        },
        {
          "output_type": "execute_result",
          "data": {
            "text/plain": [
              "<tensorflow.python.keras.callbacks.History at 0x7f9612377150>"
            ]
          },
          "metadata": {
            "tags": []
          },
          "execution_count": 19
        }
      ]
    },
    {
      "cell_type": "code",
      "metadata": {
        "id": "cssA9TyzYTQo",
        "colab": {
          "base_uri": "https://localhost:8080/"
        },
        "outputId": "79a0c800-6ab0-4096-94f6-48593202a9da"
      },
      "source": [
        "model.evaluate(valid_set, verbose=1) #110"
      ],
      "execution_count": null,
      "outputs": [
        {
          "output_type": "stream",
          "text": [
            "26/26 [==============================] - 23s 587ms/step - loss: 1.2127 - accuracy: 0.6015\n"
          ],
          "name": "stdout"
        },
        {
          "output_type": "execute_result",
          "data": {
            "text/plain": [
              "[1.2127381563186646, 0.6014580726623535]"
            ]
          },
          "metadata": {
            "tags": []
          },
          "execution_count": 20
        }
      ]
    },
    {
      "cell_type": "code",
      "metadata": {
        "colab": {
          "base_uri": "https://localhost:8080/"
        },
        "id": "AOdyook45Klw",
        "outputId": "4cf2b5a6-ef61-4db3-aab1-1ad24f22a90a"
      },
      "source": [
        "model.fit(training_set, epochs=10)"
      ],
      "execution_count": null,
      "outputs": [
        {
          "output_type": "stream",
          "text": [
            "Epoch 1/10\n",
            "97/97 [==============================] - 61s 622ms/step - loss: 1.0577 - accuracy: 0.6235\n",
            "Epoch 2/10\n",
            "97/97 [==============================] - 60s 616ms/step - loss: 1.0439 - accuracy: 0.6332\n",
            "Epoch 3/10\n",
            "97/97 [==============================] - 62s 629ms/step - loss: 1.0585 - accuracy: 0.6206\n",
            "Epoch 4/10\n",
            "97/97 [==============================] - 62s 629ms/step - loss: 1.0308 - accuracy: 0.6310\n",
            "Epoch 5/10\n",
            "97/97 [==============================] - 62s 628ms/step - loss: 1.0187 - accuracy: 0.6494\n",
            "Epoch 6/10\n",
            "97/97 [==============================] - 61s 624ms/step - loss: 1.0132 - accuracy: 0.6342\n",
            "Epoch 7/10\n",
            "97/97 [==============================] - 60s 613ms/step - loss: 1.0464 - accuracy: 0.6342\n",
            "Epoch 8/10\n",
            "97/97 [==============================] - 60s 616ms/step - loss: 1.0389 - accuracy: 0.6348\n",
            "Epoch 9/10\n",
            "97/97 [==============================] - 61s 624ms/step - loss: 1.0289 - accuracy: 0.6365\n",
            "Epoch 10/10\n",
            "97/97 [==============================] - 61s 623ms/step - loss: 1.0259 - accuracy: 0.6358\n"
          ],
          "name": "stdout"
        },
        {
          "output_type": "execute_result",
          "data": {
            "text/plain": [
              "<tensorflow.python.keras.callbacks.History at 0x7f96122f0e50>"
            ]
          },
          "metadata": {
            "tags": []
          },
          "execution_count": 21
        }
      ]
    },
    {
      "cell_type": "code",
      "metadata": {
        "colab": {
          "base_uri": "https://localhost:8080/"
        },
        "id": "WYEPMPV35MY6",
        "outputId": "7ef3e516-f716-4fec-d3e4-8578935bf790"
      },
      "source": [
        "model.evaluate(valid_set, verbose=1) #120"
      ],
      "execution_count": null,
      "outputs": [
        {
          "output_type": "stream",
          "text": [
            "26/26 [==============================] - 24s 608ms/step - loss: 1.1569 - accuracy: 0.6173\n"
          ],
          "name": "stdout"
        },
        {
          "output_type": "execute_result",
          "data": {
            "text/plain": [
              "[1.1569312810897827, 0.6172539591789246]"
            ]
          },
          "metadata": {
            "tags": []
          },
          "execution_count": 22
        }
      ]
    },
    {
      "cell_type": "code",
      "metadata": {
        "colab": {
          "base_uri": "https://localhost:8080/"
        },
        "id": "Y4Ts_zFl8zTN",
        "outputId": "9a592622-338e-488d-a7fa-e09b1ee7de0a"
      },
      "source": [
        "model.fit(training_set, epochs=10)"
      ],
      "execution_count": null,
      "outputs": [
        {
          "output_type": "stream",
          "text": [
            "Epoch 1/10\n",
            "97/97 [==============================] - 61s 622ms/step - loss: 1.0217 - accuracy: 0.6410\n",
            "Epoch 2/10\n",
            "97/97 [==============================] - 61s 623ms/step - loss: 1.0234 - accuracy: 0.6374\n",
            "Epoch 3/10\n",
            "97/97 [==============================] - 61s 626ms/step - loss: 1.0186 - accuracy: 0.6400\n",
            "Epoch 4/10\n",
            "97/97 [==============================] - 61s 622ms/step - loss: 1.0220 - accuracy: 0.6432\n",
            "Epoch 5/10\n",
            "97/97 [==============================] - 61s 621ms/step - loss: 1.0335 - accuracy: 0.6348\n",
            "Epoch 6/10\n",
            "97/97 [==============================] - 61s 625ms/step - loss: 1.0158 - accuracy: 0.6358\n",
            "Epoch 7/10\n",
            "97/97 [==============================] - 61s 625ms/step - loss: 1.0046 - accuracy: 0.6384\n",
            "Epoch 8/10\n",
            "97/97 [==============================] - 61s 625ms/step - loss: 1.0060 - accuracy: 0.6384\n",
            "Epoch 9/10\n",
            "97/97 [==============================] - 61s 626ms/step - loss: 0.9592 - accuracy: 0.6626\n",
            "Epoch 10/10\n",
            "97/97 [==============================] - 61s 623ms/step - loss: 1.0452 - accuracy: 0.6284\n"
          ],
          "name": "stdout"
        },
        {
          "output_type": "execute_result",
          "data": {
            "text/plain": [
              "<tensorflow.python.keras.callbacks.History at 0x7f96122f0610>"
            ]
          },
          "metadata": {
            "tags": []
          },
          "execution_count": 23
        }
      ]
    },
    {
      "cell_type": "code",
      "metadata": {
        "colab": {
          "base_uri": "https://localhost:8080/"
        },
        "id": "hU2tFz8K80ot",
        "outputId": "bba0e4b4-a946-4c85-baac-90c9fb5280a8"
      },
      "source": [
        "model.evaluate(valid_set, verbose=1) #130"
      ],
      "execution_count": null,
      "outputs": [
        {
          "output_type": "stream",
          "text": [
            "26/26 [==============================] - 23s 593ms/step - loss: 1.1954 - accuracy: 0.5978\n"
          ],
          "name": "stdout"
        },
        {
          "output_type": "execute_result",
          "data": {
            "text/plain": [
              "[1.195421814918518, 0.5978128910064697]"
            ]
          },
          "metadata": {
            "tags": []
          },
          "execution_count": 24
        }
      ]
    },
    {
      "cell_type": "code",
      "metadata": {
        "colab": {
          "base_uri": "https://localhost:8080/"
        },
        "id": "A1YulJ4HAsqq",
        "outputId": "6a0ffcd4-be06-4fa8-ec84-5345646069ee"
      },
      "source": [
        "model.fit(training_set, epochs=10)"
      ],
      "execution_count": null,
      "outputs": [
        {
          "output_type": "stream",
          "text": [
            "Epoch 1/10\n",
            "97/97 [==============================] - 61s 622ms/step - loss: 1.0312 - accuracy: 0.6261\n",
            "Epoch 2/10\n",
            "97/97 [==============================] - 61s 625ms/step - loss: 0.9899 - accuracy: 0.6526\n",
            "Epoch 3/10\n",
            "97/97 [==============================] - 61s 624ms/step - loss: 1.0200 - accuracy: 0.6319\n",
            "Epoch 4/10\n",
            "97/97 [==============================] - 61s 623ms/step - loss: 1.0061 - accuracy: 0.6423\n",
            "Epoch 5/10\n",
            "97/97 [==============================] - 61s 623ms/step - loss: 1.0194 - accuracy: 0.6429\n",
            "Epoch 6/10\n",
            "97/97 [==============================] - 60s 609ms/step - loss: 1.0397 - accuracy: 0.6323\n",
            "Epoch 7/10\n",
            "97/97 [==============================] - 61s 625ms/step - loss: 1.0176 - accuracy: 0.6400\n",
            "Epoch 8/10\n",
            "97/97 [==============================] - 61s 623ms/step - loss: 1.0223 - accuracy: 0.6300\n",
            "Epoch 9/10\n",
            "97/97 [==============================] - 60s 610ms/step - loss: 1.0086 - accuracy: 0.6390\n",
            "Epoch 10/10\n",
            "97/97 [==============================] - 61s 626ms/step - loss: 0.9981 - accuracy: 0.6481\n"
          ],
          "name": "stdout"
        },
        {
          "output_type": "execute_result",
          "data": {
            "text/plain": [
              "<tensorflow.python.keras.callbacks.History at 0x7f9612302790>"
            ]
          },
          "metadata": {
            "tags": []
          },
          "execution_count": 27
        }
      ]
    },
    {
      "cell_type": "code",
      "metadata": {
        "colab": {
          "base_uri": "https://localhost:8080/"
        },
        "id": "XclXgwT6CQRU",
        "outputId": "51dddf67-3f4d-49b2-a940-1e8c32cd355b"
      },
      "source": [
        "model.evaluate(valid_set, verbose=1) #140"
      ],
      "execution_count": null,
      "outputs": [
        {
          "output_type": "stream",
          "text": [
            "26/26 [==============================] - 23s 588ms/step - loss: 1.1591 - accuracy: 0.6245\n"
          ],
          "name": "stdout"
        },
        {
          "output_type": "execute_result",
          "data": {
            "text/plain": [
              "[1.1591356992721558, 0.6245443224906921]"
            ]
          },
          "metadata": {
            "tags": []
          },
          "execution_count": 28
        }
      ]
    },
    {
      "cell_type": "code",
      "metadata": {
        "colab": {
          "base_uri": "https://localhost:8080/"
        },
        "id": "5V4QICPlEfih",
        "outputId": "b33bc412-afbe-45a8-c37f-2cb2f0c39737"
      },
      "source": [
        "model.fit(training_set, epochs=10)"
      ],
      "execution_count": null,
      "outputs": [
        {
          "output_type": "stream",
          "text": [
            "Epoch 1/10\n",
            "97/97 [==============================] - 61s 626ms/step - loss: 1.0066 - accuracy: 0.6423\n",
            "Epoch 2/10\n",
            "97/97 [==============================] - 61s 623ms/step - loss: 1.0178 - accuracy: 0.6400\n",
            "Epoch 3/10\n",
            "97/97 [==============================] - 61s 622ms/step - loss: 1.0321 - accuracy: 0.6426\n",
            "Epoch 4/10\n",
            "97/97 [==============================] - 61s 624ms/step - loss: 0.9907 - accuracy: 0.6423\n",
            "Epoch 5/10\n",
            "97/97 [==============================] - 60s 610ms/step - loss: 0.9937 - accuracy: 0.6448\n",
            "Epoch 6/10\n",
            "97/97 [==============================] - 60s 615ms/step - loss: 1.0253 - accuracy: 0.6413\n",
            "Epoch 7/10\n",
            "97/97 [==============================] - 61s 624ms/step - loss: 1.0140 - accuracy: 0.6384\n",
            "Epoch 8/10\n",
            "97/97 [==============================] - 61s 624ms/step - loss: 0.9645 - accuracy: 0.6497\n",
            "Epoch 9/10\n",
            "97/97 [==============================] - 61s 622ms/step - loss: 0.9826 - accuracy: 0.6494\n",
            "Epoch 10/10\n",
            "97/97 [==============================] - 61s 622ms/step - loss: 0.9429 - accuracy: 0.6606\n"
          ],
          "name": "stdout"
        },
        {
          "output_type": "execute_result",
          "data": {
            "text/plain": [
              "<tensorflow.python.keras.callbacks.History at 0x7f962403f9d0>"
            ]
          },
          "metadata": {
            "tags": []
          },
          "execution_count": 31
        }
      ]
    },
    {
      "cell_type": "code",
      "metadata": {
        "colab": {
          "base_uri": "https://localhost:8080/"
        },
        "id": "t-MWIR4FEhR6",
        "outputId": "ceba8b6c-1580-439d-ec77-bbf42e8d9ff8"
      },
      "source": [
        "model.evaluate(valid_set, verbose=1) #150 "
      ],
      "execution_count": null,
      "outputs": [
        {
          "output_type": "stream",
          "text": [
            "26/26 [==============================] - 23s 572ms/step - loss: 1.1326 - accuracy: 0.6185\n"
          ],
          "name": "stdout"
        },
        {
          "output_type": "execute_result",
          "data": {
            "text/plain": [
              "[1.1325528621673584, 0.6184689998626709]"
            ]
          },
          "metadata": {
            "tags": []
          },
          "execution_count": 32
        }
      ]
    },
    {
      "cell_type": "code",
      "metadata": {
        "colab": {
          "base_uri": "https://localhost:8080/"
        },
        "id": "xhPlTPt3HPP-",
        "outputId": "1b42f7ba-4e89-4a41-9866-abea340af2df"
      },
      "source": [
        "model.fit(training_set, epochs=10)"
      ],
      "execution_count": null,
      "outputs": [
        {
          "output_type": "stream",
          "text": [
            "Epoch 1/10\n",
            "97/97 [==============================] - 61s 623ms/step - loss: 1.0061 - accuracy: 0.6403\n",
            "Epoch 2/10\n",
            "97/97 [==============================] - 60s 614ms/step - loss: 0.9705 - accuracy: 0.6590\n",
            "Epoch 3/10\n",
            "97/97 [==============================] - 61s 623ms/step - loss: 0.9666 - accuracy: 0.6497\n",
            "Epoch 4/10\n",
            "97/97 [==============================] - 60s 610ms/step - loss: 0.9532 - accuracy: 0.6652\n",
            "Epoch 5/10\n",
            "97/97 [==============================] - 61s 625ms/step - loss: 0.9702 - accuracy: 0.6581\n",
            "Epoch 6/10\n",
            "97/97 [==============================] - 61s 622ms/step - loss: 0.9783 - accuracy: 0.6574\n",
            "Epoch 7/10\n",
            "97/97 [==============================] - 60s 608ms/step - loss: 0.9711 - accuracy: 0.6529\n",
            "Epoch 8/10\n",
            "97/97 [==============================] - 61s 626ms/step - loss: 0.9372 - accuracy: 0.6642\n",
            "Epoch 9/10\n",
            "97/97 [==============================] - 61s 621ms/step - loss: 0.9700 - accuracy: 0.6555\n",
            "Epoch 10/10\n",
            "97/97 [==============================] - 61s 623ms/step - loss: 0.9686 - accuracy: 0.6532\n"
          ],
          "name": "stdout"
        },
        {
          "output_type": "execute_result",
          "data": {
            "text/plain": [
              "<tensorflow.python.keras.callbacks.History at 0x7f96122f0850>"
            ]
          },
          "metadata": {
            "tags": []
          },
          "execution_count": 33
        }
      ]
    },
    {
      "cell_type": "code",
      "metadata": {
        "colab": {
          "base_uri": "https://localhost:8080/"
        },
        "id": "g-wXBL4TKl5j",
        "outputId": "5399f122-400b-45a1-ba7d-d20a9b678ef5"
      },
      "source": [
        "model.evaluate(valid_set, verbose=1) #160"
      ],
      "execution_count": null,
      "outputs": [
        {
          "output_type": "stream",
          "text": [
            "26/26 [==============================] - 23s 581ms/step - loss: 1.1017 - accuracy: 0.6330\n"
          ],
          "name": "stdout"
        },
        {
          "output_type": "execute_result",
          "data": {
            "text/plain": [
              "[1.1016980409622192, 0.6330498456954956]"
            ]
          },
          "metadata": {
            "tags": []
          },
          "execution_count": 34
        }
      ]
    },
    {
      "cell_type": "code",
      "metadata": {
        "colab": {
          "base_uri": "https://localhost:8080/"
        },
        "id": "rP_XMkzmK1CF",
        "outputId": "feffffb0-e8ab-454f-9514-77c42b449944"
      },
      "source": [
        "model.fit(training_set, epochs=10)"
      ],
      "execution_count": null,
      "outputs": [
        {
          "output_type": "stream",
          "text": [
            "Epoch 1/10\n",
            "97/97 [==============================] - 61s 623ms/step - loss: 0.9562 - accuracy: 0.6458\n",
            "Epoch 2/10\n",
            "97/97 [==============================] - 61s 621ms/step - loss: 1.0023 - accuracy: 0.6471\n",
            "Epoch 3/10\n",
            "97/97 [==============================] - 60s 611ms/step - loss: 0.9261 - accuracy: 0.6648\n",
            "Epoch 4/10\n",
            "97/97 [==============================] - 60s 614ms/step - loss: 0.9480 - accuracy: 0.6587\n",
            "Epoch 5/10\n",
            "97/97 [==============================] - 62s 629ms/step - loss: 0.9745 - accuracy: 0.6523\n",
            "Epoch 6/10\n",
            "97/97 [==============================] - 60s 613ms/step - loss: 0.9613 - accuracy: 0.6568\n",
            "Epoch 7/10\n",
            "97/97 [==============================] - 60s 612ms/step - loss: 0.9335 - accuracy: 0.6768\n",
            "Epoch 8/10\n",
            "97/97 [==============================] - 60s 615ms/step - loss: 0.9406 - accuracy: 0.6632\n",
            "Epoch 9/10\n",
            "97/97 [==============================] - 61s 625ms/step - loss: 0.9632 - accuracy: 0.6561\n",
            "Epoch 10/10\n",
            "97/97 [==============================] - 61s 624ms/step - loss: 0.9651 - accuracy: 0.6642\n"
          ],
          "name": "stdout"
        },
        {
          "output_type": "execute_result",
          "data": {
            "text/plain": [
              "<tensorflow.python.keras.callbacks.History at 0x7f96122dde90>"
            ]
          },
          "metadata": {
            "tags": []
          },
          "execution_count": 37
        }
      ]
    },
    {
      "cell_type": "code",
      "metadata": {
        "colab": {
          "base_uri": "https://localhost:8080/"
        },
        "id": "bmELKXNuN4wc",
        "outputId": "0bdb1470-d11a-4ff4-8363-3a5039f237e0"
      },
      "source": [
        "model.evaluate(valid_set, verbose=1) #170"
      ],
      "execution_count": null,
      "outputs": [
        {
          "output_type": "stream",
          "text": [
            "26/26 [==============================] - 24s 606ms/step - loss: 1.0601 - accuracy: 0.6209\n"
          ],
          "name": "stdout"
        },
        {
          "output_type": "execute_result",
          "data": {
            "text/plain": [
              "[1.0600800514221191, 0.6208991408348083]"
            ]
          },
          "metadata": {
            "tags": []
          },
          "execution_count": 38
        }
      ]
    },
    {
      "cell_type": "code",
      "metadata": {
        "colab": {
          "base_uri": "https://localhost:8080/"
        },
        "id": "JodbRzVTOTC6",
        "outputId": "1b4d22ee-98de-43de-f3ec-516c83250a69"
      },
      "source": [
        "model.fit(training_set, epochs=10)"
      ],
      "execution_count": null,
      "outputs": [
        {
          "output_type": "stream",
          "text": [
            "Epoch 1/10\n",
            "97/97 [==============================] - 61s 627ms/step - loss: 0.9185 - accuracy: 0.6590\n",
            "Epoch 2/10\n",
            "97/97 [==============================] - 61s 623ms/step - loss: 0.9511 - accuracy: 0.6613\n",
            "Epoch 3/10\n",
            "97/97 [==============================] - 61s 622ms/step - loss: 0.9628 - accuracy: 0.6516\n",
            "Epoch 4/10\n",
            "97/97 [==============================] - 60s 609ms/step - loss: 0.9738 - accuracy: 0.6671\n",
            "Epoch 5/10\n",
            "97/97 [==============================] - 61s 624ms/step - loss: 0.9531 - accuracy: 0.6587\n",
            "Epoch 6/10\n",
            "97/97 [==============================] - 61s 623ms/step - loss: 0.9343 - accuracy: 0.6574\n",
            "Epoch 7/10\n",
            "97/97 [==============================] - 61s 621ms/step - loss: 0.9770 - accuracy: 0.6497\n",
            "Epoch 8/10\n",
            "97/97 [==============================] - 61s 622ms/step - loss: 0.9285 - accuracy: 0.6500\n",
            "Epoch 9/10\n",
            "97/97 [==============================] - 60s 610ms/step - loss: 0.9413 - accuracy: 0.6565\n",
            "Epoch 10/10\n",
            "97/97 [==============================] - 60s 614ms/step - loss: 0.9548 - accuracy: 0.6597\n"
          ],
          "name": "stdout"
        },
        {
          "output_type": "execute_result",
          "data": {
            "text/plain": [
              "<tensorflow.python.keras.callbacks.History at 0x7f9612267950>"
            ]
          },
          "metadata": {
            "tags": []
          },
          "execution_count": 41
        }
      ]
    },
    {
      "cell_type": "code",
      "metadata": {
        "colab": {
          "base_uri": "https://localhost:8080/"
        },
        "id": "8dG7VV4CRP-I",
        "outputId": "858baf8d-5b8a-4933-add5-eeed89d3ac62"
      },
      "source": [
        "model.evaluate(valid_set, verbose=1) #180"
      ],
      "execution_count": null,
      "outputs": [
        {
          "output_type": "stream",
          "text": [
            "26/26 [==============================] - 23s 588ms/step - loss: 1.1084 - accuracy: 0.6136\n"
          ],
          "name": "stdout"
        },
        {
          "output_type": "execute_result",
          "data": {
            "text/plain": [
              "[1.1083630323410034, 0.6136087775230408]"
            ]
          },
          "metadata": {
            "tags": []
          },
          "execution_count": 42
        }
      ]
    },
    {
      "cell_type": "code",
      "metadata": {
        "colab": {
          "base_uri": "https://localhost:8080/"
        },
        "id": "TOlE70YORe8l",
        "outputId": "f14df816-c641-4f10-aba7-cda9de040edc"
      },
      "source": [
        "model.fit(training_set, epochs=10)"
      ],
      "execution_count": null,
      "outputs": [
        {
          "output_type": "stream",
          "text": [
            "Epoch 1/10\n",
            "97/97 [==============================] - 61s 624ms/step - loss: 0.9490 - accuracy: 0.6577\n",
            "Epoch 2/10\n",
            "97/97 [==============================] - 61s 622ms/step - loss: 0.9245 - accuracy: 0.6577\n",
            "Epoch 3/10\n",
            "97/97 [==============================] - 60s 611ms/step - loss: 0.9550 - accuracy: 0.6587\n",
            "Epoch 4/10\n",
            "97/97 [==============================] - 61s 626ms/step - loss: 0.9680 - accuracy: 0.6571\n",
            "Epoch 5/10\n",
            "97/97 [==============================] - 61s 625ms/step - loss: 0.9288 - accuracy: 0.6703\n",
            "Epoch 6/10\n",
            "97/97 [==============================] - 60s 611ms/step - loss: 0.9377 - accuracy: 0.6623\n",
            "Epoch 7/10\n",
            "97/97 [==============================] - 61s 624ms/step - loss: 0.9421 - accuracy: 0.6619\n",
            "Epoch 8/10\n",
            "97/97 [==============================] - 61s 621ms/step - loss: 0.9417 - accuracy: 0.6745\n",
            "Epoch 9/10\n",
            "97/97 [==============================] - 61s 624ms/step - loss: 0.9352 - accuracy: 0.6694\n",
            "Epoch 10/10\n",
            "97/97 [==============================] - 61s 621ms/step - loss: 0.9645 - accuracy: 0.6503\n"
          ],
          "name": "stdout"
        },
        {
          "output_type": "execute_result",
          "data": {
            "text/plain": [
              "<tensorflow.python.keras.callbacks.History at 0x7f96123cd6d0>"
            ]
          },
          "metadata": {
            "tags": []
          },
          "execution_count": 43
        }
      ]
    },
    {
      "cell_type": "code",
      "metadata": {
        "colab": {
          "base_uri": "https://localhost:8080/"
        },
        "id": "E_z3RzrqUiL4",
        "outputId": "eb6656e3-91b5-422c-9bef-b3969159b4c0"
      },
      "source": [
        "model.evaluate(valid_set, verbose=1) #180"
      ],
      "execution_count": null,
      "outputs": [
        {
          "output_type": "stream",
          "text": [
            "26/26 [==============================] - 23s 581ms/step - loss: 1.1066 - accuracy: 0.6124\n"
          ],
          "name": "stdout"
        },
        {
          "output_type": "execute_result",
          "data": {
            "text/plain": [
              "[1.1065982580184937, 0.6123936772346497]"
            ]
          },
          "metadata": {
            "tags": []
          },
          "execution_count": 44
        }
      ]
    },
    {
      "cell_type": "code",
      "metadata": {
        "colab": {
          "base_uri": "https://localhost:8080/"
        },
        "id": "WhbfZimOUvxu",
        "outputId": "84702274-c548-4f0d-8852-3ad3f1cfaf72"
      },
      "source": [
        "model.fit(training_set, epochs=10)"
      ],
      "execution_count": null,
      "outputs": [
        {
          "output_type": "stream",
          "text": [
            "Epoch 1/10\n",
            "97/97 [==============================] - 60s 614ms/step - loss: 0.9653 - accuracy: 0.6552\n",
            "Epoch 2/10\n",
            "97/97 [==============================] - 61s 624ms/step - loss: 0.9329 - accuracy: 0.6652\n",
            "Epoch 3/10\n",
            "97/97 [==============================] - 60s 611ms/step - loss: 0.9343 - accuracy: 0.6600\n",
            "Epoch 4/10\n",
            "97/97 [==============================] - 60s 616ms/step - loss: 0.9330 - accuracy: 0.6697\n",
            "Epoch 5/10\n",
            "97/97 [==============================] - 61s 619ms/step - loss: 0.9603 - accuracy: 0.6642\n",
            "Epoch 6/10\n",
            "97/97 [==============================] - 61s 625ms/step - loss: 0.9567 - accuracy: 0.6594\n",
            "Epoch 7/10\n",
            "97/97 [==============================] - 61s 625ms/step - loss: 0.9265 - accuracy: 0.6623\n",
            "Epoch 8/10\n",
            "97/97 [==============================] - 60s 611ms/step - loss: 0.9552 - accuracy: 0.6635\n",
            "Epoch 9/10\n",
            "97/97 [==============================] - 60s 616ms/step - loss: 0.9344 - accuracy: 0.6716\n",
            "Epoch 10/10\n",
            "97/97 [==============================] - 61s 627ms/step - loss: 0.9495 - accuracy: 0.6606\n"
          ],
          "name": "stdout"
        },
        {
          "output_type": "execute_result",
          "data": {
            "text/plain": [
              "<tensorflow.python.keras.callbacks.History at 0x7f96122c3590>"
            ]
          },
          "metadata": {
            "tags": []
          },
          "execution_count": 48
        }
      ]
    },
    {
      "cell_type": "code",
      "metadata": {
        "colab": {
          "base_uri": "https://localhost:8080/"
        },
        "id": "f_3K9hmvUs7o",
        "outputId": "a1e5323a-1cd8-4290-dc33-99e3a037eac4"
      },
      "source": [
        "model.evaluate(valid_set, verbose=1) #190"
      ],
      "execution_count": null,
      "outputs": [
        {
          "output_type": "stream",
          "text": [
            "26/26 [==============================] - 23s 592ms/step - loss: 1.1400 - accuracy: 0.6100\n"
          ],
          "name": "stdout"
        },
        {
          "output_type": "execute_result",
          "data": {
            "text/plain": [
              "[1.1399586200714111, 0.6099635362625122]"
            ]
          },
          "metadata": {
            "tags": []
          },
          "execution_count": 49
        }
      ]
    },
    {
      "cell_type": "code",
      "metadata": {
        "id": "ZFt6kQUi9a7R"
      },
      "source": [
        "import os\n",
        "weights_dir = 'weights/article'\n",
        "# Save model weights\n",
        "model.save_weights(os.path.join(weights_dir, 'vgg19-180'))"
      ],
      "execution_count": null,
      "outputs": []
    },
    {
      "cell_type": "code",
      "metadata": {
        "id": "nFvgshKoXc7i",
        "colab": {
          "base_uri": "https://localhost:8080/"
        },
        "outputId": "febe590b-7598-4ab2-bda2-23e25f472b58"
      },
      "source": [
        "model.fit(training_set, epochs=80)"
      ],
      "execution_count": null,
      "outputs": [
        {
          "output_type": "stream",
          "text": [
            "Epoch 1/80\n",
            "97/97 [==============================] - 534s 5s/step - loss: 4.2084 - accuracy: 0.0477\n",
            "Epoch 2/80\n",
            "97/97 [==============================] - 55s 562ms/step - loss: 3.4617 - accuracy: 0.1423\n",
            "Epoch 3/80\n",
            "97/97 [==============================] - 56s 570ms/step - loss: 3.0599 - accuracy: 0.2068\n",
            "Epoch 4/80\n",
            "97/97 [==============================] - 56s 574ms/step - loss: 2.7859 - accuracy: 0.2548\n",
            "Epoch 5/80\n",
            "97/97 [==============================] - 57s 585ms/step - loss: 2.5130 - accuracy: 0.3000\n",
            "Epoch 6/80\n",
            "97/97 [==============================] - 57s 581ms/step - loss: 2.3666 - accuracy: 0.3261\n",
            "Epoch 7/80\n",
            "97/97 [==============================] - 58s 590ms/step - loss: 2.2258 - accuracy: 0.3542\n",
            "Epoch 8/80\n",
            "97/97 [==============================] - 58s 597ms/step - loss: 2.1170 - accuracy: 0.3832\n",
            "Epoch 9/80\n",
            "97/97 [==============================] - 57s 584ms/step - loss: 2.0196 - accuracy: 0.3897\n",
            "Epoch 10/80\n",
            "97/97 [==============================] - 58s 593ms/step - loss: 1.9206 - accuracy: 0.4123\n",
            "Epoch 11/80\n",
            "97/97 [==============================] - 59s 600ms/step - loss: 1.8626 - accuracy: 0.4323\n",
            "Epoch 12/80\n",
            "97/97 [==============================] - 58s 588ms/step - loss: 1.7971 - accuracy: 0.4381\n",
            "Epoch 13/80\n",
            "97/97 [==============================] - 59s 597ms/step - loss: 1.7306 - accuracy: 0.4626\n",
            "Epoch 14/80\n",
            "97/97 [==============================] - 57s 586ms/step - loss: 1.6832 - accuracy: 0.4590\n",
            "Epoch 15/80\n",
            "97/97 [==============================] - 57s 579ms/step - loss: 1.6366 - accuracy: 0.4787\n",
            "Epoch 16/80\n",
            "97/97 [==============================] - 58s 590ms/step - loss: 1.6235 - accuracy: 0.4771\n",
            "Epoch 17/80\n",
            "97/97 [==============================] - 58s 596ms/step - loss: 1.5879 - accuracy: 0.5006\n",
            "Epoch 18/80\n",
            "97/97 [==============================] - 59s 600ms/step - loss: 1.5479 - accuracy: 0.5039\n",
            "Epoch 19/80\n",
            "97/97 [==============================] - 59s 602ms/step - loss: 1.5248 - accuracy: 0.5171\n",
            "Epoch 20/80\n",
            "97/97 [==============================] - 58s 588ms/step - loss: 1.5110 - accuracy: 0.5113\n",
            "Epoch 21/80\n",
            "97/97 [==============================] - 59s 598ms/step - loss: 1.5152 - accuracy: 0.5213\n",
            "Epoch 22/80\n",
            "97/97 [==============================] - 59s 601ms/step - loss: 1.4789 - accuracy: 0.5219\n",
            "Epoch 23/80\n",
            "97/97 [==============================] - 59s 603ms/step - loss: 1.4461 - accuracy: 0.5306\n",
            "Epoch 24/80\n",
            "97/97 [==============================] - 59s 606ms/step - loss: 1.4128 - accuracy: 0.5365\n",
            "Epoch 25/80\n",
            "97/97 [==============================] - 59s 606ms/step - loss: 1.4341 - accuracy: 0.5235\n",
            "Epoch 26/80\n",
            "97/97 [==============================] - 58s 589ms/step - loss: 1.3908 - accuracy: 0.5455\n",
            "Epoch 27/80\n",
            "97/97 [==============================] - 57s 583ms/step - loss: 1.3694 - accuracy: 0.5468\n",
            "Epoch 28/80\n",
            "97/97 [==============================] - 57s 579ms/step - loss: 1.3686 - accuracy: 0.5429\n",
            "Epoch 29/80\n",
            "97/97 [==============================] - 57s 580ms/step - loss: 1.3813 - accuracy: 0.5342\n",
            "Epoch 30/80\n",
            "97/97 [==============================] - 57s 580ms/step - loss: 1.3371 - accuracy: 0.5574\n",
            "Epoch 31/80\n",
            "97/97 [==============================] - 57s 579ms/step - loss: 1.3564 - accuracy: 0.5494\n",
            "Epoch 32/80\n",
            "97/97 [==============================] - 57s 581ms/step - loss: 1.3214 - accuracy: 0.5616\n",
            "Epoch 33/80\n",
            "97/97 [==============================] - 57s 578ms/step - loss: 1.3347 - accuracy: 0.5490\n",
            "Epoch 34/80\n",
            "97/97 [==============================] - 57s 579ms/step - loss: 1.3259 - accuracy: 0.5652\n",
            "Epoch 35/80\n",
            "97/97 [==============================] - 57s 578ms/step - loss: 1.2919 - accuracy: 0.5700\n",
            "Epoch 36/80\n",
            "97/97 [==============================] - 57s 580ms/step - loss: 1.2752 - accuracy: 0.5648\n",
            "Epoch 37/80\n",
            "97/97 [==============================] - 57s 580ms/step - loss: 1.2563 - accuracy: 0.5765\n",
            "Epoch 38/80\n",
            "97/97 [==============================] - 57s 582ms/step - loss: 1.2425 - accuracy: 0.5687\n",
            "Epoch 39/80\n",
            "97/97 [==============================] - 57s 585ms/step - loss: 1.2195 - accuracy: 0.5884\n",
            "Epoch 40/80\n",
            "97/97 [==============================] - 57s 583ms/step - loss: 1.2593 - accuracy: 0.5645\n",
            "Epoch 41/80\n",
            "97/97 [==============================] - 57s 583ms/step - loss: 1.2527 - accuracy: 0.5765\n",
            "Epoch 42/80\n",
            "97/97 [==============================] - 58s 590ms/step - loss: 1.2229 - accuracy: 0.5806\n",
            "Epoch 43/80\n",
            "97/97 [==============================] - 57s 586ms/step - loss: 1.1917 - accuracy: 0.6006\n",
            "Epoch 44/80\n",
            "97/97 [==============================] - 58s 593ms/step - loss: 1.2322 - accuracy: 0.5813\n",
            "Epoch 45/80\n",
            "97/97 [==============================] - 58s 588ms/step - loss: 1.1943 - accuracy: 0.5906\n",
            "Epoch 46/80\n",
            "97/97 [==============================] - 58s 593ms/step - loss: 1.2325 - accuracy: 0.5819\n",
            "Epoch 47/80\n",
            "97/97 [==============================] - 57s 586ms/step - loss: 1.1799 - accuracy: 0.5923\n",
            "Epoch 48/80\n",
            "97/97 [==============================] - 57s 585ms/step - loss: 1.1876 - accuracy: 0.5877\n",
            "Epoch 49/80\n",
            "97/97 [==============================] - 58s 588ms/step - loss: 1.1891 - accuracy: 0.5935\n",
            "Epoch 50/80\n",
            "97/97 [==============================] - 58s 586ms/step - loss: 1.1869 - accuracy: 0.5894\n",
            "Epoch 51/80\n",
            "97/97 [==============================] - 58s 593ms/step - loss: 1.1973 - accuracy: 0.5916\n",
            "Epoch 52/80\n",
            "97/97 [==============================] - 57s 585ms/step - loss: 1.1979 - accuracy: 0.5887\n",
            "Epoch 53/80\n",
            "97/97 [==============================] - 57s 585ms/step - loss: 1.2226 - accuracy: 0.5806\n",
            "Epoch 54/80\n",
            "97/97 [==============================] - 58s 589ms/step - loss: 1.2263 - accuracy: 0.5839\n",
            "Epoch 55/80\n",
            "97/97 [==============================] - 58s 587ms/step - loss: 1.2139 - accuracy: 0.5839\n",
            "Epoch 56/80\n",
            "97/97 [==============================] - 58s 591ms/step - loss: 1.1870 - accuracy: 0.5906\n",
            "Epoch 57/80\n",
            "97/97 [==============================] - 59s 598ms/step - loss: 1.1768 - accuracy: 0.5929\n",
            "Epoch 58/80\n",
            "97/97 [==============================] - 58s 589ms/step - loss: 1.1650 - accuracy: 0.5945\n",
            "Epoch 59/80\n",
            "97/97 [==============================] - 57s 585ms/step - loss: 1.1427 - accuracy: 0.5965\n",
            "Epoch 60/80\n",
            "97/97 [==============================] - 58s 592ms/step - loss: 1.1622 - accuracy: 0.5942\n",
            "Epoch 61/80\n",
            "97/97 [==============================] - 58s 589ms/step - loss: 1.1632 - accuracy: 0.5955\n",
            "Epoch 62/80\n",
            "97/97 [==============================] - 58s 587ms/step - loss: 1.1297 - accuracy: 0.6126\n",
            "Epoch 63/80\n",
            "97/97 [==============================] - 58s 593ms/step - loss: 1.1347 - accuracy: 0.6003\n",
            "Epoch 64/80\n",
            "97/97 [==============================] - 58s 588ms/step - loss: 1.1278 - accuracy: 0.6158\n",
            "Epoch 65/80\n",
            "97/97 [==============================] - 58s 593ms/step - loss: 1.1440 - accuracy: 0.6019\n",
            "Epoch 66/80\n",
            "97/97 [==============================] - 58s 592ms/step - loss: 1.1115 - accuracy: 0.6055\n",
            "Epoch 67/80\n",
            "97/97 [==============================] - 58s 594ms/step - loss: 1.1347 - accuracy: 0.6081\n",
            "Epoch 68/80\n",
            "97/97 [==============================] - 60s 615ms/step - loss: 1.1628 - accuracy: 0.6087\n",
            "Epoch 69/80\n",
            "97/97 [==============================] - 61s 620ms/step - loss: 1.1141 - accuracy: 0.6071\n",
            "Epoch 70/80\n",
            "97/97 [==============================] - 61s 624ms/step - loss: 1.0965 - accuracy: 0.6158\n",
            "Epoch 71/80\n",
            "97/97 [==============================] - 61s 622ms/step - loss: 1.1164 - accuracy: 0.6142\n",
            "Epoch 72/80\n",
            "97/97 [==============================] - 61s 619ms/step - loss: 1.0855 - accuracy: 0.6177\n",
            "Epoch 73/80\n",
            "97/97 [==============================] - 61s 620ms/step - loss: 1.1088 - accuracy: 0.6087\n",
            "Epoch 74/80\n",
            "97/97 [==============================] - 61s 622ms/step - loss: 1.0851 - accuracy: 0.6306\n",
            "Epoch 75/80\n",
            "97/97 [==============================] - 60s 607ms/step - loss: 1.0782 - accuracy: 0.6335\n",
            "Epoch 76/80\n",
            "97/97 [==============================] - 61s 623ms/step - loss: 1.0895 - accuracy: 0.6235\n",
            "Epoch 77/80\n",
            "97/97 [==============================] - 61s 620ms/step - loss: 1.0785 - accuracy: 0.6171\n",
            "Epoch 78/80\n",
            "97/97 [==============================] - 60s 610ms/step - loss: 1.1161 - accuracy: 0.6123\n",
            "Epoch 79/80\n",
            "97/97 [==============================] - 61s 624ms/step - loss: 1.0727 - accuracy: 0.6245\n",
            "Epoch 80/80\n",
            "97/97 [==============================] - 60s 611ms/step - loss: 1.0745 - accuracy: 0.6184\n"
          ],
          "name": "stdout"
        },
        {
          "output_type": "execute_result",
          "data": {
            "text/plain": [
              "<tensorflow.python.keras.callbacks.History at 0x7f966e7a2350>"
            ]
          },
          "metadata": {
            "tags": []
          },
          "execution_count": 16
        }
      ]
    },
    {
      "cell_type": "code",
      "metadata": {
        "id": "C5o163DxaSfx"
      },
      "source": [
        "weights_dir = 'drive/MyDrive/160'\n",
        "model.load_weights(os.path.join(weights_dir, 'vgg19-160.h5'))"
      ],
      "execution_count": null,
      "outputs": []
    },
    {
      "cell_type": "code",
      "metadata": {
        "colab": {
          "base_uri": "https://localhost:8080/"
        },
        "id": "oRhztZyoejNr",
        "outputId": "dfeca819-eade-46c0-fb7a-a0d4ad5f4656"
      },
      "source": [
        "model.evaluate(testing_set, verbose=1) #160"
      ],
      "execution_count": null,
      "outputs": [
        {
          "output_type": "stream",
          "text": [
            "25/25 [==============================] - 20s 562ms/step - loss: 0.8253 - accuracy: 0.7525\n"
          ],
          "name": "stdout"
        },
        {
          "output_type": "execute_result",
          "data": {
            "text/plain": [
              "[0.8252878785133362, 0.7524999976158142]"
            ]
          },
          "metadata": {
            "tags": []
          },
          "execution_count": 17
        }
      ]
    },
    {
      "cell_type": "markdown",
      "metadata": {
        "id": "TOryWvfEGtbQ"
      },
      "source": [
        "### VGG-16 Freeze all layers"
      ]
    },
    {
      "cell_type": "code",
      "metadata": {
        "colab": {
          "base_uri": "https://localhost:8080/"
        },
        "id": "I7iJ46PherlC",
        "outputId": "dfa01108-2eca-4937-91c6-1f14dcb34d17"
      },
      "source": [
        "vgg = VGG16(include_top=False, weights=\"imagenet\", input_shape=(img_size, img_size, channels))\n",
        "vgg.trainable = True\n",
        "base_model = vgg\n",
        "\n",
        "# freeze layers\n",
        "for layer in base_model.layers[:]:\n",
        "    layer.trainable = False\n",
        "\n",
        "\n",
        "inputs = tf.keras.Input(shape=(img_size, img_size, channels))\n",
        "\n",
        "x = base_model(inputs, training=False)\n",
        "x = tf.keras.layers.GlobalAveragePooling2D()(x)\n",
        "x = tf.keras.layers.Dropout(0.2)(x)\n",
        "x = keras.layers.Flatten()(x)\n",
        "X = keras.layers.Dense(128, activation='relu')(x)\n",
        "X = keras.layers.Dropout(0.5)(X)\n",
        "X = keras.layers.BatchNormalization()(X)\n",
        "\n",
        "outputs = tf.keras.layers.Dense(64, activation=tf.keras.activations.softmax)(X)\n",
        "\n",
        "model = tf.keras.Model(inputs, outputs)\n",
        "model.summary()\n",
        "\n",
        "model.compile(loss='sparse_categorical_crossentropy', optimizer='adam', metrics=['accuracy'])"
      ],
      "execution_count": null,
      "outputs": [
        {
          "output_type": "stream",
          "text": [
            "WARNING:tensorflow:\n",
            "The following Variables were used a Lambda layer's call (tf.nn.convolution_29), but\n",
            "are not present in its tracked objects:\n",
            "  <tf.Variable 'block1_conv1/kernel:0' shape=(3, 3, 3, 64) dtype=float32>\n",
            "It is possible that this is intended behavior, but it is more likely\n",
            "an omission. This is a strong indication that this layer should be\n",
            "formulated as a subclassed Layer rather than a Lambda layer.\n",
            "WARNING:tensorflow:\n",
            "The following Variables were used a Lambda layer's call (tf.nn.bias_add_29), but\n",
            "are not present in its tracked objects:\n",
            "  <tf.Variable 'block1_conv1/bias:0' shape=(64,) dtype=float32>\n",
            "It is possible that this is intended behavior, but it is more likely\n",
            "an omission. This is a strong indication that this layer should be\n",
            "formulated as a subclassed Layer rather than a Lambda layer.\n",
            "WARNING:tensorflow:\n",
            "The following Variables were used a Lambda layer's call (tf.nn.convolution_30), but\n",
            "are not present in its tracked objects:\n",
            "  <tf.Variable 'block1_conv2/kernel:0' shape=(3, 3, 64, 64) dtype=float32>\n",
            "It is possible that this is intended behavior, but it is more likely\n",
            "an omission. This is a strong indication that this layer should be\n",
            "formulated as a subclassed Layer rather than a Lambda layer.\n",
            "WARNING:tensorflow:\n",
            "The following Variables were used a Lambda layer's call (tf.nn.bias_add_30), but\n",
            "are not present in its tracked objects:\n",
            "  <tf.Variable 'block1_conv2/bias:0' shape=(64,) dtype=float32>\n",
            "It is possible that this is intended behavior, but it is more likely\n",
            "an omission. This is a strong indication that this layer should be\n",
            "formulated as a subclassed Layer rather than a Lambda layer.\n",
            "WARNING:tensorflow:\n",
            "The following Variables were used a Lambda layer's call (tf.nn.convolution_31), but\n",
            "are not present in its tracked objects:\n",
            "  <tf.Variable 'block2_conv1/kernel:0' shape=(3, 3, 64, 128) dtype=float32>\n",
            "It is possible that this is intended behavior, but it is more likely\n",
            "an omission. This is a strong indication that this layer should be\n",
            "formulated as a subclassed Layer rather than a Lambda layer.\n",
            "WARNING:tensorflow:\n",
            "The following Variables were used a Lambda layer's call (tf.nn.bias_add_31), but\n",
            "are not present in its tracked objects:\n",
            "  <tf.Variable 'block2_conv1/bias:0' shape=(128,) dtype=float32>\n",
            "It is possible that this is intended behavior, but it is more likely\n",
            "an omission. This is a strong indication that this layer should be\n",
            "formulated as a subclassed Layer rather than a Lambda layer.\n",
            "WARNING:tensorflow:\n",
            "The following Variables were used a Lambda layer's call (tf.nn.convolution_32), but\n",
            "are not present in its tracked objects:\n",
            "  <tf.Variable 'block2_conv2/kernel:0' shape=(3, 3, 128, 128) dtype=float32>\n",
            "It is possible that this is intended behavior, but it is more likely\n",
            "an omission. This is a strong indication that this layer should be\n",
            "formulated as a subclassed Layer rather than a Lambda layer.\n",
            "WARNING:tensorflow:\n",
            "The following Variables were used a Lambda layer's call (tf.nn.bias_add_32), but\n",
            "are not present in its tracked objects:\n",
            "  <tf.Variable 'block2_conv2/bias:0' shape=(128,) dtype=float32>\n",
            "It is possible that this is intended behavior, but it is more likely\n",
            "an omission. This is a strong indication that this layer should be\n",
            "formulated as a subclassed Layer rather than a Lambda layer.\n",
            "WARNING:tensorflow:\n",
            "The following Variables were used a Lambda layer's call (tf.nn.convolution_33), but\n",
            "are not present in its tracked objects:\n",
            "  <tf.Variable 'block3_conv1/kernel:0' shape=(3, 3, 128, 256) dtype=float32>\n",
            "It is possible that this is intended behavior, but it is more likely\n",
            "an omission. This is a strong indication that this layer should be\n",
            "formulated as a subclassed Layer rather than a Lambda layer.\n",
            "WARNING:tensorflow:\n",
            "The following Variables were used a Lambda layer's call (tf.nn.bias_add_33), but\n",
            "are not present in its tracked objects:\n",
            "  <tf.Variable 'block3_conv1/bias:0' shape=(256,) dtype=float32>\n",
            "It is possible that this is intended behavior, but it is more likely\n",
            "an omission. This is a strong indication that this layer should be\n",
            "formulated as a subclassed Layer rather than a Lambda layer.\n",
            "WARNING:tensorflow:\n",
            "The following Variables were used a Lambda layer's call (tf.nn.convolution_34), but\n",
            "are not present in its tracked objects:\n",
            "  <tf.Variable 'block3_conv2/kernel:0' shape=(3, 3, 256, 256) dtype=float32>\n",
            "It is possible that this is intended behavior, but it is more likely\n",
            "an omission. This is a strong indication that this layer should be\n",
            "formulated as a subclassed Layer rather than a Lambda layer.\n",
            "WARNING:tensorflow:\n",
            "The following Variables were used a Lambda layer's call (tf.nn.bias_add_34), but\n",
            "are not present in its tracked objects:\n",
            "  <tf.Variable 'block3_conv2/bias:0' shape=(256,) dtype=float32>\n",
            "It is possible that this is intended behavior, but it is more likely\n",
            "an omission. This is a strong indication that this layer should be\n",
            "formulated as a subclassed Layer rather than a Lambda layer.\n",
            "WARNING:tensorflow:\n",
            "The following Variables were used a Lambda layer's call (tf.nn.convolution_35), but\n",
            "are not present in its tracked objects:\n",
            "  <tf.Variable 'block3_conv3/kernel:0' shape=(3, 3, 256, 256) dtype=float32>\n",
            "It is possible that this is intended behavior, but it is more likely\n",
            "an omission. This is a strong indication that this layer should be\n",
            "formulated as a subclassed Layer rather than a Lambda layer.\n",
            "WARNING:tensorflow:\n",
            "The following Variables were used a Lambda layer's call (tf.nn.bias_add_35), but\n",
            "are not present in its tracked objects:\n",
            "  <tf.Variable 'block3_conv3/bias:0' shape=(256,) dtype=float32>\n",
            "It is possible that this is intended behavior, but it is more likely\n",
            "an omission. This is a strong indication that this layer should be\n",
            "formulated as a subclassed Layer rather than a Lambda layer.\n",
            "WARNING:tensorflow:\n",
            "The following Variables were used a Lambda layer's call (tf.nn.convolution_36), but\n",
            "are not present in its tracked objects:\n",
            "  <tf.Variable 'block4_conv1/kernel:0' shape=(3, 3, 256, 512) dtype=float32>\n",
            "It is possible that this is intended behavior, but it is more likely\n",
            "an omission. This is a strong indication that this layer should be\n",
            "formulated as a subclassed Layer rather than a Lambda layer.\n",
            "WARNING:tensorflow:\n",
            "The following Variables were used a Lambda layer's call (tf.nn.bias_add_36), but\n",
            "are not present in its tracked objects:\n",
            "  <tf.Variable 'block4_conv1/bias:0' shape=(512,) dtype=float32>\n",
            "It is possible that this is intended behavior, but it is more likely\n",
            "an omission. This is a strong indication that this layer should be\n",
            "formulated as a subclassed Layer rather than a Lambda layer.\n",
            "WARNING:tensorflow:\n",
            "The following Variables were used a Lambda layer's call (tf.nn.convolution_37), but\n",
            "are not present in its tracked objects:\n",
            "  <tf.Variable 'block4_conv2/kernel:0' shape=(3, 3, 512, 512) dtype=float32>\n",
            "It is possible that this is intended behavior, but it is more likely\n",
            "an omission. This is a strong indication that this layer should be\n",
            "formulated as a subclassed Layer rather than a Lambda layer.\n",
            "WARNING:tensorflow:\n",
            "The following Variables were used a Lambda layer's call (tf.nn.bias_add_37), but\n",
            "are not present in its tracked objects:\n",
            "  <tf.Variable 'block4_conv2/bias:0' shape=(512,) dtype=float32>\n",
            "It is possible that this is intended behavior, but it is more likely\n",
            "an omission. This is a strong indication that this layer should be\n",
            "formulated as a subclassed Layer rather than a Lambda layer.\n",
            "WARNING:tensorflow:\n",
            "The following Variables were used a Lambda layer's call (tf.nn.convolution_38), but\n",
            "are not present in its tracked objects:\n",
            "  <tf.Variable 'block4_conv3/kernel:0' shape=(3, 3, 512, 512) dtype=float32>\n",
            "It is possible that this is intended behavior, but it is more likely\n",
            "an omission. This is a strong indication that this layer should be\n",
            "formulated as a subclassed Layer rather than a Lambda layer.\n",
            "WARNING:tensorflow:\n",
            "The following Variables were used a Lambda layer's call (tf.nn.bias_add_38), but\n",
            "are not present in its tracked objects:\n",
            "  <tf.Variable 'block4_conv3/bias:0' shape=(512,) dtype=float32>\n",
            "It is possible that this is intended behavior, but it is more likely\n",
            "an omission. This is a strong indication that this layer should be\n",
            "formulated as a subclassed Layer rather than a Lambda layer.\n",
            "WARNING:tensorflow:\n",
            "The following Variables were used a Lambda layer's call (tf.nn.convolution_39), but\n",
            "are not present in its tracked objects:\n",
            "  <tf.Variable 'block5_conv1/kernel:0' shape=(3, 3, 512, 512) dtype=float32>\n",
            "It is possible that this is intended behavior, but it is more likely\n",
            "an omission. This is a strong indication that this layer should be\n",
            "formulated as a subclassed Layer rather than a Lambda layer.\n",
            "WARNING:tensorflow:\n",
            "The following Variables were used a Lambda layer's call (tf.nn.bias_add_39), but\n",
            "are not present in its tracked objects:\n",
            "  <tf.Variable 'block5_conv1/bias:0' shape=(512,) dtype=float32>\n",
            "It is possible that this is intended behavior, but it is more likely\n",
            "an omission. This is a strong indication that this layer should be\n",
            "formulated as a subclassed Layer rather than a Lambda layer.\n",
            "WARNING:tensorflow:\n",
            "The following Variables were used a Lambda layer's call (tf.nn.convolution_40), but\n",
            "are not present in its tracked objects:\n",
            "  <tf.Variable 'block5_conv2/kernel:0' shape=(3, 3, 512, 512) dtype=float32>\n",
            "It is possible that this is intended behavior, but it is more likely\n",
            "an omission. This is a strong indication that this layer should be\n",
            "formulated as a subclassed Layer rather than a Lambda layer.\n",
            "WARNING:tensorflow:\n",
            "The following Variables were used a Lambda layer's call (tf.nn.bias_add_40), but\n",
            "are not present in its tracked objects:\n",
            "  <tf.Variable 'block5_conv2/bias:0' shape=(512,) dtype=float32>\n",
            "It is possible that this is intended behavior, but it is more likely\n",
            "an omission. This is a strong indication that this layer should be\n",
            "formulated as a subclassed Layer rather than a Lambda layer.\n",
            "WARNING:tensorflow:\n",
            "The following Variables were used a Lambda layer's call (tf.nn.convolution_41), but\n",
            "are not present in its tracked objects:\n",
            "  <tf.Variable 'block5_conv3/kernel:0' shape=(3, 3, 512, 512) dtype=float32>\n",
            "It is possible that this is intended behavior, but it is more likely\n",
            "an omission. This is a strong indication that this layer should be\n",
            "formulated as a subclassed Layer rather than a Lambda layer.\n",
            "WARNING:tensorflow:\n",
            "The following Variables were used a Lambda layer's call (tf.nn.bias_add_41), but\n",
            "are not present in its tracked objects:\n",
            "  <tf.Variable 'block5_conv3/bias:0' shape=(512,) dtype=float32>\n",
            "It is possible that this is intended behavior, but it is more likely\n",
            "an omission. This is a strong indication that this layer should be\n",
            "formulated as a subclassed Layer rather than a Lambda layer.\n",
            "Model: \"model_2\"\n",
            "_________________________________________________________________\n",
            "Layer (type)                 Output Shape              Param #   \n",
            "=================================================================\n",
            "input_3 (InputLayer)         [(None, 400, 400, 3)]     0         \n",
            "_________________________________________________________________\n",
            "tf.nn.convolution_29 (TFOpLa (None, 400, 400, 64)      0         \n",
            "_________________________________________________________________\n",
            "tf.nn.bias_add_29 (TFOpLambd (None, 400, 400, 64)      0         \n",
            "_________________________________________________________________\n",
            "tf.nn.relu_29 (TFOpLambda)   (None, 400, 400, 64)      0         \n",
            "_________________________________________________________________\n",
            "tf.nn.convolution_30 (TFOpLa (None, 400, 400, 64)      0         \n",
            "_________________________________________________________________\n",
            "tf.nn.bias_add_30 (TFOpLambd (None, 400, 400, 64)      0         \n",
            "_________________________________________________________________\n",
            "tf.nn.relu_30 (TFOpLambda)   (None, 400, 400, 64)      0         \n",
            "_________________________________________________________________\n",
            "tf.compat.v1.nn.max_pool_10  (None, 200, 200, 64)      0         \n",
            "_________________________________________________________________\n",
            "tf.nn.convolution_31 (TFOpLa (None, 200, 200, 128)     0         \n",
            "_________________________________________________________________\n",
            "tf.nn.bias_add_31 (TFOpLambd (None, 200, 200, 128)     0         \n",
            "_________________________________________________________________\n",
            "tf.nn.relu_31 (TFOpLambda)   (None, 200, 200, 128)     0         \n",
            "_________________________________________________________________\n",
            "tf.nn.convolution_32 (TFOpLa (None, 200, 200, 128)     0         \n",
            "_________________________________________________________________\n",
            "tf.nn.bias_add_32 (TFOpLambd (None, 200, 200, 128)     0         \n",
            "_________________________________________________________________\n",
            "tf.nn.relu_32 (TFOpLambda)   (None, 200, 200, 128)     0         \n",
            "_________________________________________________________________\n",
            "tf.compat.v1.nn.max_pool_11  (None, 100, 100, 128)     0         \n",
            "_________________________________________________________________\n",
            "tf.nn.convolution_33 (TFOpLa (None, 100, 100, 256)     0         \n",
            "_________________________________________________________________\n",
            "tf.nn.bias_add_33 (TFOpLambd (None, 100, 100, 256)     0         \n",
            "_________________________________________________________________\n",
            "tf.nn.relu_33 (TFOpLambda)   (None, 100, 100, 256)     0         \n",
            "_________________________________________________________________\n",
            "tf.nn.convolution_34 (TFOpLa (None, 100, 100, 256)     0         \n",
            "_________________________________________________________________\n",
            "tf.nn.bias_add_34 (TFOpLambd (None, 100, 100, 256)     0         \n",
            "_________________________________________________________________\n",
            "tf.nn.relu_34 (TFOpLambda)   (None, 100, 100, 256)     0         \n",
            "_________________________________________________________________\n",
            "tf.nn.convolution_35 (TFOpLa (None, 100, 100, 256)     0         \n",
            "_________________________________________________________________\n",
            "tf.nn.bias_add_35 (TFOpLambd (None, 100, 100, 256)     0         \n",
            "_________________________________________________________________\n",
            "tf.nn.relu_35 (TFOpLambda)   (None, 100, 100, 256)     0         \n",
            "_________________________________________________________________\n",
            "tf.compat.v1.nn.max_pool_12  (None, 50, 50, 256)       0         \n",
            "_________________________________________________________________\n",
            "tf.nn.convolution_36 (TFOpLa (None, 50, 50, 512)       0         \n",
            "_________________________________________________________________\n",
            "tf.nn.bias_add_36 (TFOpLambd (None, 50, 50, 512)       0         \n",
            "_________________________________________________________________\n",
            "tf.nn.relu_36 (TFOpLambda)   (None, 50, 50, 512)       0         \n",
            "_________________________________________________________________\n",
            "tf.nn.convolution_37 (TFOpLa (None, 50, 50, 512)       0         \n",
            "_________________________________________________________________\n",
            "tf.nn.bias_add_37 (TFOpLambd (None, 50, 50, 512)       0         \n",
            "_________________________________________________________________\n",
            "tf.nn.relu_37 (TFOpLambda)   (None, 50, 50, 512)       0         \n",
            "_________________________________________________________________\n",
            "tf.nn.convolution_38 (TFOpLa (None, 50, 50, 512)       0         \n",
            "_________________________________________________________________\n",
            "tf.nn.bias_add_38 (TFOpLambd (None, 50, 50, 512)       0         \n",
            "_________________________________________________________________\n",
            "tf.nn.relu_38 (TFOpLambda)   (None, 50, 50, 512)       0         \n",
            "_________________________________________________________________\n",
            "tf.compat.v1.nn.max_pool_13  (None, 25, 25, 512)       0         \n",
            "_________________________________________________________________\n",
            "tf.nn.convolution_39 (TFOpLa (None, 25, 25, 512)       0         \n",
            "_________________________________________________________________\n",
            "tf.nn.bias_add_39 (TFOpLambd (None, 25, 25, 512)       0         \n",
            "_________________________________________________________________\n",
            "tf.nn.relu_39 (TFOpLambda)   (None, 25, 25, 512)       0         \n",
            "_________________________________________________________________\n",
            "tf.nn.convolution_40 (TFOpLa (None, 25, 25, 512)       0         \n",
            "_________________________________________________________________\n",
            "tf.nn.bias_add_40 (TFOpLambd (None, 25, 25, 512)       0         \n",
            "_________________________________________________________________\n",
            "tf.nn.relu_40 (TFOpLambda)   (None, 25, 25, 512)       0         \n",
            "_________________________________________________________________\n",
            "tf.nn.convolution_41 (TFOpLa (None, 25, 25, 512)       0         \n",
            "_________________________________________________________________\n",
            "tf.nn.bias_add_41 (TFOpLambd (None, 25, 25, 512)       0         \n",
            "_________________________________________________________________\n",
            "tf.nn.relu_41 (TFOpLambda)   (None, 25, 25, 512)       0         \n",
            "_________________________________________________________________\n",
            "tf.compat.v1.nn.max_pool_14  (None, 12, 12, 512)       0         \n",
            "_________________________________________________________________\n",
            "global_average_pooling2d_2 ( (None, 512)               0         \n",
            "_________________________________________________________________\n",
            "dropout_4 (Dropout)          (None, 512)               0         \n",
            "_________________________________________________________________\n",
            "flatten_2 (Flatten)          (None, 512)               0         \n",
            "_________________________________________________________________\n",
            "dense_4 (Dense)              (None, 128)               65664     \n",
            "_________________________________________________________________\n",
            "dropout_5 (Dropout)          (None, 128)               0         \n",
            "_________________________________________________________________\n",
            "batch_normalization_2 (Batch (None, 128)               512       \n",
            "_________________________________________________________________\n",
            "dense_5 (Dense)              (None, 64)                8256      \n",
            "=================================================================\n",
            "Total params: 74,432\n",
            "Trainable params: 74,176\n",
            "Non-trainable params: 256\n",
            "_________________________________________________________________\n"
          ],
          "name": "stdout"
        }
      ]
    },
    {
      "cell_type": "code",
      "metadata": {
        "colab": {
          "base_uri": "https://localhost:8080/"
        },
        "id": "WOrDQTpTfECz",
        "outputId": "802a68c5-1394-4590-d038-03632abf79a7"
      },
      "source": [
        "model.fit(training_set, epochs=70)"
      ],
      "execution_count": null,
      "outputs": [
        {
          "output_type": "stream",
          "text": [
            "Epoch 1/70\n",
            "97/97 [==============================] - 48s 484ms/step - loss: 4.2183 - accuracy: 0.0484\n",
            "Epoch 2/70\n",
            "97/97 [==============================] - 48s 492ms/step - loss: 3.5286 - accuracy: 0.1300\n",
            "Epoch 3/70\n",
            "97/97 [==============================] - 49s 496ms/step - loss: 3.1739 - accuracy: 0.1887\n",
            "Epoch 4/70\n",
            "97/97 [==============================] - 50s 505ms/step - loss: 2.9180 - accuracy: 0.2306\n",
            "Epoch 5/70\n",
            "97/97 [==============================] - 49s 501ms/step - loss: 2.7090 - accuracy: 0.2652\n",
            "Epoch 6/70\n",
            "97/97 [==============================] - 50s 512ms/step - loss: 2.5071 - accuracy: 0.2984\n",
            "Epoch 7/70\n",
            "97/97 [==============================] - 50s 507ms/step - loss: 2.4083 - accuracy: 0.3181\n",
            "Epoch 8/70\n",
            "97/97 [==============================] - 49s 502ms/step - loss: 2.2937 - accuracy: 0.3365\n",
            "Epoch 9/70\n",
            "97/97 [==============================] - 49s 501ms/step - loss: 2.1672 - accuracy: 0.3684\n",
            "Epoch 10/70\n",
            "97/97 [==============================] - 49s 498ms/step - loss: 2.0847 - accuracy: 0.3848\n",
            "Epoch 11/70\n",
            "97/97 [==============================] - 50s 511ms/step - loss: 2.0311 - accuracy: 0.3990\n",
            "Epoch 12/70\n",
            "97/97 [==============================] - 50s 504ms/step - loss: 1.9681 - accuracy: 0.4090\n",
            "Epoch 13/70\n",
            "97/97 [==============================] - 50s 504ms/step - loss: 1.8842 - accuracy: 0.4258\n",
            "Epoch 14/70\n",
            "97/97 [==============================] - 49s 499ms/step - loss: 1.8357 - accuracy: 0.4445\n",
            "Epoch 15/70\n",
            "97/97 [==============================] - 50s 512ms/step - loss: 1.7943 - accuracy: 0.4448\n",
            "Epoch 16/70\n",
            "97/97 [==============================] - 50s 504ms/step - loss: 1.7726 - accuracy: 0.4532\n",
            "Epoch 17/70\n",
            "97/97 [==============================] - 49s 502ms/step - loss: 1.7412 - accuracy: 0.4513\n",
            "Epoch 18/70\n",
            "97/97 [==============================] - 49s 501ms/step - loss: 1.6999 - accuracy: 0.4655\n",
            "Epoch 19/70\n",
            "97/97 [==============================] - 49s 501ms/step - loss: 1.6845 - accuracy: 0.4690\n",
            "Epoch 20/70\n",
            "97/97 [==============================] - 50s 514ms/step - loss: 1.6529 - accuracy: 0.4719\n",
            "Epoch 21/70\n",
            "97/97 [==============================] - 51s 523ms/step - loss: 1.6053 - accuracy: 0.4806\n",
            "Epoch 22/70\n",
            "97/97 [==============================] - 50s 512ms/step - loss: 1.5639 - accuracy: 0.4952\n",
            "Epoch 23/70\n",
            "97/97 [==============================] - 51s 516ms/step - loss: 1.5793 - accuracy: 0.4832\n",
            "Epoch 24/70\n",
            "97/97 [==============================] - 51s 520ms/step - loss: 1.5440 - accuracy: 0.5039\n",
            "Epoch 25/70\n",
            "97/97 [==============================] - 50s 509ms/step - loss: 1.5324 - accuracy: 0.4961\n",
            "Epoch 26/70\n",
            "97/97 [==============================] - 51s 522ms/step - loss: 1.5300 - accuracy: 0.5019\n",
            "Epoch 27/70\n",
            "97/97 [==============================] - 51s 516ms/step - loss: 1.5059 - accuracy: 0.5032\n",
            "Epoch 28/70\n",
            "97/97 [==============================] - 51s 518ms/step - loss: 1.5102 - accuracy: 0.5132\n",
            "Epoch 29/70\n",
            "97/97 [==============================] - 50s 511ms/step - loss: 1.4691 - accuracy: 0.5074\n",
            "Epoch 30/70\n",
            "97/97 [==============================] - 51s 516ms/step - loss: 1.4560 - accuracy: 0.5197\n",
            "Epoch 31/70\n",
            "97/97 [==============================] - 51s 517ms/step - loss: 1.4528 - accuracy: 0.5242\n",
            "Epoch 32/70\n",
            "97/97 [==============================] - 50s 510ms/step - loss: 1.4929 - accuracy: 0.5168\n",
            "Epoch 33/70\n",
            "97/97 [==============================] - 50s 513ms/step - loss: 1.4511 - accuracy: 0.5223\n",
            "Epoch 34/70\n",
            "97/97 [==============================] - 51s 515ms/step - loss: 1.4398 - accuracy: 0.5297\n",
            "Epoch 35/70\n",
            "97/97 [==============================] - 50s 512ms/step - loss: 1.4301 - accuracy: 0.5281\n",
            "Epoch 36/70\n",
            "97/97 [==============================] - 51s 516ms/step - loss: 1.4274 - accuracy: 0.5277\n",
            "Epoch 37/70\n",
            "97/97 [==============================] - 51s 518ms/step - loss: 1.3887 - accuracy: 0.5310\n",
            "Epoch 38/70\n",
            "97/97 [==============================] - 51s 517ms/step - loss: 1.3616 - accuracy: 0.5471\n",
            "Epoch 39/70\n",
            "97/97 [==============================] - 51s 518ms/step - loss: 1.3912 - accuracy: 0.5258\n",
            "Epoch 40/70\n",
            "97/97 [==============================] - 50s 511ms/step - loss: 1.3581 - accuracy: 0.5539\n",
            "Epoch 41/70\n",
            "97/97 [==============================] - 51s 520ms/step - loss: 1.3322 - accuracy: 0.5590\n",
            "Epoch 42/70\n",
            "97/97 [==============================] - 51s 515ms/step - loss: 1.3670 - accuracy: 0.5416\n",
            "Epoch 43/70\n",
            "97/97 [==============================] - 50s 510ms/step - loss: 1.3608 - accuracy: 0.5452\n",
            "Epoch 44/70\n",
            "97/97 [==============================] - 51s 521ms/step - loss: 1.3571 - accuracy: 0.5461\n",
            "Epoch 45/70\n",
            "97/97 [==============================] - 51s 517ms/step - loss: 1.3297 - accuracy: 0.5529\n",
            "Epoch 46/70\n",
            "97/97 [==============================] - 51s 519ms/step - loss: 1.3227 - accuracy: 0.5497\n",
            "Epoch 47/70\n",
            "97/97 [==============================] - 51s 517ms/step - loss: 1.3438 - accuracy: 0.5500\n",
            "Epoch 48/70\n",
            "97/97 [==============================] - 50s 511ms/step - loss: 1.3324 - accuracy: 0.5555\n",
            "Epoch 49/70\n",
            "97/97 [==============================] - 51s 519ms/step - loss: 1.3277 - accuracy: 0.5623\n",
            "Epoch 50/70\n",
            "97/97 [==============================] - 51s 518ms/step - loss: 1.3370 - accuracy: 0.5465\n",
            "Epoch 51/70\n",
            "97/97 [==============================] - 50s 513ms/step - loss: 1.3456 - accuracy: 0.5429\n",
            "Epoch 52/70\n",
            "97/97 [==============================] - 51s 520ms/step - loss: 1.3504 - accuracy: 0.5490\n",
            "Epoch 53/70\n",
            "97/97 [==============================] - 50s 510ms/step - loss: 1.3241 - accuracy: 0.5513\n",
            "Epoch 54/70\n",
            "97/97 [==============================] - 51s 518ms/step - loss: 1.3642 - accuracy: 0.5426\n",
            "Epoch 55/70\n",
            "97/97 [==============================] - 50s 510ms/step - loss: 1.3196 - accuracy: 0.5581\n",
            "Epoch 56/70\n",
            "97/97 [==============================] - 51s 520ms/step - loss: 1.2839 - accuracy: 0.5671\n",
            "Epoch 57/70\n",
            "97/97 [==============================] - 50s 511ms/step - loss: 1.3367 - accuracy: 0.5481\n",
            "Epoch 58/70\n",
            "97/97 [==============================] - 51s 521ms/step - loss: 1.3177 - accuracy: 0.5597\n",
            "Epoch 59/70\n",
            "97/97 [==============================] - 50s 512ms/step - loss: 1.3255 - accuracy: 0.5665\n",
            "Epoch 60/70\n",
            "97/97 [==============================] - 51s 519ms/step - loss: 1.2953 - accuracy: 0.5600\n",
            "Epoch 61/70\n",
            "97/97 [==============================] - 51s 517ms/step - loss: 1.3007 - accuracy: 0.5690\n",
            "Epoch 62/70\n",
            "97/97 [==============================] - 51s 521ms/step - loss: 1.2898 - accuracy: 0.5768\n",
            "Epoch 63/70\n",
            "97/97 [==============================] - 51s 518ms/step - loss: 1.2819 - accuracy: 0.5774\n",
            "Epoch 64/70\n",
            "97/97 [==============================] - 51s 516ms/step - loss: 1.3193 - accuracy: 0.5561\n",
            "Epoch 65/70\n",
            "97/97 [==============================] - 51s 518ms/step - loss: 1.2774 - accuracy: 0.5652\n",
            "Epoch 66/70\n",
            "97/97 [==============================] - 50s 512ms/step - loss: 1.2808 - accuracy: 0.5513\n",
            "Epoch 67/70\n",
            "97/97 [==============================] - 51s 522ms/step - loss: 1.2760 - accuracy: 0.5726\n",
            "Epoch 68/70\n",
            "97/97 [==============================] - 50s 510ms/step - loss: 1.2625 - accuracy: 0.5710\n",
            "Epoch 69/70\n",
            "97/97 [==============================] - 51s 519ms/step - loss: 1.2629 - accuracy: 0.5694\n",
            "Epoch 70/70\n",
            "97/97 [==============================] - 50s 509ms/step - loss: 1.2501 - accuracy: 0.5732\n"
          ],
          "name": "stdout"
        },
        {
          "output_type": "execute_result",
          "data": {
            "text/plain": [
              "<tensorflow.python.keras.callbacks.History at 0x7f58a2b5f190>"
            ]
          },
          "metadata": {
            "tags": []
          },
          "execution_count": 19
        }
      ]
    },
    {
      "cell_type": "code",
      "metadata": {
        "colab": {
          "base_uri": "https://localhost:8080/"
        },
        "id": "sp80wPJAfQEe",
        "outputId": "ddbdb722-0fb3-419e-ed85-4cc6e313b700"
      },
      "source": [
        "model.evaluate(valid_set, verbose=1) #160"
      ],
      "execution_count": null,
      "outputs": [
        {
          "output_type": "stream",
          "text": [
            "26/26 [==============================] - 123s 4s/step - loss: 1.3869 - accuracy: 0.5140\n"
          ],
          "name": "stdout"
        },
        {
          "output_type": "execute_result",
          "data": {
            "text/plain": [
              "[1.3868820667266846, 0.5139732956886292]"
            ]
          },
          "metadata": {
            "tags": []
          },
          "execution_count": 20
        }
      ]
    },
    {
      "cell_type": "code",
      "metadata": {
        "colab": {
          "base_uri": "https://localhost:8080/"
        },
        "id": "0eASCo_80DGK",
        "outputId": "2a418332-9c37-4b7c-b0c6-27f1151b4118"
      },
      "source": [
        "model.evaluate(testing_set, verbose=1) #160"
      ],
      "execution_count": null,
      "outputs": [
        {
          "output_type": "stream",
          "text": [
            "25/25 [==============================] - 18s 522ms/step - loss: 1.3781 - accuracy: 0.5437\n"
          ],
          "name": "stdout"
        },
        {
          "output_type": "execute_result",
          "data": {
            "text/plain": [
              "[1.3781497478485107, 0.543749988079071]"
            ]
          },
          "metadata": {
            "tags": []
          },
          "execution_count": 21
        }
      ]
    },
    {
      "cell_type": "code",
      "metadata": {
        "id": "LfaRVJxM001p"
      },
      "source": [
        "import os\n",
        "weights_dir = 'weights/article'\n",
        "# Save model weights\n",
        "model.save_weights(os.path.join(weights_dir, 'vgg16-froze.h5'))"
      ],
      "execution_count": null,
      "outputs": []
    },
    {
      "cell_type": "markdown",
      "metadata": {
        "id": "K-JEa-ibG2lb"
      },
      "source": [
        "### VGG-16 Freeze half of the layers"
      ]
    },
    {
      "cell_type": "code",
      "metadata": {
        "colab": {
          "base_uri": "https://localhost:8080/"
        },
        "id": "wOevnydn0FLf",
        "outputId": "fb1dbcff-b7dc-4c22-adb5-43fc8076aa31"
      },
      "source": [
        "vgg = VGG16(include_top=False, weights=\"imagenet\", input_shape=(img_size, img_size, channels))\n",
        "vgg.trainable = True\n",
        "base_model = vgg\n",
        "\n",
        "len = len(base_model.layers) // 2\n",
        "\n",
        "# freeze layers\n",
        "for layer in base_model.layers[:len]:\n",
        "    layer.trainable = False\n",
        "\n",
        "\n",
        "inputs = tf.keras.Input(shape=(img_size, img_size, channels))\n",
        "\n",
        "x = base_model(inputs, training=False)\n",
        "x = tf.keras.layers.GlobalAveragePooling2D()(x)\n",
        "x = tf.keras.layers.Dropout(0.2)(x)\n",
        "x = keras.layers.Flatten()(x)\n",
        "X = keras.layers.Dense(128, activation='relu')(x)\n",
        "X = keras.layers.Dropout(0.5)(X)\n",
        "X = keras.layers.BatchNormalization()(X)\n",
        "\n",
        "outputs = tf.keras.layers.Dense(64, activation=tf.keras.activations.softmax)(X)\n",
        "\n",
        "model = tf.keras.Model(inputs, outputs)\n",
        "model.summary()\n",
        "\n",
        "model.compile(loss='sparse_categorical_crossentropy', optimizer='adam', metrics=['accuracy'])"
      ],
      "execution_count": null,
      "outputs": [
        {
          "output_type": "stream",
          "text": [
            "WARNING:tensorflow:\n",
            "The following Variables were used a Lambda layer's call (tf.nn.convolution_42), but\n",
            "are not present in its tracked objects:\n",
            "  <tf.Variable 'block1_conv1/kernel:0' shape=(3, 3, 3, 64) dtype=float32>\n",
            "It is possible that this is intended behavior, but it is more likely\n",
            "an omission. This is a strong indication that this layer should be\n",
            "formulated as a subclassed Layer rather than a Lambda layer.\n",
            "WARNING:tensorflow:\n",
            "The following Variables were used a Lambda layer's call (tf.nn.bias_add_42), but\n",
            "are not present in its tracked objects:\n",
            "  <tf.Variable 'block1_conv1/bias:0' shape=(64,) dtype=float32>\n",
            "It is possible that this is intended behavior, but it is more likely\n",
            "an omission. This is a strong indication that this layer should be\n",
            "formulated as a subclassed Layer rather than a Lambda layer.\n",
            "WARNING:tensorflow:\n",
            "The following Variables were used a Lambda layer's call (tf.nn.convolution_43), but\n",
            "are not present in its tracked objects:\n",
            "  <tf.Variable 'block1_conv2/kernel:0' shape=(3, 3, 64, 64) dtype=float32>\n",
            "It is possible that this is intended behavior, but it is more likely\n",
            "an omission. This is a strong indication that this layer should be\n",
            "formulated as a subclassed Layer rather than a Lambda layer.\n",
            "WARNING:tensorflow:\n",
            "The following Variables were used a Lambda layer's call (tf.nn.bias_add_43), but\n",
            "are not present in its tracked objects:\n",
            "  <tf.Variable 'block1_conv2/bias:0' shape=(64,) dtype=float32>\n",
            "It is possible that this is intended behavior, but it is more likely\n",
            "an omission. This is a strong indication that this layer should be\n",
            "formulated as a subclassed Layer rather than a Lambda layer.\n",
            "WARNING:tensorflow:\n",
            "The following Variables were used a Lambda layer's call (tf.nn.convolution_44), but\n",
            "are not present in its tracked objects:\n",
            "  <tf.Variable 'block2_conv1/kernel:0' shape=(3, 3, 64, 128) dtype=float32>\n",
            "It is possible that this is intended behavior, but it is more likely\n",
            "an omission. This is a strong indication that this layer should be\n",
            "formulated as a subclassed Layer rather than a Lambda layer.\n",
            "WARNING:tensorflow:\n",
            "The following Variables were used a Lambda layer's call (tf.nn.bias_add_44), but\n",
            "are not present in its tracked objects:\n",
            "  <tf.Variable 'block2_conv1/bias:0' shape=(128,) dtype=float32>\n",
            "It is possible that this is intended behavior, but it is more likely\n",
            "an omission. This is a strong indication that this layer should be\n",
            "formulated as a subclassed Layer rather than a Lambda layer.\n",
            "WARNING:tensorflow:\n",
            "The following Variables were used a Lambda layer's call (tf.nn.convolution_45), but\n",
            "are not present in its tracked objects:\n",
            "  <tf.Variable 'block2_conv2/kernel:0' shape=(3, 3, 128, 128) dtype=float32>\n",
            "It is possible that this is intended behavior, but it is more likely\n",
            "an omission. This is a strong indication that this layer should be\n",
            "formulated as a subclassed Layer rather than a Lambda layer.\n",
            "WARNING:tensorflow:\n",
            "The following Variables were used a Lambda layer's call (tf.nn.bias_add_45), but\n",
            "are not present in its tracked objects:\n",
            "  <tf.Variable 'block2_conv2/bias:0' shape=(128,) dtype=float32>\n",
            "It is possible that this is intended behavior, but it is more likely\n",
            "an omission. This is a strong indication that this layer should be\n",
            "formulated as a subclassed Layer rather than a Lambda layer.\n",
            "WARNING:tensorflow:\n",
            "The following Variables were used a Lambda layer's call (tf.nn.convolution_46), but\n",
            "are not present in its tracked objects:\n",
            "  <tf.Variable 'block3_conv1/kernel:0' shape=(3, 3, 128, 256) dtype=float32>\n",
            "It is possible that this is intended behavior, but it is more likely\n",
            "an omission. This is a strong indication that this layer should be\n",
            "formulated as a subclassed Layer rather than a Lambda layer.\n",
            "WARNING:tensorflow:\n",
            "The following Variables were used a Lambda layer's call (tf.nn.bias_add_46), but\n",
            "are not present in its tracked objects:\n",
            "  <tf.Variable 'block3_conv1/bias:0' shape=(256,) dtype=float32>\n",
            "It is possible that this is intended behavior, but it is more likely\n",
            "an omission. This is a strong indication that this layer should be\n",
            "formulated as a subclassed Layer rather than a Lambda layer.\n",
            "WARNING:tensorflow:\n",
            "The following Variables were used a Lambda layer's call (tf.nn.convolution_47), but\n",
            "are not present in its tracked objects:\n",
            "  <tf.Variable 'block3_conv2/kernel:0' shape=(3, 3, 256, 256) dtype=float32>\n",
            "It is possible that this is intended behavior, but it is more likely\n",
            "an omission. This is a strong indication that this layer should be\n",
            "formulated as a subclassed Layer rather than a Lambda layer.\n",
            "WARNING:tensorflow:\n",
            "The following Variables were used a Lambda layer's call (tf.nn.bias_add_47), but\n",
            "are not present in its tracked objects:\n",
            "  <tf.Variable 'block3_conv2/bias:0' shape=(256,) dtype=float32>\n",
            "It is possible that this is intended behavior, but it is more likely\n",
            "an omission. This is a strong indication that this layer should be\n",
            "formulated as a subclassed Layer rather than a Lambda layer.\n",
            "WARNING:tensorflow:\n",
            "The following Variables were used a Lambda layer's call (tf.nn.convolution_48), but\n",
            "are not present in its tracked objects:\n",
            "  <tf.Variable 'block3_conv3/kernel:0' shape=(3, 3, 256, 256) dtype=float32>\n",
            "It is possible that this is intended behavior, but it is more likely\n",
            "an omission. This is a strong indication that this layer should be\n",
            "formulated as a subclassed Layer rather than a Lambda layer.\n",
            "WARNING:tensorflow:\n",
            "The following Variables were used a Lambda layer's call (tf.nn.bias_add_48), but\n",
            "are not present in its tracked objects:\n",
            "  <tf.Variable 'block3_conv3/bias:0' shape=(256,) dtype=float32>\n",
            "It is possible that this is intended behavior, but it is more likely\n",
            "an omission. This is a strong indication that this layer should be\n",
            "formulated as a subclassed Layer rather than a Lambda layer.\n",
            "WARNING:tensorflow:\n",
            "The following Variables were used a Lambda layer's call (tf.nn.convolution_49), but\n",
            "are not present in its tracked objects:\n",
            "  <tf.Variable 'block4_conv1/kernel:0' shape=(3, 3, 256, 512) dtype=float32>\n",
            "It is possible that this is intended behavior, but it is more likely\n",
            "an omission. This is a strong indication that this layer should be\n",
            "formulated as a subclassed Layer rather than a Lambda layer.\n",
            "WARNING:tensorflow:\n",
            "The following Variables were used a Lambda layer's call (tf.nn.bias_add_49), but\n",
            "are not present in its tracked objects:\n",
            "  <tf.Variable 'block4_conv1/bias:0' shape=(512,) dtype=float32>\n",
            "It is possible that this is intended behavior, but it is more likely\n",
            "an omission. This is a strong indication that this layer should be\n",
            "formulated as a subclassed Layer rather than a Lambda layer.\n",
            "WARNING:tensorflow:\n",
            "The following Variables were used a Lambda layer's call (tf.nn.convolution_50), but\n",
            "are not present in its tracked objects:\n",
            "  <tf.Variable 'block4_conv2/kernel:0' shape=(3, 3, 512, 512) dtype=float32>\n",
            "It is possible that this is intended behavior, but it is more likely\n",
            "an omission. This is a strong indication that this layer should be\n",
            "formulated as a subclassed Layer rather than a Lambda layer.\n",
            "WARNING:tensorflow:\n",
            "The following Variables were used a Lambda layer's call (tf.nn.bias_add_50), but\n",
            "are not present in its tracked objects:\n",
            "  <tf.Variable 'block4_conv2/bias:0' shape=(512,) dtype=float32>\n",
            "It is possible that this is intended behavior, but it is more likely\n",
            "an omission. This is a strong indication that this layer should be\n",
            "formulated as a subclassed Layer rather than a Lambda layer.\n",
            "WARNING:tensorflow:\n",
            "The following Variables were used a Lambda layer's call (tf.nn.convolution_51), but\n",
            "are not present in its tracked objects:\n",
            "  <tf.Variable 'block4_conv3/kernel:0' shape=(3, 3, 512, 512) dtype=float32>\n",
            "It is possible that this is intended behavior, but it is more likely\n",
            "an omission. This is a strong indication that this layer should be\n",
            "formulated as a subclassed Layer rather than a Lambda layer.\n",
            "WARNING:tensorflow:\n",
            "The following Variables were used a Lambda layer's call (tf.nn.bias_add_51), but\n",
            "are not present in its tracked objects:\n",
            "  <tf.Variable 'block4_conv3/bias:0' shape=(512,) dtype=float32>\n",
            "It is possible that this is intended behavior, but it is more likely\n",
            "an omission. This is a strong indication that this layer should be\n",
            "formulated as a subclassed Layer rather than a Lambda layer.\n",
            "WARNING:tensorflow:\n",
            "The following Variables were used a Lambda layer's call (tf.nn.convolution_52), but\n",
            "are not present in its tracked objects:\n",
            "  <tf.Variable 'block5_conv1/kernel:0' shape=(3, 3, 512, 512) dtype=float32>\n",
            "It is possible that this is intended behavior, but it is more likely\n",
            "an omission. This is a strong indication that this layer should be\n",
            "formulated as a subclassed Layer rather than a Lambda layer.\n",
            "WARNING:tensorflow:\n",
            "The following Variables were used a Lambda layer's call (tf.nn.bias_add_52), but\n",
            "are not present in its tracked objects:\n",
            "  <tf.Variable 'block5_conv1/bias:0' shape=(512,) dtype=float32>\n",
            "It is possible that this is intended behavior, but it is more likely\n",
            "an omission. This is a strong indication that this layer should be\n",
            "formulated as a subclassed Layer rather than a Lambda layer.\n",
            "WARNING:tensorflow:\n",
            "The following Variables were used a Lambda layer's call (tf.nn.convolution_53), but\n",
            "are not present in its tracked objects:\n",
            "  <tf.Variable 'block5_conv2/kernel:0' shape=(3, 3, 512, 512) dtype=float32>\n",
            "It is possible that this is intended behavior, but it is more likely\n",
            "an omission. This is a strong indication that this layer should be\n",
            "formulated as a subclassed Layer rather than a Lambda layer.\n",
            "WARNING:tensorflow:\n",
            "The following Variables were used a Lambda layer's call (tf.nn.bias_add_53), but\n",
            "are not present in its tracked objects:\n",
            "  <tf.Variable 'block5_conv2/bias:0' shape=(512,) dtype=float32>\n",
            "It is possible that this is intended behavior, but it is more likely\n",
            "an omission. This is a strong indication that this layer should be\n",
            "formulated as a subclassed Layer rather than a Lambda layer.\n",
            "WARNING:tensorflow:\n",
            "The following Variables were used a Lambda layer's call (tf.nn.convolution_54), but\n",
            "are not present in its tracked objects:\n",
            "  <tf.Variable 'block5_conv3/kernel:0' shape=(3, 3, 512, 512) dtype=float32>\n",
            "It is possible that this is intended behavior, but it is more likely\n",
            "an omission. This is a strong indication that this layer should be\n",
            "formulated as a subclassed Layer rather than a Lambda layer.\n",
            "WARNING:tensorflow:\n",
            "The following Variables were used a Lambda layer's call (tf.nn.bias_add_54), but\n",
            "are not present in its tracked objects:\n",
            "  <tf.Variable 'block5_conv3/bias:0' shape=(512,) dtype=float32>\n",
            "It is possible that this is intended behavior, but it is more likely\n",
            "an omission. This is a strong indication that this layer should be\n",
            "formulated as a subclassed Layer rather than a Lambda layer.\n",
            "Model: \"model_3\"\n",
            "_________________________________________________________________\n",
            "Layer (type)                 Output Shape              Param #   \n",
            "=================================================================\n",
            "input_4 (InputLayer)         [(None, 400, 400, 3)]     0         \n",
            "_________________________________________________________________\n",
            "tf.nn.convolution_42 (TFOpLa (None, 400, 400, 64)      0         \n",
            "_________________________________________________________________\n",
            "tf.nn.bias_add_42 (TFOpLambd (None, 400, 400, 64)      0         \n",
            "_________________________________________________________________\n",
            "tf.nn.relu_42 (TFOpLambda)   (None, 400, 400, 64)      0         \n",
            "_________________________________________________________________\n",
            "tf.nn.convolution_43 (TFOpLa (None, 400, 400, 64)      0         \n",
            "_________________________________________________________________\n",
            "tf.nn.bias_add_43 (TFOpLambd (None, 400, 400, 64)      0         \n",
            "_________________________________________________________________\n",
            "tf.nn.relu_43 (TFOpLambda)   (None, 400, 400, 64)      0         \n",
            "_________________________________________________________________\n",
            "tf.compat.v1.nn.max_pool_15  (None, 200, 200, 64)      0         \n",
            "_________________________________________________________________\n",
            "tf.nn.convolution_44 (TFOpLa (None, 200, 200, 128)     0         \n",
            "_________________________________________________________________\n",
            "tf.nn.bias_add_44 (TFOpLambd (None, 200, 200, 128)     0         \n",
            "_________________________________________________________________\n",
            "tf.nn.relu_44 (TFOpLambda)   (None, 200, 200, 128)     0         \n",
            "_________________________________________________________________\n",
            "tf.nn.convolution_45 (TFOpLa (None, 200, 200, 128)     0         \n",
            "_________________________________________________________________\n",
            "tf.nn.bias_add_45 (TFOpLambd (None, 200, 200, 128)     0         \n",
            "_________________________________________________________________\n",
            "tf.nn.relu_45 (TFOpLambda)   (None, 200, 200, 128)     0         \n",
            "_________________________________________________________________\n",
            "tf.compat.v1.nn.max_pool_16  (None, 100, 100, 128)     0         \n",
            "_________________________________________________________________\n",
            "tf.nn.convolution_46 (TFOpLa (None, 100, 100, 256)     0         \n",
            "_________________________________________________________________\n",
            "tf.nn.bias_add_46 (TFOpLambd (None, 100, 100, 256)     0         \n",
            "_________________________________________________________________\n",
            "tf.nn.relu_46 (TFOpLambda)   (None, 100, 100, 256)     0         \n",
            "_________________________________________________________________\n",
            "tf.nn.convolution_47 (TFOpLa (None, 100, 100, 256)     0         \n",
            "_________________________________________________________________\n",
            "tf.nn.bias_add_47 (TFOpLambd (None, 100, 100, 256)     0         \n",
            "_________________________________________________________________\n",
            "tf.nn.relu_47 (TFOpLambda)   (None, 100, 100, 256)     0         \n",
            "_________________________________________________________________\n",
            "tf.nn.convolution_48 (TFOpLa (None, 100, 100, 256)     0         \n",
            "_________________________________________________________________\n",
            "tf.nn.bias_add_48 (TFOpLambd (None, 100, 100, 256)     0         \n",
            "_________________________________________________________________\n",
            "tf.nn.relu_48 (TFOpLambda)   (None, 100, 100, 256)     0         \n",
            "_________________________________________________________________\n",
            "tf.compat.v1.nn.max_pool_17  (None, 50, 50, 256)       0         \n",
            "_________________________________________________________________\n",
            "tf.nn.convolution_49 (TFOpLa (None, 50, 50, 512)       0         \n",
            "_________________________________________________________________\n",
            "tf.nn.bias_add_49 (TFOpLambd (None, 50, 50, 512)       0         \n",
            "_________________________________________________________________\n",
            "tf.nn.relu_49 (TFOpLambda)   (None, 50, 50, 512)       0         \n",
            "_________________________________________________________________\n",
            "tf.nn.convolution_50 (TFOpLa (None, 50, 50, 512)       0         \n",
            "_________________________________________________________________\n",
            "tf.nn.bias_add_50 (TFOpLambd (None, 50, 50, 512)       0         \n",
            "_________________________________________________________________\n",
            "tf.nn.relu_50 (TFOpLambda)   (None, 50, 50, 512)       0         \n",
            "_________________________________________________________________\n",
            "tf.nn.convolution_51 (TFOpLa (None, 50, 50, 512)       0         \n",
            "_________________________________________________________________\n",
            "tf.nn.bias_add_51 (TFOpLambd (None, 50, 50, 512)       0         \n",
            "_________________________________________________________________\n",
            "tf.nn.relu_51 (TFOpLambda)   (None, 50, 50, 512)       0         \n",
            "_________________________________________________________________\n",
            "tf.compat.v1.nn.max_pool_18  (None, 25, 25, 512)       0         \n",
            "_________________________________________________________________\n",
            "tf.nn.convolution_52 (TFOpLa (None, 25, 25, 512)       0         \n",
            "_________________________________________________________________\n",
            "tf.nn.bias_add_52 (TFOpLambd (None, 25, 25, 512)       0         \n",
            "_________________________________________________________________\n",
            "tf.nn.relu_52 (TFOpLambda)   (None, 25, 25, 512)       0         \n",
            "_________________________________________________________________\n",
            "tf.nn.convolution_53 (TFOpLa (None, 25, 25, 512)       0         \n",
            "_________________________________________________________________\n",
            "tf.nn.bias_add_53 (TFOpLambd (None, 25, 25, 512)       0         \n",
            "_________________________________________________________________\n",
            "tf.nn.relu_53 (TFOpLambda)   (None, 25, 25, 512)       0         \n",
            "_________________________________________________________________\n",
            "tf.nn.convolution_54 (TFOpLa (None, 25, 25, 512)       0         \n",
            "_________________________________________________________________\n",
            "tf.nn.bias_add_54 (TFOpLambd (None, 25, 25, 512)       0         \n",
            "_________________________________________________________________\n",
            "tf.nn.relu_54 (TFOpLambda)   (None, 25, 25, 512)       0         \n",
            "_________________________________________________________________\n",
            "tf.compat.v1.nn.max_pool_19  (None, 12, 12, 512)       0         \n",
            "_________________________________________________________________\n",
            "global_average_pooling2d_3 ( (None, 512)               0         \n",
            "_________________________________________________________________\n",
            "dropout_6 (Dropout)          (None, 512)               0         \n",
            "_________________________________________________________________\n",
            "flatten_3 (Flatten)          (None, 512)               0         \n",
            "_________________________________________________________________\n",
            "dense_6 (Dense)              (None, 128)               65664     \n",
            "_________________________________________________________________\n",
            "dropout_7 (Dropout)          (None, 128)               0         \n",
            "_________________________________________________________________\n",
            "batch_normalization_3 (Batch (None, 128)               512       \n",
            "_________________________________________________________________\n",
            "dense_7 (Dense)              (None, 64)                8256      \n",
            "=================================================================\n",
            "Total params: 74,432\n",
            "Trainable params: 74,176\n",
            "Non-trainable params: 256\n",
            "_________________________________________________________________\n"
          ],
          "name": "stdout"
        }
      ]
    },
    {
      "cell_type": "code",
      "metadata": {
        "colab": {
          "base_uri": "https://localhost:8080/"
        },
        "id": "LpQe_mpa1Kwi",
        "outputId": "b178b432-f306-4cfe-9baf-e58648f0791e"
      },
      "source": [
        "model.fit(training_set, epochs=70)"
      ],
      "execution_count": null,
      "outputs": [
        {
          "output_type": "stream",
          "text": [
            "Epoch 1/70\n",
            "97/97 [==============================] - 51s 517ms/step - loss: 4.1919 - accuracy: 0.0468\n",
            "Epoch 2/70\n",
            "97/97 [==============================] - 51s 516ms/step - loss: 3.5439 - accuracy: 0.1252\n",
            "Epoch 3/70\n",
            "97/97 [==============================] - 51s 519ms/step - loss: 3.1411 - accuracy: 0.1871\n",
            "Epoch 4/70\n",
            "97/97 [==============================] - 51s 516ms/step - loss: 2.8582 - accuracy: 0.2355\n",
            "Epoch 5/70\n",
            "97/97 [==============================] - 51s 518ms/step - loss: 2.6655 - accuracy: 0.2713\n",
            "Epoch 6/70\n",
            "97/97 [==============================] - 51s 517ms/step - loss: 2.5038 - accuracy: 0.2997\n",
            "Epoch 7/70\n",
            "97/97 [==============================] - 50s 509ms/step - loss: 2.3625 - accuracy: 0.3303\n",
            "Epoch 8/70\n",
            "97/97 [==============================] - 49s 501ms/step - loss: 2.2594 - accuracy: 0.3435\n",
            "Epoch 9/70\n",
            "97/97 [==============================] - 49s 498ms/step - loss: 2.1194 - accuracy: 0.3706\n",
            "Epoch 10/70\n",
            "97/97 [==============================] - 48s 492ms/step - loss: 2.0394 - accuracy: 0.3887\n",
            "Epoch 11/70\n",
            "97/97 [==============================] - 48s 491ms/step - loss: 2.0082 - accuracy: 0.4045\n",
            "Epoch 12/70\n",
            "97/97 [==============================] - 48s 491ms/step - loss: 1.9145 - accuracy: 0.4155\n",
            "Epoch 13/70\n",
            "97/97 [==============================] - 48s 491ms/step - loss: 1.8754 - accuracy: 0.4265\n",
            "Epoch 14/70\n",
            "97/97 [==============================] - 49s 494ms/step - loss: 1.8511 - accuracy: 0.4277\n",
            "Epoch 15/70\n",
            "97/97 [==============================] - 49s 498ms/step - loss: 1.7874 - accuracy: 0.4400\n",
            "Epoch 16/70\n",
            "97/97 [==============================] - 48s 492ms/step - loss: 1.7521 - accuracy: 0.4590\n",
            "Epoch 17/70\n",
            "97/97 [==============================] - 49s 498ms/step - loss: 1.7045 - accuracy: 0.4600\n",
            "Epoch 18/70\n",
            "97/97 [==============================] - 49s 494ms/step - loss: 1.6855 - accuracy: 0.4635\n",
            "Epoch 19/70\n",
            "97/97 [==============================] - 48s 492ms/step - loss: 1.6871 - accuracy: 0.4694\n",
            "Epoch 20/70\n",
            "97/97 [==============================] - 48s 491ms/step - loss: 1.6301 - accuracy: 0.4845\n",
            "Epoch 21/70\n",
            "97/97 [==============================] - 48s 490ms/step - loss: 1.6008 - accuracy: 0.4819\n",
            "Epoch 22/70\n",
            "97/97 [==============================] - 48s 492ms/step - loss: 1.5727 - accuracy: 0.4952\n",
            "Epoch 23/70\n",
            "97/97 [==============================] - 48s 491ms/step - loss: 1.5868 - accuracy: 0.4852\n",
            "Epoch 24/70\n",
            "97/97 [==============================] - 48s 490ms/step - loss: 1.5698 - accuracy: 0.4823\n",
            "Epoch 25/70\n",
            "97/97 [==============================] - 48s 490ms/step - loss: 1.5612 - accuracy: 0.5074\n",
            "Epoch 26/70\n",
            "97/97 [==============================] - 50s 510ms/step - loss: 1.5278 - accuracy: 0.5026\n",
            "Epoch 27/70\n",
            "97/97 [==============================] - 50s 513ms/step - loss: 1.5128 - accuracy: 0.5229\n",
            "Epoch 28/70\n",
            "97/97 [==============================] - 49s 501ms/step - loss: 1.4966 - accuracy: 0.5194\n",
            "Epoch 29/70\n",
            "97/97 [==============================] - 49s 498ms/step - loss: 1.4829 - accuracy: 0.5184\n",
            "Epoch 30/70\n",
            "97/97 [==============================] - 51s 523ms/step - loss: 1.4915 - accuracy: 0.5052\n",
            "Epoch 31/70\n",
            "97/97 [==============================] - 51s 518ms/step - loss: 1.4643 - accuracy: 0.5300\n",
            "Epoch 32/70\n",
            "97/97 [==============================] - 51s 521ms/step - loss: 1.4381 - accuracy: 0.5297\n",
            "Epoch 33/70\n",
            "97/97 [==============================] - 50s 511ms/step - loss: 1.4181 - accuracy: 0.5284\n",
            "Epoch 34/70\n",
            "97/97 [==============================] - 50s 508ms/step - loss: 1.3966 - accuracy: 0.5394\n",
            "Epoch 35/70\n",
            "97/97 [==============================] - 50s 511ms/step - loss: 1.4090 - accuracy: 0.5365\n",
            "Epoch 36/70\n",
            "97/97 [==============================] - 49s 502ms/step - loss: 1.3946 - accuracy: 0.5358\n",
            "Epoch 37/70\n",
            "97/97 [==============================] - 49s 498ms/step - loss: 1.4021 - accuracy: 0.5368\n",
            "Epoch 38/70\n",
            "97/97 [==============================] - 49s 502ms/step - loss: 1.3801 - accuracy: 0.5361\n",
            "Epoch 39/70\n",
            "97/97 [==============================] - 49s 498ms/step - loss: 1.4075 - accuracy: 0.5329\n",
            "Epoch 40/70\n",
            "97/97 [==============================] - 50s 510ms/step - loss: 1.4007 - accuracy: 0.5413\n",
            "Epoch 41/70\n",
            "97/97 [==============================] - 49s 502ms/step - loss: 1.3570 - accuracy: 0.5377\n",
            "Epoch 42/70\n",
            "97/97 [==============================] - 49s 496ms/step - loss: 1.3613 - accuracy: 0.5487\n",
            "Epoch 43/70\n",
            "97/97 [==============================] - 49s 502ms/step - loss: 1.3207 - accuracy: 0.5506\n",
            "Epoch 44/70\n",
            "97/97 [==============================] - 49s 502ms/step - loss: 1.3499 - accuracy: 0.5519\n",
            "Epoch 45/70\n",
            "97/97 [==============================] - 50s 508ms/step - loss: 1.3262 - accuracy: 0.5565\n",
            "Epoch 46/70\n",
            "97/97 [==============================] - 51s 520ms/step - loss: 1.3083 - accuracy: 0.5619\n",
            "Epoch 47/70\n",
            "97/97 [==============================] - 50s 507ms/step - loss: 1.3164 - accuracy: 0.5635\n",
            "Epoch 48/70\n",
            "97/97 [==============================] - 49s 500ms/step - loss: 1.3209 - accuracy: 0.5500\n",
            "Epoch 49/70\n",
            "97/97 [==============================] - 49s 499ms/step - loss: 1.3131 - accuracy: 0.5594\n",
            "Epoch 50/70\n",
            "97/97 [==============================] - 49s 497ms/step - loss: 1.3456 - accuracy: 0.5590\n",
            "Epoch 51/70\n",
            "97/97 [==============================] - 49s 494ms/step - loss: 1.3358 - accuracy: 0.5471\n",
            "Epoch 52/70\n",
            "97/97 [==============================] - 48s 493ms/step - loss: 1.3178 - accuracy: 0.5471\n",
            "Epoch 53/70\n",
            "97/97 [==============================] - 48s 492ms/step - loss: 1.2967 - accuracy: 0.5697\n",
            "Epoch 54/70\n",
            "97/97 [==============================] - 49s 496ms/step - loss: 1.2896 - accuracy: 0.5648\n",
            "Epoch 55/70\n",
            "97/97 [==============================] - 48s 492ms/step - loss: 1.3181 - accuracy: 0.5506\n",
            "Epoch 56/70\n",
            "97/97 [==============================] - 49s 502ms/step - loss: 1.2999 - accuracy: 0.5629\n",
            "Epoch 57/70\n",
            "97/97 [==============================] - 52s 525ms/step - loss: 1.2527 - accuracy: 0.5726\n",
            "Epoch 58/70\n",
            "97/97 [==============================] - 51s 520ms/step - loss: 1.2472 - accuracy: 0.5732\n",
            "Epoch 59/70\n",
            "97/97 [==============================] - 51s 524ms/step - loss: 1.2621 - accuracy: 0.5723\n",
            "Epoch 60/70\n",
            "97/97 [==============================] - 51s 521ms/step - loss: 1.2812 - accuracy: 0.5581\n",
            "Epoch 61/70\n",
            "97/97 [==============================] - 50s 512ms/step - loss: 1.2547 - accuracy: 0.5665\n",
            "Epoch 62/70\n",
            "97/97 [==============================] - 51s 523ms/step - loss: 1.2382 - accuracy: 0.5784\n",
            "Epoch 63/70\n",
            "97/97 [==============================] - 51s 521ms/step - loss: 1.2317 - accuracy: 0.5829\n",
            "Epoch 64/70\n",
            "97/97 [==============================] - 51s 520ms/step - loss: 1.2481 - accuracy: 0.5729\n",
            "Epoch 65/70\n",
            "97/97 [==============================] - 51s 522ms/step - loss: 1.2303 - accuracy: 0.5800\n",
            "Epoch 66/70\n",
            "97/97 [==============================] - 51s 522ms/step - loss: 1.2442 - accuracy: 0.5874\n",
            "Epoch 67/70\n",
            "97/97 [==============================] - 51s 521ms/step - loss: 1.2838 - accuracy: 0.5661\n",
            "Epoch 68/70\n",
            "97/97 [==============================] - 50s 509ms/step - loss: 1.2690 - accuracy: 0.5635\n",
            "Epoch 69/70\n",
            "97/97 [==============================] - 51s 523ms/step - loss: 1.2658 - accuracy: 0.5648\n",
            "Epoch 70/70\n",
            "97/97 [==============================] - 51s 518ms/step - loss: 1.2705 - accuracy: 0.5639\n"
          ],
          "name": "stdout"
        },
        {
          "output_type": "execute_result",
          "data": {
            "text/plain": [
              "<tensorflow.python.keras.callbacks.History at 0x7f58a0755c90>"
            ]
          },
          "metadata": {
            "tags": []
          },
          "execution_count": 27
        }
      ]
    },
    {
      "cell_type": "code",
      "metadata": {
        "colab": {
          "base_uri": "https://localhost:8080/"
        },
        "id": "8pkgwo2d1RPA",
        "outputId": "0924c039-4a2a-44ab-d93b-640cff7a97fb"
      },
      "source": [
        "model.evaluate(valid_set, verbose=1) #160"
      ],
      "execution_count": null,
      "outputs": [
        {
          "output_type": "stream",
          "text": [
            "26/26 [==============================] - 21s 498ms/step - loss: 1.4390 - accuracy: 0.5298\n"
          ],
          "name": "stdout"
        },
        {
          "output_type": "execute_result",
          "data": {
            "text/plain": [
              "[1.4390194416046143, 0.5297691226005554]"
            ]
          },
          "metadata": {
            "tags": []
          },
          "execution_count": 28
        }
      ]
    },
    {
      "cell_type": "code",
      "metadata": {
        "colab": {
          "base_uri": "https://localhost:8080/"
        },
        "id": "RSQIehVMKfes",
        "outputId": "12024ab8-3dd0-467e-85ad-a3618a8cb001"
      },
      "source": [
        "model.evaluate(testing_set, verbose=1) #160"
      ],
      "execution_count": null,
      "outputs": [
        {
          "output_type": "stream",
          "text": [
            "25/25 [==============================] - 19s 524ms/step - loss: 1.3928 - accuracy: 0.5612\n"
          ],
          "name": "stdout"
        },
        {
          "output_type": "execute_result",
          "data": {
            "text/plain": [
              "[1.392838954925537, 0.5612499713897705]"
            ]
          },
          "metadata": {
            "tags": []
          },
          "execution_count": 29
        }
      ]
    },
    {
      "cell_type": "code",
      "metadata": {
        "id": "MMk133q4KiAU"
      },
      "source": [
        "import os\n",
        "weights_dir = 'weights/article'\n",
        "# Save model weights\n",
        "model.save_weights(os.path.join(weights_dir, 'vgg16-half-froze.h5'))"
      ],
      "execution_count": null,
      "outputs": []
    },
    {
      "cell_type": "markdown",
      "metadata": {
        "id": "g9tf9HwkG9D5"
      },
      "source": [
        "### VGG-16 Freeze a fourth of the layers"
      ]
    },
    {
      "cell_type": "code",
      "metadata": {
        "colab": {
          "base_uri": "https://localhost:8080/"
        },
        "id": "Ch1uj50vKljH",
        "outputId": "986a5f6e-3f1b-4dec-c72d-01613525e3d1"
      },
      "source": [
        "vgg = VGG16(include_top=False, weights=\"imagenet\", input_shape=(img_size, img_size, channels))\n",
        "vgg.trainable = True\n",
        "base_model = vgg\n",
        "\n",
        "len = len(base_model.layers) // 4\n",
        "\n",
        "# freeze layers\n",
        "for layer in base_model.layers[:len]:\n",
        "    layer.trainable = False\n",
        "\n",
        "\n",
        "inputs = tf.keras.Input(shape=(img_size, img_size, channels))\n",
        "\n",
        "x = base_model(inputs, training=False)\n",
        "x = tf.keras.layers.GlobalAveragePooling2D()(x)\n",
        "x = tf.keras.layers.Dropout(0.2)(x)\n",
        "x = keras.layers.Flatten()(x)\n",
        "X = keras.layers.Dense(128, activation='relu')(x)\n",
        "X = keras.layers.Dropout(0.5)(X)\n",
        "X = keras.layers.BatchNormalization()(X)\n",
        "\n",
        "outputs = tf.keras.layers.Dense(64, activation=tf.keras.activations.softmax)(X)\n",
        "\n",
        "model = tf.keras.Model(inputs, outputs)\n",
        "model.summary()\n",
        "\n",
        "model.compile(loss='sparse_categorical_crossentropy', optimizer='adam', metrics=['accuracy'])"
      ],
      "execution_count": null,
      "outputs": [
        {
          "output_type": "stream",
          "text": [
            "WARNING:tensorflow:\n",
            "The following Variables were used a Lambda layer's call (tf.nn.convolution), but\n",
            "are not present in its tracked objects:\n",
            "  <tf.Variable 'block1_conv1/kernel:0' shape=(3, 3, 3, 64) dtype=float32>\n",
            "It is possible that this is intended behavior, but it is more likely\n",
            "an omission. This is a strong indication that this layer should be\n",
            "formulated as a subclassed Layer rather than a Lambda layer.\n",
            "WARNING:tensorflow:\n",
            "The following Variables were used a Lambda layer's call (tf.nn.bias_add), but\n",
            "are not present in its tracked objects:\n",
            "  <tf.Variable 'block1_conv1/bias:0' shape=(64,) dtype=float32>\n",
            "It is possible that this is intended behavior, but it is more likely\n",
            "an omission. This is a strong indication that this layer should be\n",
            "formulated as a subclassed Layer rather than a Lambda layer.\n",
            "WARNING:tensorflow:\n",
            "The following Variables were used a Lambda layer's call (tf.nn.convolution_1), but\n",
            "are not present in its tracked objects:\n",
            "  <tf.Variable 'block1_conv2/kernel:0' shape=(3, 3, 64, 64) dtype=float32>\n",
            "It is possible that this is intended behavior, but it is more likely\n",
            "an omission. This is a strong indication that this layer should be\n",
            "formulated as a subclassed Layer rather than a Lambda layer.\n",
            "WARNING:tensorflow:\n",
            "The following Variables were used a Lambda layer's call (tf.nn.bias_add_1), but\n",
            "are not present in its tracked objects:\n",
            "  <tf.Variable 'block1_conv2/bias:0' shape=(64,) dtype=float32>\n",
            "It is possible that this is intended behavior, but it is more likely\n",
            "an omission. This is a strong indication that this layer should be\n",
            "formulated as a subclassed Layer rather than a Lambda layer.\n",
            "WARNING:tensorflow:\n",
            "The following Variables were used a Lambda layer's call (tf.nn.convolution_2), but\n",
            "are not present in its tracked objects:\n",
            "  <tf.Variable 'block2_conv1/kernel:0' shape=(3, 3, 64, 128) dtype=float32>\n",
            "It is possible that this is intended behavior, but it is more likely\n",
            "an omission. This is a strong indication that this layer should be\n",
            "formulated as a subclassed Layer rather than a Lambda layer.\n",
            "WARNING:tensorflow:\n",
            "The following Variables were used a Lambda layer's call (tf.nn.bias_add_2), but\n",
            "are not present in its tracked objects:\n",
            "  <tf.Variable 'block2_conv1/bias:0' shape=(128,) dtype=float32>\n",
            "It is possible that this is intended behavior, but it is more likely\n",
            "an omission. This is a strong indication that this layer should be\n",
            "formulated as a subclassed Layer rather than a Lambda layer.\n",
            "WARNING:tensorflow:\n",
            "The following Variables were used a Lambda layer's call (tf.nn.convolution_3), but\n",
            "are not present in its tracked objects:\n",
            "  <tf.Variable 'block2_conv2/kernel:0' shape=(3, 3, 128, 128) dtype=float32>\n",
            "It is possible that this is intended behavior, but it is more likely\n",
            "an omission. This is a strong indication that this layer should be\n",
            "formulated as a subclassed Layer rather than a Lambda layer.\n",
            "WARNING:tensorflow:\n",
            "The following Variables were used a Lambda layer's call (tf.nn.bias_add_3), but\n",
            "are not present in its tracked objects:\n",
            "  <tf.Variable 'block2_conv2/bias:0' shape=(128,) dtype=float32>\n",
            "It is possible that this is intended behavior, but it is more likely\n",
            "an omission. This is a strong indication that this layer should be\n",
            "formulated as a subclassed Layer rather than a Lambda layer.\n",
            "WARNING:tensorflow:\n",
            "The following Variables were used a Lambda layer's call (tf.nn.convolution_4), but\n",
            "are not present in its tracked objects:\n",
            "  <tf.Variable 'block3_conv1/kernel:0' shape=(3, 3, 128, 256) dtype=float32>\n",
            "It is possible that this is intended behavior, but it is more likely\n",
            "an omission. This is a strong indication that this layer should be\n",
            "formulated as a subclassed Layer rather than a Lambda layer.\n",
            "WARNING:tensorflow:\n",
            "The following Variables were used a Lambda layer's call (tf.nn.bias_add_4), but\n",
            "are not present in its tracked objects:\n",
            "  <tf.Variable 'block3_conv1/bias:0' shape=(256,) dtype=float32>\n",
            "It is possible that this is intended behavior, but it is more likely\n",
            "an omission. This is a strong indication that this layer should be\n",
            "formulated as a subclassed Layer rather than a Lambda layer.\n",
            "WARNING:tensorflow:\n",
            "The following Variables were used a Lambda layer's call (tf.nn.convolution_5), but\n",
            "are not present in its tracked objects:\n",
            "  <tf.Variable 'block3_conv2/kernel:0' shape=(3, 3, 256, 256) dtype=float32>\n",
            "It is possible that this is intended behavior, but it is more likely\n",
            "an omission. This is a strong indication that this layer should be\n",
            "formulated as a subclassed Layer rather than a Lambda layer.\n",
            "WARNING:tensorflow:\n",
            "The following Variables were used a Lambda layer's call (tf.nn.bias_add_5), but\n",
            "are not present in its tracked objects:\n",
            "  <tf.Variable 'block3_conv2/bias:0' shape=(256,) dtype=float32>\n",
            "It is possible that this is intended behavior, but it is more likely\n",
            "an omission. This is a strong indication that this layer should be\n",
            "formulated as a subclassed Layer rather than a Lambda layer.\n",
            "WARNING:tensorflow:\n",
            "The following Variables were used a Lambda layer's call (tf.nn.convolution_6), but\n",
            "are not present in its tracked objects:\n",
            "  <tf.Variable 'block3_conv3/kernel:0' shape=(3, 3, 256, 256) dtype=float32>\n",
            "It is possible that this is intended behavior, but it is more likely\n",
            "an omission. This is a strong indication that this layer should be\n",
            "formulated as a subclassed Layer rather than a Lambda layer.\n",
            "WARNING:tensorflow:\n",
            "The following Variables were used a Lambda layer's call (tf.nn.bias_add_6), but\n",
            "are not present in its tracked objects:\n",
            "  <tf.Variable 'block3_conv3/bias:0' shape=(256,) dtype=float32>\n",
            "It is possible that this is intended behavior, but it is more likely\n",
            "an omission. This is a strong indication that this layer should be\n",
            "formulated as a subclassed Layer rather than a Lambda layer.\n",
            "WARNING:tensorflow:\n",
            "The following Variables were used a Lambda layer's call (tf.nn.convolution_7), but\n",
            "are not present in its tracked objects:\n",
            "  <tf.Variable 'block4_conv1/kernel:0' shape=(3, 3, 256, 512) dtype=float32>\n",
            "It is possible that this is intended behavior, but it is more likely\n",
            "an omission. This is a strong indication that this layer should be\n",
            "formulated as a subclassed Layer rather than a Lambda layer.\n",
            "WARNING:tensorflow:\n",
            "The following Variables were used a Lambda layer's call (tf.nn.bias_add_7), but\n",
            "are not present in its tracked objects:\n",
            "  <tf.Variable 'block4_conv1/bias:0' shape=(512,) dtype=float32>\n",
            "It is possible that this is intended behavior, but it is more likely\n",
            "an omission. This is a strong indication that this layer should be\n",
            "formulated as a subclassed Layer rather than a Lambda layer.\n",
            "WARNING:tensorflow:\n",
            "The following Variables were used a Lambda layer's call (tf.nn.convolution_8), but\n",
            "are not present in its tracked objects:\n",
            "  <tf.Variable 'block4_conv2/kernel:0' shape=(3, 3, 512, 512) dtype=float32>\n",
            "It is possible that this is intended behavior, but it is more likely\n",
            "an omission. This is a strong indication that this layer should be\n",
            "formulated as a subclassed Layer rather than a Lambda layer.\n",
            "WARNING:tensorflow:\n",
            "The following Variables were used a Lambda layer's call (tf.nn.bias_add_8), but\n",
            "are not present in its tracked objects:\n",
            "  <tf.Variable 'block4_conv2/bias:0' shape=(512,) dtype=float32>\n",
            "It is possible that this is intended behavior, but it is more likely\n",
            "an omission. This is a strong indication that this layer should be\n",
            "formulated as a subclassed Layer rather than a Lambda layer.\n",
            "WARNING:tensorflow:\n",
            "The following Variables were used a Lambda layer's call (tf.nn.convolution_9), but\n",
            "are not present in its tracked objects:\n",
            "  <tf.Variable 'block4_conv3/kernel:0' shape=(3, 3, 512, 512) dtype=float32>\n",
            "It is possible that this is intended behavior, but it is more likely\n",
            "an omission. This is a strong indication that this layer should be\n",
            "formulated as a subclassed Layer rather than a Lambda layer.\n",
            "WARNING:tensorflow:\n",
            "The following Variables were used a Lambda layer's call (tf.nn.bias_add_9), but\n",
            "are not present in its tracked objects:\n",
            "  <tf.Variable 'block4_conv3/bias:0' shape=(512,) dtype=float32>\n",
            "It is possible that this is intended behavior, but it is more likely\n",
            "an omission. This is a strong indication that this layer should be\n",
            "formulated as a subclassed Layer rather than a Lambda layer.\n",
            "WARNING:tensorflow:\n",
            "The following Variables were used a Lambda layer's call (tf.nn.convolution_10), but\n",
            "are not present in its tracked objects:\n",
            "  <tf.Variable 'block5_conv1/kernel:0' shape=(3, 3, 512, 512) dtype=float32>\n",
            "It is possible that this is intended behavior, but it is more likely\n",
            "an omission. This is a strong indication that this layer should be\n",
            "formulated as a subclassed Layer rather than a Lambda layer.\n",
            "WARNING:tensorflow:\n",
            "The following Variables were used a Lambda layer's call (tf.nn.bias_add_10), but\n",
            "are not present in its tracked objects:\n",
            "  <tf.Variable 'block5_conv1/bias:0' shape=(512,) dtype=float32>\n",
            "It is possible that this is intended behavior, but it is more likely\n",
            "an omission. This is a strong indication that this layer should be\n",
            "formulated as a subclassed Layer rather than a Lambda layer.\n",
            "WARNING:tensorflow:\n",
            "The following Variables were used a Lambda layer's call (tf.nn.convolution_11), but\n",
            "are not present in its tracked objects:\n",
            "  <tf.Variable 'block5_conv2/kernel:0' shape=(3, 3, 512, 512) dtype=float32>\n",
            "It is possible that this is intended behavior, but it is more likely\n",
            "an omission. This is a strong indication that this layer should be\n",
            "formulated as a subclassed Layer rather than a Lambda layer.\n",
            "WARNING:tensorflow:\n",
            "The following Variables were used a Lambda layer's call (tf.nn.bias_add_11), but\n",
            "are not present in its tracked objects:\n",
            "  <tf.Variable 'block5_conv2/bias:0' shape=(512,) dtype=float32>\n",
            "It is possible that this is intended behavior, but it is more likely\n",
            "an omission. This is a strong indication that this layer should be\n",
            "formulated as a subclassed Layer rather than a Lambda layer.\n",
            "WARNING:tensorflow:\n",
            "The following Variables were used a Lambda layer's call (tf.nn.convolution_12), but\n",
            "are not present in its tracked objects:\n",
            "  <tf.Variable 'block5_conv3/kernel:0' shape=(3, 3, 512, 512) dtype=float32>\n",
            "It is possible that this is intended behavior, but it is more likely\n",
            "an omission. This is a strong indication that this layer should be\n",
            "formulated as a subclassed Layer rather than a Lambda layer.\n",
            "WARNING:tensorflow:\n",
            "The following Variables were used a Lambda layer's call (tf.nn.bias_add_12), but\n",
            "are not present in its tracked objects:\n",
            "  <tf.Variable 'block5_conv3/bias:0' shape=(512,) dtype=float32>\n",
            "It is possible that this is intended behavior, but it is more likely\n",
            "an omission. This is a strong indication that this layer should be\n",
            "formulated as a subclassed Layer rather than a Lambda layer.\n",
            "Model: \"model\"\n",
            "_________________________________________________________________\n",
            "Layer (type)                 Output Shape              Param #   \n",
            "=================================================================\n",
            "input_1 (InputLayer)         [(None, 400, 400, 3)]     0         \n",
            "_________________________________________________________________\n",
            "tf.nn.convolution (TFOpLambd (None, 400, 400, 64)      0         \n",
            "_________________________________________________________________\n",
            "tf.nn.bias_add (TFOpLambda)  (None, 400, 400, 64)      0         \n",
            "_________________________________________________________________\n",
            "tf.nn.relu (TFOpLambda)      (None, 400, 400, 64)      0         \n",
            "_________________________________________________________________\n",
            "tf.nn.convolution_1 (TFOpLam (None, 400, 400, 64)      0         \n",
            "_________________________________________________________________\n",
            "tf.nn.bias_add_1 (TFOpLambda (None, 400, 400, 64)      0         \n",
            "_________________________________________________________________\n",
            "tf.nn.relu_1 (TFOpLambda)    (None, 400, 400, 64)      0         \n",
            "_________________________________________________________________\n",
            "tf.compat.v1.nn.max_pool (TF (None, 200, 200, 64)      0         \n",
            "_________________________________________________________________\n",
            "tf.nn.convolution_2 (TFOpLam (None, 200, 200, 128)     0         \n",
            "_________________________________________________________________\n",
            "tf.nn.bias_add_2 (TFOpLambda (None, 200, 200, 128)     0         \n",
            "_________________________________________________________________\n",
            "tf.nn.relu_2 (TFOpLambda)    (None, 200, 200, 128)     0         \n",
            "_________________________________________________________________\n",
            "tf.nn.convolution_3 (TFOpLam (None, 200, 200, 128)     0         \n",
            "_________________________________________________________________\n",
            "tf.nn.bias_add_3 (TFOpLambda (None, 200, 200, 128)     0         \n",
            "_________________________________________________________________\n",
            "tf.nn.relu_3 (TFOpLambda)    (None, 200, 200, 128)     0         \n",
            "_________________________________________________________________\n",
            "tf.compat.v1.nn.max_pool_1 ( (None, 100, 100, 128)     0         \n",
            "_________________________________________________________________\n",
            "tf.nn.convolution_4 (TFOpLam (None, 100, 100, 256)     0         \n",
            "_________________________________________________________________\n",
            "tf.nn.bias_add_4 (TFOpLambda (None, 100, 100, 256)     0         \n",
            "_________________________________________________________________\n",
            "tf.nn.relu_4 (TFOpLambda)    (None, 100, 100, 256)     0         \n",
            "_________________________________________________________________\n",
            "tf.nn.convolution_5 (TFOpLam (None, 100, 100, 256)     0         \n",
            "_________________________________________________________________\n",
            "tf.nn.bias_add_5 (TFOpLambda (None, 100, 100, 256)     0         \n",
            "_________________________________________________________________\n",
            "tf.nn.relu_5 (TFOpLambda)    (None, 100, 100, 256)     0         \n",
            "_________________________________________________________________\n",
            "tf.nn.convolution_6 (TFOpLam (None, 100, 100, 256)     0         \n",
            "_________________________________________________________________\n",
            "tf.nn.bias_add_6 (TFOpLambda (None, 100, 100, 256)     0         \n",
            "_________________________________________________________________\n",
            "tf.nn.relu_6 (TFOpLambda)    (None, 100, 100, 256)     0         \n",
            "_________________________________________________________________\n",
            "tf.compat.v1.nn.max_pool_2 ( (None, 50, 50, 256)       0         \n",
            "_________________________________________________________________\n",
            "tf.nn.convolution_7 (TFOpLam (None, 50, 50, 512)       0         \n",
            "_________________________________________________________________\n",
            "tf.nn.bias_add_7 (TFOpLambda (None, 50, 50, 512)       0         \n",
            "_________________________________________________________________\n",
            "tf.nn.relu_7 (TFOpLambda)    (None, 50, 50, 512)       0         \n",
            "_________________________________________________________________\n",
            "tf.nn.convolution_8 (TFOpLam (None, 50, 50, 512)       0         \n",
            "_________________________________________________________________\n",
            "tf.nn.bias_add_8 (TFOpLambda (None, 50, 50, 512)       0         \n",
            "_________________________________________________________________\n",
            "tf.nn.relu_8 (TFOpLambda)    (None, 50, 50, 512)       0         \n",
            "_________________________________________________________________\n",
            "tf.nn.convolution_9 (TFOpLam (None, 50, 50, 512)       0         \n",
            "_________________________________________________________________\n",
            "tf.nn.bias_add_9 (TFOpLambda (None, 50, 50, 512)       0         \n",
            "_________________________________________________________________\n",
            "tf.nn.relu_9 (TFOpLambda)    (None, 50, 50, 512)       0         \n",
            "_________________________________________________________________\n",
            "tf.compat.v1.nn.max_pool_3 ( (None, 25, 25, 512)       0         \n",
            "_________________________________________________________________\n",
            "tf.nn.convolution_10 (TFOpLa (None, 25, 25, 512)       0         \n",
            "_________________________________________________________________\n",
            "tf.nn.bias_add_10 (TFOpLambd (None, 25, 25, 512)       0         \n",
            "_________________________________________________________________\n",
            "tf.nn.relu_10 (TFOpLambda)   (None, 25, 25, 512)       0         \n",
            "_________________________________________________________________\n",
            "tf.nn.convolution_11 (TFOpLa (None, 25, 25, 512)       0         \n",
            "_________________________________________________________________\n",
            "tf.nn.bias_add_11 (TFOpLambd (None, 25, 25, 512)       0         \n",
            "_________________________________________________________________\n",
            "tf.nn.relu_11 (TFOpLambda)   (None, 25, 25, 512)       0         \n",
            "_________________________________________________________________\n",
            "tf.nn.convolution_12 (TFOpLa (None, 25, 25, 512)       0         \n",
            "_________________________________________________________________\n",
            "tf.nn.bias_add_12 (TFOpLambd (None, 25, 25, 512)       0         \n",
            "_________________________________________________________________\n",
            "tf.nn.relu_12 (TFOpLambda)   (None, 25, 25, 512)       0         \n",
            "_________________________________________________________________\n",
            "tf.compat.v1.nn.max_pool_4 ( (None, 12, 12, 512)       0         \n",
            "_________________________________________________________________\n",
            "global_average_pooling2d (Gl (None, 512)               0         \n",
            "_________________________________________________________________\n",
            "dropout (Dropout)            (None, 512)               0         \n",
            "_________________________________________________________________\n",
            "flatten (Flatten)            (None, 512)               0         \n",
            "_________________________________________________________________\n",
            "dense (Dense)                (None, 128)               65664     \n",
            "_________________________________________________________________\n",
            "dropout_1 (Dropout)          (None, 128)               0         \n",
            "_________________________________________________________________\n",
            "batch_normalization (BatchNo (None, 128)               512       \n",
            "_________________________________________________________________\n",
            "dense_1 (Dense)              (None, 64)                8256      \n",
            "=================================================================\n",
            "Total params: 74,432\n",
            "Trainable params: 74,176\n",
            "Non-trainable params: 256\n",
            "_________________________________________________________________\n"
          ],
          "name": "stdout"
        }
      ]
    },
    {
      "cell_type": "code",
      "metadata": {
        "colab": {
          "base_uri": "https://localhost:8080/"
        },
        "id": "Zj_9WpwAKs_d",
        "outputId": "639b37fa-c7d7-43b6-b9ba-c00051801635"
      },
      "source": [
        "model.fit(training_set, epochs=70)"
      ],
      "execution_count": null,
      "outputs": [
        {
          "output_type": "stream",
          "text": [
            "Epoch 1/70\n",
            "97/97 [==============================] - 84s 688ms/step - loss: 4.2022 - accuracy: 0.0442\n",
            "Epoch 2/70\n",
            "97/97 [==============================] - 53s 540ms/step - loss: 3.5476 - accuracy: 0.1345\n",
            "Epoch 3/70\n",
            "97/97 [==============================] - 53s 536ms/step - loss: 3.1795 - accuracy: 0.1897\n",
            "Epoch 4/70\n",
            "97/97 [==============================] - 52s 533ms/step - loss: 2.8851 - accuracy: 0.2316\n",
            "Epoch 5/70\n",
            "97/97 [==============================] - 52s 529ms/step - loss: 2.6660 - accuracy: 0.2674\n",
            "Epoch 6/70\n",
            "97/97 [==============================] - 52s 532ms/step - loss: 2.5105 - accuracy: 0.2965\n",
            "Epoch 7/70\n",
            "97/97 [==============================] - 52s 525ms/step - loss: 2.3593 - accuracy: 0.3297\n",
            "Epoch 8/70\n",
            "97/97 [==============================] - 50s 512ms/step - loss: 2.2389 - accuracy: 0.3365\n",
            "Epoch 9/70\n",
            "97/97 [==============================] - 50s 512ms/step - loss: 2.1464 - accuracy: 0.3603\n",
            "Epoch 10/70\n",
            "97/97 [==============================] - 50s 510ms/step - loss: 2.0630 - accuracy: 0.3865\n",
            "Epoch 11/70\n",
            "97/97 [==============================] - 50s 510ms/step - loss: 1.9663 - accuracy: 0.4081\n",
            "Epoch 12/70\n",
            "97/97 [==============================] - 50s 509ms/step - loss: 1.8972 - accuracy: 0.4294\n",
            "Epoch 13/70\n",
            "97/97 [==============================] - 52s 530ms/step - loss: 1.8905 - accuracy: 0.4139\n",
            "Epoch 14/70\n",
            "97/97 [==============================] - 53s 536ms/step - loss: 1.8339 - accuracy: 0.4277\n",
            "Epoch 15/70\n",
            "97/97 [==============================] - 53s 534ms/step - loss: 1.7982 - accuracy: 0.4335\n",
            "Epoch 16/70\n",
            "97/97 [==============================] - 52s 533ms/step - loss: 1.7234 - accuracy: 0.4590\n",
            "Epoch 17/70\n",
            "97/97 [==============================] - 51s 514ms/step - loss: 1.6900 - accuracy: 0.4648\n",
            "Epoch 18/70\n",
            "97/97 [==============================] - 50s 511ms/step - loss: 1.6400 - accuracy: 0.4774\n",
            "Epoch 19/70\n",
            "97/97 [==============================] - 50s 509ms/step - loss: 1.6410 - accuracy: 0.4723\n",
            "Epoch 20/70\n",
            "97/97 [==============================] - 50s 510ms/step - loss: 1.6333 - accuracy: 0.4765\n",
            "Epoch 21/70\n",
            "97/97 [==============================] - 51s 516ms/step - loss: 1.6409 - accuracy: 0.4816\n",
            "Epoch 22/70\n",
            "97/97 [==============================] - 53s 536ms/step - loss: 1.5979 - accuracy: 0.4797\n",
            "Epoch 23/70\n",
            "97/97 [==============================] - 52s 534ms/step - loss: 1.5634 - accuracy: 0.4990\n",
            "Epoch 24/70\n",
            "97/97 [==============================] - 52s 533ms/step - loss: 1.5488 - accuracy: 0.4990\n",
            "Epoch 25/70\n",
            "97/97 [==============================] - 52s 527ms/step - loss: 1.5067 - accuracy: 0.5100\n",
            "Epoch 26/70\n",
            "97/97 [==============================] - 50s 511ms/step - loss: 1.5127 - accuracy: 0.5116\n",
            "Epoch 27/70\n",
            "97/97 [==============================] - 50s 511ms/step - loss: 1.5021 - accuracy: 0.5055\n",
            "Epoch 28/70\n",
            "97/97 [==============================] - 50s 511ms/step - loss: 1.5053 - accuracy: 0.5126\n",
            "Epoch 29/70\n",
            "97/97 [==============================] - 50s 508ms/step - loss: 1.4487 - accuracy: 0.5181\n",
            "Epoch 30/70\n",
            "97/97 [==============================] - 50s 512ms/step - loss: 1.4647 - accuracy: 0.5277\n",
            "Epoch 31/70\n",
            "97/97 [==============================] - 50s 510ms/step - loss: 1.4645 - accuracy: 0.5142\n",
            "Epoch 32/70\n",
            "97/97 [==============================] - 51s 517ms/step - loss: 1.4172 - accuracy: 0.5339\n",
            "Epoch 33/70\n",
            "97/97 [==============================] - 53s 536ms/step - loss: 1.4149 - accuracy: 0.5287\n",
            "Epoch 34/70\n",
            "97/97 [==============================] - 53s 536ms/step - loss: 1.4029 - accuracy: 0.5329\n",
            "Epoch 35/70\n",
            "97/97 [==============================] - 52s 527ms/step - loss: 1.4231 - accuracy: 0.5274\n",
            "Epoch 36/70\n",
            "97/97 [==============================] - 52s 531ms/step - loss: 1.3829 - accuracy: 0.5439\n",
            "Epoch 37/70\n",
            "97/97 [==============================] - 52s 529ms/step - loss: 1.3747 - accuracy: 0.5452\n",
            "Epoch 38/70\n",
            "97/97 [==============================] - 52s 531ms/step - loss: 1.3693 - accuracy: 0.5419\n",
            "Epoch 39/70\n",
            "97/97 [==============================] - 52s 530ms/step - loss: 1.3191 - accuracy: 0.5581\n",
            "Epoch 40/70\n",
            "97/97 [==============================] - 53s 536ms/step - loss: 1.3367 - accuracy: 0.5487\n",
            "Epoch 41/70\n",
            "97/97 [==============================] - 52s 527ms/step - loss: 1.3621 - accuracy: 0.5510\n",
            "Epoch 42/70\n",
            "97/97 [==============================] - 50s 512ms/step - loss: 1.3329 - accuracy: 0.5552\n",
            "Epoch 43/70\n",
            "97/97 [==============================] - 51s 515ms/step - loss: 1.3609 - accuracy: 0.5487\n",
            "Epoch 44/70\n",
            "97/97 [==============================] - 50s 510ms/step - loss: 1.3385 - accuracy: 0.5600\n",
            "Epoch 45/70\n",
            "97/97 [==============================] - 50s 512ms/step - loss: 1.3623 - accuracy: 0.5452\n",
            "Epoch 46/70\n",
            "97/97 [==============================] - 50s 512ms/step - loss: 1.3625 - accuracy: 0.5484\n",
            "Epoch 47/70\n",
            "97/97 [==============================] - 50s 510ms/step - loss: 1.3286 - accuracy: 0.5539\n",
            "Epoch 48/70\n",
            "97/97 [==============================] - 50s 509ms/step - loss: 1.3296 - accuracy: 0.5481\n",
            "Epoch 49/70\n",
            "97/97 [==============================] - 50s 514ms/step - loss: 1.3089 - accuracy: 0.5610\n",
            "Epoch 50/70\n",
            "97/97 [==============================] - 50s 510ms/step - loss: 1.3088 - accuracy: 0.5648\n",
            "Epoch 51/70\n",
            "97/97 [==============================] - 50s 510ms/step - loss: 1.2809 - accuracy: 0.5687\n",
            "Epoch 52/70\n",
            "97/97 [==============================] - 52s 525ms/step - loss: 1.3064 - accuracy: 0.5506\n",
            "Epoch 53/70\n",
            "97/97 [==============================] - 53s 536ms/step - loss: 1.3216 - accuracy: 0.5516\n",
            "Epoch 54/70\n",
            "97/97 [==============================] - 52s 525ms/step - loss: 1.3021 - accuracy: 0.5639\n",
            "Epoch 55/70\n",
            "97/97 [==============================] - 52s 534ms/step - loss: 1.3320 - accuracy: 0.5503\n",
            "Epoch 56/70\n",
            "97/97 [==============================] - 52s 529ms/step - loss: 1.2748 - accuracy: 0.5765\n",
            "Epoch 57/70\n",
            "97/97 [==============================] - 53s 537ms/step - loss: 1.2837 - accuracy: 0.5658\n",
            "Epoch 58/70\n",
            "97/97 [==============================] - 52s 526ms/step - loss: 1.2833 - accuracy: 0.5716\n",
            "Epoch 59/70\n",
            "97/97 [==============================] - 52s 531ms/step - loss: 1.2929 - accuracy: 0.5716\n",
            "Epoch 60/70\n",
            "97/97 [==============================] - 53s 537ms/step - loss: 1.2686 - accuracy: 0.5752\n",
            "Epoch 61/70\n",
            "97/97 [==============================] - 53s 536ms/step - loss: 1.2866 - accuracy: 0.5700\n",
            "Epoch 62/70\n",
            "97/97 [==============================] - 52s 534ms/step - loss: 1.2467 - accuracy: 0.5726\n",
            "Epoch 63/70\n",
            "97/97 [==============================] - 53s 537ms/step - loss: 1.2340 - accuracy: 0.5706\n",
            "Epoch 64/70\n",
            "97/97 [==============================] - 52s 526ms/step - loss: 1.2572 - accuracy: 0.5739\n",
            "Epoch 65/70\n",
            "97/97 [==============================] - 53s 538ms/step - loss: 1.2581 - accuracy: 0.5710\n",
            "Epoch 66/70\n",
            "97/97 [==============================] - 52s 534ms/step - loss: 1.2281 - accuracy: 0.5768\n",
            "Epoch 67/70\n",
            "97/97 [==============================] - 53s 536ms/step - loss: 1.1920 - accuracy: 0.5929\n",
            "Epoch 68/70\n",
            "97/97 [==============================] - 52s 527ms/step - loss: 1.2090 - accuracy: 0.5874\n",
            "Epoch 69/70\n",
            "97/97 [==============================] - 53s 535ms/step - loss: 1.2000 - accuracy: 0.5865\n",
            "Epoch 70/70\n",
            "97/97 [==============================] - 53s 537ms/step - loss: 1.1733 - accuracy: 0.5935\n"
          ],
          "name": "stdout"
        },
        {
          "output_type": "execute_result",
          "data": {
            "text/plain": [
              "<tensorflow.python.keras.callbacks.History at 0x7f1f780e4190>"
            ]
          },
          "metadata": {
            "tags": []
          },
          "execution_count": 11
        }
      ]
    },
    {
      "cell_type": "code",
      "metadata": {
        "id": "czfqS-mbLQty"
      },
      "source": [
        ""
      ],
      "execution_count": null,
      "outputs": []
    },
    {
      "cell_type": "code",
      "metadata": {
        "colab": {
          "base_uri": "https://localhost:8080/"
        },
        "id": "Emy5TwJ7cDAf",
        "outputId": "26ed4545-f72b-4af6-ec3e-2e636ab6bb6c"
      },
      "source": [
        "model.evaluate(valid_set, verbose=1) #160"
      ],
      "execution_count": null,
      "outputs": [
        {
          "output_type": "stream",
          "text": [
            "26/26 [==============================] - 35s 1s/step - loss: 1.3851 - accuracy: 0.5213\n"
          ],
          "name": "stdout"
        },
        {
          "output_type": "execute_result",
          "data": {
            "text/plain": [
              "[1.3850960731506348, 0.5212636590003967]"
            ]
          },
          "metadata": {
            "tags": []
          },
          "execution_count": 12
        }
      ]
    },
    {
      "cell_type": "code",
      "metadata": {
        "colab": {
          "base_uri": "https://localhost:8080/"
        },
        "id": "6eIs5J9IcDAp",
        "outputId": "14a3854e-d4a4-4ba9-b8fa-de5072847df4"
      },
      "source": [
        "model.evaluate(testing_set, verbose=1) #160"
      ],
      "execution_count": null,
      "outputs": [
        {
          "output_type": "stream",
          "text": [
            "25/25 [==============================] - 19s 538ms/step - loss: 1.3317 - accuracy: 0.5475\n"
          ],
          "name": "stdout"
        },
        {
          "output_type": "execute_result",
          "data": {
            "text/plain": [
              "[1.3317179679870605, 0.5475000143051147]"
            ]
          },
          "metadata": {
            "tags": []
          },
          "execution_count": 13
        }
      ]
    },
    {
      "cell_type": "code",
      "metadata": {
        "id": "aEmJC6uncDAq"
      },
      "source": [
        "import os\n",
        "weights_dir = 'weights/article'\n",
        "# Save model weights\n",
        "model.save_weights(os.path.join(weights_dir, 'vgg16-fourth-froze.h5'))"
      ],
      "execution_count": null,
      "outputs": []
    },
    {
      "cell_type": "markdown",
      "metadata": {
        "id": "CSHFOC6VHAgt"
      },
      "source": [
        "### VGG-19 Freeze all of the layers"
      ]
    },
    {
      "cell_type": "code",
      "metadata": {
        "id": "M_ZN3KObfZhb",
        "colab": {
          "base_uri": "https://localhost:8080/"
        },
        "outputId": "d322b9bd-2fd6-4888-f938-0b0d9d99dcd7"
      },
      "source": [
        "vgg = VGG19(include_top=False, weights=\"imagenet\", input_shape=(img_size, img_size, channels))\n",
        "vgg.trainable = True\n",
        "base_model = vgg\n",
        "\n",
        "# freeze layers\n",
        "for layer in base_model.layers[:]:\n",
        "    layer.trainable = False\n",
        "\n",
        "inputs = tf.keras.Input(shape=(img_size, img_size, channels))\n",
        "\n",
        "x = base_model(inputs, training=False)\n",
        "x = tf.keras.layers.GlobalAveragePooling2D()(x)\n",
        "x = tf.keras.layers.Dropout(0.2)(x)\n",
        "x = keras.layers.Flatten()(x)\n",
        "X = keras.layers.Dense(128, activation='relu')(x)\n",
        "X = keras.layers.Dropout(0.5)(X)\n",
        "X = keras.layers.BatchNormalization()(X)\n",
        "\n",
        "outputs = tf.keras.layers.Dense(64, activation=tf.keras.activations.softmax)(X)\n",
        "\n",
        "model = tf.keras.Model(inputs, outputs)\n",
        "model.summary()\n",
        "\n",
        "model.compile(loss='sparse_categorical_crossentropy', optimizer='adam', metrics=['accuracy'])"
      ],
      "execution_count": null,
      "outputs": [
        {
          "output_type": "stream",
          "text": [
            "Downloading data from https://storage.googleapis.com/tensorflow/keras-applications/vgg19/vgg19_weights_tf_dim_ordering_tf_kernels_notop.h5\n",
            "80142336/80134624 [==============================] - 1s 0us/step\n",
            "80150528/80134624 [==============================] - 1s 0us/step\n",
            "WARNING:tensorflow:\n",
            "The following Variables were used a Lambda layer's call (tf.nn.convolution), but\n",
            "are not present in its tracked objects:\n",
            "  <tf.Variable 'block1_conv1/kernel:0' shape=(3, 3, 3, 64) dtype=float32>\n",
            "It is possible that this is intended behavior, but it is more likely\n",
            "an omission. This is a strong indication that this layer should be\n",
            "formulated as a subclassed Layer rather than a Lambda layer.\n",
            "WARNING:tensorflow:\n",
            "The following Variables were used a Lambda layer's call (tf.nn.bias_add), but\n",
            "are not present in its tracked objects:\n",
            "  <tf.Variable 'block1_conv1/bias:0' shape=(64,) dtype=float32>\n",
            "It is possible that this is intended behavior, but it is more likely\n",
            "an omission. This is a strong indication that this layer should be\n",
            "formulated as a subclassed Layer rather than a Lambda layer.\n",
            "WARNING:tensorflow:\n",
            "The following Variables were used a Lambda layer's call (tf.nn.convolution_1), but\n",
            "are not present in its tracked objects:\n",
            "  <tf.Variable 'block1_conv2/kernel:0' shape=(3, 3, 64, 64) dtype=float32>\n",
            "It is possible that this is intended behavior, but it is more likely\n",
            "an omission. This is a strong indication that this layer should be\n",
            "formulated as a subclassed Layer rather than a Lambda layer.\n",
            "WARNING:tensorflow:\n",
            "The following Variables were used a Lambda layer's call (tf.nn.bias_add_1), but\n",
            "are not present in its tracked objects:\n",
            "  <tf.Variable 'block1_conv2/bias:0' shape=(64,) dtype=float32>\n",
            "It is possible that this is intended behavior, but it is more likely\n",
            "an omission. This is a strong indication that this layer should be\n",
            "formulated as a subclassed Layer rather than a Lambda layer.\n",
            "WARNING:tensorflow:\n",
            "The following Variables were used a Lambda layer's call (tf.nn.convolution_2), but\n",
            "are not present in its tracked objects:\n",
            "  <tf.Variable 'block2_conv1/kernel:0' shape=(3, 3, 64, 128) dtype=float32>\n",
            "It is possible that this is intended behavior, but it is more likely\n",
            "an omission. This is a strong indication that this layer should be\n",
            "formulated as a subclassed Layer rather than a Lambda layer.\n",
            "WARNING:tensorflow:\n",
            "The following Variables were used a Lambda layer's call (tf.nn.bias_add_2), but\n",
            "are not present in its tracked objects:\n",
            "  <tf.Variable 'block2_conv1/bias:0' shape=(128,) dtype=float32>\n",
            "It is possible that this is intended behavior, but it is more likely\n",
            "an omission. This is a strong indication that this layer should be\n",
            "formulated as a subclassed Layer rather than a Lambda layer.\n",
            "WARNING:tensorflow:\n",
            "The following Variables were used a Lambda layer's call (tf.nn.convolution_3), but\n",
            "are not present in its tracked objects:\n",
            "  <tf.Variable 'block2_conv2/kernel:0' shape=(3, 3, 128, 128) dtype=float32>\n",
            "It is possible that this is intended behavior, but it is more likely\n",
            "an omission. This is a strong indication that this layer should be\n",
            "formulated as a subclassed Layer rather than a Lambda layer.\n",
            "WARNING:tensorflow:\n",
            "The following Variables were used a Lambda layer's call (tf.nn.bias_add_3), but\n",
            "are not present in its tracked objects:\n",
            "  <tf.Variable 'block2_conv2/bias:0' shape=(128,) dtype=float32>\n",
            "It is possible that this is intended behavior, but it is more likely\n",
            "an omission. This is a strong indication that this layer should be\n",
            "formulated as a subclassed Layer rather than a Lambda layer.\n",
            "WARNING:tensorflow:\n",
            "The following Variables were used a Lambda layer's call (tf.nn.convolution_4), but\n",
            "are not present in its tracked objects:\n",
            "  <tf.Variable 'block3_conv1/kernel:0' shape=(3, 3, 128, 256) dtype=float32>\n",
            "It is possible that this is intended behavior, but it is more likely\n",
            "an omission. This is a strong indication that this layer should be\n",
            "formulated as a subclassed Layer rather than a Lambda layer.\n",
            "WARNING:tensorflow:\n",
            "The following Variables were used a Lambda layer's call (tf.nn.bias_add_4), but\n",
            "are not present in its tracked objects:\n",
            "  <tf.Variable 'block3_conv1/bias:0' shape=(256,) dtype=float32>\n",
            "It is possible that this is intended behavior, but it is more likely\n",
            "an omission. This is a strong indication that this layer should be\n",
            "formulated as a subclassed Layer rather than a Lambda layer.\n",
            "WARNING:tensorflow:\n",
            "The following Variables were used a Lambda layer's call (tf.nn.convolution_5), but\n",
            "are not present in its tracked objects:\n",
            "  <tf.Variable 'block3_conv2/kernel:0' shape=(3, 3, 256, 256) dtype=float32>\n",
            "It is possible that this is intended behavior, but it is more likely\n",
            "an omission. This is a strong indication that this layer should be\n",
            "formulated as a subclassed Layer rather than a Lambda layer.\n",
            "WARNING:tensorflow:\n",
            "The following Variables were used a Lambda layer's call (tf.nn.bias_add_5), but\n",
            "are not present in its tracked objects:\n",
            "  <tf.Variable 'block3_conv2/bias:0' shape=(256,) dtype=float32>\n",
            "It is possible that this is intended behavior, but it is more likely\n",
            "an omission. This is a strong indication that this layer should be\n",
            "formulated as a subclassed Layer rather than a Lambda layer.\n",
            "WARNING:tensorflow:\n",
            "The following Variables were used a Lambda layer's call (tf.nn.convolution_6), but\n",
            "are not present in its tracked objects:\n",
            "  <tf.Variable 'block3_conv3/kernel:0' shape=(3, 3, 256, 256) dtype=float32>\n",
            "It is possible that this is intended behavior, but it is more likely\n",
            "an omission. This is a strong indication that this layer should be\n",
            "formulated as a subclassed Layer rather than a Lambda layer.\n",
            "WARNING:tensorflow:\n",
            "The following Variables were used a Lambda layer's call (tf.nn.bias_add_6), but\n",
            "are not present in its tracked objects:\n",
            "  <tf.Variable 'block3_conv3/bias:0' shape=(256,) dtype=float32>\n",
            "It is possible that this is intended behavior, but it is more likely\n",
            "an omission. This is a strong indication that this layer should be\n",
            "formulated as a subclassed Layer rather than a Lambda layer.\n",
            "WARNING:tensorflow:\n",
            "The following Variables were used a Lambda layer's call (tf.nn.convolution_7), but\n",
            "are not present in its tracked objects:\n",
            "  <tf.Variable 'block3_conv4/kernel:0' shape=(3, 3, 256, 256) dtype=float32>\n",
            "It is possible that this is intended behavior, but it is more likely\n",
            "an omission. This is a strong indication that this layer should be\n",
            "formulated as a subclassed Layer rather than a Lambda layer.\n",
            "WARNING:tensorflow:\n",
            "The following Variables were used a Lambda layer's call (tf.nn.bias_add_7), but\n",
            "are not present in its tracked objects:\n",
            "  <tf.Variable 'block3_conv4/bias:0' shape=(256,) dtype=float32>\n",
            "It is possible that this is intended behavior, but it is more likely\n",
            "an omission. This is a strong indication that this layer should be\n",
            "formulated as a subclassed Layer rather than a Lambda layer.\n",
            "WARNING:tensorflow:\n",
            "The following Variables were used a Lambda layer's call (tf.nn.convolution_8), but\n",
            "are not present in its tracked objects:\n",
            "  <tf.Variable 'block4_conv1/kernel:0' shape=(3, 3, 256, 512) dtype=float32>\n",
            "It is possible that this is intended behavior, but it is more likely\n",
            "an omission. This is a strong indication that this layer should be\n",
            "formulated as a subclassed Layer rather than a Lambda layer.\n",
            "WARNING:tensorflow:\n",
            "The following Variables were used a Lambda layer's call (tf.nn.bias_add_8), but\n",
            "are not present in its tracked objects:\n",
            "  <tf.Variable 'block4_conv1/bias:0' shape=(512,) dtype=float32>\n",
            "It is possible that this is intended behavior, but it is more likely\n",
            "an omission. This is a strong indication that this layer should be\n",
            "formulated as a subclassed Layer rather than a Lambda layer.\n",
            "WARNING:tensorflow:\n",
            "The following Variables were used a Lambda layer's call (tf.nn.convolution_9), but\n",
            "are not present in its tracked objects:\n",
            "  <tf.Variable 'block4_conv2/kernel:0' shape=(3, 3, 512, 512) dtype=float32>\n",
            "It is possible that this is intended behavior, but it is more likely\n",
            "an omission. This is a strong indication that this layer should be\n",
            "formulated as a subclassed Layer rather than a Lambda layer.\n",
            "WARNING:tensorflow:\n",
            "The following Variables were used a Lambda layer's call (tf.nn.bias_add_9), but\n",
            "are not present in its tracked objects:\n",
            "  <tf.Variable 'block4_conv2/bias:0' shape=(512,) dtype=float32>\n",
            "It is possible that this is intended behavior, but it is more likely\n",
            "an omission. This is a strong indication that this layer should be\n",
            "formulated as a subclassed Layer rather than a Lambda layer.\n",
            "WARNING:tensorflow:\n",
            "The following Variables were used a Lambda layer's call (tf.nn.convolution_10), but\n",
            "are not present in its tracked objects:\n",
            "  <tf.Variable 'block4_conv3/kernel:0' shape=(3, 3, 512, 512) dtype=float32>\n",
            "It is possible that this is intended behavior, but it is more likely\n",
            "an omission. This is a strong indication that this layer should be\n",
            "formulated as a subclassed Layer rather than a Lambda layer.\n",
            "WARNING:tensorflow:\n",
            "The following Variables were used a Lambda layer's call (tf.nn.bias_add_10), but\n",
            "are not present in its tracked objects:\n",
            "  <tf.Variable 'block4_conv3/bias:0' shape=(512,) dtype=float32>\n",
            "It is possible that this is intended behavior, but it is more likely\n",
            "an omission. This is a strong indication that this layer should be\n",
            "formulated as a subclassed Layer rather than a Lambda layer.\n",
            "WARNING:tensorflow:\n",
            "The following Variables were used a Lambda layer's call (tf.nn.convolution_11), but\n",
            "are not present in its tracked objects:\n",
            "  <tf.Variable 'block4_conv4/kernel:0' shape=(3, 3, 512, 512) dtype=float32>\n",
            "It is possible that this is intended behavior, but it is more likely\n",
            "an omission. This is a strong indication that this layer should be\n",
            "formulated as a subclassed Layer rather than a Lambda layer.\n",
            "WARNING:tensorflow:\n",
            "The following Variables were used a Lambda layer's call (tf.nn.bias_add_11), but\n",
            "are not present in its tracked objects:\n",
            "  <tf.Variable 'block4_conv4/bias:0' shape=(512,) dtype=float32>\n",
            "It is possible that this is intended behavior, but it is more likely\n",
            "an omission. This is a strong indication that this layer should be\n",
            "formulated as a subclassed Layer rather than a Lambda layer.\n",
            "WARNING:tensorflow:\n",
            "The following Variables were used a Lambda layer's call (tf.nn.convolution_12), but\n",
            "are not present in its tracked objects:\n",
            "  <tf.Variable 'block5_conv1/kernel:0' shape=(3, 3, 512, 512) dtype=float32>\n",
            "It is possible that this is intended behavior, but it is more likely\n",
            "an omission. This is a strong indication that this layer should be\n",
            "formulated as a subclassed Layer rather than a Lambda layer.\n",
            "WARNING:tensorflow:\n",
            "The following Variables were used a Lambda layer's call (tf.nn.bias_add_12), but\n",
            "are not present in its tracked objects:\n",
            "  <tf.Variable 'block5_conv1/bias:0' shape=(512,) dtype=float32>\n",
            "It is possible that this is intended behavior, but it is more likely\n",
            "an omission. This is a strong indication that this layer should be\n",
            "formulated as a subclassed Layer rather than a Lambda layer.\n",
            "WARNING:tensorflow:\n",
            "The following Variables were used a Lambda layer's call (tf.nn.convolution_13), but\n",
            "are not present in its tracked objects:\n",
            "  <tf.Variable 'block5_conv2/kernel:0' shape=(3, 3, 512, 512) dtype=float32>\n",
            "It is possible that this is intended behavior, but it is more likely\n",
            "an omission. This is a strong indication that this layer should be\n",
            "formulated as a subclassed Layer rather than a Lambda layer.\n",
            "WARNING:tensorflow:\n",
            "The following Variables were used a Lambda layer's call (tf.nn.bias_add_13), but\n",
            "are not present in its tracked objects:\n",
            "  <tf.Variable 'block5_conv2/bias:0' shape=(512,) dtype=float32>\n",
            "It is possible that this is intended behavior, but it is more likely\n",
            "an omission. This is a strong indication that this layer should be\n",
            "formulated as a subclassed Layer rather than a Lambda layer.\n",
            "WARNING:tensorflow:\n",
            "The following Variables were used a Lambda layer's call (tf.nn.convolution_14), but\n",
            "are not present in its tracked objects:\n",
            "  <tf.Variable 'block5_conv3/kernel:0' shape=(3, 3, 512, 512) dtype=float32>\n",
            "It is possible that this is intended behavior, but it is more likely\n",
            "an omission. This is a strong indication that this layer should be\n",
            "formulated as a subclassed Layer rather than a Lambda layer.\n",
            "WARNING:tensorflow:\n",
            "The following Variables were used a Lambda layer's call (tf.nn.bias_add_14), but\n",
            "are not present in its tracked objects:\n",
            "  <tf.Variable 'block5_conv3/bias:0' shape=(512,) dtype=float32>\n",
            "It is possible that this is intended behavior, but it is more likely\n",
            "an omission. This is a strong indication that this layer should be\n",
            "formulated as a subclassed Layer rather than a Lambda layer.\n",
            "WARNING:tensorflow:\n",
            "The following Variables were used a Lambda layer's call (tf.nn.convolution_15), but\n",
            "are not present in its tracked objects:\n",
            "  <tf.Variable 'block5_conv4/kernel:0' shape=(3, 3, 512, 512) dtype=float32>\n",
            "It is possible that this is intended behavior, but it is more likely\n",
            "an omission. This is a strong indication that this layer should be\n",
            "formulated as a subclassed Layer rather than a Lambda layer.\n",
            "WARNING:tensorflow:\n",
            "The following Variables were used a Lambda layer's call (tf.nn.bias_add_15), but\n",
            "are not present in its tracked objects:\n",
            "  <tf.Variable 'block5_conv4/bias:0' shape=(512,) dtype=float32>\n",
            "It is possible that this is intended behavior, but it is more likely\n",
            "an omission. This is a strong indication that this layer should be\n",
            "formulated as a subclassed Layer rather than a Lambda layer.\n",
            "Model: \"model\"\n",
            "_________________________________________________________________\n",
            "Layer (type)                 Output Shape              Param #   \n",
            "=================================================================\n",
            "input_1 (InputLayer)         [(None, 400, 400, 3)]     0         \n",
            "_________________________________________________________________\n",
            "tf.nn.convolution (TFOpLambd (None, 400, 400, 64)      0         \n",
            "_________________________________________________________________\n",
            "tf.nn.bias_add (TFOpLambda)  (None, 400, 400, 64)      0         \n",
            "_________________________________________________________________\n",
            "tf.nn.relu (TFOpLambda)      (None, 400, 400, 64)      0         \n",
            "_________________________________________________________________\n",
            "tf.nn.convolution_1 (TFOpLam (None, 400, 400, 64)      0         \n",
            "_________________________________________________________________\n",
            "tf.nn.bias_add_1 (TFOpLambda (None, 400, 400, 64)      0         \n",
            "_________________________________________________________________\n",
            "tf.nn.relu_1 (TFOpLambda)    (None, 400, 400, 64)      0         \n",
            "_________________________________________________________________\n",
            "tf.compat.v1.nn.max_pool (TF (None, 200, 200, 64)      0         \n",
            "_________________________________________________________________\n",
            "tf.nn.convolution_2 (TFOpLam (None, 200, 200, 128)     0         \n",
            "_________________________________________________________________\n",
            "tf.nn.bias_add_2 (TFOpLambda (None, 200, 200, 128)     0         \n",
            "_________________________________________________________________\n",
            "tf.nn.relu_2 (TFOpLambda)    (None, 200, 200, 128)     0         \n",
            "_________________________________________________________________\n",
            "tf.nn.convolution_3 (TFOpLam (None, 200, 200, 128)     0         \n",
            "_________________________________________________________________\n",
            "tf.nn.bias_add_3 (TFOpLambda (None, 200, 200, 128)     0         \n",
            "_________________________________________________________________\n",
            "tf.nn.relu_3 (TFOpLambda)    (None, 200, 200, 128)     0         \n",
            "_________________________________________________________________\n",
            "tf.compat.v1.nn.max_pool_1 ( (None, 100, 100, 128)     0         \n",
            "_________________________________________________________________\n",
            "tf.nn.convolution_4 (TFOpLam (None, 100, 100, 256)     0         \n",
            "_________________________________________________________________\n",
            "tf.nn.bias_add_4 (TFOpLambda (None, 100, 100, 256)     0         \n",
            "_________________________________________________________________\n",
            "tf.nn.relu_4 (TFOpLambda)    (None, 100, 100, 256)     0         \n",
            "_________________________________________________________________\n",
            "tf.nn.convolution_5 (TFOpLam (None, 100, 100, 256)     0         \n",
            "_________________________________________________________________\n",
            "tf.nn.bias_add_5 (TFOpLambda (None, 100, 100, 256)     0         \n",
            "_________________________________________________________________\n",
            "tf.nn.relu_5 (TFOpLambda)    (None, 100, 100, 256)     0         \n",
            "_________________________________________________________________\n",
            "tf.nn.convolution_6 (TFOpLam (None, 100, 100, 256)     0         \n",
            "_________________________________________________________________\n",
            "tf.nn.bias_add_6 (TFOpLambda (None, 100, 100, 256)     0         \n",
            "_________________________________________________________________\n",
            "tf.nn.relu_6 (TFOpLambda)    (None, 100, 100, 256)     0         \n",
            "_________________________________________________________________\n",
            "tf.nn.convolution_7 (TFOpLam (None, 100, 100, 256)     0         \n",
            "_________________________________________________________________\n",
            "tf.nn.bias_add_7 (TFOpLambda (None, 100, 100, 256)     0         \n",
            "_________________________________________________________________\n",
            "tf.nn.relu_7 (TFOpLambda)    (None, 100, 100, 256)     0         \n",
            "_________________________________________________________________\n",
            "tf.compat.v1.nn.max_pool_2 ( (None, 50, 50, 256)       0         \n",
            "_________________________________________________________________\n",
            "tf.nn.convolution_8 (TFOpLam (None, 50, 50, 512)       0         \n",
            "_________________________________________________________________\n",
            "tf.nn.bias_add_8 (TFOpLambda (None, 50, 50, 512)       0         \n",
            "_________________________________________________________________\n",
            "tf.nn.relu_8 (TFOpLambda)    (None, 50, 50, 512)       0         \n",
            "_________________________________________________________________\n",
            "tf.nn.convolution_9 (TFOpLam (None, 50, 50, 512)       0         \n",
            "_________________________________________________________________\n",
            "tf.nn.bias_add_9 (TFOpLambda (None, 50, 50, 512)       0         \n",
            "_________________________________________________________________\n",
            "tf.nn.relu_9 (TFOpLambda)    (None, 50, 50, 512)       0         \n",
            "_________________________________________________________________\n",
            "tf.nn.convolution_10 (TFOpLa (None, 50, 50, 512)       0         \n",
            "_________________________________________________________________\n",
            "tf.nn.bias_add_10 (TFOpLambd (None, 50, 50, 512)       0         \n",
            "_________________________________________________________________\n",
            "tf.nn.relu_10 (TFOpLambda)   (None, 50, 50, 512)       0         \n",
            "_________________________________________________________________\n",
            "tf.nn.convolution_11 (TFOpLa (None, 50, 50, 512)       0         \n",
            "_________________________________________________________________\n",
            "tf.nn.bias_add_11 (TFOpLambd (None, 50, 50, 512)       0         \n",
            "_________________________________________________________________\n",
            "tf.nn.relu_11 (TFOpLambda)   (None, 50, 50, 512)       0         \n",
            "_________________________________________________________________\n",
            "tf.compat.v1.nn.max_pool_3 ( (None, 25, 25, 512)       0         \n",
            "_________________________________________________________________\n",
            "tf.nn.convolution_12 (TFOpLa (None, 25, 25, 512)       0         \n",
            "_________________________________________________________________\n",
            "tf.nn.bias_add_12 (TFOpLambd (None, 25, 25, 512)       0         \n",
            "_________________________________________________________________\n",
            "tf.nn.relu_12 (TFOpLambda)   (None, 25, 25, 512)       0         \n",
            "_________________________________________________________________\n",
            "tf.nn.convolution_13 (TFOpLa (None, 25, 25, 512)       0         \n",
            "_________________________________________________________________\n",
            "tf.nn.bias_add_13 (TFOpLambd (None, 25, 25, 512)       0         \n",
            "_________________________________________________________________\n",
            "tf.nn.relu_13 (TFOpLambda)   (None, 25, 25, 512)       0         \n",
            "_________________________________________________________________\n",
            "tf.nn.convolution_14 (TFOpLa (None, 25, 25, 512)       0         \n",
            "_________________________________________________________________\n",
            "tf.nn.bias_add_14 (TFOpLambd (None, 25, 25, 512)       0         \n",
            "_________________________________________________________________\n",
            "tf.nn.relu_14 (TFOpLambda)   (None, 25, 25, 512)       0         \n",
            "_________________________________________________________________\n",
            "tf.nn.convolution_15 (TFOpLa (None, 25, 25, 512)       0         \n",
            "_________________________________________________________________\n",
            "tf.nn.bias_add_15 (TFOpLambd (None, 25, 25, 512)       0         \n",
            "_________________________________________________________________\n",
            "tf.nn.relu_15 (TFOpLambda)   (None, 25, 25, 512)       0         \n",
            "_________________________________________________________________\n",
            "tf.compat.v1.nn.max_pool_4 ( (None, 12, 12, 512)       0         \n",
            "_________________________________________________________________\n",
            "global_average_pooling2d (Gl (None, 512)               0         \n",
            "_________________________________________________________________\n",
            "dropout (Dropout)            (None, 512)               0         \n",
            "_________________________________________________________________\n",
            "flatten (Flatten)            (None, 512)               0         \n",
            "_________________________________________________________________\n",
            "dense (Dense)                (None, 128)               65664     \n",
            "_________________________________________________________________\n",
            "dropout_1 (Dropout)          (None, 128)               0         \n",
            "_________________________________________________________________\n",
            "batch_normalization (BatchNo (None, 128)               512       \n",
            "_________________________________________________________________\n",
            "dense_1 (Dense)              (None, 64)                8256      \n",
            "=================================================================\n",
            "Total params: 74,432\n",
            "Trainable params: 74,176\n",
            "Non-trainable params: 256\n",
            "_________________________________________________________________\n"
          ],
          "name": "stdout"
        }
      ]
    },
    {
      "cell_type": "code",
      "metadata": {
        "colab": {
          "base_uri": "https://localhost:8080/"
        },
        "id": "8ef2lbgQ8luV",
        "outputId": "f616e079-5f8c-4465-9e6c-ac6c1342768e"
      },
      "source": [
        "model.fit(training_set, epochs=70)"
      ],
      "execution_count": null,
      "outputs": [
        {
          "output_type": "stream",
          "text": [
            "Epoch 1/70\n",
            "97/97 [==============================] - 498s 4s/step - loss: 4.1682 - accuracy: 0.0506\n",
            "Epoch 2/70\n",
            "97/97 [==============================] - 60s 615ms/step - loss: 3.4912 - accuracy: 0.1326\n",
            "Epoch 3/70\n",
            "97/97 [==============================] - 60s 615ms/step - loss: 3.0721 - accuracy: 0.2106\n",
            "Epoch 4/70\n",
            "97/97 [==============================] - 59s 604ms/step - loss: 2.7983 - accuracy: 0.2513\n",
            "Epoch 5/70\n",
            "97/97 [==============================] - 60s 616ms/step - loss: 2.5948 - accuracy: 0.2787\n",
            "Epoch 6/70\n",
            "97/97 [==============================] - 60s 614ms/step - loss: 2.4450 - accuracy: 0.3094\n",
            "Epoch 7/70\n",
            "97/97 [==============================] - 59s 604ms/step - loss: 2.2850 - accuracy: 0.3413\n",
            "Epoch 8/70\n",
            "97/97 [==============================] - 60s 615ms/step - loss: 2.1661 - accuracy: 0.3645\n",
            "Epoch 9/70\n",
            "97/97 [==============================] - 60s 612ms/step - loss: 2.0748 - accuracy: 0.3742\n",
            "Epoch 10/70\n",
            "97/97 [==============================] - 60s 613ms/step - loss: 2.0009 - accuracy: 0.3981\n",
            "Epoch 11/70\n",
            "97/97 [==============================] - 60s 614ms/step - loss: 1.9292 - accuracy: 0.4081\n",
            "Epoch 12/70\n",
            "97/97 [==============================] - 59s 605ms/step - loss: 1.8476 - accuracy: 0.4339\n",
            "Epoch 13/70\n",
            "97/97 [==============================] - 60s 615ms/step - loss: 1.8154 - accuracy: 0.4348\n",
            "Epoch 14/70\n",
            "97/97 [==============================] - 59s 605ms/step - loss: 1.7393 - accuracy: 0.4558\n",
            "Epoch 15/70\n",
            "97/97 [==============================] - 60s 608ms/step - loss: 1.6901 - accuracy: 0.4713\n",
            "Epoch 16/70\n",
            "97/97 [==============================] - 60s 609ms/step - loss: 1.7111 - accuracy: 0.4600\n",
            "Epoch 17/70\n",
            "97/97 [==============================] - 60s 609ms/step - loss: 1.6402 - accuracy: 0.4819\n",
            "Epoch 18/70\n",
            "97/97 [==============================] - 60s 615ms/step - loss: 1.6079 - accuracy: 0.4868\n",
            "Epoch 19/70\n",
            "97/97 [==============================] - 59s 604ms/step - loss: 1.5820 - accuracy: 0.4868\n",
            "Epoch 20/70\n",
            "97/97 [==============================] - 60s 617ms/step - loss: 1.5779 - accuracy: 0.4926\n",
            "Epoch 21/70\n",
            "97/97 [==============================] - 60s 614ms/step - loss: 1.5301 - accuracy: 0.4968\n",
            "Epoch 22/70\n",
            "97/97 [==============================] - 60s 612ms/step - loss: 1.5028 - accuracy: 0.5077\n",
            "Epoch 23/70\n",
            "97/97 [==============================] - 60s 614ms/step - loss: 1.4973 - accuracy: 0.5129\n",
            "Epoch 24/70\n",
            "97/97 [==============================] - 59s 604ms/step - loss: 1.4818 - accuracy: 0.5152\n",
            "Epoch 25/70\n",
            "97/97 [==============================] - 60s 608ms/step - loss: 1.4685 - accuracy: 0.5190\n",
            "Epoch 26/70\n",
            "97/97 [==============================] - 60s 615ms/step - loss: 1.4480 - accuracy: 0.5203\n",
            "Epoch 27/70\n",
            "97/97 [==============================] - 59s 604ms/step - loss: 1.4386 - accuracy: 0.5406\n",
            "Epoch 28/70\n",
            "97/97 [==============================] - 60s 609ms/step - loss: 1.4357 - accuracy: 0.5255\n",
            "Epoch 29/70\n",
            "97/97 [==============================] - 60s 614ms/step - loss: 1.4515 - accuracy: 0.5316\n",
            "Epoch 30/70\n",
            "97/97 [==============================] - 60s 612ms/step - loss: 1.3978 - accuracy: 0.5342\n",
            "Epoch 31/70\n",
            "97/97 [==============================] - 60s 613ms/step - loss: 1.3931 - accuracy: 0.5400\n",
            "Epoch 32/70\n",
            "97/97 [==============================] - 60s 612ms/step - loss: 1.3531 - accuracy: 0.5642\n",
            "Epoch 33/70\n",
            "97/97 [==============================] - 59s 603ms/step - loss: 1.3561 - accuracy: 0.5555\n",
            "Epoch 34/70\n",
            "97/97 [==============================] - 60s 609ms/step - loss: 1.3266 - accuracy: 0.5561\n",
            "Epoch 35/70\n",
            "97/97 [==============================] - 60s 614ms/step - loss: 1.3015 - accuracy: 0.5481\n",
            "Epoch 36/70\n",
            "97/97 [==============================] - 59s 605ms/step - loss: 1.3142 - accuracy: 0.5677\n",
            "Epoch 37/70\n",
            "97/97 [==============================] - 61s 619ms/step - loss: 1.3219 - accuracy: 0.5626\n",
            "Epoch 38/70\n",
            "97/97 [==============================] - 60s 614ms/step - loss: 1.2974 - accuracy: 0.5671\n",
            "Epoch 39/70\n",
            "97/97 [==============================] - 60s 613ms/step - loss: 1.2652 - accuracy: 0.5768\n",
            "Epoch 40/70\n",
            "97/97 [==============================] - 59s 604ms/step - loss: 1.2888 - accuracy: 0.5606\n",
            "Epoch 41/70\n",
            "97/97 [==============================] - 61s 617ms/step - loss: 1.2689 - accuracy: 0.5690\n",
            "Epoch 42/70\n",
            "97/97 [==============================] - 59s 606ms/step - loss: 1.2623 - accuracy: 0.5810\n",
            "Epoch 43/70\n",
            "97/97 [==============================] - 60s 609ms/step - loss: 1.2771 - accuracy: 0.5755\n",
            "Epoch 44/70\n",
            "97/97 [==============================] - 60s 608ms/step - loss: 1.2687 - accuracy: 0.5690\n",
            "Epoch 45/70\n",
            "97/97 [==============================] - 58s 591ms/step - loss: 1.2452 - accuracy: 0.5823\n",
            "Epoch 46/70\n",
            "97/97 [==============================] - 57s 586ms/step - loss: 1.2699 - accuracy: 0.5710\n",
            "Epoch 47/70\n",
            "97/97 [==============================] - 57s 577ms/step - loss: 1.2589 - accuracy: 0.5710\n",
            "Epoch 48/70\n",
            "97/97 [==============================] - 57s 577ms/step - loss: 1.2513 - accuracy: 0.5865\n",
            "Epoch 49/70\n",
            "97/97 [==============================] - 56s 575ms/step - loss: 1.2281 - accuracy: 0.5865\n",
            "Epoch 50/70\n",
            "97/97 [==============================] - 56s 572ms/step - loss: 1.2313 - accuracy: 0.5761\n",
            "Epoch 51/70\n",
            "97/97 [==============================] - 60s 612ms/step - loss: 1.2503 - accuracy: 0.5784\n",
            "Epoch 52/70\n",
            "97/97 [==============================] - 60s 614ms/step - loss: 1.2242 - accuracy: 0.5787\n",
            "Epoch 53/70\n",
            "97/97 [==============================] - 59s 605ms/step - loss: 1.2375 - accuracy: 0.5703\n",
            "Epoch 54/70\n",
            "97/97 [==============================] - 61s 617ms/step - loss: 1.2061 - accuracy: 0.5977\n",
            "Epoch 55/70\n",
            "97/97 [==============================] - 60s 614ms/step - loss: 1.2176 - accuracy: 0.5845\n",
            "Epoch 56/70\n",
            "97/97 [==============================] - 60s 615ms/step - loss: 1.1924 - accuracy: 0.5887\n",
            "Epoch 57/70\n",
            "97/97 [==============================] - 59s 605ms/step - loss: 1.1913 - accuracy: 0.5971\n",
            "Epoch 58/70\n",
            "97/97 [==============================] - 61s 617ms/step - loss: 1.1898 - accuracy: 0.5900\n",
            "Epoch 59/70\n",
            "97/97 [==============================] - 57s 584ms/step - loss: 1.1868 - accuracy: 0.5935\n",
            "Epoch 60/70\n",
            "97/97 [==============================] - 58s 586ms/step - loss: 1.2139 - accuracy: 0.5900\n",
            "Epoch 61/70\n",
            "97/97 [==============================] - 57s 579ms/step - loss: 1.1944 - accuracy: 0.5906\n",
            "Epoch 62/70\n",
            "97/97 [==============================] - 56s 575ms/step - loss: 1.2098 - accuracy: 0.5832\n",
            "Epoch 63/70\n",
            "97/97 [==============================] - 57s 579ms/step - loss: 1.1456 - accuracy: 0.5971\n",
            "Epoch 64/70\n",
            "97/97 [==============================] - 57s 584ms/step - loss: 1.1952 - accuracy: 0.5932\n",
            "Epoch 65/70\n",
            "97/97 [==============================] - 58s 588ms/step - loss: 1.1801 - accuracy: 0.5965\n",
            "Epoch 66/70\n",
            "97/97 [==============================] - 57s 578ms/step - loss: 1.1576 - accuracy: 0.5997\n",
            "Epoch 67/70\n",
            "97/97 [==============================] - 57s 581ms/step - loss: 1.1559 - accuracy: 0.6103\n",
            "Epoch 68/70\n",
            "97/97 [==============================] - 57s 577ms/step - loss: 1.1887 - accuracy: 0.5945\n",
            "Epoch 69/70\n",
            "97/97 [==============================] - 57s 579ms/step - loss: 1.1843 - accuracy: 0.5984\n",
            "Epoch 70/70\n",
            "97/97 [==============================] - 57s 576ms/step - loss: 1.1900 - accuracy: 0.5987\n"
          ],
          "name": "stdout"
        },
        {
          "output_type": "execute_result",
          "data": {
            "text/plain": [
              "<tensorflow.python.keras.callbacks.History at 0x7fd1eb974950>"
            ]
          },
          "metadata": {
            "tags": []
          },
          "execution_count": 11
        }
      ]
    },
    {
      "cell_type": "code",
      "metadata": {
        "colab": {
          "base_uri": "https://localhost:8080/"
        },
        "id": "WqqZxA3K8o7t",
        "outputId": "833ec5a6-41dd-4d2a-b099-5b0110978be1"
      },
      "source": [
        "model.evaluate(valid_set, verbose=1) #160"
      ],
      "execution_count": null,
      "outputs": [
        {
          "output_type": "stream",
          "text": [
            "26/26 [==============================] - 195s 3s/step - loss: 1.2316 - accuracy: 0.5747\n"
          ],
          "name": "stdout"
        },
        {
          "output_type": "execute_result",
          "data": {
            "text/plain": [
              "[1.2315784692764282, 0.5747265815734863]"
            ]
          },
          "metadata": {
            "tags": []
          },
          "execution_count": 12
        }
      ]
    },
    {
      "cell_type": "code",
      "metadata": {
        "colab": {
          "base_uri": "https://localhost:8080/"
        },
        "id": "etLx1f3pSGCI",
        "outputId": "86047058-700b-4630-df8d-99b92f69d743"
      },
      "source": [
        "model.evaluate(testing_set, verbose=1) #160"
      ],
      "execution_count": null,
      "outputs": [
        {
          "output_type": "stream",
          "text": [
            "25/25 [==============================] - 20s 559ms/step - loss: 1.1372 - accuracy: 0.6275\n"
          ],
          "name": "stdout"
        },
        {
          "output_type": "execute_result",
          "data": {
            "text/plain": [
              "[1.13724946975708, 0.6274999976158142]"
            ]
          },
          "metadata": {
            "tags": []
          },
          "execution_count": 13
        }
      ]
    },
    {
      "cell_type": "code",
      "metadata": {
        "id": "s0wrUtULSHd_"
      },
      "source": [
        "import os\n",
        "weights_dir = 'weights/article'\n",
        "# Save model weights\n",
        "model.save_weights(os.path.join(weights_dir, 'vgg19-froze.h5'))"
      ],
      "execution_count": null,
      "outputs": []
    },
    {
      "cell_type": "markdown",
      "metadata": {
        "id": "7ierrwn-HELX"
      },
      "source": [
        "### VGG-19 Freeze half of the layers"
      ]
    },
    {
      "cell_type": "code",
      "metadata": {
        "colab": {
          "base_uri": "https://localhost:8080/"
        },
        "id": "3xyGSxlHSVLS",
        "outputId": "5e72ac89-e6e4-4adb-e1e2-3222f7ef36f1"
      },
      "source": [
        "vgg = VGG19(include_top=False, weights=\"imagenet\", input_shape=(img_size, img_size, channels))\n",
        "vgg.trainable = True\n",
        "base_model = vgg\n",
        "\n",
        "len = len(base_model.layers) // 2\n",
        "\n",
        "# freeze layers\n",
        "for layer in base_model.layers[:len]:\n",
        "    layer.trainable = False\n",
        "\n",
        "\n",
        "inputs = tf.keras.Input(shape=(img_size, img_size, channels))\n",
        "\n",
        "x = base_model(inputs, training=False)\n",
        "x = tf.keras.layers.GlobalAveragePooling2D()(x)\n",
        "x = tf.keras.layers.Dropout(0.2)(x)\n",
        "x = keras.layers.Flatten()(x)\n",
        "X = keras.layers.Dense(128, activation='relu')(x)\n",
        "X = keras.layers.Dropout(0.5)(X)\n",
        "X = keras.layers.BatchNormalization()(X)\n",
        "\n",
        "outputs = tf.keras.layers.Dense(64, activation=tf.keras.activations.softmax)(X)\n",
        "\n",
        "model = tf.keras.Model(inputs, outputs)\n",
        "model.summary()\n",
        "\n",
        "model.compile(loss='sparse_categorical_crossentropy', optimizer='adam', metrics=['accuracy'])"
      ],
      "execution_count": null,
      "outputs": [
        {
          "output_type": "stream",
          "text": [
            "WARNING:tensorflow:\n",
            "The following Variables were used a Lambda layer's call (tf.nn.convolution_16), but\n",
            "are not present in its tracked objects:\n",
            "  <tf.Variable 'block1_conv1/kernel:0' shape=(3, 3, 3, 64) dtype=float32>\n",
            "It is possible that this is intended behavior, but it is more likely\n",
            "an omission. This is a strong indication that this layer should be\n",
            "formulated as a subclassed Layer rather than a Lambda layer.\n",
            "WARNING:tensorflow:\n",
            "The following Variables were used a Lambda layer's call (tf.nn.bias_add_16), but\n",
            "are not present in its tracked objects:\n",
            "  <tf.Variable 'block1_conv1/bias:0' shape=(64,) dtype=float32>\n",
            "It is possible that this is intended behavior, but it is more likely\n",
            "an omission. This is a strong indication that this layer should be\n",
            "formulated as a subclassed Layer rather than a Lambda layer.\n",
            "WARNING:tensorflow:\n",
            "The following Variables were used a Lambda layer's call (tf.nn.convolution_17), but\n",
            "are not present in its tracked objects:\n",
            "  <tf.Variable 'block1_conv2/kernel:0' shape=(3, 3, 64, 64) dtype=float32>\n",
            "It is possible that this is intended behavior, but it is more likely\n",
            "an omission. This is a strong indication that this layer should be\n",
            "formulated as a subclassed Layer rather than a Lambda layer.\n",
            "WARNING:tensorflow:\n",
            "The following Variables were used a Lambda layer's call (tf.nn.bias_add_17), but\n",
            "are not present in its tracked objects:\n",
            "  <tf.Variable 'block1_conv2/bias:0' shape=(64,) dtype=float32>\n",
            "It is possible that this is intended behavior, but it is more likely\n",
            "an omission. This is a strong indication that this layer should be\n",
            "formulated as a subclassed Layer rather than a Lambda layer.\n",
            "WARNING:tensorflow:\n",
            "The following Variables were used a Lambda layer's call (tf.nn.convolution_18), but\n",
            "are not present in its tracked objects:\n",
            "  <tf.Variable 'block2_conv1/kernel:0' shape=(3, 3, 64, 128) dtype=float32>\n",
            "It is possible that this is intended behavior, but it is more likely\n",
            "an omission. This is a strong indication that this layer should be\n",
            "formulated as a subclassed Layer rather than a Lambda layer.\n",
            "WARNING:tensorflow:\n",
            "The following Variables were used a Lambda layer's call (tf.nn.bias_add_18), but\n",
            "are not present in its tracked objects:\n",
            "  <tf.Variable 'block2_conv1/bias:0' shape=(128,) dtype=float32>\n",
            "It is possible that this is intended behavior, but it is more likely\n",
            "an omission. This is a strong indication that this layer should be\n",
            "formulated as a subclassed Layer rather than a Lambda layer.\n",
            "WARNING:tensorflow:\n",
            "The following Variables were used a Lambda layer's call (tf.nn.convolution_19), but\n",
            "are not present in its tracked objects:\n",
            "  <tf.Variable 'block2_conv2/kernel:0' shape=(3, 3, 128, 128) dtype=float32>\n",
            "It is possible that this is intended behavior, but it is more likely\n",
            "an omission. This is a strong indication that this layer should be\n",
            "formulated as a subclassed Layer rather than a Lambda layer.\n",
            "WARNING:tensorflow:\n",
            "The following Variables were used a Lambda layer's call (tf.nn.bias_add_19), but\n",
            "are not present in its tracked objects:\n",
            "  <tf.Variable 'block2_conv2/bias:0' shape=(128,) dtype=float32>\n",
            "It is possible that this is intended behavior, but it is more likely\n",
            "an omission. This is a strong indication that this layer should be\n",
            "formulated as a subclassed Layer rather than a Lambda layer.\n",
            "WARNING:tensorflow:\n",
            "The following Variables were used a Lambda layer's call (tf.nn.convolution_20), but\n",
            "are not present in its tracked objects:\n",
            "  <tf.Variable 'block3_conv1/kernel:0' shape=(3, 3, 128, 256) dtype=float32>\n",
            "It is possible that this is intended behavior, but it is more likely\n",
            "an omission. This is a strong indication that this layer should be\n",
            "formulated as a subclassed Layer rather than a Lambda layer.\n",
            "WARNING:tensorflow:\n",
            "The following Variables were used a Lambda layer's call (tf.nn.bias_add_20), but\n",
            "are not present in its tracked objects:\n",
            "  <tf.Variable 'block3_conv1/bias:0' shape=(256,) dtype=float32>\n",
            "It is possible that this is intended behavior, but it is more likely\n",
            "an omission. This is a strong indication that this layer should be\n",
            "formulated as a subclassed Layer rather than a Lambda layer.\n",
            "WARNING:tensorflow:\n",
            "The following Variables were used a Lambda layer's call (tf.nn.convolution_21), but\n",
            "are not present in its tracked objects:\n",
            "  <tf.Variable 'block3_conv2/kernel:0' shape=(3, 3, 256, 256) dtype=float32>\n",
            "It is possible that this is intended behavior, but it is more likely\n",
            "an omission. This is a strong indication that this layer should be\n",
            "formulated as a subclassed Layer rather than a Lambda layer.\n",
            "WARNING:tensorflow:\n",
            "The following Variables were used a Lambda layer's call (tf.nn.bias_add_21), but\n",
            "are not present in its tracked objects:\n",
            "  <tf.Variable 'block3_conv2/bias:0' shape=(256,) dtype=float32>\n",
            "It is possible that this is intended behavior, but it is more likely\n",
            "an omission. This is a strong indication that this layer should be\n",
            "formulated as a subclassed Layer rather than a Lambda layer.\n",
            "WARNING:tensorflow:\n",
            "The following Variables were used a Lambda layer's call (tf.nn.convolution_22), but\n",
            "are not present in its tracked objects:\n",
            "  <tf.Variable 'block3_conv3/kernel:0' shape=(3, 3, 256, 256) dtype=float32>\n",
            "It is possible that this is intended behavior, but it is more likely\n",
            "an omission. This is a strong indication that this layer should be\n",
            "formulated as a subclassed Layer rather than a Lambda layer.\n",
            "WARNING:tensorflow:\n",
            "The following Variables were used a Lambda layer's call (tf.nn.bias_add_22), but\n",
            "are not present in its tracked objects:\n",
            "  <tf.Variable 'block3_conv3/bias:0' shape=(256,) dtype=float32>\n",
            "It is possible that this is intended behavior, but it is more likely\n",
            "an omission. This is a strong indication that this layer should be\n",
            "formulated as a subclassed Layer rather than a Lambda layer.\n",
            "WARNING:tensorflow:\n",
            "The following Variables were used a Lambda layer's call (tf.nn.convolution_23), but\n",
            "are not present in its tracked objects:\n",
            "  <tf.Variable 'block3_conv4/kernel:0' shape=(3, 3, 256, 256) dtype=float32>\n",
            "It is possible that this is intended behavior, but it is more likely\n",
            "an omission. This is a strong indication that this layer should be\n",
            "formulated as a subclassed Layer rather than a Lambda layer.\n",
            "WARNING:tensorflow:\n",
            "The following Variables were used a Lambda layer's call (tf.nn.bias_add_23), but\n",
            "are not present in its tracked objects:\n",
            "  <tf.Variable 'block3_conv4/bias:0' shape=(256,) dtype=float32>\n",
            "It is possible that this is intended behavior, but it is more likely\n",
            "an omission. This is a strong indication that this layer should be\n",
            "formulated as a subclassed Layer rather than a Lambda layer.\n",
            "WARNING:tensorflow:\n",
            "The following Variables were used a Lambda layer's call (tf.nn.convolution_24), but\n",
            "are not present in its tracked objects:\n",
            "  <tf.Variable 'block4_conv1/kernel:0' shape=(3, 3, 256, 512) dtype=float32>\n",
            "It is possible that this is intended behavior, but it is more likely\n",
            "an omission. This is a strong indication that this layer should be\n",
            "formulated as a subclassed Layer rather than a Lambda layer.\n",
            "WARNING:tensorflow:\n",
            "The following Variables were used a Lambda layer's call (tf.nn.bias_add_24), but\n",
            "are not present in its tracked objects:\n",
            "  <tf.Variable 'block4_conv1/bias:0' shape=(512,) dtype=float32>\n",
            "It is possible that this is intended behavior, but it is more likely\n",
            "an omission. This is a strong indication that this layer should be\n",
            "formulated as a subclassed Layer rather than a Lambda layer.\n",
            "WARNING:tensorflow:\n",
            "The following Variables were used a Lambda layer's call (tf.nn.convolution_25), but\n",
            "are not present in its tracked objects:\n",
            "  <tf.Variable 'block4_conv2/kernel:0' shape=(3, 3, 512, 512) dtype=float32>\n",
            "It is possible that this is intended behavior, but it is more likely\n",
            "an omission. This is a strong indication that this layer should be\n",
            "formulated as a subclassed Layer rather than a Lambda layer.\n",
            "WARNING:tensorflow:\n",
            "The following Variables were used a Lambda layer's call (tf.nn.bias_add_25), but\n",
            "are not present in its tracked objects:\n",
            "  <tf.Variable 'block4_conv2/bias:0' shape=(512,) dtype=float32>\n",
            "It is possible that this is intended behavior, but it is more likely\n",
            "an omission. This is a strong indication that this layer should be\n",
            "formulated as a subclassed Layer rather than a Lambda layer.\n",
            "WARNING:tensorflow:\n",
            "The following Variables were used a Lambda layer's call (tf.nn.convolution_26), but\n",
            "are not present in its tracked objects:\n",
            "  <tf.Variable 'block4_conv3/kernel:0' shape=(3, 3, 512, 512) dtype=float32>\n",
            "It is possible that this is intended behavior, but it is more likely\n",
            "an omission. This is a strong indication that this layer should be\n",
            "formulated as a subclassed Layer rather than a Lambda layer.\n",
            "WARNING:tensorflow:\n",
            "The following Variables were used a Lambda layer's call (tf.nn.bias_add_26), but\n",
            "are not present in its tracked objects:\n",
            "  <tf.Variable 'block4_conv3/bias:0' shape=(512,) dtype=float32>\n",
            "It is possible that this is intended behavior, but it is more likely\n",
            "an omission. This is a strong indication that this layer should be\n",
            "formulated as a subclassed Layer rather than a Lambda layer.\n",
            "WARNING:tensorflow:\n",
            "The following Variables were used a Lambda layer's call (tf.nn.convolution_27), but\n",
            "are not present in its tracked objects:\n",
            "  <tf.Variable 'block4_conv4/kernel:0' shape=(3, 3, 512, 512) dtype=float32>\n",
            "It is possible that this is intended behavior, but it is more likely\n",
            "an omission. This is a strong indication that this layer should be\n",
            "formulated as a subclassed Layer rather than a Lambda layer.\n",
            "WARNING:tensorflow:\n",
            "The following Variables were used a Lambda layer's call (tf.nn.bias_add_27), but\n",
            "are not present in its tracked objects:\n",
            "  <tf.Variable 'block4_conv4/bias:0' shape=(512,) dtype=float32>\n",
            "It is possible that this is intended behavior, but it is more likely\n",
            "an omission. This is a strong indication that this layer should be\n",
            "formulated as a subclassed Layer rather than a Lambda layer.\n",
            "WARNING:tensorflow:\n",
            "The following Variables were used a Lambda layer's call (tf.nn.convolution_28), but\n",
            "are not present in its tracked objects:\n",
            "  <tf.Variable 'block5_conv1/kernel:0' shape=(3, 3, 512, 512) dtype=float32>\n",
            "It is possible that this is intended behavior, but it is more likely\n",
            "an omission. This is a strong indication that this layer should be\n",
            "formulated as a subclassed Layer rather than a Lambda layer.\n",
            "WARNING:tensorflow:\n",
            "The following Variables were used a Lambda layer's call (tf.nn.bias_add_28), but\n",
            "are not present in its tracked objects:\n",
            "  <tf.Variable 'block5_conv1/bias:0' shape=(512,) dtype=float32>\n",
            "It is possible that this is intended behavior, but it is more likely\n",
            "an omission. This is a strong indication that this layer should be\n",
            "formulated as a subclassed Layer rather than a Lambda layer.\n",
            "WARNING:tensorflow:\n",
            "The following Variables were used a Lambda layer's call (tf.nn.convolution_29), but\n",
            "are not present in its tracked objects:\n",
            "  <tf.Variable 'block5_conv2/kernel:0' shape=(3, 3, 512, 512) dtype=float32>\n",
            "It is possible that this is intended behavior, but it is more likely\n",
            "an omission. This is a strong indication that this layer should be\n",
            "formulated as a subclassed Layer rather than a Lambda layer.\n",
            "WARNING:tensorflow:\n",
            "The following Variables were used a Lambda layer's call (tf.nn.bias_add_29), but\n",
            "are not present in its tracked objects:\n",
            "  <tf.Variable 'block5_conv2/bias:0' shape=(512,) dtype=float32>\n",
            "It is possible that this is intended behavior, but it is more likely\n",
            "an omission. This is a strong indication that this layer should be\n",
            "formulated as a subclassed Layer rather than a Lambda layer.\n",
            "WARNING:tensorflow:\n",
            "The following Variables were used a Lambda layer's call (tf.nn.convolution_30), but\n",
            "are not present in its tracked objects:\n",
            "  <tf.Variable 'block5_conv3/kernel:0' shape=(3, 3, 512, 512) dtype=float32>\n",
            "It is possible that this is intended behavior, but it is more likely\n",
            "an omission. This is a strong indication that this layer should be\n",
            "formulated as a subclassed Layer rather than a Lambda layer.\n",
            "WARNING:tensorflow:\n",
            "The following Variables were used a Lambda layer's call (tf.nn.bias_add_30), but\n",
            "are not present in its tracked objects:\n",
            "  <tf.Variable 'block5_conv3/bias:0' shape=(512,) dtype=float32>\n",
            "It is possible that this is intended behavior, but it is more likely\n",
            "an omission. This is a strong indication that this layer should be\n",
            "formulated as a subclassed Layer rather than a Lambda layer.\n",
            "WARNING:tensorflow:\n",
            "The following Variables were used a Lambda layer's call (tf.nn.convolution_31), but\n",
            "are not present in its tracked objects:\n",
            "  <tf.Variable 'block5_conv4/kernel:0' shape=(3, 3, 512, 512) dtype=float32>\n",
            "It is possible that this is intended behavior, but it is more likely\n",
            "an omission. This is a strong indication that this layer should be\n",
            "formulated as a subclassed Layer rather than a Lambda layer.\n",
            "WARNING:tensorflow:\n",
            "The following Variables were used a Lambda layer's call (tf.nn.bias_add_31), but\n",
            "are not present in its tracked objects:\n",
            "  <tf.Variable 'block5_conv4/bias:0' shape=(512,) dtype=float32>\n",
            "It is possible that this is intended behavior, but it is more likely\n",
            "an omission. This is a strong indication that this layer should be\n",
            "formulated as a subclassed Layer rather than a Lambda layer.\n",
            "Model: \"model_1\"\n",
            "_________________________________________________________________\n",
            "Layer (type)                 Output Shape              Param #   \n",
            "=================================================================\n",
            "input_2 (InputLayer)         [(None, 400, 400, 3)]     0         \n",
            "_________________________________________________________________\n",
            "tf.nn.convolution_16 (TFOpLa (None, 400, 400, 64)      0         \n",
            "_________________________________________________________________\n",
            "tf.nn.bias_add_16 (TFOpLambd (None, 400, 400, 64)      0         \n",
            "_________________________________________________________________\n",
            "tf.nn.relu_16 (TFOpLambda)   (None, 400, 400, 64)      0         \n",
            "_________________________________________________________________\n",
            "tf.nn.convolution_17 (TFOpLa (None, 400, 400, 64)      0         \n",
            "_________________________________________________________________\n",
            "tf.nn.bias_add_17 (TFOpLambd (None, 400, 400, 64)      0         \n",
            "_________________________________________________________________\n",
            "tf.nn.relu_17 (TFOpLambda)   (None, 400, 400, 64)      0         \n",
            "_________________________________________________________________\n",
            "tf.compat.v1.nn.max_pool_5 ( (None, 200, 200, 64)      0         \n",
            "_________________________________________________________________\n",
            "tf.nn.convolution_18 (TFOpLa (None, 200, 200, 128)     0         \n",
            "_________________________________________________________________\n",
            "tf.nn.bias_add_18 (TFOpLambd (None, 200, 200, 128)     0         \n",
            "_________________________________________________________________\n",
            "tf.nn.relu_18 (TFOpLambda)   (None, 200, 200, 128)     0         \n",
            "_________________________________________________________________\n",
            "tf.nn.convolution_19 (TFOpLa (None, 200, 200, 128)     0         \n",
            "_________________________________________________________________\n",
            "tf.nn.bias_add_19 (TFOpLambd (None, 200, 200, 128)     0         \n",
            "_________________________________________________________________\n",
            "tf.nn.relu_19 (TFOpLambda)   (None, 200, 200, 128)     0         \n",
            "_________________________________________________________________\n",
            "tf.compat.v1.nn.max_pool_6 ( (None, 100, 100, 128)     0         \n",
            "_________________________________________________________________\n",
            "tf.nn.convolution_20 (TFOpLa (None, 100, 100, 256)     0         \n",
            "_________________________________________________________________\n",
            "tf.nn.bias_add_20 (TFOpLambd (None, 100, 100, 256)     0         \n",
            "_________________________________________________________________\n",
            "tf.nn.relu_20 (TFOpLambda)   (None, 100, 100, 256)     0         \n",
            "_________________________________________________________________\n",
            "tf.nn.convolution_21 (TFOpLa (None, 100, 100, 256)     0         \n",
            "_________________________________________________________________\n",
            "tf.nn.bias_add_21 (TFOpLambd (None, 100, 100, 256)     0         \n",
            "_________________________________________________________________\n",
            "tf.nn.relu_21 (TFOpLambda)   (None, 100, 100, 256)     0         \n",
            "_________________________________________________________________\n",
            "tf.nn.convolution_22 (TFOpLa (None, 100, 100, 256)     0         \n",
            "_________________________________________________________________\n",
            "tf.nn.bias_add_22 (TFOpLambd (None, 100, 100, 256)     0         \n",
            "_________________________________________________________________\n",
            "tf.nn.relu_22 (TFOpLambda)   (None, 100, 100, 256)     0         \n",
            "_________________________________________________________________\n",
            "tf.nn.convolution_23 (TFOpLa (None, 100, 100, 256)     0         \n",
            "_________________________________________________________________\n",
            "tf.nn.bias_add_23 (TFOpLambd (None, 100, 100, 256)     0         \n",
            "_________________________________________________________________\n",
            "tf.nn.relu_23 (TFOpLambda)   (None, 100, 100, 256)     0         \n",
            "_________________________________________________________________\n",
            "tf.compat.v1.nn.max_pool_7 ( (None, 50, 50, 256)       0         \n",
            "_________________________________________________________________\n",
            "tf.nn.convolution_24 (TFOpLa (None, 50, 50, 512)       0         \n",
            "_________________________________________________________________\n",
            "tf.nn.bias_add_24 (TFOpLambd (None, 50, 50, 512)       0         \n",
            "_________________________________________________________________\n",
            "tf.nn.relu_24 (TFOpLambda)   (None, 50, 50, 512)       0         \n",
            "_________________________________________________________________\n",
            "tf.nn.convolution_25 (TFOpLa (None, 50, 50, 512)       0         \n",
            "_________________________________________________________________\n",
            "tf.nn.bias_add_25 (TFOpLambd (None, 50, 50, 512)       0         \n",
            "_________________________________________________________________\n",
            "tf.nn.relu_25 (TFOpLambda)   (None, 50, 50, 512)       0         \n",
            "_________________________________________________________________\n",
            "tf.nn.convolution_26 (TFOpLa (None, 50, 50, 512)       0         \n",
            "_________________________________________________________________\n",
            "tf.nn.bias_add_26 (TFOpLambd (None, 50, 50, 512)       0         \n",
            "_________________________________________________________________\n",
            "tf.nn.relu_26 (TFOpLambda)   (None, 50, 50, 512)       0         \n",
            "_________________________________________________________________\n",
            "tf.nn.convolution_27 (TFOpLa (None, 50, 50, 512)       0         \n",
            "_________________________________________________________________\n",
            "tf.nn.bias_add_27 (TFOpLambd (None, 50, 50, 512)       0         \n",
            "_________________________________________________________________\n",
            "tf.nn.relu_27 (TFOpLambda)   (None, 50, 50, 512)       0         \n",
            "_________________________________________________________________\n",
            "tf.compat.v1.nn.max_pool_8 ( (None, 25, 25, 512)       0         \n",
            "_________________________________________________________________\n",
            "tf.nn.convolution_28 (TFOpLa (None, 25, 25, 512)       0         \n",
            "_________________________________________________________________\n",
            "tf.nn.bias_add_28 (TFOpLambd (None, 25, 25, 512)       0         \n",
            "_________________________________________________________________\n",
            "tf.nn.relu_28 (TFOpLambda)   (None, 25, 25, 512)       0         \n",
            "_________________________________________________________________\n",
            "tf.nn.convolution_29 (TFOpLa (None, 25, 25, 512)       0         \n",
            "_________________________________________________________________\n",
            "tf.nn.bias_add_29 (TFOpLambd (None, 25, 25, 512)       0         \n",
            "_________________________________________________________________\n",
            "tf.nn.relu_29 (TFOpLambda)   (None, 25, 25, 512)       0         \n",
            "_________________________________________________________________\n",
            "tf.nn.convolution_30 (TFOpLa (None, 25, 25, 512)       0         \n",
            "_________________________________________________________________\n",
            "tf.nn.bias_add_30 (TFOpLambd (None, 25, 25, 512)       0         \n",
            "_________________________________________________________________\n",
            "tf.nn.relu_30 (TFOpLambda)   (None, 25, 25, 512)       0         \n",
            "_________________________________________________________________\n",
            "tf.nn.convolution_31 (TFOpLa (None, 25, 25, 512)       0         \n",
            "_________________________________________________________________\n",
            "tf.nn.bias_add_31 (TFOpLambd (None, 25, 25, 512)       0         \n",
            "_________________________________________________________________\n",
            "tf.nn.relu_31 (TFOpLambda)   (None, 25, 25, 512)       0         \n",
            "_________________________________________________________________\n",
            "tf.compat.v1.nn.max_pool_9 ( (None, 12, 12, 512)       0         \n",
            "_________________________________________________________________\n",
            "global_average_pooling2d_1 ( (None, 512)               0         \n",
            "_________________________________________________________________\n",
            "dropout_2 (Dropout)          (None, 512)               0         \n",
            "_________________________________________________________________\n",
            "flatten_1 (Flatten)          (None, 512)               0         \n",
            "_________________________________________________________________\n",
            "dense_2 (Dense)              (None, 128)               65664     \n",
            "_________________________________________________________________\n",
            "dropout_3 (Dropout)          (None, 128)               0         \n",
            "_________________________________________________________________\n",
            "batch_normalization_1 (Batch (None, 128)               512       \n",
            "_________________________________________________________________\n",
            "dense_3 (Dense)              (None, 64)                8256      \n",
            "=================================================================\n",
            "Total params: 74,432\n",
            "Trainable params: 74,176\n",
            "Non-trainable params: 256\n",
            "_________________________________________________________________\n"
          ],
          "name": "stdout"
        }
      ]
    },
    {
      "cell_type": "code",
      "metadata": {
        "colab": {
          "base_uri": "https://localhost:8080/"
        },
        "id": "nt_otxCOSXms",
        "outputId": "81aa2311-50df-4225-c35c-162fbdb2bfee"
      },
      "source": [
        "model.fit(training_set, epochs=70)"
      ],
      "execution_count": null,
      "outputs": [
        {
          "output_type": "stream",
          "text": [
            "Epoch 1/70\n",
            "97/97 [==============================] - 56s 560ms/step - loss: 4.1766 - accuracy: 0.0426\n",
            "Epoch 2/70\n",
            "97/97 [==============================] - 55s 564ms/step - loss: 3.5091 - accuracy: 0.1252\n",
            "Epoch 3/70\n",
            "97/97 [==============================] - 57s 577ms/step - loss: 3.1543 - accuracy: 0.1881\n",
            "Epoch 4/70\n",
            "97/97 [==============================] - 56s 572ms/step - loss: 2.8553 - accuracy: 0.2300\n",
            "Epoch 5/70\n",
            "97/97 [==============================] - 56s 571ms/step - loss: 2.6449 - accuracy: 0.2665\n",
            "Epoch 6/70\n",
            "97/97 [==============================] - 56s 571ms/step - loss: 2.4560 - accuracy: 0.2945\n",
            "Epoch 7/70\n",
            "97/97 [==============================] - 57s 581ms/step - loss: 2.2874 - accuracy: 0.3387\n",
            "Epoch 8/70\n",
            "97/97 [==============================] - 58s 594ms/step - loss: 2.1927 - accuracy: 0.3584\n",
            "Epoch 9/70\n",
            "97/97 [==============================] - 57s 577ms/step - loss: 2.1095 - accuracy: 0.3648\n",
            "Epoch 10/70\n",
            "97/97 [==============================] - 56s 575ms/step - loss: 2.0008 - accuracy: 0.3903\n",
            "Epoch 11/70\n",
            "97/97 [==============================] - 57s 581ms/step - loss: 1.9072 - accuracy: 0.4210\n",
            "Epoch 12/70\n",
            "97/97 [==============================] - 57s 582ms/step - loss: 1.8636 - accuracy: 0.4303\n",
            "Epoch 13/70\n",
            "97/97 [==============================] - 57s 579ms/step - loss: 1.7990 - accuracy: 0.4332\n",
            "Epoch 14/70\n",
            "97/97 [==============================] - 56s 574ms/step - loss: 1.7642 - accuracy: 0.4471\n",
            "Epoch 15/70\n",
            "97/97 [==============================] - 57s 584ms/step - loss: 1.7476 - accuracy: 0.4516\n",
            "Epoch 16/70\n",
            "97/97 [==============================] - 57s 580ms/step - loss: 1.6992 - accuracy: 0.4690\n",
            "Epoch 17/70\n",
            "97/97 [==============================] - 57s 576ms/step - loss: 1.6198 - accuracy: 0.4823\n",
            "Epoch 18/70\n",
            "97/97 [==============================] - 56s 574ms/step - loss: 1.5932 - accuracy: 0.4894\n",
            "Epoch 19/70\n",
            "97/97 [==============================] - 56s 572ms/step - loss: 1.5713 - accuracy: 0.4935\n",
            "Epoch 20/70\n",
            "97/97 [==============================] - 56s 573ms/step - loss: 1.5381 - accuracy: 0.5052\n",
            "Epoch 21/70\n",
            "97/97 [==============================] - 56s 573ms/step - loss: 1.5329 - accuracy: 0.5003\n",
            "Epoch 22/70\n",
            "97/97 [==============================] - 57s 582ms/step - loss: 1.5228 - accuracy: 0.5123\n",
            "Epoch 23/70\n",
            "97/97 [==============================] - 57s 583ms/step - loss: 1.5252 - accuracy: 0.4977\n",
            "Epoch 24/70\n",
            "97/97 [==============================] - 58s 587ms/step - loss: 1.4557 - accuracy: 0.5239\n",
            "Epoch 25/70\n",
            "97/97 [==============================] - 57s 581ms/step - loss: 1.4469 - accuracy: 0.5219\n",
            "Epoch 26/70\n",
            "97/97 [==============================] - 56s 575ms/step - loss: 1.4444 - accuracy: 0.5190\n",
            "Epoch 27/70\n",
            "97/97 [==============================] - 57s 582ms/step - loss: 1.4247 - accuracy: 0.5300\n",
            "Epoch 28/70\n",
            "97/97 [==============================] - 57s 583ms/step - loss: 1.4140 - accuracy: 0.5297\n",
            "Epoch 29/70\n",
            "97/97 [==============================] - 57s 586ms/step - loss: 1.3939 - accuracy: 0.5384\n",
            "Epoch 30/70\n",
            "97/97 [==============================] - 58s 587ms/step - loss: 1.3869 - accuracy: 0.5381\n",
            "Epoch 31/70\n",
            "97/97 [==============================] - 57s 581ms/step - loss: 1.4031 - accuracy: 0.5281\n",
            "Epoch 32/70\n",
            "97/97 [==============================] - 57s 576ms/step - loss: 1.3759 - accuracy: 0.5403\n",
            "Epoch 33/70\n",
            "97/97 [==============================] - 56s 573ms/step - loss: 1.3418 - accuracy: 0.5555\n",
            "Epoch 34/70\n",
            "97/97 [==============================] - 57s 584ms/step - loss: 1.3174 - accuracy: 0.5597\n",
            "Epoch 35/70\n",
            "97/97 [==============================] - 57s 585ms/step - loss: 1.3347 - accuracy: 0.5548\n",
            "Epoch 36/70\n",
            "97/97 [==============================] - 57s 577ms/step - loss: 1.2953 - accuracy: 0.5639\n",
            "Epoch 37/70\n",
            "97/97 [==============================] - 56s 574ms/step - loss: 1.3060 - accuracy: 0.5677\n",
            "Epoch 38/70\n",
            "97/97 [==============================] - 56s 574ms/step - loss: 1.2958 - accuracy: 0.5652\n",
            "Epoch 39/70\n",
            "97/97 [==============================] - 60s 609ms/step - loss: 1.2925 - accuracy: 0.5665\n",
            "Epoch 40/70\n",
            "97/97 [==============================] - 58s 593ms/step - loss: 1.2851 - accuracy: 0.5635\n",
            "Epoch 41/70\n",
            "97/97 [==============================] - 57s 582ms/step - loss: 1.2652 - accuracy: 0.5774\n",
            "Epoch 42/70\n",
            "97/97 [==============================] - 58s 587ms/step - loss: 1.2650 - accuracy: 0.5761\n",
            "Epoch 43/70\n",
            "97/97 [==============================] - 57s 585ms/step - loss: 1.2509 - accuracy: 0.5884\n",
            "Epoch 44/70\n",
            "97/97 [==============================] - 58s 587ms/step - loss: 1.2594 - accuracy: 0.5681\n",
            "Epoch 45/70\n",
            "97/97 [==============================] - 57s 586ms/step - loss: 1.2592 - accuracy: 0.5806\n",
            "Epoch 46/70\n",
            "97/97 [==============================] - 57s 586ms/step - loss: 1.2585 - accuracy: 0.5716\n",
            "Epoch 47/70\n",
            "97/97 [==============================] - 57s 582ms/step - loss: 1.2318 - accuracy: 0.5732\n",
            "Epoch 48/70\n",
            "97/97 [==============================] - 57s 580ms/step - loss: 1.2252 - accuracy: 0.5842\n",
            "Epoch 49/70\n",
            "97/97 [==============================] - 57s 578ms/step - loss: 1.2223 - accuracy: 0.5903\n",
            "Epoch 50/70\n",
            "97/97 [==============================] - 56s 575ms/step - loss: 1.2385 - accuracy: 0.5816\n",
            "Epoch 51/70\n",
            "97/97 [==============================] - 56s 574ms/step - loss: 1.2418 - accuracy: 0.5726\n",
            "Epoch 52/70\n",
            "97/97 [==============================] - 58s 587ms/step - loss: 1.1862 - accuracy: 0.5913\n",
            "Epoch 53/70\n",
            "97/97 [==============================] - 57s 578ms/step - loss: 1.2436 - accuracy: 0.5806\n",
            "Epoch 54/70\n",
            "97/97 [==============================] - 58s 587ms/step - loss: 1.2479 - accuracy: 0.5677\n",
            "Epoch 55/70\n",
            "97/97 [==============================] - 57s 582ms/step - loss: 1.2092 - accuracy: 0.5835\n",
            "Epoch 56/70\n",
            "97/97 [==============================] - 57s 578ms/step - loss: 1.2163 - accuracy: 0.5858\n",
            "Epoch 57/70\n",
            "97/97 [==============================] - 57s 576ms/step - loss: 1.1932 - accuracy: 0.5974\n",
            "Epoch 58/70\n",
            "97/97 [==============================] - 58s 589ms/step - loss: 1.1803 - accuracy: 0.6084\n",
            "Epoch 59/70\n",
            "97/97 [==============================] - 57s 580ms/step - loss: 1.2088 - accuracy: 0.5910\n",
            "Epoch 60/70\n",
            "97/97 [==============================] - 58s 593ms/step - loss: 1.1750 - accuracy: 0.5974\n",
            "Epoch 61/70\n",
            "97/97 [==============================] - 57s 577ms/step - loss: 1.1664 - accuracy: 0.6042\n",
            "Epoch 62/70\n",
            "97/97 [==============================] - 57s 577ms/step - loss: 1.1704 - accuracy: 0.5952\n",
            "Epoch 63/70\n",
            "97/97 [==============================] - 56s 574ms/step - loss: 1.1577 - accuracy: 0.6094\n",
            "Epoch 64/70\n",
            "97/97 [==============================] - 57s 575ms/step - loss: 1.1626 - accuracy: 0.5910\n",
            "Epoch 65/70\n",
            "97/97 [==============================] - 57s 579ms/step - loss: 1.1509 - accuracy: 0.5971\n",
            "Epoch 66/70\n",
            "97/97 [==============================] - 58s 591ms/step - loss: 1.1552 - accuracy: 0.5984\n",
            "Epoch 67/70\n",
            "97/97 [==============================] - 57s 578ms/step - loss: 1.1493 - accuracy: 0.6000\n",
            "Epoch 68/70\n",
            "97/97 [==============================] - 56s 574ms/step - loss: 1.1693 - accuracy: 0.5897\n",
            "Epoch 69/70\n",
            "97/97 [==============================] - 56s 573ms/step - loss: 1.1428 - accuracy: 0.6055\n",
            "Epoch 70/70\n",
            "97/97 [==============================] - 57s 584ms/step - loss: 1.1349 - accuracy: 0.6229\n"
          ],
          "name": "stdout"
        },
        {
          "output_type": "execute_result",
          "data": {
            "text/plain": [
              "<tensorflow.python.keras.callbacks.History at 0x7fd18ebe0510>"
            ]
          },
          "metadata": {
            "tags": []
          },
          "execution_count": 16
        }
      ]
    },
    {
      "cell_type": "code",
      "metadata": {
        "colab": {
          "base_uri": "https://localhost:8080/"
        },
        "id": "CwQu42GYmMn9",
        "outputId": "c964aee4-2a06-4a46-924b-45a6cca16025"
      },
      "source": [
        "model.evaluate(valid_set, verbose=1) #160"
      ],
      "execution_count": null,
      "outputs": [
        {
          "output_type": "stream",
          "text": [
            "26/26 [==============================] - 23s 554ms/step - loss: 1.2025 - accuracy: 0.5711\n"
          ],
          "name": "stdout"
        },
        {
          "output_type": "execute_result",
          "data": {
            "text/plain": [
              "[1.2025425434112549, 0.5710813999176025]"
            ]
          },
          "metadata": {
            "tags": []
          },
          "execution_count": 18
        }
      ]
    },
    {
      "cell_type": "code",
      "metadata": {
        "colab": {
          "base_uri": "https://localhost:8080/"
        },
        "id": "6ZeyllM7mMoJ",
        "outputId": "35df04d5-a7a5-4bc3-d430-2fb3ed2c6cf8"
      },
      "source": [
        "model.evaluate(testing_set, verbose=1) #160"
      ],
      "execution_count": null,
      "outputs": [
        {
          "output_type": "stream",
          "text": [
            "25/25 [==============================] - 20s 582ms/step - loss: 1.1398 - accuracy: 0.6212\n"
          ],
          "name": "stdout"
        },
        {
          "output_type": "execute_result",
          "data": {
            "text/plain": [
              "[1.1398231983184814, 0.6212499737739563]"
            ]
          },
          "metadata": {
            "tags": []
          },
          "execution_count": 19
        }
      ]
    },
    {
      "cell_type": "code",
      "metadata": {
        "id": "jfICIHvKmMoK"
      },
      "source": [
        "import os\n",
        "weights_dir = 'weights/article'\n",
        "# Save model weights\n",
        "model.save_weights(os.path.join(weights_dir, 'vgg19-half-froze.h5'))"
      ],
      "execution_count": null,
      "outputs": []
    },
    {
      "cell_type": "markdown",
      "metadata": {
        "id": "DdOfgOKiHH1F"
      },
      "source": [
        "### VGG-19 Freeze a fourth of the layers"
      ]
    },
    {
      "cell_type": "code",
      "metadata": {
        "colab": {
          "base_uri": "https://localhost:8080/"
        },
        "id": "7qT4_oOCmY3m",
        "outputId": "0f9880d5-c125-4b25-b632-94d1288803c5"
      },
      "source": [
        "vgg = VGG19(include_top=False, weights=\"imagenet\", input_shape=(img_size, img_size, channels))\n",
        "vgg.trainable = True\n",
        "base_model = vgg\n",
        "\n",
        "len = len(base_model.layers) // 4\n",
        "\n",
        "# freeze layers\n",
        "for layer in base_model.layers[:len]:\n",
        "    layer.trainable = False\n",
        "\n",
        "\n",
        "inputs = tf.keras.Input(shape=(img_size, img_size, channels))\n",
        "\n",
        "x = base_model(inputs, training=False)\n",
        "x = tf.keras.layers.GlobalAveragePooling2D()(x)\n",
        "x = tf.keras.layers.Dropout(0.2)(x)\n",
        "x = keras.layers.Flatten()(x)\n",
        "X = keras.layers.Dense(128, activation='relu')(x)\n",
        "X = keras.layers.Dropout(0.5)(X)\n",
        "X = keras.layers.BatchNormalization()(X)\n",
        "\n",
        "outputs = tf.keras.layers.Dense(64, activation=tf.keras.activations.softmax)(X)\n",
        "\n",
        "model = tf.keras.Model(inputs, outputs)\n",
        "model.summary()\n",
        "\n",
        "model.compile(loss='sparse_categorical_crossentropy', optimizer='adam', metrics=['accuracy'])"
      ],
      "execution_count": null,
      "outputs": [
        {
          "output_type": "stream",
          "text": [
            "WARNING:tensorflow:\n",
            "The following Variables were used a Lambda layer's call (tf.nn.convolution), but\n",
            "are not present in its tracked objects:\n",
            "  <tf.Variable 'block1_conv1/kernel:0' shape=(3, 3, 3, 64) dtype=float32>\n",
            "It is possible that this is intended behavior, but it is more likely\n",
            "an omission. This is a strong indication that this layer should be\n",
            "formulated as a subclassed Layer rather than a Lambda layer.\n",
            "WARNING:tensorflow:\n",
            "The following Variables were used a Lambda layer's call (tf.nn.bias_add), but\n",
            "are not present in its tracked objects:\n",
            "  <tf.Variable 'block1_conv1/bias:0' shape=(64,) dtype=float32>\n",
            "It is possible that this is intended behavior, but it is more likely\n",
            "an omission. This is a strong indication that this layer should be\n",
            "formulated as a subclassed Layer rather than a Lambda layer.\n",
            "WARNING:tensorflow:\n",
            "The following Variables were used a Lambda layer's call (tf.nn.convolution_1), but\n",
            "are not present in its tracked objects:\n",
            "  <tf.Variable 'block1_conv2/kernel:0' shape=(3, 3, 64, 64) dtype=float32>\n",
            "It is possible that this is intended behavior, but it is more likely\n",
            "an omission. This is a strong indication that this layer should be\n",
            "formulated as a subclassed Layer rather than a Lambda layer.\n",
            "WARNING:tensorflow:\n",
            "The following Variables were used a Lambda layer's call (tf.nn.bias_add_1), but\n",
            "are not present in its tracked objects:\n",
            "  <tf.Variable 'block1_conv2/bias:0' shape=(64,) dtype=float32>\n",
            "It is possible that this is intended behavior, but it is more likely\n",
            "an omission. This is a strong indication that this layer should be\n",
            "formulated as a subclassed Layer rather than a Lambda layer.\n",
            "WARNING:tensorflow:\n",
            "The following Variables were used a Lambda layer's call (tf.nn.convolution_2), but\n",
            "are not present in its tracked objects:\n",
            "  <tf.Variable 'block2_conv1/kernel:0' shape=(3, 3, 64, 128) dtype=float32>\n",
            "It is possible that this is intended behavior, but it is more likely\n",
            "an omission. This is a strong indication that this layer should be\n",
            "formulated as a subclassed Layer rather than a Lambda layer.\n",
            "WARNING:tensorflow:\n",
            "The following Variables were used a Lambda layer's call (tf.nn.bias_add_2), but\n",
            "are not present in its tracked objects:\n",
            "  <tf.Variable 'block2_conv1/bias:0' shape=(128,) dtype=float32>\n",
            "It is possible that this is intended behavior, but it is more likely\n",
            "an omission. This is a strong indication that this layer should be\n",
            "formulated as a subclassed Layer rather than a Lambda layer.\n",
            "WARNING:tensorflow:\n",
            "The following Variables were used a Lambda layer's call (tf.nn.convolution_3), but\n",
            "are not present in its tracked objects:\n",
            "  <tf.Variable 'block2_conv2/kernel:0' shape=(3, 3, 128, 128) dtype=float32>\n",
            "It is possible that this is intended behavior, but it is more likely\n",
            "an omission. This is a strong indication that this layer should be\n",
            "formulated as a subclassed Layer rather than a Lambda layer.\n",
            "WARNING:tensorflow:\n",
            "The following Variables were used a Lambda layer's call (tf.nn.bias_add_3), but\n",
            "are not present in its tracked objects:\n",
            "  <tf.Variable 'block2_conv2/bias:0' shape=(128,) dtype=float32>\n",
            "It is possible that this is intended behavior, but it is more likely\n",
            "an omission. This is a strong indication that this layer should be\n",
            "formulated as a subclassed Layer rather than a Lambda layer.\n",
            "WARNING:tensorflow:\n",
            "The following Variables were used a Lambda layer's call (tf.nn.convolution_4), but\n",
            "are not present in its tracked objects:\n",
            "  <tf.Variable 'block3_conv1/kernel:0' shape=(3, 3, 128, 256) dtype=float32>\n",
            "It is possible that this is intended behavior, but it is more likely\n",
            "an omission. This is a strong indication that this layer should be\n",
            "formulated as a subclassed Layer rather than a Lambda layer.\n",
            "WARNING:tensorflow:\n",
            "The following Variables were used a Lambda layer's call (tf.nn.bias_add_4), but\n",
            "are not present in its tracked objects:\n",
            "  <tf.Variable 'block3_conv1/bias:0' shape=(256,) dtype=float32>\n",
            "It is possible that this is intended behavior, but it is more likely\n",
            "an omission. This is a strong indication that this layer should be\n",
            "formulated as a subclassed Layer rather than a Lambda layer.\n",
            "WARNING:tensorflow:\n",
            "The following Variables were used a Lambda layer's call (tf.nn.convolution_5), but\n",
            "are not present in its tracked objects:\n",
            "  <tf.Variable 'block3_conv2/kernel:0' shape=(3, 3, 256, 256) dtype=float32>\n",
            "It is possible that this is intended behavior, but it is more likely\n",
            "an omission. This is a strong indication that this layer should be\n",
            "formulated as a subclassed Layer rather than a Lambda layer.\n",
            "WARNING:tensorflow:\n",
            "The following Variables were used a Lambda layer's call (tf.nn.bias_add_5), but\n",
            "are not present in its tracked objects:\n",
            "  <tf.Variable 'block3_conv2/bias:0' shape=(256,) dtype=float32>\n",
            "It is possible that this is intended behavior, but it is more likely\n",
            "an omission. This is a strong indication that this layer should be\n",
            "formulated as a subclassed Layer rather than a Lambda layer.\n",
            "WARNING:tensorflow:\n",
            "The following Variables were used a Lambda layer's call (tf.nn.convolution_6), but\n",
            "are not present in its tracked objects:\n",
            "  <tf.Variable 'block3_conv3/kernel:0' shape=(3, 3, 256, 256) dtype=float32>\n",
            "It is possible that this is intended behavior, but it is more likely\n",
            "an omission. This is a strong indication that this layer should be\n",
            "formulated as a subclassed Layer rather than a Lambda layer.\n",
            "WARNING:tensorflow:\n",
            "The following Variables were used a Lambda layer's call (tf.nn.bias_add_6), but\n",
            "are not present in its tracked objects:\n",
            "  <tf.Variable 'block3_conv3/bias:0' shape=(256,) dtype=float32>\n",
            "It is possible that this is intended behavior, but it is more likely\n",
            "an omission. This is a strong indication that this layer should be\n",
            "formulated as a subclassed Layer rather than a Lambda layer.\n",
            "WARNING:tensorflow:\n",
            "The following Variables were used a Lambda layer's call (tf.nn.convolution_7), but\n",
            "are not present in its tracked objects:\n",
            "  <tf.Variable 'block3_conv4/kernel:0' shape=(3, 3, 256, 256) dtype=float32>\n",
            "It is possible that this is intended behavior, but it is more likely\n",
            "an omission. This is a strong indication that this layer should be\n",
            "formulated as a subclassed Layer rather than a Lambda layer.\n",
            "WARNING:tensorflow:\n",
            "The following Variables were used a Lambda layer's call (tf.nn.bias_add_7), but\n",
            "are not present in its tracked objects:\n",
            "  <tf.Variable 'block3_conv4/bias:0' shape=(256,) dtype=float32>\n",
            "It is possible that this is intended behavior, but it is more likely\n",
            "an omission. This is a strong indication that this layer should be\n",
            "formulated as a subclassed Layer rather than a Lambda layer.\n",
            "WARNING:tensorflow:\n",
            "The following Variables were used a Lambda layer's call (tf.nn.convolution_8), but\n",
            "are not present in its tracked objects:\n",
            "  <tf.Variable 'block4_conv1/kernel:0' shape=(3, 3, 256, 512) dtype=float32>\n",
            "It is possible that this is intended behavior, but it is more likely\n",
            "an omission. This is a strong indication that this layer should be\n",
            "formulated as a subclassed Layer rather than a Lambda layer.\n",
            "WARNING:tensorflow:\n",
            "The following Variables were used a Lambda layer's call (tf.nn.bias_add_8), but\n",
            "are not present in its tracked objects:\n",
            "  <tf.Variable 'block4_conv1/bias:0' shape=(512,) dtype=float32>\n",
            "It is possible that this is intended behavior, but it is more likely\n",
            "an omission. This is a strong indication that this layer should be\n",
            "formulated as a subclassed Layer rather than a Lambda layer.\n",
            "WARNING:tensorflow:\n",
            "The following Variables were used a Lambda layer's call (tf.nn.convolution_9), but\n",
            "are not present in its tracked objects:\n",
            "  <tf.Variable 'block4_conv2/kernel:0' shape=(3, 3, 512, 512) dtype=float32>\n",
            "It is possible that this is intended behavior, but it is more likely\n",
            "an omission. This is a strong indication that this layer should be\n",
            "formulated as a subclassed Layer rather than a Lambda layer.\n",
            "WARNING:tensorflow:\n",
            "The following Variables were used a Lambda layer's call (tf.nn.bias_add_9), but\n",
            "are not present in its tracked objects:\n",
            "  <tf.Variable 'block4_conv2/bias:0' shape=(512,) dtype=float32>\n",
            "It is possible that this is intended behavior, but it is more likely\n",
            "an omission. This is a strong indication that this layer should be\n",
            "formulated as a subclassed Layer rather than a Lambda layer.\n",
            "WARNING:tensorflow:\n",
            "The following Variables were used a Lambda layer's call (tf.nn.convolution_10), but\n",
            "are not present in its tracked objects:\n",
            "  <tf.Variable 'block4_conv3/kernel:0' shape=(3, 3, 512, 512) dtype=float32>\n",
            "It is possible that this is intended behavior, but it is more likely\n",
            "an omission. This is a strong indication that this layer should be\n",
            "formulated as a subclassed Layer rather than a Lambda layer.\n",
            "WARNING:tensorflow:\n",
            "The following Variables were used a Lambda layer's call (tf.nn.bias_add_10), but\n",
            "are not present in its tracked objects:\n",
            "  <tf.Variable 'block4_conv3/bias:0' shape=(512,) dtype=float32>\n",
            "It is possible that this is intended behavior, but it is more likely\n",
            "an omission. This is a strong indication that this layer should be\n",
            "formulated as a subclassed Layer rather than a Lambda layer.\n",
            "WARNING:tensorflow:\n",
            "The following Variables were used a Lambda layer's call (tf.nn.convolution_11), but\n",
            "are not present in its tracked objects:\n",
            "  <tf.Variable 'block4_conv4/kernel:0' shape=(3, 3, 512, 512) dtype=float32>\n",
            "It is possible that this is intended behavior, but it is more likely\n",
            "an omission. This is a strong indication that this layer should be\n",
            "formulated as a subclassed Layer rather than a Lambda layer.\n",
            "WARNING:tensorflow:\n",
            "The following Variables were used a Lambda layer's call (tf.nn.bias_add_11), but\n",
            "are not present in its tracked objects:\n",
            "  <tf.Variable 'block4_conv4/bias:0' shape=(512,) dtype=float32>\n",
            "It is possible that this is intended behavior, but it is more likely\n",
            "an omission. This is a strong indication that this layer should be\n",
            "formulated as a subclassed Layer rather than a Lambda layer.\n",
            "WARNING:tensorflow:\n",
            "The following Variables were used a Lambda layer's call (tf.nn.convolution_12), but\n",
            "are not present in its tracked objects:\n",
            "  <tf.Variable 'block5_conv1/kernel:0' shape=(3, 3, 512, 512) dtype=float32>\n",
            "It is possible that this is intended behavior, but it is more likely\n",
            "an omission. This is a strong indication that this layer should be\n",
            "formulated as a subclassed Layer rather than a Lambda layer.\n",
            "WARNING:tensorflow:\n",
            "The following Variables were used a Lambda layer's call (tf.nn.bias_add_12), but\n",
            "are not present in its tracked objects:\n",
            "  <tf.Variable 'block5_conv1/bias:0' shape=(512,) dtype=float32>\n",
            "It is possible that this is intended behavior, but it is more likely\n",
            "an omission. This is a strong indication that this layer should be\n",
            "formulated as a subclassed Layer rather than a Lambda layer.\n",
            "WARNING:tensorflow:\n",
            "The following Variables were used a Lambda layer's call (tf.nn.convolution_13), but\n",
            "are not present in its tracked objects:\n",
            "  <tf.Variable 'block5_conv2/kernel:0' shape=(3, 3, 512, 512) dtype=float32>\n",
            "It is possible that this is intended behavior, but it is more likely\n",
            "an omission. This is a strong indication that this layer should be\n",
            "formulated as a subclassed Layer rather than a Lambda layer.\n",
            "WARNING:tensorflow:\n",
            "The following Variables were used a Lambda layer's call (tf.nn.bias_add_13), but\n",
            "are not present in its tracked objects:\n",
            "  <tf.Variable 'block5_conv2/bias:0' shape=(512,) dtype=float32>\n",
            "It is possible that this is intended behavior, but it is more likely\n",
            "an omission. This is a strong indication that this layer should be\n",
            "formulated as a subclassed Layer rather than a Lambda layer.\n",
            "WARNING:tensorflow:\n",
            "The following Variables were used a Lambda layer's call (tf.nn.convolution_14), but\n",
            "are not present in its tracked objects:\n",
            "  <tf.Variable 'block5_conv3/kernel:0' shape=(3, 3, 512, 512) dtype=float32>\n",
            "It is possible that this is intended behavior, but it is more likely\n",
            "an omission. This is a strong indication that this layer should be\n",
            "formulated as a subclassed Layer rather than a Lambda layer.\n",
            "WARNING:tensorflow:\n",
            "The following Variables were used a Lambda layer's call (tf.nn.bias_add_14), but\n",
            "are not present in its tracked objects:\n",
            "  <tf.Variable 'block5_conv3/bias:0' shape=(512,) dtype=float32>\n",
            "It is possible that this is intended behavior, but it is more likely\n",
            "an omission. This is a strong indication that this layer should be\n",
            "formulated as a subclassed Layer rather than a Lambda layer.\n",
            "WARNING:tensorflow:\n",
            "The following Variables were used a Lambda layer's call (tf.nn.convolution_15), but\n",
            "are not present in its tracked objects:\n",
            "  <tf.Variable 'block5_conv4/kernel:0' shape=(3, 3, 512, 512) dtype=float32>\n",
            "It is possible that this is intended behavior, but it is more likely\n",
            "an omission. This is a strong indication that this layer should be\n",
            "formulated as a subclassed Layer rather than a Lambda layer.\n",
            "WARNING:tensorflow:\n",
            "The following Variables were used a Lambda layer's call (tf.nn.bias_add_15), but\n",
            "are not present in its tracked objects:\n",
            "  <tf.Variable 'block5_conv4/bias:0' shape=(512,) dtype=float32>\n",
            "It is possible that this is intended behavior, but it is more likely\n",
            "an omission. This is a strong indication that this layer should be\n",
            "formulated as a subclassed Layer rather than a Lambda layer.\n",
            "Model: \"model\"\n",
            "_________________________________________________________________\n",
            "Layer (type)                 Output Shape              Param #   \n",
            "=================================================================\n",
            "input_1 (InputLayer)         [(None, 400, 400, 3)]     0         \n",
            "_________________________________________________________________\n",
            "tf.nn.convolution (TFOpLambd (None, 400, 400, 64)      0         \n",
            "_________________________________________________________________\n",
            "tf.nn.bias_add (TFOpLambda)  (None, 400, 400, 64)      0         \n",
            "_________________________________________________________________\n",
            "tf.nn.relu (TFOpLambda)      (None, 400, 400, 64)      0         \n",
            "_________________________________________________________________\n",
            "tf.nn.convolution_1 (TFOpLam (None, 400, 400, 64)      0         \n",
            "_________________________________________________________________\n",
            "tf.nn.bias_add_1 (TFOpLambda (None, 400, 400, 64)      0         \n",
            "_________________________________________________________________\n",
            "tf.nn.relu_1 (TFOpLambda)    (None, 400, 400, 64)      0         \n",
            "_________________________________________________________________\n",
            "tf.compat.v1.nn.max_pool (TF (None, 200, 200, 64)      0         \n",
            "_________________________________________________________________\n",
            "tf.nn.convolution_2 (TFOpLam (None, 200, 200, 128)     0         \n",
            "_________________________________________________________________\n",
            "tf.nn.bias_add_2 (TFOpLambda (None, 200, 200, 128)     0         \n",
            "_________________________________________________________________\n",
            "tf.nn.relu_2 (TFOpLambda)    (None, 200, 200, 128)     0         \n",
            "_________________________________________________________________\n",
            "tf.nn.convolution_3 (TFOpLam (None, 200, 200, 128)     0         \n",
            "_________________________________________________________________\n",
            "tf.nn.bias_add_3 (TFOpLambda (None, 200, 200, 128)     0         \n",
            "_________________________________________________________________\n",
            "tf.nn.relu_3 (TFOpLambda)    (None, 200, 200, 128)     0         \n",
            "_________________________________________________________________\n",
            "tf.compat.v1.nn.max_pool_1 ( (None, 100, 100, 128)     0         \n",
            "_________________________________________________________________\n",
            "tf.nn.convolution_4 (TFOpLam (None, 100, 100, 256)     0         \n",
            "_________________________________________________________________\n",
            "tf.nn.bias_add_4 (TFOpLambda (None, 100, 100, 256)     0         \n",
            "_________________________________________________________________\n",
            "tf.nn.relu_4 (TFOpLambda)    (None, 100, 100, 256)     0         \n",
            "_________________________________________________________________\n",
            "tf.nn.convolution_5 (TFOpLam (None, 100, 100, 256)     0         \n",
            "_________________________________________________________________\n",
            "tf.nn.bias_add_5 (TFOpLambda (None, 100, 100, 256)     0         \n",
            "_________________________________________________________________\n",
            "tf.nn.relu_5 (TFOpLambda)    (None, 100, 100, 256)     0         \n",
            "_________________________________________________________________\n",
            "tf.nn.convolution_6 (TFOpLam (None, 100, 100, 256)     0         \n",
            "_________________________________________________________________\n",
            "tf.nn.bias_add_6 (TFOpLambda (None, 100, 100, 256)     0         \n",
            "_________________________________________________________________\n",
            "tf.nn.relu_6 (TFOpLambda)    (None, 100, 100, 256)     0         \n",
            "_________________________________________________________________\n",
            "tf.nn.convolution_7 (TFOpLam (None, 100, 100, 256)     0         \n",
            "_________________________________________________________________\n",
            "tf.nn.bias_add_7 (TFOpLambda (None, 100, 100, 256)     0         \n",
            "_________________________________________________________________\n",
            "tf.nn.relu_7 (TFOpLambda)    (None, 100, 100, 256)     0         \n",
            "_________________________________________________________________\n",
            "tf.compat.v1.nn.max_pool_2 ( (None, 50, 50, 256)       0         \n",
            "_________________________________________________________________\n",
            "tf.nn.convolution_8 (TFOpLam (None, 50, 50, 512)       0         \n",
            "_________________________________________________________________\n",
            "tf.nn.bias_add_8 (TFOpLambda (None, 50, 50, 512)       0         \n",
            "_________________________________________________________________\n",
            "tf.nn.relu_8 (TFOpLambda)    (None, 50, 50, 512)       0         \n",
            "_________________________________________________________________\n",
            "tf.nn.convolution_9 (TFOpLam (None, 50, 50, 512)       0         \n",
            "_________________________________________________________________\n",
            "tf.nn.bias_add_9 (TFOpLambda (None, 50, 50, 512)       0         \n",
            "_________________________________________________________________\n",
            "tf.nn.relu_9 (TFOpLambda)    (None, 50, 50, 512)       0         \n",
            "_________________________________________________________________\n",
            "tf.nn.convolution_10 (TFOpLa (None, 50, 50, 512)       0         \n",
            "_________________________________________________________________\n",
            "tf.nn.bias_add_10 (TFOpLambd (None, 50, 50, 512)       0         \n",
            "_________________________________________________________________\n",
            "tf.nn.relu_10 (TFOpLambda)   (None, 50, 50, 512)       0         \n",
            "_________________________________________________________________\n",
            "tf.nn.convolution_11 (TFOpLa (None, 50, 50, 512)       0         \n",
            "_________________________________________________________________\n",
            "tf.nn.bias_add_11 (TFOpLambd (None, 50, 50, 512)       0         \n",
            "_________________________________________________________________\n",
            "tf.nn.relu_11 (TFOpLambda)   (None, 50, 50, 512)       0         \n",
            "_________________________________________________________________\n",
            "tf.compat.v1.nn.max_pool_3 ( (None, 25, 25, 512)       0         \n",
            "_________________________________________________________________\n",
            "tf.nn.convolution_12 (TFOpLa (None, 25, 25, 512)       0         \n",
            "_________________________________________________________________\n",
            "tf.nn.bias_add_12 (TFOpLambd (None, 25, 25, 512)       0         \n",
            "_________________________________________________________________\n",
            "tf.nn.relu_12 (TFOpLambda)   (None, 25, 25, 512)       0         \n",
            "_________________________________________________________________\n",
            "tf.nn.convolution_13 (TFOpLa (None, 25, 25, 512)       0         \n",
            "_________________________________________________________________\n",
            "tf.nn.bias_add_13 (TFOpLambd (None, 25, 25, 512)       0         \n",
            "_________________________________________________________________\n",
            "tf.nn.relu_13 (TFOpLambda)   (None, 25, 25, 512)       0         \n",
            "_________________________________________________________________\n",
            "tf.nn.convolution_14 (TFOpLa (None, 25, 25, 512)       0         \n",
            "_________________________________________________________________\n",
            "tf.nn.bias_add_14 (TFOpLambd (None, 25, 25, 512)       0         \n",
            "_________________________________________________________________\n",
            "tf.nn.relu_14 (TFOpLambda)   (None, 25, 25, 512)       0         \n",
            "_________________________________________________________________\n",
            "tf.nn.convolution_15 (TFOpLa (None, 25, 25, 512)       0         \n",
            "_________________________________________________________________\n",
            "tf.nn.bias_add_15 (TFOpLambd (None, 25, 25, 512)       0         \n",
            "_________________________________________________________________\n",
            "tf.nn.relu_15 (TFOpLambda)   (None, 25, 25, 512)       0         \n",
            "_________________________________________________________________\n",
            "tf.compat.v1.nn.max_pool_4 ( (None, 12, 12, 512)       0         \n",
            "_________________________________________________________________\n",
            "global_average_pooling2d (Gl (None, 512)               0         \n",
            "_________________________________________________________________\n",
            "dropout (Dropout)            (None, 512)               0         \n",
            "_________________________________________________________________\n",
            "flatten (Flatten)            (None, 512)               0         \n",
            "_________________________________________________________________\n",
            "dense (Dense)                (None, 128)               65664     \n",
            "_________________________________________________________________\n",
            "dropout_1 (Dropout)          (None, 128)               0         \n",
            "_________________________________________________________________\n",
            "batch_normalization (BatchNo (None, 128)               512       \n",
            "_________________________________________________________________\n",
            "dense_1 (Dense)              (None, 64)                8256      \n",
            "=================================================================\n",
            "Total params: 74,432\n",
            "Trainable params: 74,176\n",
            "Non-trainable params: 256\n",
            "_________________________________________________________________\n"
          ],
          "name": "stdout"
        }
      ]
    },
    {
      "cell_type": "code",
      "metadata": {
        "colab": {
          "base_uri": "https://localhost:8080/"
        },
        "id": "RaW72fHmmqw1",
        "outputId": "2ca44a77-e1e3-4bf4-ab70-0f288d1f2ff3"
      },
      "source": [
        "model.fit(training_set, epochs=70)"
      ],
      "execution_count": null,
      "outputs": [
        {
          "output_type": "stream",
          "text": [
            "Epoch 1/70\n",
            "97/97 [==============================] - 85s 710ms/step - loss: 4.1722 - accuracy: 0.0545\n",
            "Epoch 2/70\n",
            "97/97 [==============================] - 56s 566ms/step - loss: 3.5033 - accuracy: 0.1252\n",
            "Epoch 3/70\n",
            "97/97 [==============================] - 57s 580ms/step - loss: 3.0933 - accuracy: 0.1906\n",
            "Epoch 4/70\n",
            "97/97 [==============================] - 58s 591ms/step - loss: 2.8175 - accuracy: 0.2432\n",
            "Epoch 5/70\n",
            "97/97 [==============================] - 57s 580ms/step - loss: 2.6011 - accuracy: 0.2739\n",
            "Epoch 6/70\n",
            "97/97 [==============================] - 58s 590ms/step - loss: 2.4214 - accuracy: 0.3171\n",
            "Epoch 7/70\n",
            "97/97 [==============================] - 58s 589ms/step - loss: 2.2601 - accuracy: 0.3419\n",
            "Epoch 8/70\n",
            "97/97 [==============================] - 59s 602ms/step - loss: 2.1605 - accuracy: 0.3723\n",
            "Epoch 9/70\n",
            "97/97 [==============================] - 58s 588ms/step - loss: 2.0626 - accuracy: 0.3871\n",
            "Epoch 10/70\n",
            "97/97 [==============================] - 58s 587ms/step - loss: 1.9453 - accuracy: 0.4052\n",
            "Epoch 11/70\n",
            "97/97 [==============================] - 57s 580ms/step - loss: 1.8882 - accuracy: 0.4142\n",
            "Epoch 12/70\n",
            "97/97 [==============================] - 58s 590ms/step - loss: 1.8600 - accuracy: 0.4261\n",
            "Epoch 13/70\n",
            "97/97 [==============================] - 58s 592ms/step - loss: 1.7755 - accuracy: 0.4435\n",
            "Epoch 14/70\n",
            "97/97 [==============================] - 59s 600ms/step - loss: 1.7042 - accuracy: 0.4710\n",
            "Epoch 15/70\n",
            "97/97 [==============================] - 58s 592ms/step - loss: 1.6805 - accuracy: 0.4765\n",
            "Epoch 16/70\n",
            "97/97 [==============================] - 57s 585ms/step - loss: 1.6389 - accuracy: 0.4735\n",
            "Epoch 17/70\n",
            "97/97 [==============================] - 57s 578ms/step - loss: 1.6034 - accuracy: 0.4916\n",
            "Epoch 18/70\n",
            "97/97 [==============================] - 58s 591ms/step - loss: 1.5816 - accuracy: 0.5000\n",
            "Epoch 19/70\n",
            "97/97 [==============================] - 58s 591ms/step - loss: 1.5627 - accuracy: 0.4961\n",
            "Epoch 20/70\n",
            "97/97 [==============================] - 58s 594ms/step - loss: 1.5088 - accuracy: 0.5097\n",
            "Epoch 21/70\n",
            "97/97 [==============================] - 58s 591ms/step - loss: 1.4927 - accuracy: 0.5126\n",
            "Epoch 22/70\n",
            "97/97 [==============================] - 58s 594ms/step - loss: 1.4779 - accuracy: 0.5174\n",
            "Epoch 23/70\n",
            "97/97 [==============================] - 57s 583ms/step - loss: 1.4642 - accuracy: 0.5148\n",
            "Epoch 24/70\n",
            "97/97 [==============================] - 58s 591ms/step - loss: 1.4475 - accuracy: 0.5242\n",
            "Epoch 25/70\n",
            "97/97 [==============================] - 57s 575ms/step - loss: 1.4161 - accuracy: 0.5403\n",
            "Epoch 26/70\n",
            "97/97 [==============================] - 57s 575ms/step - loss: 1.4286 - accuracy: 0.5171\n",
            "Epoch 27/70\n",
            "97/97 [==============================] - 57s 577ms/step - loss: 1.4023 - accuracy: 0.5358\n",
            "Epoch 28/70\n",
            "97/97 [==============================] - 56s 575ms/step - loss: 1.3921 - accuracy: 0.5365\n",
            "Epoch 29/70\n",
            "97/97 [==============================] - 56s 573ms/step - loss: 1.3616 - accuracy: 0.5429\n",
            "Epoch 30/70\n",
            "97/97 [==============================] - 56s 573ms/step - loss: 1.3152 - accuracy: 0.5506\n",
            "Epoch 31/70\n",
            "97/97 [==============================] - 56s 572ms/step - loss: 1.3272 - accuracy: 0.5565\n",
            "Epoch 32/70\n",
            "97/97 [==============================] - 58s 596ms/step - loss: 1.3229 - accuracy: 0.5568\n",
            "Epoch 33/70\n",
            "97/97 [==============================] - 57s 577ms/step - loss: 1.3644 - accuracy: 0.5345\n",
            "Epoch 34/70\n",
            "97/97 [==============================] - 57s 581ms/step - loss: 1.3268 - accuracy: 0.5529\n",
            "Epoch 35/70\n",
            "97/97 [==============================] - 57s 577ms/step - loss: 1.3137 - accuracy: 0.5442\n",
            "Epoch 36/70\n",
            "97/97 [==============================] - 57s 579ms/step - loss: 1.3013 - accuracy: 0.5539\n",
            "Epoch 37/70\n",
            "97/97 [==============================] - 57s 582ms/step - loss: 1.3127 - accuracy: 0.5513\n",
            "Epoch 38/70\n",
            "97/97 [==============================] - 57s 585ms/step - loss: 1.2948 - accuracy: 0.5645\n",
            "Epoch 39/70\n",
            "97/97 [==============================] - 59s 604ms/step - loss: 1.2410 - accuracy: 0.5777\n",
            "Epoch 40/70\n",
            "97/97 [==============================] - 59s 598ms/step - loss: 1.2773 - accuracy: 0.5713\n",
            "Epoch 41/70\n",
            "97/97 [==============================] - 57s 579ms/step - loss: 1.2915 - accuracy: 0.5626\n",
            "Epoch 42/70\n",
            "97/97 [==============================] - 57s 576ms/step - loss: 1.2946 - accuracy: 0.5652\n",
            "Epoch 43/70\n",
            "97/97 [==============================] - 57s 581ms/step - loss: 1.2608 - accuracy: 0.5668\n",
            "Epoch 44/70\n",
            "97/97 [==============================] - 57s 584ms/step - loss: 1.2479 - accuracy: 0.5774\n",
            "Epoch 45/70\n",
            "97/97 [==============================] - 59s 598ms/step - loss: 1.2624 - accuracy: 0.5729\n",
            "Epoch 46/70\n",
            "97/97 [==============================] - 57s 584ms/step - loss: 1.2375 - accuracy: 0.5826\n",
            "Epoch 47/70\n",
            "97/97 [==============================] - 57s 584ms/step - loss: 1.2430 - accuracy: 0.5661\n",
            "Epoch 48/70\n",
            "97/97 [==============================] - 57s 579ms/step - loss: 1.2559 - accuracy: 0.5690\n",
            "Epoch 49/70\n",
            "97/97 [==============================] - 57s 576ms/step - loss: 1.2210 - accuracy: 0.5897\n",
            "Epoch 50/70\n",
            "97/97 [==============================] - 57s 583ms/step - loss: 1.2358 - accuracy: 0.5655\n",
            "Epoch 51/70\n",
            "97/97 [==============================] - 57s 583ms/step - loss: 1.2239 - accuracy: 0.5819\n",
            "Epoch 52/70\n",
            "97/97 [==============================] - 58s 593ms/step - loss: 1.1902 - accuracy: 0.5884\n",
            "Epoch 53/70\n",
            "97/97 [==============================] - 58s 590ms/step - loss: 1.1266 - accuracy: 0.6103\n",
            "Epoch 54/70\n",
            "97/97 [==============================] - 58s 592ms/step - loss: 1.1499 - accuracy: 0.5984\n",
            "Epoch 55/70\n",
            "97/97 [==============================] - 57s 583ms/step - loss: 1.1681 - accuracy: 0.6003\n",
            "Epoch 56/70\n",
            "97/97 [==============================] - 57s 577ms/step - loss: 1.1591 - accuracy: 0.6097\n",
            "Epoch 57/70\n",
            "97/97 [==============================] - 57s 584ms/step - loss: 1.1937 - accuracy: 0.5819\n",
            "Epoch 58/70\n",
            "97/97 [==============================] - 57s 578ms/step - loss: 1.1856 - accuracy: 0.5903\n",
            "Epoch 59/70\n",
            "97/97 [==============================] - 57s 584ms/step - loss: 1.1651 - accuracy: 0.5923\n",
            "Epoch 60/70\n",
            "97/97 [==============================] - 57s 583ms/step - loss: 1.1697 - accuracy: 0.5874\n",
            "Epoch 61/70\n",
            "97/97 [==============================] - 57s 580ms/step - loss: 1.1641 - accuracy: 0.5958\n",
            "Epoch 62/70\n",
            "97/97 [==============================] - 57s 584ms/step - loss: 1.1734 - accuracy: 0.5935\n",
            "Epoch 63/70\n",
            "97/97 [==============================] - 59s 600ms/step - loss: 1.1427 - accuracy: 0.6032\n",
            "Epoch 64/70\n",
            "97/97 [==============================] - 59s 606ms/step - loss: 1.1347 - accuracy: 0.6029\n",
            "Epoch 65/70\n",
            "97/97 [==============================] - 57s 584ms/step - loss: 1.1790 - accuracy: 0.5919\n",
            "Epoch 66/70\n",
            "97/97 [==============================] - 57s 578ms/step - loss: 1.1613 - accuracy: 0.5994\n",
            "Epoch 67/70\n",
            "97/97 [==============================] - 58s 586ms/step - loss: 1.1522 - accuracy: 0.5997\n",
            "Epoch 68/70\n",
            "97/97 [==============================] - 57s 585ms/step - loss: 1.1541 - accuracy: 0.6094\n",
            "Epoch 69/70\n",
            "97/97 [==============================] - 57s 581ms/step - loss: 1.1336 - accuracy: 0.5961\n",
            "Epoch 70/70\n",
            "97/97 [==============================] - 59s 603ms/step - loss: 1.1631 - accuracy: 0.6068\n"
          ],
          "name": "stdout"
        },
        {
          "output_type": "execute_result",
          "data": {
            "text/plain": [
              "<tensorflow.python.keras.callbacks.History at 0x7f0f3e552990>"
            ]
          },
          "metadata": {
            "tags": []
          },
          "execution_count": 11
        }
      ]
    },
    {
      "cell_type": "code",
      "metadata": {
        "colab": {
          "base_uri": "https://localhost:8080/"
        },
        "id": "vGwhijEsmu58",
        "outputId": "2a5f7514-7458-4a5d-b67f-b90e533a610d"
      },
      "source": [
        "model.evaluate(valid_set, verbose=1) #160"
      ],
      "execution_count": null,
      "outputs": [
        {
          "output_type": "stream",
          "text": [
            "26/26 [==============================] - 35s 1s/step - loss: 1.2539 - accuracy: 0.5881\n"
          ],
          "name": "stdout"
        },
        {
          "output_type": "execute_result",
          "data": {
            "text/plain": [
              "[1.2539360523223877, 0.5880923271179199]"
            ]
          },
          "metadata": {
            "tags": []
          },
          "execution_count": 12
        }
      ]
    },
    {
      "cell_type": "code",
      "metadata": {
        "colab": {
          "base_uri": "https://localhost:8080/"
        },
        "id": "SiymOiEP-OfF",
        "outputId": "b22cb6c5-d520-49e1-b185-4af1cd930b4f"
      },
      "source": [
        "model.evaluate(testing_set, verbose=1) #160"
      ],
      "execution_count": null,
      "outputs": [
        {
          "output_type": "stream",
          "text": [
            "25/25 [==============================] - 20s 561ms/step - loss: 1.1267 - accuracy: 0.5987\n"
          ],
          "name": "stdout"
        },
        {
          "output_type": "execute_result",
          "data": {
            "text/plain": [
              "[1.1266990900039673, 0.5987499952316284]"
            ]
          },
          "metadata": {
            "tags": []
          },
          "execution_count": 13
        }
      ]
    },
    {
      "cell_type": "code",
      "metadata": {
        "id": "AIxlsVQl-QqB"
      },
      "source": [
        "import os\n",
        "weights_dir = 'weights/article'\n",
        "# Save model weights\n",
        "model.save_weights(os.path.join(weights_dir, 'vgg19-fourth-froze.h5'))"
      ],
      "execution_count": null,
      "outputs": []
    },
    {
      "cell_type": "markdown",
      "metadata": {
        "id": "27S-eDBKHNSw"
      },
      "source": [
        "### Final model, VGG-19 with a fourth of the layers frozen, trained at 160 epochs (trained in two different 80 epoch sessions because of Colab limits)"
      ]
    },
    {
      "cell_type": "code",
      "metadata": {
        "id": "eiME7J3J-UV3",
        "colab": {
          "base_uri": "https://localhost:8080/"
        },
        "outputId": "a5b545fc-ffca-4d2f-cb0b-60043a302ee8"
      },
      "source": [
        "vgg = VGG19(include_top=False, weights=\"imagenet\", input_shape=(img_size, img_size, channels))\n",
        "vgg.trainable = True\n",
        "base_model = vgg\n",
        "\n",
        "len = len(base_model.layers) // 4\n",
        "\n",
        "# freeze layers\n",
        "for layer in base_model.layers[:len]:\n",
        "    layer.trainable = False\n",
        "\n",
        "\n",
        "inputs = tf.keras.Input(shape=(img_size, img_size, channels))\n",
        "\n",
        "x = base_model(inputs, training=False)\n",
        "x = tf.keras.layers.GlobalAveragePooling2D()(x)\n",
        "x = tf.keras.layers.Dropout(0.2)(x)\n",
        "x = keras.layers.Flatten()(x)\n",
        "X = keras.layers.Dense(128, activation='relu')(x)\n",
        "X = keras.layers.Dropout(0.5)(X)\n",
        "X = keras.layers.BatchNormalization()(X)\n",
        "\n",
        "outputs = tf.keras.layers.Dense(64, activation=tf.keras.activations.softmax)(X)\n",
        "\n",
        "model = tf.keras.Model(inputs, outputs)\n",
        "model.summary()\n",
        "\n",
        "model.compile(loss='sparse_categorical_crossentropy', optimizer='adam', metrics=['accuracy'])"
      ],
      "execution_count": 45,
      "outputs": [
        {
          "output_type": "stream",
          "text": [
            "Downloading data from https://storage.googleapis.com/tensorflow/keras-applications/vgg19/vgg19_weights_tf_dim_ordering_tf_kernels_notop.h5\n",
            "80142336/80134624 [==============================] - 1s 0us/step\n",
            "80150528/80134624 [==============================] - 1s 0us/step\n",
            "WARNING:tensorflow:\n",
            "The following Variables were used a Lambda layer's call (tf.nn.convolution), but\n",
            "are not present in its tracked objects:\n",
            "  <tf.Variable 'block1_conv1/kernel:0' shape=(3, 3, 3, 64) dtype=float32>\n",
            "It is possible that this is intended behavior, but it is more likely\n",
            "an omission. This is a strong indication that this layer should be\n",
            "formulated as a subclassed Layer rather than a Lambda layer.\n",
            "WARNING:tensorflow:\n",
            "The following Variables were used a Lambda layer's call (tf.nn.bias_add), but\n",
            "are not present in its tracked objects:\n",
            "  <tf.Variable 'block1_conv1/bias:0' shape=(64,) dtype=float32>\n",
            "It is possible that this is intended behavior, but it is more likely\n",
            "an omission. This is a strong indication that this layer should be\n",
            "formulated as a subclassed Layer rather than a Lambda layer.\n",
            "WARNING:tensorflow:\n",
            "The following Variables were used a Lambda layer's call (tf.nn.convolution_1), but\n",
            "are not present in its tracked objects:\n",
            "  <tf.Variable 'block1_conv2/kernel:0' shape=(3, 3, 64, 64) dtype=float32>\n",
            "It is possible that this is intended behavior, but it is more likely\n",
            "an omission. This is a strong indication that this layer should be\n",
            "formulated as a subclassed Layer rather than a Lambda layer.\n",
            "WARNING:tensorflow:\n",
            "The following Variables were used a Lambda layer's call (tf.nn.bias_add_1), but\n",
            "are not present in its tracked objects:\n",
            "  <tf.Variable 'block1_conv2/bias:0' shape=(64,) dtype=float32>\n",
            "It is possible that this is intended behavior, but it is more likely\n",
            "an omission. This is a strong indication that this layer should be\n",
            "formulated as a subclassed Layer rather than a Lambda layer.\n",
            "WARNING:tensorflow:\n",
            "The following Variables were used a Lambda layer's call (tf.nn.convolution_2), but\n",
            "are not present in its tracked objects:\n",
            "  <tf.Variable 'block2_conv1/kernel:0' shape=(3, 3, 64, 128) dtype=float32>\n",
            "It is possible that this is intended behavior, but it is more likely\n",
            "an omission. This is a strong indication that this layer should be\n",
            "formulated as a subclassed Layer rather than a Lambda layer.\n",
            "WARNING:tensorflow:\n",
            "The following Variables were used a Lambda layer's call (tf.nn.bias_add_2), but\n",
            "are not present in its tracked objects:\n",
            "  <tf.Variable 'block2_conv1/bias:0' shape=(128,) dtype=float32>\n",
            "It is possible that this is intended behavior, but it is more likely\n",
            "an omission. This is a strong indication that this layer should be\n",
            "formulated as a subclassed Layer rather than a Lambda layer.\n",
            "WARNING:tensorflow:\n",
            "The following Variables were used a Lambda layer's call (tf.nn.convolution_3), but\n",
            "are not present in its tracked objects:\n",
            "  <tf.Variable 'block2_conv2/kernel:0' shape=(3, 3, 128, 128) dtype=float32>\n",
            "It is possible that this is intended behavior, but it is more likely\n",
            "an omission. This is a strong indication that this layer should be\n",
            "formulated as a subclassed Layer rather than a Lambda layer.\n",
            "WARNING:tensorflow:\n",
            "The following Variables were used a Lambda layer's call (tf.nn.bias_add_3), but\n",
            "are not present in its tracked objects:\n",
            "  <tf.Variable 'block2_conv2/bias:0' shape=(128,) dtype=float32>\n",
            "It is possible that this is intended behavior, but it is more likely\n",
            "an omission. This is a strong indication that this layer should be\n",
            "formulated as a subclassed Layer rather than a Lambda layer.\n",
            "WARNING:tensorflow:\n",
            "The following Variables were used a Lambda layer's call (tf.nn.convolution_4), but\n",
            "are not present in its tracked objects:\n",
            "  <tf.Variable 'block3_conv1/kernel:0' shape=(3, 3, 128, 256) dtype=float32>\n",
            "It is possible that this is intended behavior, but it is more likely\n",
            "an omission. This is a strong indication that this layer should be\n",
            "formulated as a subclassed Layer rather than a Lambda layer.\n",
            "WARNING:tensorflow:\n",
            "The following Variables were used a Lambda layer's call (tf.nn.bias_add_4), but\n",
            "are not present in its tracked objects:\n",
            "  <tf.Variable 'block3_conv1/bias:0' shape=(256,) dtype=float32>\n",
            "It is possible that this is intended behavior, but it is more likely\n",
            "an omission. This is a strong indication that this layer should be\n",
            "formulated as a subclassed Layer rather than a Lambda layer.\n",
            "WARNING:tensorflow:\n",
            "The following Variables were used a Lambda layer's call (tf.nn.convolution_5), but\n",
            "are not present in its tracked objects:\n",
            "  <tf.Variable 'block3_conv2/kernel:0' shape=(3, 3, 256, 256) dtype=float32>\n",
            "It is possible that this is intended behavior, but it is more likely\n",
            "an omission. This is a strong indication that this layer should be\n",
            "formulated as a subclassed Layer rather than a Lambda layer.\n",
            "WARNING:tensorflow:\n",
            "The following Variables were used a Lambda layer's call (tf.nn.bias_add_5), but\n",
            "are not present in its tracked objects:\n",
            "  <tf.Variable 'block3_conv2/bias:0' shape=(256,) dtype=float32>\n",
            "It is possible that this is intended behavior, but it is more likely\n",
            "an omission. This is a strong indication that this layer should be\n",
            "formulated as a subclassed Layer rather than a Lambda layer.\n",
            "WARNING:tensorflow:\n",
            "The following Variables were used a Lambda layer's call (tf.nn.convolution_6), but\n",
            "are not present in its tracked objects:\n",
            "  <tf.Variable 'block3_conv3/kernel:0' shape=(3, 3, 256, 256) dtype=float32>\n",
            "It is possible that this is intended behavior, but it is more likely\n",
            "an omission. This is a strong indication that this layer should be\n",
            "formulated as a subclassed Layer rather than a Lambda layer.\n",
            "WARNING:tensorflow:\n",
            "The following Variables were used a Lambda layer's call (tf.nn.bias_add_6), but\n",
            "are not present in its tracked objects:\n",
            "  <tf.Variable 'block3_conv3/bias:0' shape=(256,) dtype=float32>\n",
            "It is possible that this is intended behavior, but it is more likely\n",
            "an omission. This is a strong indication that this layer should be\n",
            "formulated as a subclassed Layer rather than a Lambda layer.\n",
            "WARNING:tensorflow:\n",
            "The following Variables were used a Lambda layer's call (tf.nn.convolution_7), but\n",
            "are not present in its tracked objects:\n",
            "  <tf.Variable 'block3_conv4/kernel:0' shape=(3, 3, 256, 256) dtype=float32>\n",
            "It is possible that this is intended behavior, but it is more likely\n",
            "an omission. This is a strong indication that this layer should be\n",
            "formulated as a subclassed Layer rather than a Lambda layer.\n",
            "WARNING:tensorflow:\n",
            "The following Variables were used a Lambda layer's call (tf.nn.bias_add_7), but\n",
            "are not present in its tracked objects:\n",
            "  <tf.Variable 'block3_conv4/bias:0' shape=(256,) dtype=float32>\n",
            "It is possible that this is intended behavior, but it is more likely\n",
            "an omission. This is a strong indication that this layer should be\n",
            "formulated as a subclassed Layer rather than a Lambda layer.\n",
            "WARNING:tensorflow:\n",
            "The following Variables were used a Lambda layer's call (tf.nn.convolution_8), but\n",
            "are not present in its tracked objects:\n",
            "  <tf.Variable 'block4_conv1/kernel:0' shape=(3, 3, 256, 512) dtype=float32>\n",
            "It is possible that this is intended behavior, but it is more likely\n",
            "an omission. This is a strong indication that this layer should be\n",
            "formulated as a subclassed Layer rather than a Lambda layer.\n",
            "WARNING:tensorflow:\n",
            "The following Variables were used a Lambda layer's call (tf.nn.bias_add_8), but\n",
            "are not present in its tracked objects:\n",
            "  <tf.Variable 'block4_conv1/bias:0' shape=(512,) dtype=float32>\n",
            "It is possible that this is intended behavior, but it is more likely\n",
            "an omission. This is a strong indication that this layer should be\n",
            "formulated as a subclassed Layer rather than a Lambda layer.\n",
            "WARNING:tensorflow:\n",
            "The following Variables were used a Lambda layer's call (tf.nn.convolution_9), but\n",
            "are not present in its tracked objects:\n",
            "  <tf.Variable 'block4_conv2/kernel:0' shape=(3, 3, 512, 512) dtype=float32>\n",
            "It is possible that this is intended behavior, but it is more likely\n",
            "an omission. This is a strong indication that this layer should be\n",
            "formulated as a subclassed Layer rather than a Lambda layer.\n",
            "WARNING:tensorflow:\n",
            "The following Variables were used a Lambda layer's call (tf.nn.bias_add_9), but\n",
            "are not present in its tracked objects:\n",
            "  <tf.Variable 'block4_conv2/bias:0' shape=(512,) dtype=float32>\n",
            "It is possible that this is intended behavior, but it is more likely\n",
            "an omission. This is a strong indication that this layer should be\n",
            "formulated as a subclassed Layer rather than a Lambda layer.\n",
            "WARNING:tensorflow:\n",
            "The following Variables were used a Lambda layer's call (tf.nn.convolution_10), but\n",
            "are not present in its tracked objects:\n",
            "  <tf.Variable 'block4_conv3/kernel:0' shape=(3, 3, 512, 512) dtype=float32>\n",
            "It is possible that this is intended behavior, but it is more likely\n",
            "an omission. This is a strong indication that this layer should be\n",
            "formulated as a subclassed Layer rather than a Lambda layer.\n",
            "WARNING:tensorflow:\n",
            "The following Variables were used a Lambda layer's call (tf.nn.bias_add_10), but\n",
            "are not present in its tracked objects:\n",
            "  <tf.Variable 'block4_conv3/bias:0' shape=(512,) dtype=float32>\n",
            "It is possible that this is intended behavior, but it is more likely\n",
            "an omission. This is a strong indication that this layer should be\n",
            "formulated as a subclassed Layer rather than a Lambda layer.\n",
            "WARNING:tensorflow:\n",
            "The following Variables were used a Lambda layer's call (tf.nn.convolution_11), but\n",
            "are not present in its tracked objects:\n",
            "  <tf.Variable 'block4_conv4/kernel:0' shape=(3, 3, 512, 512) dtype=float32>\n",
            "It is possible that this is intended behavior, but it is more likely\n",
            "an omission. This is a strong indication that this layer should be\n",
            "formulated as a subclassed Layer rather than a Lambda layer.\n",
            "WARNING:tensorflow:\n",
            "The following Variables were used a Lambda layer's call (tf.nn.bias_add_11), but\n",
            "are not present in its tracked objects:\n",
            "  <tf.Variable 'block4_conv4/bias:0' shape=(512,) dtype=float32>\n",
            "It is possible that this is intended behavior, but it is more likely\n",
            "an omission. This is a strong indication that this layer should be\n",
            "formulated as a subclassed Layer rather than a Lambda layer.\n",
            "WARNING:tensorflow:\n",
            "The following Variables were used a Lambda layer's call (tf.nn.convolution_12), but\n",
            "are not present in its tracked objects:\n",
            "  <tf.Variable 'block5_conv1/kernel:0' shape=(3, 3, 512, 512) dtype=float32>\n",
            "It is possible that this is intended behavior, but it is more likely\n",
            "an omission. This is a strong indication that this layer should be\n",
            "formulated as a subclassed Layer rather than a Lambda layer.\n",
            "WARNING:tensorflow:\n",
            "The following Variables were used a Lambda layer's call (tf.nn.bias_add_12), but\n",
            "are not present in its tracked objects:\n",
            "  <tf.Variable 'block5_conv1/bias:0' shape=(512,) dtype=float32>\n",
            "It is possible that this is intended behavior, but it is more likely\n",
            "an omission. This is a strong indication that this layer should be\n",
            "formulated as a subclassed Layer rather than a Lambda layer.\n",
            "WARNING:tensorflow:\n",
            "The following Variables were used a Lambda layer's call (tf.nn.convolution_13), but\n",
            "are not present in its tracked objects:\n",
            "  <tf.Variable 'block5_conv2/kernel:0' shape=(3, 3, 512, 512) dtype=float32>\n",
            "It is possible that this is intended behavior, but it is more likely\n",
            "an omission. This is a strong indication that this layer should be\n",
            "formulated as a subclassed Layer rather than a Lambda layer.\n",
            "WARNING:tensorflow:\n",
            "The following Variables were used a Lambda layer's call (tf.nn.bias_add_13), but\n",
            "are not present in its tracked objects:\n",
            "  <tf.Variable 'block5_conv2/bias:0' shape=(512,) dtype=float32>\n",
            "It is possible that this is intended behavior, but it is more likely\n",
            "an omission. This is a strong indication that this layer should be\n",
            "formulated as a subclassed Layer rather than a Lambda layer.\n",
            "WARNING:tensorflow:\n",
            "The following Variables were used a Lambda layer's call (tf.nn.convolution_14), but\n",
            "are not present in its tracked objects:\n",
            "  <tf.Variable 'block5_conv3/kernel:0' shape=(3, 3, 512, 512) dtype=float32>\n",
            "It is possible that this is intended behavior, but it is more likely\n",
            "an omission. This is a strong indication that this layer should be\n",
            "formulated as a subclassed Layer rather than a Lambda layer.\n",
            "WARNING:tensorflow:\n",
            "The following Variables were used a Lambda layer's call (tf.nn.bias_add_14), but\n",
            "are not present in its tracked objects:\n",
            "  <tf.Variable 'block5_conv3/bias:0' shape=(512,) dtype=float32>\n",
            "It is possible that this is intended behavior, but it is more likely\n",
            "an omission. This is a strong indication that this layer should be\n",
            "formulated as a subclassed Layer rather than a Lambda layer.\n",
            "WARNING:tensorflow:\n",
            "The following Variables were used a Lambda layer's call (tf.nn.convolution_15), but\n",
            "are not present in its tracked objects:\n",
            "  <tf.Variable 'block5_conv4/kernel:0' shape=(3, 3, 512, 512) dtype=float32>\n",
            "It is possible that this is intended behavior, but it is more likely\n",
            "an omission. This is a strong indication that this layer should be\n",
            "formulated as a subclassed Layer rather than a Lambda layer.\n",
            "WARNING:tensorflow:\n",
            "The following Variables were used a Lambda layer's call (tf.nn.bias_add_15), but\n",
            "are not present in its tracked objects:\n",
            "  <tf.Variable 'block5_conv4/bias:0' shape=(512,) dtype=float32>\n",
            "It is possible that this is intended behavior, but it is more likely\n",
            "an omission. This is a strong indication that this layer should be\n",
            "formulated as a subclassed Layer rather than a Lambda layer.\n",
            "Model: \"model\"\n",
            "_________________________________________________________________\n",
            "Layer (type)                 Output Shape              Param #   \n",
            "=================================================================\n",
            "input_1 (InputLayer)         [(None, 400, 400, 3)]     0         \n",
            "_________________________________________________________________\n",
            "tf.nn.convolution (TFOpLambd (None, 400, 400, 64)      0         \n",
            "_________________________________________________________________\n",
            "tf.nn.bias_add (TFOpLambda)  (None, 400, 400, 64)      0         \n",
            "_________________________________________________________________\n",
            "tf.nn.relu (TFOpLambda)      (None, 400, 400, 64)      0         \n",
            "_________________________________________________________________\n",
            "tf.nn.convolution_1 (TFOpLam (None, 400, 400, 64)      0         \n",
            "_________________________________________________________________\n",
            "tf.nn.bias_add_1 (TFOpLambda (None, 400, 400, 64)      0         \n",
            "_________________________________________________________________\n",
            "tf.nn.relu_1 (TFOpLambda)    (None, 400, 400, 64)      0         \n",
            "_________________________________________________________________\n",
            "tf.compat.v1.nn.max_pool (TF (None, 200, 200, 64)      0         \n",
            "_________________________________________________________________\n",
            "tf.nn.convolution_2 (TFOpLam (None, 200, 200, 128)     0         \n",
            "_________________________________________________________________\n",
            "tf.nn.bias_add_2 (TFOpLambda (None, 200, 200, 128)     0         \n",
            "_________________________________________________________________\n",
            "tf.nn.relu_2 (TFOpLambda)    (None, 200, 200, 128)     0         \n",
            "_________________________________________________________________\n",
            "tf.nn.convolution_3 (TFOpLam (None, 200, 200, 128)     0         \n",
            "_________________________________________________________________\n",
            "tf.nn.bias_add_3 (TFOpLambda (None, 200, 200, 128)     0         \n",
            "_________________________________________________________________\n",
            "tf.nn.relu_3 (TFOpLambda)    (None, 200, 200, 128)     0         \n",
            "_________________________________________________________________\n",
            "tf.compat.v1.nn.max_pool_1 ( (None, 100, 100, 128)     0         \n",
            "_________________________________________________________________\n",
            "tf.nn.convolution_4 (TFOpLam (None, 100, 100, 256)     0         \n",
            "_________________________________________________________________\n",
            "tf.nn.bias_add_4 (TFOpLambda (None, 100, 100, 256)     0         \n",
            "_________________________________________________________________\n",
            "tf.nn.relu_4 (TFOpLambda)    (None, 100, 100, 256)     0         \n",
            "_________________________________________________________________\n",
            "tf.nn.convolution_5 (TFOpLam (None, 100, 100, 256)     0         \n",
            "_________________________________________________________________\n",
            "tf.nn.bias_add_5 (TFOpLambda (None, 100, 100, 256)     0         \n",
            "_________________________________________________________________\n",
            "tf.nn.relu_5 (TFOpLambda)    (None, 100, 100, 256)     0         \n",
            "_________________________________________________________________\n",
            "tf.nn.convolution_6 (TFOpLam (None, 100, 100, 256)     0         \n",
            "_________________________________________________________________\n",
            "tf.nn.bias_add_6 (TFOpLambda (None, 100, 100, 256)     0         \n",
            "_________________________________________________________________\n",
            "tf.nn.relu_6 (TFOpLambda)    (None, 100, 100, 256)     0         \n",
            "_________________________________________________________________\n",
            "tf.nn.convolution_7 (TFOpLam (None, 100, 100, 256)     0         \n",
            "_________________________________________________________________\n",
            "tf.nn.bias_add_7 (TFOpLambda (None, 100, 100, 256)     0         \n",
            "_________________________________________________________________\n",
            "tf.nn.relu_7 (TFOpLambda)    (None, 100, 100, 256)     0         \n",
            "_________________________________________________________________\n",
            "tf.compat.v1.nn.max_pool_2 ( (None, 50, 50, 256)       0         \n",
            "_________________________________________________________________\n",
            "tf.nn.convolution_8 (TFOpLam (None, 50, 50, 512)       0         \n",
            "_________________________________________________________________\n",
            "tf.nn.bias_add_8 (TFOpLambda (None, 50, 50, 512)       0         \n",
            "_________________________________________________________________\n",
            "tf.nn.relu_8 (TFOpLambda)    (None, 50, 50, 512)       0         \n",
            "_________________________________________________________________\n",
            "tf.nn.convolution_9 (TFOpLam (None, 50, 50, 512)       0         \n",
            "_________________________________________________________________\n",
            "tf.nn.bias_add_9 (TFOpLambda (None, 50, 50, 512)       0         \n",
            "_________________________________________________________________\n",
            "tf.nn.relu_9 (TFOpLambda)    (None, 50, 50, 512)       0         \n",
            "_________________________________________________________________\n",
            "tf.nn.convolution_10 (TFOpLa (None, 50, 50, 512)       0         \n",
            "_________________________________________________________________\n",
            "tf.nn.bias_add_10 (TFOpLambd (None, 50, 50, 512)       0         \n",
            "_________________________________________________________________\n",
            "tf.nn.relu_10 (TFOpLambda)   (None, 50, 50, 512)       0         \n",
            "_________________________________________________________________\n",
            "tf.nn.convolution_11 (TFOpLa (None, 50, 50, 512)       0         \n",
            "_________________________________________________________________\n",
            "tf.nn.bias_add_11 (TFOpLambd (None, 50, 50, 512)       0         \n",
            "_________________________________________________________________\n",
            "tf.nn.relu_11 (TFOpLambda)   (None, 50, 50, 512)       0         \n",
            "_________________________________________________________________\n",
            "tf.compat.v1.nn.max_pool_3 ( (None, 25, 25, 512)       0         \n",
            "_________________________________________________________________\n",
            "tf.nn.convolution_12 (TFOpLa (None, 25, 25, 512)       0         \n",
            "_________________________________________________________________\n",
            "tf.nn.bias_add_12 (TFOpLambd (None, 25, 25, 512)       0         \n",
            "_________________________________________________________________\n",
            "tf.nn.relu_12 (TFOpLambda)   (None, 25, 25, 512)       0         \n",
            "_________________________________________________________________\n",
            "tf.nn.convolution_13 (TFOpLa (None, 25, 25, 512)       0         \n",
            "_________________________________________________________________\n",
            "tf.nn.bias_add_13 (TFOpLambd (None, 25, 25, 512)       0         \n",
            "_________________________________________________________________\n",
            "tf.nn.relu_13 (TFOpLambda)   (None, 25, 25, 512)       0         \n",
            "_________________________________________________________________\n",
            "tf.nn.convolution_14 (TFOpLa (None, 25, 25, 512)       0         \n",
            "_________________________________________________________________\n",
            "tf.nn.bias_add_14 (TFOpLambd (None, 25, 25, 512)       0         \n",
            "_________________________________________________________________\n",
            "tf.nn.relu_14 (TFOpLambda)   (None, 25, 25, 512)       0         \n",
            "_________________________________________________________________\n",
            "tf.nn.convolution_15 (TFOpLa (None, 25, 25, 512)       0         \n",
            "_________________________________________________________________\n",
            "tf.nn.bias_add_15 (TFOpLambd (None, 25, 25, 512)       0         \n",
            "_________________________________________________________________\n",
            "tf.nn.relu_15 (TFOpLambda)   (None, 25, 25, 512)       0         \n",
            "_________________________________________________________________\n",
            "tf.compat.v1.nn.max_pool_4 ( (None, 12, 12, 512)       0         \n",
            "_________________________________________________________________\n",
            "global_average_pooling2d (Gl (None, 512)               0         \n",
            "_________________________________________________________________\n",
            "dropout (Dropout)            (None, 512)               0         \n",
            "_________________________________________________________________\n",
            "flatten (Flatten)            (None, 512)               0         \n",
            "_________________________________________________________________\n",
            "dense (Dense)                (None, 128)               65664     \n",
            "_________________________________________________________________\n",
            "dropout_1 (Dropout)          (None, 128)               0         \n",
            "_________________________________________________________________\n",
            "batch_normalization (BatchNo (None, 128)               512       \n",
            "_________________________________________________________________\n",
            "dense_1 (Dense)              (None, 64)                8256      \n",
            "=================================================================\n",
            "Total params: 74,432\n",
            "Trainable params: 74,176\n",
            "Non-trainable params: 256\n",
            "_________________________________________________________________\n"
          ],
          "name": "stdout"
        }
      ]
    },
    {
      "cell_type": "code",
      "metadata": {
        "colab": {
          "base_uri": "https://localhost:8080/"
        },
        "id": "X2cNC9ha97on",
        "outputId": "b09ed483-188e-4a3b-de63-eb1c9b3a9de1"
      },
      "source": [
        "model.fit(training_set, epochs=80)"
      ],
      "execution_count": null,
      "outputs": [
        {
          "output_type": "stream",
          "text": [
            "Epoch 1/80\n",
            "97/97 [==============================] - 640s 6s/step - loss: 4.1646 - accuracy: 0.0513\n",
            "Epoch 2/80\n",
            "97/97 [==============================] - 64s 653ms/step - loss: 3.4758 - accuracy: 0.1400\n",
            "Epoch 3/80\n",
            "97/97 [==============================] - 64s 651ms/step - loss: 3.0628 - accuracy: 0.2206\n",
            "Epoch 4/80\n",
            "97/97 [==============================] - 63s 638ms/step - loss: 2.7875 - accuracy: 0.2561\n",
            "Epoch 5/80\n",
            "97/97 [==============================] - 63s 643ms/step - loss: 2.5740 - accuracy: 0.2939\n",
            "Epoch 6/80\n",
            "97/97 [==============================] - 64s 651ms/step - loss: 2.3994 - accuracy: 0.3097\n",
            "Epoch 7/80\n",
            "97/97 [==============================] - 64s 648ms/step - loss: 2.2869 - accuracy: 0.3226\n",
            "Epoch 8/80\n",
            "97/97 [==============================] - 64s 650ms/step - loss: 2.1616 - accuracy: 0.3690\n",
            "Epoch 9/80\n",
            "97/97 [==============================] - 63s 638ms/step - loss: 2.0360 - accuracy: 0.3906\n",
            "Epoch 10/80\n",
            "97/97 [==============================] - 64s 651ms/step - loss: 1.9389 - accuracy: 0.4119\n",
            "Epoch 11/80\n",
            "97/97 [==============================] - 64s 651ms/step - loss: 1.8888 - accuracy: 0.4119\n",
            "Epoch 12/80\n",
            "97/97 [==============================] - 64s 650ms/step - loss: 1.8101 - accuracy: 0.4439\n",
            "Epoch 13/80\n",
            "97/97 [==============================] - 64s 648ms/step - loss: 1.8023 - accuracy: 0.4394\n",
            "Epoch 14/80\n",
            "97/97 [==============================] - 64s 651ms/step - loss: 1.7326 - accuracy: 0.4529\n",
            "Epoch 15/80\n",
            "97/97 [==============================] - 62s 637ms/step - loss: 1.6805 - accuracy: 0.4758\n",
            "Epoch 16/80\n",
            "97/97 [==============================] - 63s 642ms/step - loss: 1.6478 - accuracy: 0.4913\n",
            "Epoch 17/80\n",
            "97/97 [==============================] - 64s 651ms/step - loss: 1.6221 - accuracy: 0.4874\n",
            "Epoch 18/80\n",
            "97/97 [==============================] - 64s 649ms/step - loss: 1.5718 - accuracy: 0.4919\n",
            "Epoch 19/80\n",
            "97/97 [==============================] - 62s 634ms/step - loss: 1.5264 - accuracy: 0.5081\n",
            "Epoch 20/80\n",
            "97/97 [==============================] - 62s 630ms/step - loss: 1.5041 - accuracy: 0.5074\n",
            "Epoch 21/80\n",
            "97/97 [==============================] - 62s 628ms/step - loss: 1.4911 - accuracy: 0.5190\n",
            "Epoch 22/80\n",
            "97/97 [==============================] - 60s 611ms/step - loss: 1.5003 - accuracy: 0.5110\n",
            "Epoch 23/80\n",
            "97/97 [==============================] - 61s 620ms/step - loss: 1.4334 - accuracy: 0.5248\n",
            "Epoch 24/80\n",
            "97/97 [==============================] - 60s 609ms/step - loss: 1.4118 - accuracy: 0.5271\n",
            "Epoch 25/80\n",
            "97/97 [==============================] - 62s 636ms/step - loss: 1.4026 - accuracy: 0.5355\n",
            "Epoch 26/80\n",
            "97/97 [==============================] - 64s 651ms/step - loss: 1.3967 - accuracy: 0.5439\n",
            "Epoch 27/80\n",
            "97/97 [==============================] - 64s 649ms/step - loss: 1.3798 - accuracy: 0.5477\n",
            "Epoch 28/80\n",
            "97/97 [==============================] - 64s 648ms/step - loss: 1.3495 - accuracy: 0.5532\n",
            "Epoch 29/80\n",
            "97/97 [==============================] - 64s 650ms/step - loss: 1.3858 - accuracy: 0.5494\n",
            "Epoch 30/80\n",
            "97/97 [==============================] - 64s 649ms/step - loss: 1.3623 - accuracy: 0.5452\n",
            "Epoch 31/80\n",
            "97/97 [==============================] - 63s 647ms/step - loss: 1.3389 - accuracy: 0.5500\n",
            "Epoch 32/80\n",
            "97/97 [==============================] - 64s 648ms/step - loss: 1.3460 - accuracy: 0.5435\n",
            "Epoch 33/80\n",
            "97/97 [==============================] - 63s 647ms/step - loss: 1.3444 - accuracy: 0.5506\n",
            "Epoch 34/80\n",
            "97/97 [==============================] - 62s 637ms/step - loss: 1.3294 - accuracy: 0.5587\n",
            "Epoch 35/80\n",
            "97/97 [==============================] - 64s 650ms/step - loss: 1.3045 - accuracy: 0.5677\n",
            "Epoch 36/80\n",
            "97/97 [==============================] - 64s 651ms/step - loss: 1.2945 - accuracy: 0.5648\n",
            "Epoch 37/80\n",
            "97/97 [==============================] - 64s 649ms/step - loss: 1.2719 - accuracy: 0.5616\n",
            "Epoch 38/80\n",
            "97/97 [==============================] - 64s 650ms/step - loss: 1.2648 - accuracy: 0.5784\n",
            "Epoch 39/80\n",
            "97/97 [==============================] - 63s 638ms/step - loss: 1.2422 - accuracy: 0.5700\n",
            "Epoch 40/80\n",
            "97/97 [==============================] - 61s 620ms/step - loss: 1.2557 - accuracy: 0.5758\n",
            "Epoch 41/80\n",
            "97/97 [==============================] - 60s 612ms/step - loss: 1.2853 - accuracy: 0.5684\n",
            "Epoch 42/80\n",
            "97/97 [==============================] - 60s 609ms/step - loss: 1.2947 - accuracy: 0.5755\n",
            "Epoch 43/80\n",
            "97/97 [==============================] - 59s 603ms/step - loss: 1.2644 - accuracy: 0.5774\n",
            "Epoch 44/80\n",
            "97/97 [==============================] - 59s 603ms/step - loss: 1.2268 - accuracy: 0.5852\n",
            "Epoch 45/80\n",
            "97/97 [==============================] - 62s 637ms/step - loss: 1.2182 - accuracy: 0.5871\n",
            "Epoch 46/80\n",
            "97/97 [==============================] - 64s 650ms/step - loss: 1.2210 - accuracy: 0.5813\n",
            "Epoch 47/80\n",
            "97/97 [==============================] - 63s 648ms/step - loss: 1.2435 - accuracy: 0.5732\n",
            "Epoch 48/80\n",
            "97/97 [==============================] - 63s 638ms/step - loss: 1.2164 - accuracy: 0.5897\n",
            "Epoch 49/80\n",
            "97/97 [==============================] - 63s 640ms/step - loss: 1.1990 - accuracy: 0.5987\n",
            "Epoch 50/80\n",
            "97/97 [==============================] - 63s 641ms/step - loss: 1.2033 - accuracy: 0.5784\n",
            "Epoch 51/80\n",
            "97/97 [==============================] - 64s 650ms/step - loss: 1.1895 - accuracy: 0.5881\n",
            "Epoch 52/80\n",
            "97/97 [==============================] - 63s 647ms/step - loss: 1.1715 - accuracy: 0.5965\n",
            "Epoch 53/80\n",
            "97/97 [==============================] - 63s 647ms/step - loss: 1.2077 - accuracy: 0.5797\n",
            "Epoch 54/80\n",
            "97/97 [==============================] - 64s 649ms/step - loss: 1.2052 - accuracy: 0.5835\n",
            "Epoch 55/80\n",
            "97/97 [==============================] - 62s 637ms/step - loss: 1.1999 - accuracy: 0.5826\n",
            "Epoch 56/80\n",
            "97/97 [==============================] - 63s 639ms/step - loss: 1.1878 - accuracy: 0.5894\n",
            "Epoch 57/80\n",
            "97/97 [==============================] - 64s 650ms/step - loss: 1.1845 - accuracy: 0.5929\n",
            "Epoch 58/80\n",
            "97/97 [==============================] - 64s 651ms/step - loss: 1.1917 - accuracy: 0.5877\n",
            "Epoch 59/80\n",
            "97/97 [==============================] - 63s 638ms/step - loss: 1.1985 - accuracy: 0.5900\n",
            "Epoch 60/80\n",
            "97/97 [==============================] - 64s 650ms/step - loss: 1.1712 - accuracy: 0.6029\n",
            "Epoch 61/80\n",
            "97/97 [==============================] - 64s 648ms/step - loss: 1.2085 - accuracy: 0.5787\n",
            "Epoch 62/80\n",
            "97/97 [==============================] - 63s 647ms/step - loss: 1.1946 - accuracy: 0.6000\n",
            "Epoch 63/80\n",
            "97/97 [==============================] - 64s 648ms/step - loss: 1.1824 - accuracy: 0.5890\n",
            "Epoch 64/80\n",
            "97/97 [==============================] - 64s 648ms/step - loss: 1.1741 - accuracy: 0.6019\n",
            "Epoch 65/80\n",
            "97/97 [==============================] - 63s 638ms/step - loss: 1.1817 - accuracy: 0.6000\n",
            "Epoch 66/80\n",
            "97/97 [==============================] - 64s 651ms/step - loss: 1.1783 - accuracy: 0.5990\n",
            "Epoch 67/80\n",
            "97/97 [==============================] - 64s 649ms/step - loss: 1.1517 - accuracy: 0.5997\n",
            "Epoch 68/80\n",
            "97/97 [==============================] - 64s 649ms/step - loss: 1.1786 - accuracy: 0.5929\n",
            "Epoch 69/80\n",
            "97/97 [==============================] - 64s 649ms/step - loss: 1.1521 - accuracy: 0.6055\n",
            "Epoch 70/80\n",
            "97/97 [==============================] - 62s 637ms/step - loss: 1.1417 - accuracy: 0.6055\n",
            "Epoch 71/80\n",
            "97/97 [==============================] - 64s 652ms/step - loss: 1.1986 - accuracy: 0.5835\n",
            "Epoch 72/80\n",
            "97/97 [==============================] - 63s 639ms/step - loss: 1.1500 - accuracy: 0.6029\n",
            "Epoch 73/80\n",
            "97/97 [==============================] - 63s 640ms/step - loss: 1.1575 - accuracy: 0.6026\n",
            "Epoch 74/80\n",
            "97/97 [==============================] - 64s 651ms/step - loss: 1.1227 - accuracy: 0.6029\n",
            "Epoch 75/80\n",
            "97/97 [==============================] - 63s 638ms/step - loss: 1.1362 - accuracy: 0.5939\n",
            "Epoch 76/80\n",
            "97/97 [==============================] - 62s 627ms/step - loss: 1.1091 - accuracy: 0.6132\n",
            "Epoch 77/80\n",
            "97/97 [==============================] - 61s 627ms/step - loss: 1.1224 - accuracy: 0.6126\n",
            "Epoch 78/80\n",
            "97/97 [==============================] - 62s 628ms/step - loss: 1.1463 - accuracy: 0.6023\n",
            "Epoch 79/80\n",
            "97/97 [==============================] - 62s 631ms/step - loss: 1.1472 - accuracy: 0.6026\n",
            "Epoch 80/80\n",
            "97/97 [==============================] - 60s 612ms/step - loss: 1.1364 - accuracy: 0.6065\n"
          ],
          "name": "stdout"
        },
        {
          "output_type": "execute_result",
          "data": {
            "text/plain": [
              "<tensorflow.python.keras.callbacks.History at 0x7fa7e6062bd0>"
            ]
          },
          "metadata": {
            "tags": []
          },
          "execution_count": 11
        }
      ]
    },
    {
      "cell_type": "code",
      "metadata": {
        "id": "-R15fGun8Z8a"
      },
      "source": [
        ""
      ],
      "execution_count": null,
      "outputs": []
    },
    {
      "cell_type": "code",
      "metadata": {
        "id": "19Q0RikV-Y7v"
      },
      "source": [
        "import os\n",
        "weights_dir = 'weights'\n",
        "# Save model weights\n",
        "model.save_weights(os.path.join(weights_dir, 'vgg19-new-final.h5'))"
      ],
      "execution_count": null,
      "outputs": []
    },
    {
      "cell_type": "code",
      "metadata": {
        "id": "gQp0YSI11wMY"
      },
      "source": [
        "weights_dir = 'drive/MyDrive'\n",
        "model.load_weights(os.path.join(weights_dir, 'vgg19-new-final-final.h5'))"
      ],
      "execution_count": 46,
      "outputs": []
    },
    {
      "cell_type": "code",
      "metadata": {
        "colab": {
          "base_uri": "https://localhost:8080/"
        },
        "id": "Y5dZybpWMkOz",
        "outputId": "204803db-c840-4716-8349-1db8808c22b1"
      },
      "source": [
        "model.fit(training_set, epochs=80)"
      ],
      "execution_count": 12,
      "outputs": [
        {
          "output_type": "stream",
          "text": [
            "Epoch 1/80\n",
            "97/97 [==============================] - 642s 6s/step - loss: 1.2143 - accuracy: 0.5832\n",
            "Epoch 2/80\n",
            "97/97 [==============================] - 56s 568ms/step - loss: 1.2024 - accuracy: 0.5977\n",
            "Epoch 3/80\n",
            "97/97 [==============================] - 59s 598ms/step - loss: 1.1514 - accuracy: 0.6029\n",
            "Epoch 4/80\n",
            "97/97 [==============================] - 58s 593ms/step - loss: 1.1705 - accuracy: 0.5971\n",
            "Epoch 5/80\n",
            "97/97 [==============================] - 59s 601ms/step - loss: 1.1545 - accuracy: 0.6061\n",
            "Epoch 6/80\n",
            "97/97 [==============================] - 58s 594ms/step - loss: 1.1578 - accuracy: 0.6042\n",
            "Epoch 7/80\n",
            "97/97 [==============================] - 59s 603ms/step - loss: 1.1589 - accuracy: 0.6029\n",
            "Epoch 8/80\n",
            "97/97 [==============================] - 58s 593ms/step - loss: 1.1318 - accuracy: 0.6058\n",
            "Epoch 9/80\n",
            "97/97 [==============================] - 58s 595ms/step - loss: 1.1359 - accuracy: 0.6103\n",
            "Epoch 10/80\n",
            "97/97 [==============================] - 58s 596ms/step - loss: 1.1021 - accuracy: 0.6174\n",
            "Epoch 11/80\n",
            "97/97 [==============================] - 59s 601ms/step - loss: 1.1055 - accuracy: 0.6090\n",
            "Epoch 12/80\n",
            "97/97 [==============================] - 58s 595ms/step - loss: 1.1229 - accuracy: 0.6074\n",
            "Epoch 13/80\n",
            "97/97 [==============================] - 59s 603ms/step - loss: 1.1043 - accuracy: 0.6235\n",
            "Epoch 14/80\n",
            "97/97 [==============================] - 59s 598ms/step - loss: 1.1053 - accuracy: 0.6219\n",
            "Epoch 15/80\n",
            "97/97 [==============================] - 59s 601ms/step - loss: 1.1230 - accuracy: 0.6161\n",
            "Epoch 16/80\n",
            "97/97 [==============================] - 59s 602ms/step - loss: 1.1050 - accuracy: 0.6110\n",
            "Epoch 17/80\n",
            "97/97 [==============================] - 59s 601ms/step - loss: 1.0767 - accuracy: 0.6365\n",
            "Epoch 18/80\n",
            "97/97 [==============================] - 57s 580ms/step - loss: 1.1140 - accuracy: 0.6206\n",
            "Epoch 19/80\n",
            "97/97 [==============================] - 56s 572ms/step - loss: 1.1376 - accuracy: 0.6103\n",
            "Epoch 20/80\n",
            "97/97 [==============================] - 56s 570ms/step - loss: 1.0799 - accuracy: 0.6248\n",
            "Epoch 21/80\n",
            "97/97 [==============================] - 56s 573ms/step - loss: 1.0976 - accuracy: 0.6171\n",
            "Epoch 22/80\n",
            "97/97 [==============================] - 57s 581ms/step - loss: 1.0886 - accuracy: 0.6265\n",
            "Epoch 23/80\n",
            "97/97 [==============================] - 59s 597ms/step - loss: 1.0946 - accuracy: 0.6145\n",
            "Epoch 24/80\n",
            "97/97 [==============================] - 57s 575ms/step - loss: 1.1256 - accuracy: 0.6042\n",
            "Epoch 25/80\n",
            "97/97 [==============================] - 56s 574ms/step - loss: 1.1131 - accuracy: 0.6100\n",
            "Epoch 26/80\n",
            "97/97 [==============================] - 56s 570ms/step - loss: 1.0932 - accuracy: 0.6190\n",
            "Epoch 27/80\n",
            "97/97 [==============================] - 56s 567ms/step - loss: 1.0972 - accuracy: 0.6168\n",
            "Epoch 28/80\n",
            "97/97 [==============================] - 56s 567ms/step - loss: 1.0810 - accuracy: 0.6145\n",
            "Epoch 29/80\n",
            "97/97 [==============================] - 56s 573ms/step - loss: 1.0642 - accuracy: 0.6310\n",
            "Epoch 30/80\n",
            "97/97 [==============================] - 56s 569ms/step - loss: 1.0631 - accuracy: 0.6248\n",
            "Epoch 31/80\n",
            "97/97 [==============================] - 56s 567ms/step - loss: 1.0551 - accuracy: 0.6394\n",
            "Epoch 32/80\n",
            "97/97 [==============================] - 56s 574ms/step - loss: 1.0547 - accuracy: 0.6271\n",
            "Epoch 33/80\n",
            "97/97 [==============================] - 56s 569ms/step - loss: 1.0772 - accuracy: 0.6281\n",
            "Epoch 34/80\n",
            "97/97 [==============================] - 56s 574ms/step - loss: 1.0483 - accuracy: 0.6374\n",
            "Epoch 35/80\n",
            "97/97 [==============================] - 56s 570ms/step - loss: 1.0390 - accuracy: 0.6323\n",
            "Epoch 36/80\n",
            "97/97 [==============================] - 56s 573ms/step - loss: 1.0671 - accuracy: 0.6290\n",
            "Epoch 37/80\n",
            "97/97 [==============================] - 56s 571ms/step - loss: 1.0320 - accuracy: 0.6348\n",
            "Epoch 38/80\n",
            "97/97 [==============================] - 56s 567ms/step - loss: 1.0524 - accuracy: 0.6335\n",
            "Epoch 39/80\n",
            "97/97 [==============================] - 56s 565ms/step - loss: 1.0806 - accuracy: 0.6377\n",
            "Epoch 40/80\n",
            "97/97 [==============================] - 56s 573ms/step - loss: 1.0723 - accuracy: 0.6139\n",
            "Epoch 41/80\n",
            "97/97 [==============================] - 56s 569ms/step - loss: 1.0394 - accuracy: 0.6397\n",
            "Epoch 42/80\n",
            "97/97 [==============================] - 56s 568ms/step - loss: 1.0394 - accuracy: 0.6397\n",
            "Epoch 43/80\n",
            "97/97 [==============================] - 55s 564ms/step - loss: 1.0671 - accuracy: 0.6239\n",
            "Epoch 44/80\n",
            "97/97 [==============================] - 56s 573ms/step - loss: 1.0317 - accuracy: 0.6448\n",
            "Epoch 45/80\n",
            "97/97 [==============================] - 56s 568ms/step - loss: 1.0525 - accuracy: 0.6394\n",
            "Epoch 46/80\n",
            "97/97 [==============================] - 56s 573ms/step - loss: 1.0246 - accuracy: 0.6465\n",
            "Epoch 47/80\n",
            "97/97 [==============================] - 56s 570ms/step - loss: 1.0214 - accuracy: 0.6461\n",
            "Epoch 48/80\n",
            "97/97 [==============================] - 56s 568ms/step - loss: 1.0567 - accuracy: 0.6258\n",
            "Epoch 49/80\n",
            "97/97 [==============================] - 56s 574ms/step - loss: 1.0724 - accuracy: 0.6329\n",
            "Epoch 50/80\n",
            "97/97 [==============================] - 56s 569ms/step - loss: 1.0269 - accuracy: 0.6435\n",
            "Epoch 51/80\n",
            "97/97 [==============================] - 56s 567ms/step - loss: 1.0312 - accuracy: 0.6368\n",
            "Epoch 52/80\n",
            "97/97 [==============================] - 56s 565ms/step - loss: 1.0134 - accuracy: 0.6455\n",
            "Epoch 53/80\n",
            "97/97 [==============================] - 57s 576ms/step - loss: 1.0449 - accuracy: 0.6297\n",
            "Epoch 54/80\n",
            "97/97 [==============================] - 56s 574ms/step - loss: 1.0254 - accuracy: 0.6377\n",
            "Epoch 55/80\n",
            "97/97 [==============================] - 56s 571ms/step - loss: 1.0215 - accuracy: 0.6426\n",
            "Epoch 56/80\n",
            "97/97 [==============================] - 57s 578ms/step - loss: 1.0219 - accuracy: 0.6416\n",
            "Epoch 57/80\n",
            "97/97 [==============================] - 56s 576ms/step - loss: 1.0058 - accuracy: 0.6494\n",
            "Epoch 58/80\n",
            "97/97 [==============================] - 56s 573ms/step - loss: 1.0338 - accuracy: 0.6323\n",
            "Epoch 59/80\n",
            "97/97 [==============================] - 56s 569ms/step - loss: 1.0373 - accuracy: 0.6371\n",
            "Epoch 60/80\n",
            "97/97 [==============================] - 57s 578ms/step - loss: 1.0367 - accuracy: 0.6384\n",
            "Epoch 61/80\n",
            "97/97 [==============================] - 57s 579ms/step - loss: 1.0435 - accuracy: 0.6355\n",
            "Epoch 62/80\n",
            "97/97 [==============================] - 56s 573ms/step - loss: 1.0249 - accuracy: 0.6387\n",
            "Epoch 63/80\n",
            "97/97 [==============================] - 57s 578ms/step - loss: 1.0056 - accuracy: 0.6461\n",
            "Epoch 64/80\n",
            "97/97 [==============================] - 56s 572ms/step - loss: 1.0364 - accuracy: 0.6394\n",
            "Epoch 65/80\n",
            "97/97 [==============================] - 56s 568ms/step - loss: 1.0052 - accuracy: 0.6361\n",
            "Epoch 66/80\n",
            "97/97 [==============================] - 56s 576ms/step - loss: 1.0079 - accuracy: 0.6358\n",
            "Epoch 67/80\n",
            "97/97 [==============================] - 56s 570ms/step - loss: 0.9957 - accuracy: 0.6477\n",
            "Epoch 68/80\n",
            "97/97 [==============================] - 57s 579ms/step - loss: 1.0133 - accuracy: 0.6361\n",
            "Epoch 69/80\n",
            "97/97 [==============================] - 56s 571ms/step - loss: 1.0441 - accuracy: 0.6368\n",
            "Epoch 70/80\n",
            "97/97 [==============================] - 56s 569ms/step - loss: 1.0222 - accuracy: 0.6390\n",
            "Epoch 71/80\n",
            "97/97 [==============================] - 57s 577ms/step - loss: 1.0064 - accuracy: 0.6519\n",
            "Epoch 72/80\n",
            "97/97 [==============================] - 57s 579ms/step - loss: 1.0062 - accuracy: 0.6500\n",
            "Epoch 73/80\n",
            "97/97 [==============================] - 56s 572ms/step - loss: 1.0354 - accuracy: 0.6429\n",
            "Epoch 74/80\n",
            "97/97 [==============================] - 57s 578ms/step - loss: 1.0430 - accuracy: 0.6335\n",
            "Epoch 75/80\n",
            "97/97 [==============================] - 57s 577ms/step - loss: 1.0476 - accuracy: 0.6229\n",
            "Epoch 76/80\n",
            "97/97 [==============================] - 57s 582ms/step - loss: 1.0552 - accuracy: 0.6429\n",
            "Epoch 77/80\n",
            "97/97 [==============================] - 57s 576ms/step - loss: 1.0225 - accuracy: 0.6355\n",
            "Epoch 78/80\n",
            "97/97 [==============================] - 56s 573ms/step - loss: 1.0222 - accuracy: 0.6471\n",
            "Epoch 79/80\n",
            "97/97 [==============================] - 56s 569ms/step - loss: 1.0212 - accuracy: 0.6452\n",
            "Epoch 80/80\n",
            "97/97 [==============================] - 56s 569ms/step - loss: 0.9990 - accuracy: 0.6526\n"
          ],
          "name": "stdout"
        },
        {
          "output_type": "execute_result",
          "data": {
            "text/plain": [
              "<tensorflow.python.keras.callbacks.History at 0x7fdccd814e50>"
            ]
          },
          "metadata": {
            "tags": []
          },
          "execution_count": 12
        }
      ]
    },
    {
      "cell_type": "code",
      "metadata": {
        "id": "NmZpJMr1CiWE"
      },
      "source": [
        "import os\n",
        "weights_dir = 'drive/MyDrive'\n",
        "# Save model weights\n",
        "model.save_weights(os.path.join(weights_dir, 'vgg19-new-final-final.h5'))"
      ],
      "execution_count": 16,
      "outputs": []
    },
    {
      "cell_type": "code",
      "metadata": {
        "colab": {
          "base_uri": "https://localhost:8080/"
        },
        "id": "YzE6r8mTCnUb",
        "outputId": "08869e5e-28a2-44be-c5f3-4645ecb7ac6b"
      },
      "source": [
        "model.evaluate(valid_set, verbose=1) #160"
      ],
      "execution_count": null,
      "outputs": [
        {
          "output_type": "stream",
          "text": [
            "26/26 [==============================] - 261s 4s/step - loss: 1.2660 - accuracy: 0.5565\n"
          ],
          "name": "stdout"
        },
        {
          "output_type": "execute_result",
          "data": {
            "text/plain": [
              "[1.26601243019104, 0.5565006136894226]"
            ]
          },
          "metadata": {
            "tags": []
          },
          "execution_count": 14
        }
      ]
    },
    {
      "cell_type": "code",
      "metadata": {
        "colab": {
          "base_uri": "https://localhost:8080/"
        },
        "id": "02yyml52Mgao",
        "outputId": "4bdcef51-53fb-4df3-b121-268c94f01f20"
      },
      "source": [
        "model.evaluate(testing_set, verbose=1) #160"
      ],
      "execution_count": null,
      "outputs": [
        {
          "output_type": "stream",
          "text": [
            "25/25 [==============================] - 20s 577ms/step - loss: 1.1321 - accuracy: 0.6288\n"
          ],
          "name": "stdout"
        },
        {
          "output_type": "execute_result",
          "data": {
            "text/plain": [
              "[1.1321409940719604, 0.6287500262260437]"
            ]
          },
          "metadata": {
            "tags": []
          },
          "execution_count": 15
        }
      ]
    },
    {
      "cell_type": "markdown",
      "metadata": {
        "id": "nnX-9G3qHdNB"
      },
      "source": [
        "### Some data visualization"
      ]
    },
    {
      "cell_type": "code",
      "metadata": {
        "id": "MAj-Ho7p-k5h"
      },
      "source": [
        "import os\n",
        "\n",
        "def count_files(path):\n",
        "  dirs = []\n",
        "  for file in os.listdir(path):\n",
        "    dirs.append(file)\n",
        "\n",
        "  dirs = sorted(dirs)\n",
        "\n",
        "  num_files = []\n",
        "  for dir in dirs:\n",
        "    count = 0\n",
        "    for file in os.listdir(path + '/' + dir):\n",
        "      count += 1\n",
        "    num_files.append(count)\n",
        "\n",
        "  return num_files"
      ],
      "execution_count": 17,
      "outputs": []
    },
    {
      "cell_type": "code",
      "metadata": {
        "id": "mHqacdUeAwRB"
      },
      "source": [
        "sorted_labels = sorted(labels)\n",
        "num_training = count_files(training_dir)\n",
        "num_testing = count_files(testing_dir)"
      ],
      "execution_count": 18,
      "outputs": []
    },
    {
      "cell_type": "code",
      "metadata": {
        "colab": {
          "base_uri": "https://localhost:8080/"
        },
        "id": "qZJxNZ-DGeoj",
        "outputId": "72018b27-2a49-46e2-f8d0-a96bb4556b61"
      },
      "source": [
        "for file in os.listdir(training_dir + '/+circle'):\n",
        "  print(file)\n",
        "  img = plt.imread(training_dir + '/E/' + file)\n",
        "  print(img.shape)\n",
        "  break"
      ],
      "execution_count": 58,
      "outputs": [
        {
          "output_type": "stream",
          "text": [
            "2-1-45.Tif\n",
            "(400, 400, 3)\n"
          ],
          "name": "stdout"
        }
      ]
    },
    {
      "cell_type": "code",
      "metadata": {
        "colab": {
          "base_uri": "https://localhost:8080/",
          "height": 567
        },
        "id": "P5lFBDHMA8sw",
        "outputId": "03d5ab50-3dc2-4f7e-f00b-7ace659f802f"
      },
      "source": [
        "import matplotlib.pyplot as plt\n",
        "import matplotlib.gridspec as gridspec\n",
        "\n",
        "\n",
        "\n",
        "fig = plt.figure(figsize=(12,8))\n",
        "gs = gridspec.GridSpec(2, 1, figure=fig)\n",
        "# Display original image\n",
        "plt.subplot(gs[0]) \n",
        "plt.bar(sorted_labels, num_training) \n",
        "plt.xticks(rotation='vertical')\n",
        "plt.title(\"Training Data Labels Count\")\n",
        "\n",
        "plt.subplot(gs[1]) \n",
        "plt.bar(sorted_labels, num_testing) \n",
        "plt.xticks(rotation='vertical')\n",
        "plt.title(\"Testing Data Labels Count\")\n",
        "\n",
        "fig.tight_layout(pad=2.0)\n",
        "plt.show()"
      ],
      "execution_count": 32,
      "outputs": [
        {
          "output_type": "display_data",
          "data": {
            "image/png": "[encoded data removed]",
            "text/plain": [
              "<Figure size 864x576 with 2 Axes>"
            ]
          },
          "metadata": {
            "tags": [],
            "needs_background": "light"
          }
        }
      ]
    },
    {
      "cell_type": "code",
      "metadata": {
        "colab": {
          "base_uri": "https://localhost:8080/",
          "height": 303
        },
        "id": "XCzEmcHl7-Xl",
        "outputId": "29d38d2a-faa0-4dce-cc3d-d3370a13213f"
      },
      "source": [
        "epochs = [i + 1 for i in range(160)]\n",
        "epoch_ticks = [i for i in range(0, 165, 10)] \n",
        "epoch_ticks[0] = 1\n",
        "loss = [4.1646, 3.4758, 3.0628, 2.7875, 2.5740, 2.3994, 2.2869, \n",
        "        2.1616, 2.0360, 1.9389, 1.8888, 1.8101, 1.8023, 1.7326, \n",
        "        1.6805, 1.6478, 1.6221, 1.5718, 1.5264, 1.5041, 1.4911, \n",
        "        1.5003, 1.4334, 1.4118, 1.4026, 1.3967, 1.3798, 1.3495, \n",
        "        1.3858, 1.3623, 1.3389, 1.3460, 1.3444, 1.3294, 1.3045, \n",
        "        1.2945, 1.2719, 1.2648, 1.2422, 1.2557, 1.2853, 1.2947, \n",
        "        1.2644, 1.2268, 1.2182, 1.2210, 1.2435, 1.2164, 1.1990, \n",
        "        1.2033, 1.1895, 1.1715, 1.2077, 1.2052, 1.1999, 1.1878, \n",
        "        1.1845, 1.1917, 1.1985, 1.1712, 1.2085, 1.1946, 1.1824, \n",
        "        1.1741, 1.1817, 1.1783, 1.1517, 1.1786, 1.1521, 1.1417, \n",
        "        1.1986, 1.1500, 1.1575, 1.1227, 1.1362, 1.1091, 1.1224, \n",
        "        1.1463, 1.1472, 1.1364, 1.2143,  1.2024, 1.1514, 1.1705, \n",
        "        1.1545, 1.1578, 1.1589, 1.1318, 1.1359, 1.1021, 1.1055, \n",
        "        1.1229, 1.1043, 1.1053, 1.1230, 1.1050, 1.0767, 1.1140, \n",
        "        1.1376, 1.0799, 1.0976, 1.0886, 1.0946, 1.1256, 1.1131, \n",
        "        1.0932, 1.0972, 1.0810, 1.0642, 1.0631, 1.0551, 1.0547, \n",
        "        1.0772, 1.0483, 1.0390, 1.0671, 1.0320, 1.0524, 1.0806, \n",
        "        1.0723, 1.0394, 1.0394, 1.0671, 1.0317, 1.0525, 1.0246, \n",
        "        1.0214, 1.0567, 1.0724, 1.0269, 1.0312, 1.0134, 1.0449, \n",
        "        1.0254, 1.0215, 1.0219, 1.0058, 1.0338, 1.0373, 1.0367, \n",
        "        1.0435, 1.0249, 1.0056, 1.0364, 1.0052, 1.0079, 0.9957, \n",
        "        1.0133, 1.0441, 1.0222, 1.0064, 1.0062, 1.0354, 1.0430, \n",
        "        1.0476, 1.0552, 1.0225, 1.0222, 1.0212, 0.9990]\n",
        "\n",
        "# Graphs the learning curve\n",
        "plt.plot(epochs, loss)\n",
        "plt.title(\"Learning Curve for VGG-19 Mixing Data\")\n",
        "plt.xticks(epoch_ticks, rotation='vertical')\n",
        "plt.xlabel(\"Epochs\")\n",
        "plt.ylabel(\"Loss\")\n",
        "plt.show()"
      ],
      "execution_count": 44,
      "outputs": [
        {
          "output_type": "display_data",
          "data": {
            "image/png": "[encoded data removed]",
            "text/plain": [
              "<Figure size 432x288 with 1 Axes>"
            ]
          },
          "metadata": {
            "tags": [],
            "needs_background": "light"
          }
        }
      ]
    },
    {
      "cell_type": "code",
      "metadata": {
        "colab": {
          "base_uri": "https://localhost:8080/",
          "height": 280
        },
        "id": "cYtiGSOVHPVQ",
        "outputId": "40aaa97a-3a52-4714-ce57-8f292a90cb2c"
      },
      "source": [
        "import numpy as np\n",
        "img = plt.imread(training_dir + '/E/0-3-90.Png')\n",
        "plt.imshow(img)\n",
        "plt.axis('off')\n",
        "plt.show()\n",
        "img = img.reshape(1, 400, 400, 3)\n",
        "print(\"Predict: \" + labels[np.argmax(np.array(model.predict(img)))])\n",
        "print(\"Truth label: K\")"
      ],
      "execution_count": 75,
      "outputs": [
        {
          "output_type": "display_data",
          "data": {
            "image/png": "[encoded data removed]",
            "text/plain": [
              "<Figure size 432x288 with 1 Axes>"
            ]
          },
          "metadata": {
            "tags": [],
            "needs_background": "light"
          }
        },
        {
          "output_type": "stream",
          "text": [
            "Predict: +blank\n",
            "Truth label: K\n"
          ],
          "name": "stdout"
        }
      ]
    },
    {
      "cell_type": "code",
      "metadata": {
        "id": "GUIdrfbQIx7o"
      },
      "source": [
        ""
      ],
      "execution_count": null,
      "outputs": []
    }
  ]
}